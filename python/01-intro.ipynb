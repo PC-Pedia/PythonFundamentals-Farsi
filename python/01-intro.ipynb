{
 "cells": [
  {
   "cell_type": "markdown",
   "metadata": {},
   "source": [
    "<style>\n",
    "    .markdown-title {\n",
    "        font-family: B Yekan+;\n",
    "        color: #BA4A00;\n",
    "        font-weight: 1500;\n",
    "        font-size: 220%;\n",
    "        text-align: center;\n",
    "        padding: 40px 0px 0px 5px      \n",
    "    }\n",
    "    .markdown-container {\n",
    "        font-family: B Yekan+;\n",
    "        color: #27AE60;\n",
    "        font-weight: 1500;\n",
    "        direction: rtl;\n",
    "        text-align: justify;\n",
    "        margin: 0px 50px 0px 50px;\n",
    "        line-height: 180%;\n",
    "    }\n",
    "    .table {\n",
    "        align: center;\n",
    "        border: 0px;\n",
    "        width: 100%;\n",
    "        text-align: center;\n",
    "    }\n",
    "    .specialP {\n",
    "        font-family: B Yekan+;\n",
    "        color: #F1C40F;\n",
    "        font-weight: 1500;\n",
    "        direction: rtl;\n",
    "        text-align: justify;\n",
    "        margin: 0px 50px 0px 50px;\n",
    "        line-height: 180%;\n",
    "    }\n",
    "</style>\n",
    "\n",
    "<table>\n",
    "    <tr>\n",
    "        <th class = \"table\">            \n",
    "            <p class = \"markdown-title\"> مقدمه </p>            \n",
    "        </th>\n",
    "    </tr>\n",
    "    <tr>\n",
    "        <th class = \"table\">\n",
    "            <p class = \"markdown-container\">\n",
    "             مقدمه‌ی پایتونمقدمه‌ی پایتونمقدمه‌ی پایتونمقدمه‌ی پایتونمقدمه‌ی پایتونمقدمه‌ی پایتونمقدمه‌ی پایتونمقدمه‌ی پایتونمقدمه‌ی پایتونمقدمه‌ی پایتونمقدمه‌ی پایتونمقدمه‌ی پایتونمقدمه‌ی پایتونمقدمه‌ی پایتونمقدمه‌ی پایتون \n",
    "            </p>\n",
    "        </th>\n",
    "    </tr>\n",
    "</table>\n",
    "\n",
    "</br>"
   ]
  },
  {
   "cell_type": "code",
   "execution_count": 1,
   "metadata": {},
   "outputs": [
    {
     "name": "stdout",
     "output_type": "stream",
     "text": [
      "hi saleh!!!\n"
     ]
    }
   ],
   "source": [
    "print(\"hi saleh!!!\")"
   ]
  }
 ],
 "metadata": {
  "kernelspec": {
   "display_name": "Python 3",
   "language": "python",
   "name": "python3"
  },
  "language_info": {
   "codemirror_mode": {
    "name": "ipython",
    "version": 3
   },
   "file_extension": ".py",
   "mimetype": "text/x-python",
   "name": "python",
   "nbconvert_exporter": "python",
   "pygments_lexer": "ipython3",
   "version": "3.10.12"
  },
  "orig_nbformat": 4
 },
 "nbformat": 4,
 "nbformat_minor": 2
}
