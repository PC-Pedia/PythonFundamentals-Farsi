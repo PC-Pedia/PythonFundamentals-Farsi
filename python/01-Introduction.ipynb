{
 "cells": [
  {
   "cell_type": "markdown",
   "metadata": {},
   "source": [
    "<section style=\"direction: rtl; text-align: right; margin: 20px;\">\n",
    "\n",
    "## این یک عنوان دوم است\n",
    "\n",
    "این یک متن عادی است. *این یک متن مورد تأکید است.*\n",
    "\n",
    "### این یک عنوان سوم است\n",
    "\n",
    "#### این یک عنوان چهارم است\n",
    "\n",
    "- مورد اول\n",
    "- مورد دوم\n",
    "- مورد سوم\n",
    "\n",
    "</section>"
   ]
  },
  {
   "cell_type": "code",
   "execution_count": 1,
   "metadata": {},
   "outputs": [
    {
     "name": "stdout",
     "output_type": "stream",
     "text": [
      "Hi Saleh!!!\n"
     ]
    }
   ],
   "source": [
    "print(\"Hi Saleh!!!\")"
   ]
  }
 ],
 "metadata": {
  "kernelspec": {
   "display_name": "Python 3",
   "language": "python",
   "name": "python3"
  },
  "language_info": {
   "codemirror_mode": {
    "name": "ipython",
    "version": 3
   },
   "file_extension": ".py",
   "mimetype": "text/x-python",
   "name": "python",
   "nbconvert_exporter": "python",
   "pygments_lexer": "ipython3",
   "version": "3.10.12"
  },
  "orig_nbformat": 4
 },
 "nbformat": 4,
 "nbformat_minor": 2
}
