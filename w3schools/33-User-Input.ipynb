{
 "cells": [
  {
   "cell_type": "code",
   "execution_count": 1,
   "metadata": {},
   "outputs": [
    {
     "name": "stdout",
     "output_type": "stream",
     "text": [
      "username is: Saleh\n"
     ]
    }
   ],
   "source": [
    "username = input(\"Enter username:\")\n",
    "print(\"username is: \" + username)"
   ]
  },
  {
   "cell_type": "code",
   "execution_count": 2,
   "metadata": {},
   "outputs": [
    {
     "name": "stdout",
     "output_type": "stream",
     "text": [
      "Hello Saleh\n"
     ]
    }
   ],
   "source": [
    "name = input(\"Enter name:\")\n",
    "print(\"Hello \" + name)"
   ]
  },
  {
   "cell_type": "code",
   "execution_count": 7,
   "metadata": {},
   "outputs": [
    {
     "name": "stdout",
     "output_type": "stream",
     "text": [
      "Total:  27\n"
     ]
    }
   ],
   "source": [
    "num1 = int(input(\"Enter num 1:\"))\n",
    "num2 = int(input(\"Enter num 2:\"))\n",
    "\n",
    "print(\"Total: \", num1 + num2)"
   ]
  },
  {
   "cell_type": "code",
   "execution_count": 8,
   "metadata": {},
   "outputs": [
    {
     "name": "stdout",
     "output_type": "stream",
     "text": [
      "Something went wrong, enter an integer number...\n"
     ]
    }
   ],
   "source": [
    "num1 = input(\"Enter number 1:\")\n",
    "num2 = input(\"Enter number 2:\")\n",
    "\n",
    "try:\n",
    "    # casting entered value to integer and printing\n",
    "    print(\"Total: \", int(num1) + int(num2))\n",
    "except:\n",
    "    # if you don't enter an integer, the following value is displayed:\n",
    "    print(\"Something went wrong, enter an integer number...\")\n",
    "else:\n",
    "    # If you enter an integer, the following value is displayed:\n",
    "    print(\"Nothing went wrong :)\")\n"
   ]
  }
 ],
 "metadata": {
  "kernelspec": {
   "display_name": "Python 3",
   "language": "python",
   "name": "python3"
  },
  "language_info": {
   "codemirror_mode": {
    "name": "ipython",
    "version": 3
   },
   "file_extension": ".py",
   "mimetype": "text/x-python",
   "name": "python",
   "nbconvert_exporter": "python",
   "pygments_lexer": "ipython3",
   "version": "3.10.12"
  },
  "orig_nbformat": 4
 },
 "nbformat": 4,
 "nbformat_minor": 2
}
