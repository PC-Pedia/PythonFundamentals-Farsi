{
 "cells": [
  {
   "cell_type": "markdown",
   "metadata": {},
   "source": [
    "Machine Learning\n",
    "\n",
    "<section style=\"direction: rtl; text-align: justify; margin: 30px;\">\n",
    "\n",
    "## **یادگیری ماشین**\n",
    "\n",
    "🧠 یادگیری ماشین یک روش در علوم کامپیوتر و هوش مصنوعی است که به ماشین‌ها و کامپیوترها اجازه می‌دهد از داده‌ها یاد بگیرند و بدون نیاز به برنامه‌ریزی صریح، الگوها و الگوریتم‌هایی را شناسایی کنند. در واقع، هدف اصلی یادگیری ماشین این است که به ماشین‌ها امکان بدهد از داده‌های ورودی موجود، قوانین یا الگوهایی را استخراج کرده و درک کنند تا بتوانند پیش‌بینی کنند یا تصمیماتی را اتخاذ کنند.\n",
    "\n",
    "این فرایند به صورت کلی شامل چند مرحله است:\n",
    "\n",
    "1. **تجمیع داده**: ابتدا داده‌های مورد نیاز برای آموزش ماشین جمع‌آوری می‌شود. این داده ممکن است اطلاعاتی از مشاهدات، تجربیات، یا هر نوع دیگری از منابع باشد.\n",
    "\n",
    "2. **پیش‌پردازش داده**: در این مرحله، داده‌ها پیش‌پردازش می‌شوند تا به شکلی مناسب برای ورود به مدل یادگیری ماشین تبدیل شوند، این شامل حذف داده‌های نامناسب، تبدیل داده‌های متنی به بردارهای عددی و اقدامات مشابه است.\n",
    "\n",
    "3. **انتخاب مدل**: در این مرحله، یک مدل یادگیری ماشین انتخاب می‌شود که بهترین عملکرد را برای مسئله‌ی مورد نظر داشته باشد. این مدل ممکن است از دسته‌های مختلفی مانند درخت تصمیم، شبکه‌های عصبی، یا روش‌های دیگر باشد.\n",
    "\n",
    "4. **آموزش مدل**: در این مرحله، مدل انتخاب شده با استفاده از داده‌های آموزشی آموزش داده می‌شود، به این معنی که به مدل داده می‌شود تا الگوهای موجود در داده‌های آموزشی را بیاموزد.\n",
    "\n",
    "5. **ارزیابی مدل**: پس از آموزش مدل، عملکرد آن با استفاده از داده‌های آزمون یا داده‌های جدیدی که قبلاً دیده نشده‌اند، ارزیابی می‌شود.\n",
    "\n",
    "6. **پیش‌بینی و استفاده از مدل**: در این مرحله، مدل آموزش دیده شده برای پیش‌بینی یا انجام وظایف خاصی در داده‌های جدید استفاده می‌شود.\n",
    "\n",
    "این فرآیند یک چرخه است که به طور معمول بهبود مدل با تغییرات در داده‌ها یا معماری مدل ادامه پیدا می‌کند.\n",
    "\n",
    "در این آموزش به ریاضیات و آمار مطالعه و نحوه محاسبه اعداد مهم بر اساس مجموعه داده ها باز خواهیم گشت.\n",
    "\n",
    "همچنین یاد خواهیم گرفت که چگونه از ماژول های مختلف پایتون برای دریافت پاسخ های مورد نیاز خود استفاده کنیم.\n",
    "\n",
    "و ما یاد خواهیم گرفت که چگونه توابعی بسازیم که قادر به پیش بینی نتیجه بر اساس آموخته هایمان باشند.\n",
    "\n",
    "در ذهن یک کامپیوتر، مجموعه داده هر مجموعه ای از داده ها است. این می تواند هر چیزی از یک آرایه گرفته تا یک پایگاه داده کامل باشد.\n",
    "\n",
    "نمونه ای از آرایه:\n",
    "\n",
    "</section>"
   ]
  },
  {
   "cell_type": "code",
   "execution_count": null,
   "metadata": {},
   "outputs": [],
   "source": [
    "[99, 86, 87, 88, 111, 86, 103, 87, 94, 78, 77, 85, 86]"
   ]
  },
  {
   "cell_type": "markdown",
   "metadata": {},
   "source": [
    "<section style=\"direction: rtl; text-align: justify; margin: 30px;\">\n",
    "\n",
    "نمونه ای از پایگاه داده:\n",
    "\n",
    "</secion>"
   ]
  },
  {
   "cell_type": "code",
   "execution_count": 2,
   "metadata": {},
   "outputs": [
    {
     "name": "stdout",
     "output_type": "stream",
     "text": [
      "   Carname  Color  Age  Speed AutoPass\n",
      "0      BMW    red    5     99        Y\n",
      "1    Volvo  black    7     86        Y\n",
      "2       VW   gray    8     87        N\n",
      "3       VW  white    7     88        Y\n",
      "4     Ford  white    2    111        Y\n",
      "5       VW  white   17     86        Y\n",
      "6    Tesla    red    2    103        Y\n",
      "7      BMW  black    9     87        Y\n",
      "8    Volvo   gray    4     94        N\n",
      "9     Ford  white   11     78        N\n",
      "10  Toyota   gray   12     77        N\n",
      "11      VW  white    9     85        N\n",
      "12  Toyota   blue    6     86        Y\n"
     ]
    }
   ],
   "source": [
    "import pandas as pd\n",
    "import os\n",
    "\n",
    "folder_name = 'src'\n",
    "file_name = 'cars.csv'\n",
    "\n",
    "file_path = os.path.join(folder_name, file_name)\n",
    "\n",
    "dataset = pd.read_csv(file_path)\n",
    "\n",
    "print(dataset)"
   ]
  },
  {
   "cell_type": "markdown",
   "metadata": {},
   "source": [
    "<section style=\"direction: rtl; text-align: justify; margin: 30px;\">\n",
    "\n",
    "با نگاه کردن به آرایه می توان حدس زد که مقدار متوسط ​​احتمالاً حدود 80 یا 90 است و همچنین می توانیم بالاترین مقدار و کمترین مقدار را تعیین کنیم، اما چه کار دیگری می توانیم انجام دهیم؟\n",
    "\n",
    "با نگاه کردن به پایگاه داده می توانیم متوجه شویم که محبوب ترین رنگ سفید است و قدیمی ترین خودرو 17 سال سن دارد، اما اگر بتوانیم فقط با نگاه کردن به مقادیر دیگر پیش بینی کنیم که آیا یک خودرو دارای AutoPass است چه می شود؟\n",
    "\n",
    "یادگیری ماشین برای همین است! تجزیه و تحلیل داده ها و پیش بینی نتیجه!\n",
    "\n",
    "⚠️ در یادگیری ماشین کار با مجموعه داده های بسیار بزرگ رایج است. در این آموزش سعی خواهیم کرد تا حد امکان درک مفاهیم مختلف یادگیری ماشین را آسان کنیم و با مجموعه داده های کوچک و قابل درک کار خواهیم کرد.\n",
    "\n",
    "<div style=\"border-top: 1px solid #ccc; margin: 10px 0;\"></div>\n",
    "\n",
    "<div style=\"border-top: 1px solid #ccc; margin: 10px 0;\"></div>\n",
    "\n",
    "</secion>"
   ]
  },
  {
   "cell_type": "markdown",
   "metadata": {},
   "source": [
    "<section style=\"direction: rtl; text-align: justify; margin: 30px;\">\n",
    "\n",
    "### **نوع داده‌ها**\n",
    "\n",
    "برای تجزیه و تحلیل داده ها، مهم است که بدانیم با چه نوع داده ای سروکار داریم.\n",
    "\n",
    "ما می توانیم انواع داده ها را به سه دسته اصلی تقسیم کنیم:\n",
    "\n",
    "- عددی\n",
    "- موضوعی\n",
    "- ترتیبی\n",
    "\n",
    "داده های عددی اعداد هستند و می توانند به دو دسته عددی تقسیم شوند:\n",
    "\n",
    "- داده های گسسته\n",
    "\n",
    "    - داده های شمارش شده که به اعداد صحیح محدود می شوند. مثال: تعداد خودروهای عبوری.\n",
    "- داده‌های پیوسته\n",
    "\n",
    "    - داده های اندازه گیری شده که می تواند هر عددی باشد. مثال: قیمت یک کالا یا اندازه یک کالا\n",
    "\n",
    "داده های طبقه بندی یا موضوعی مقادیری هستند که نمی توان آنها را با یکدیگر اندازه گیری کرد. مثال: یک مقدار رنگ، یا هر مقدار بله/خیر.\n",
    "\n",
    "داده‌های ترتیبی مانند داده‌های طبقه‌بندی هستند، اما می‌توانند با یکدیگر اندازه‌گیری شوند. مثال: نمرات مدرسه که در آن A بهتر از B است و غیره.\n",
    "\n",
    "با دانستن نوع داده منبع داده خود، قادر خواهید بود بدانید هنگام تجزیه و تحلیل آنها از چه تکنیکی استفاده کنید.\n",
    "\n",
    "در فصل های بعدی با آمار و تجزیه و تحلیل داده ها بیشتر آشنا خواهید شد.\n",
    "\n",
    "</secion>"
   ]
  },
  {
   "cell_type": "markdown",
   "metadata": {},
   "source": [
    "<div style=\"border-top: 1px solid #ccc; margin: 10px 0;\"></div>\n",
    "<div style=\"border-top: 1px solid #ccc; margin: 10px 0;\"></div>\n",
    "\n",
    "<section style=\"direction: rtl; text-align: justify; margin: 30px;\">\n",
    "\n",
    "### **توضیحات تکمیلی در مورد داده‌های گسسته و پیوسته**\n",
    "\n",
    "در زمینه‌ی علوم کامپیوتر و آمار، داده‌ها می‌توانند به دو دسته‌ی اصلی تقسیم شوند: داده‌های گسسته و داده‌های پیوسته.\n",
    "\n",
    "1. **داده‌های گسسته (Discrete Data)**:\n",
    "   - داده‌های گسسته مقادیری هستند که متناهی یا شمارا هستند، به عبارت دیگر، این داده‌ها مقادیری دارند که معمولاً از یک مجموعه متناهی یا شمارا انتخاب می‌شوند.\n",
    "   - مثال‌هایی از داده‌های گسسته شامل تعداد کلیک‌ها بر روی یک تبلیغ در اینترنت، تعداد دانشجوهای حاضر در یک کلاس، تعداد قطعات محصول در یک کارخانه و غیره می‌شود.\n",
    "   - داده‌های گسسته معمولاً با استفاده از اعداد صحیح نمایش داده می‌شوند و می‌توانند شامل نوعی شمارش یا تعداد باشند.\n",
    "\n",
    "2. **داده‌های پیوسته (Continuous Data)**:\n",
    "   - داده‌های پیوسته مقادیری هستند که می‌توانند در یک بازه‌ی پیوسته از مقادیر اعداد حقیقی باشند.\n",
    "   - مثال‌هایی از داده‌های پیوسته شامل قد افراد، وزن، دما، زمان، و غیره می‌شود.\n",
    "   - داده‌های پیوسته معمولاً با استفاده از اعداد اعشاری نمایش داده می‌شوند و ممکن است هر مقدار ممکن در یک بازه مشخص را بپذیرند.\n",
    "\n",
    "مقایسه:\n",
    "- در داده‌های گسسته، مقادیر متمایز و مجزا هستند، در حالی که در داده‌های پیوسته، مقادیر می‌توانند در یک بازه‌ی بی‌نهایت اعداد حقیقی باشند.\n",
    "- داده‌های گسسته معمولاً با اعداد صحیح نمایش داده می‌شوند، در حالی که داده‌های پیوسته معمولاً با اعداد اعشاری نمایش داده می‌شوند.\n",
    "- در تجزیه و تحلیل داده‌های گسسته، معمولاً از روش‌های گسسته‌سازی و توزیع‌های احتمال گسسته استفاده می‌شود، در حالی که در داده‌های پیوسته، از روش‌ها و توزیع‌های احتمال پیوسته استفاده می‌شود.\n",
    "\n",
    "در واقع، این تفاوت‌ها نقش مهمی در انتخاب و استفاده از روش‌های مختلف تجزیه و تحلیل داده و تصمیم‌گیری‌های مربوط به آن‌ها ایفا می‌کنند.\n",
    "\n",
    "</secion>"
   ]
  },
  {
   "cell_type": "markdown",
   "metadata": {},
   "source": [
    "___\n",
    "\n",
    "Machine Learning - Mean Median Mode\n",
    "\n",
    "<section style=\"direction: rtl; text-align: justify; margin: 30px;\">\n",
    "\n",
    "### **توضیحات تکمیلی در مورد داده‌های گسسته و پیوسته**\n",
    "\n",
    "از نگاه کردن به گروهی از اعداد چه چیزی می توانیم یاد بگیریم؟\n",
    "\n",
    "در یادگیری ماشینی (و در ریاضیات) اغلب سه ارزش وجود دارد که به ما علاقه دارد:\n",
    "\n",
    "- میانگین - مقدار متوسط\n",
    "- میانه - مقدار نقطه میانی\n",
    "- حالت - رایج ترین مقدار\n",
    "\n",
    "مثال: سرعت 13 خودرو را ثبت کرده ایم:\n",
    "\n",
    "</secion>"
   ]
  },
  {
   "cell_type": "code",
   "execution_count": 1,
   "metadata": {},
   "outputs": [],
   "source": [
    "speed = [99, 86, 87, 88, 111, 86, 103, 87, 94, 78, 77, 85, 86]"
   ]
  },
  {
   "cell_type": "markdown",
   "metadata": {},
   "source": [
    "<section style=\"direction: rtl; text-align: justify; margin: 30px;\">\n",
    "\n",
    "### **میانگین (Mean)**\n",
    "\n",
    "میانگین، متوسط ​​یا رایج ترین مقدار سرعت چیست؟\n",
    "\n",
    "مقدار متوسط، مقدار متوسط ​​است.\n",
    "\n",
    "برای محاسبه میانگین، مجموع همه مقادیر را بیابید و مجموع را بر تعداد مقادیر تقسیم کنید:\n",
    "\n",
    "</secion>"
   ]
  },
  {
   "cell_type": "code",
   "execution_count": 3,
   "metadata": {},
   "outputs": [
    {
     "name": "stdout",
     "output_type": "stream",
     "text": [
      "89.76923076923077\n"
     ]
    }
   ],
   "source": [
    "import numpy as np\n",
    "\n",
    "speed = [99, 86, 87, 88, 111, 86, 103, 87, 94, 78, 77, 85, 86]\n",
    "\n",
    "x = np.mean(speed)\n",
    "\n",
    "print(x)"
   ]
  },
  {
   "cell_type": "markdown",
   "metadata": {},
   "source": [
    "<section style=\"direction: rtl; text-align: justify; margin: 30px;\">\n",
    "\n",
    "### **میانه (Median)**\n",
    "\n",
    "پس از اینکه همه مقادیر را مرتب کردید، مقدار میانه مقدار وسط است:\n",
    "\n",
    "⚠️ قبل از اینکه بتوانید میانه را پیدا کنید، مهم است که اعداد مرتب شوند.\n",
    "\n",
    "ماژول NumPy روشی برای این کار دارد:\n",
    "\n",
    "</secion>"
   ]
  },
  {
   "cell_type": "code",
   "execution_count": 4,
   "metadata": {},
   "outputs": [
    {
     "name": "stdout",
     "output_type": "stream",
     "text": [
      "87.0\n"
     ]
    }
   ],
   "source": [
    "import numpy as np\n",
    "\n",
    "speed = [99, 86, 87, 88, 111, 86, 103, 87, 94, 78, 77, 85, 86]\n",
    "\n",
    "x = np.median(speed)\n",
    "\n",
    "print(x)"
   ]
  },
  {
   "cell_type": "markdown",
   "metadata": {},
   "source": [
    "<section style=\"direction: rtl; text-align: justify; margin: 30px;\">\n",
    "\n",
    "⚠️ اگر دو عدد در وسط بود، مجموع آن اعداد را بر دو تقسیم کنید.\n",
    "\n",
    "</secion>"
   ]
  },
  {
   "cell_type": "code",
   "execution_count": 5,
   "metadata": {},
   "outputs": [
    {
     "name": "stdout",
     "output_type": "stream",
     "text": [
      "86.5\n"
     ]
    }
   ],
   "source": [
    "import numpy as np\n",
    "\n",
    "speed = [99, 86, 87, 88, 86, 103, 87, 94, 78, 77, 85, 86]\n",
    "\n",
    "x = np.median(speed)\n",
    "\n",
    "print(x)"
   ]
  },
  {
   "cell_type": "markdown",
   "metadata": {},
   "source": [
    "<section style=\"direction: rtl; text-align: justify; margin: 30px;\">\n",
    "\n",
    "### **بیشینه (Mode)**\n",
    "\n",
    "مقدار Mode مقداری است که بیشتر از همه ظاهر می شود:\n",
    "\n",
    "ماژول SciPy روشی برای این کار دارد.\n",
    "\n",
    "</secion>"
   ]
  },
  {
   "cell_type": "code",
   "execution_count": 6,
   "metadata": {},
   "outputs": [
    {
     "name": "stdout",
     "output_type": "stream",
     "text": [
      "ModeResult(mode=86, count=3)\n"
     ]
    }
   ],
   "source": [
    "from scipy import stats\n",
    "\n",
    "speed = [99, 86, 87, 88, 111, 86, 103, 87, 94, 78, 77, 85, 86]\n",
    "\n",
    "x = stats.mode(speed)\n",
    "\n",
    "print(x)"
   ]
  },
  {
   "cell_type": "markdown",
   "metadata": {},
   "source": [
    "<section style=\"direction: rtl; text-align: justify; margin: 30px;\">\n",
    "\n",
    "میانگین، میانه و بیشینه تکنیک هایی هستند که اغلب در یادگیری ماشینی استفاده می‌شوند، بنابراین درک مفهوم پشت آن ها مهم است.\n",
    "\n",
    "</secion>"
   ]
  },
  {
   "cell_type": "markdown",
   "metadata": {},
   "source": [
    "___\n",
    "\n",
    "Machine Learning - Standard Deviation\n",
    "\n",
    "<section style=\"direction: rtl; text-align: justify; margin: 30px;\">\n",
    "\n",
    "### **انحراف استاندارد**\n",
    "\n",
    "انحراف استاندارد عددی است که میزان پراکندگی مقادیر را توصیف می کند.\n",
    "\n",
    "انحراف استاندارد پایین به این معنی است که بیشتر اعداد به مقدار میانگین (متوسط) نزدیک هستند.\n",
    "\n",
    "انحراف استاندارد بالا به این معنی است که مقادیر در محدوده وسیع تری پخش می شوند.\n",
    "\n",
    "مثال: این بار سرعت 7 خودرو را ثبت کرده ایم:\n",
    "\n",
    "</secion>"
   ]
  },
  {
   "cell_type": "code",
   "execution_count": 7,
   "metadata": {},
   "outputs": [],
   "source": [
    "speed = [86, 87, 88, 86, 87, 85, 86]"
   ]
  },
  {
   "cell_type": "markdown",
   "metadata": {},
   "source": [
    "<section style=\"direction: rtl; text-align: justify; margin: 30px;\">\n",
    "\n",
    "انحراف معیار ۰.۹ است.\n",
    "\n",
    "به این معنی که اکثر مقادیر در محدوده 0.9 از مقدار میانگین هستند که 86.4 است.\n",
    "\n",
    "اجازه دهید همین کار را با مجموعه ای از اعداد با دامنه وسیع تر انجام دهیم:\n",
    "\n",
    "</secion>"
   ]
  },
  {
   "cell_type": "code",
   "execution_count": 8,
   "metadata": {},
   "outputs": [],
   "source": [
    "speed = [32, 111, 138, 28, 59, 77, 97]"
   ]
  },
  {
   "cell_type": "markdown",
   "metadata": {},
   "source": [
    "<section style=\"direction: rtl; text-align: justify; margin: 30px;\">\n",
    "\n",
    "انحراف معیار این لیست ۳۷.۸۵ است.\n",
    "\n",
    "به این معنی که اکثر مقادیر در محدوده 37.85 از مقدار میانگین قرار دارند که 77.4 است.\n",
    "\n",
    "همانطور که می بینید، انحراف استاندارد بالاتر نشان می دهد که مقادیر در محدوده وسیع تری پخش شده اند.\n",
    "\n",
    "ماژول NumPy روشی برای محاسبه انحراف استاندارد دارد:\n",
    "\n",
    "</secion>"
   ]
  },
  {
   "cell_type": "code",
   "execution_count": 14,
   "metadata": {},
   "outputs": [
    {
     "name": "stdout",
     "output_type": "stream",
     "text": [
      "0.9\n"
     ]
    }
   ],
   "source": [
    "import numpy as np\n",
    "\n",
    "speed = [86, 87, 88, 86, 87, 85, 86]\n",
    "\n",
    "x = np.std(speed)\n",
    "\n",
    "print(format(x, '.1f'))"
   ]
  },
  {
   "cell_type": "code",
   "execution_count": 12,
   "metadata": {},
   "outputs": [
    {
     "name": "stdout",
     "output_type": "stream",
     "text": [
      "37.85\n"
     ]
    }
   ],
   "source": [
    "import numpy as np\n",
    "\n",
    "speed = [32, 111, 138, 28, 59, 77, 97]\n",
    "\n",
    "x = np.std(speed)\n",
    "\n",
    "print(format(x, '.2f'))"
   ]
  },
  {
   "cell_type": "markdown",
   "metadata": {},
   "source": [
    "<div style=\"border-top: 1px solid #ccc; margin: 10px 0;\"></div>\n",
    "\n",
    "<section style=\"direction: rtl; text-align: justify; margin: 30px;\">\n",
    "\n",
    "واریانس عدد دیگری است که میزان پراکندگی مقادیر را نشان می دهد.\n",
    "\n",
    "در واقع، اگر جذر واریانس را بگیرید، انحراف معیار را دریافت می کنید!\n",
    "\n",
    "یا برعکس، اگر انحراف معیار را در خودش ضرب کنید، واریانس به دست می آید!\n",
    "\n",
    "برای محاسبه واریانس باید به صورت زیر عمل کنید:\n",
    "\n",
    "</secion>"
   ]
  },
  {
   "cell_type": "markdown",
   "metadata": {},
   "source": [
    "<section style=\"direction: rtl; text-align: justify; margin: 30px;\">\n",
    "\n",
    "1. میانگین را پیدا کنید:\n",
    "\n",
    "</section>\n",
    "\n",
    "(32+111+138+28+59+77+97) / 7 = 77.4"
   ]
  },
  {
   "cell_type": "markdown",
   "metadata": {},
   "source": [
    "<section style=\"direction: rtl; text-align: justify; margin: 30px;\">\n",
    "\n",
    "2. برای هر مقدار: تفاوت را از میانگین بیابید:\n",
    "\n",
    "</section>\n",
    "\n",
    "32 - 77.4 = -45.4  \n",
    "111 - 77.4 =  33.6  \n",
    "138 - 77.4 =  60.6  \n",
    "28 - 77.4 = -49.4  \n",
    "59 - 77.4 = -18.4  \n",
    "77 - 77.4 = - 0.4  \n",
    "97 - 77.4 =  19.6  "
   ]
  },
  {
   "cell_type": "markdown",
   "metadata": {},
   "source": [
    "<section style=\"direction: rtl; text-align: justify; margin: 30px;\">\n",
    "\n",
    "3. برای هر تفاوت: مقدار مربع را پیدا کنید:\n",
    "\n",
    "</section>\n",
    "\n",
    "(-45.4)2 = 2061.16  \n",
    "(33.6)2 = 1128.96  \n",
    "(60.6)2 = 3672.36  \n",
    "(-49.4)2 = 2440.36  \n",
    "(-18.4)2 = 338.56  \n",
    "(- 0.4)2 = 0.16  \n",
    "(19.6)2 =  384.16  "
   ]
  },
  {
   "cell_type": "markdown",
   "metadata": {},
   "source": [
    "<section style=\"direction: rtl; text-align: justify; margin: 30px;\">\n",
    "\n",
    "4. واریانس میانگین تعداد این اختلافات مجذور است:\n",
    "\n",
    "</section>\n",
    "\n",
    "(2061.16+1128.96+3672.36+2440.36+338.56+0.16+384.16) / 7 = 1432.2"
   ]
  },
  {
   "cell_type": "markdown",
   "metadata": {},
   "source": [
    "<section style=\"direction: rtl; text-align: justify; margin: 30px;\">\n",
    "\n",
    "خوشبختانه، NumPy روشی برای محاسبه واریانس دارد:\n",
    "\n",
    "</section>"
   ]
  },
  {
   "cell_type": "code",
   "execution_count": 2,
   "metadata": {},
   "outputs": [
    {
     "name": "stdout",
     "output_type": "stream",
     "text": [
      "1432.2448979591834\n"
     ]
    }
   ],
   "source": [
    "import numpy as np\n",
    "\n",
    "speed = [32, 111, 138, 28, 59, 77, 97]\n",
    "\n",
    "x = np.var(speed)\n",
    "\n",
    "print(x)"
   ]
  },
  {
   "cell_type": "markdown",
   "metadata": {},
   "source": [
    "<div style=\"border-top: 1px solid #ccc; margin: 10px 0;\"></div>\n",
    "\n",
    "<section style=\"direction: rtl; text-align: justify; margin: 30px;\">\n",
    "\n",
    "همانطور که آموختیم، فرمول برای یافتن انحراف معیار، جذر واریانس است:\n",
    "\n",
    "</section>\n",
    "\n",
    "√1432.25 = 37.85\n",
    "\n",
    "<section style=\"direction: rtl; text-align: justify; margin: 30px;\">\n",
    "\n",
    "یا، مانند مثال قبلی، از NumPy برای محاسبه انحراف استاندارد استفاده می‌کنیم:\n",
    "\n",
    "</section>"
   ]
  },
  {
   "cell_type": "code",
   "execution_count": 3,
   "metadata": {},
   "outputs": [
    {
     "name": "stdout",
     "output_type": "stream",
     "text": [
      "37.84501153334721\n"
     ]
    }
   ],
   "source": [
    "import numpy as np\n",
    "\n",
    "speed = [32, 111, 138, 28, 59, 77, 97]\n",
    "\n",
    "x = np.std(speed)\n",
    "\n",
    "print(x)"
   ]
  },
  {
   "cell_type": "markdown",
   "metadata": {},
   "source": [
    "<section style=\"direction: rtl; text-align: justify; margin: 30px;\">\n",
    "\n",
    "انحراف استاندارد اغلب با نماد Sigma نشان داده می شود: σ\n",
    "\n",
    "واریانس اغلب با نماد Sigma Squared: σ2 نشان داده می شود\n",
    "\n",
    "انحراف استاندارد و واریانس اصطلاحاتی هستند که اغلب در یادگیری ماشینی استفاده می شوند، بنابراین درک نحوه به دست آوردن آنها و مفهوم پشت آنها بسیار مهم است.\n",
    "\n",
    "</section>"
   ]
  },
  {
   "cell_type": "markdown",
   "metadata": {},
   "source": [
    "___\n",
    "\n",
    "Machine Learning - Percentiles\n",
    "\n",
    "<section style=\"direction: rtl; text-align: justify; margin: 30px;\">\n",
    "\n",
    "### **درصدها**\n",
    "\n",
    "از صدک ها در آمار استفاده می شود تا به شما عددی بدهند که مقداری را که درصد معینی از مقادیر کمتر از آن است را توصیف کند.\n",
    "\n",
    "مثال: فرض کنید مجموعه ای از سنین همه مردمی که در یک خیابان زندگی می کنند داریم.\n",
    "\n",
    "</section>"
   ]
  },
  {
   "cell_type": "code",
   "execution_count": 4,
   "metadata": {},
   "outputs": [],
   "source": [
    "ages = [5, 31, 43, 48, 50, 41, 7, 11, 15, 39,\n",
    "        80, 82, 32, 2, 8, 6, 25, 36, 27, 61, 31]"
   ]
  },
  {
   "cell_type": "markdown",
   "metadata": {},
   "source": [
    "<section style=\"direction: rtl; text-align: justify; margin: 30px;\">\n",
    "\n",
    "صدک 75 چیست؟ پاسخ 43 است، یعنی 75 درصد افراد 43 سال یا کمتر هستند.\n",
    "\n",
    "ماژول NumPy روشی برای یافتن صدک مشخص شده دارد:\n",
    "\n",
    "</section>"
   ]
  },
  {
   "cell_type": "code",
   "execution_count": 6,
   "metadata": {},
   "outputs": [
    {
     "name": "stdout",
     "output_type": "stream",
     "text": [
      "43.0\n"
     ]
    }
   ],
   "source": [
    "import numpy as np\n",
    "\n",
    "ages = [5, 31, 43, 48, 50, 41, 7, 11, 15, 39,\n",
    "        80, 82, 32, 2, 8, 6, 25, 36, 27, 61, 31]\n",
    "\n",
    "x = np.percentile(ages, 75)\n",
    "\n",
    "print(x)"
   ]
  },
  {
   "cell_type": "code",
   "execution_count": 7,
   "metadata": {},
   "outputs": [
    {
     "name": "stdout",
     "output_type": "stream",
     "text": [
      "61.0\n"
     ]
    }
   ],
   "source": [
    "import numpy as np\n",
    "\n",
    "ages = [5, 31, 43, 48, 50, 41, 7, 11, 15, 39,\n",
    "        80, 82, 32, 2, 8, 6, 25, 36, 27, 61, 31]\n",
    "\n",
    "x = np.percentile(ages, 90)\n",
    "\n",
    "print(x)"
   ]
  },
  {
   "cell_type": "markdown",
   "metadata": {},
   "source": [
    "___\n",
    "\n",
    "Machine Learning - Data Distribution\n",
    "\n",
    "<section style=\"direction: rtl; text-align: justify; margin: 30px;\">\n",
    "\n",
    "### **توزیع داده**\n",
    "\n",
    "قبلاً در این آموزش ما با مقادیر بسیار کمی از داده ها در مثال های خود کار کرده ایم، فقط برای درک مفاهیم مختلف.\n",
    "\n",
    "در دنیای واقعی، مجموعه داده‌ها بسیار بزرگتر هستند، اما جمع‌آوری داده‌های دنیای واقعی، حداقل در مراحل اولیه یک پروژه، می‌تواند دشوار باشد.\n",
    "\n",
    "**چگونه می توانیم مجموعه های کلان داده را بدست آوریم؟**\n",
    "\n",
    "برای ایجاد مجموعه‌های داده‌های بزرگ برای آزمایش، از ماژول پایتون NumPy استفاده می‌کنیم که با تعدادی روش برای ایجاد مجموعه داده‌های تصادفی، با هر اندازه ارائه می‌شود.\n",
    "\n",
    "</section>"
   ]
  },
  {
   "cell_type": "code",
   "execution_count": 8,
   "metadata": {},
   "outputs": [
    {
     "name": "stdout",
     "output_type": "stream",
     "text": [
      "[1.97549358 4.19871375 2.5743808  1.33729992 3.38612755 0.23044642\n",
      " 1.67614645 4.44011963 4.02042948 0.20699798 1.74444187 2.89792019\n",
      " 0.16725004 4.2806835  0.3595551  0.93035377 3.2047151  3.82180293\n",
      " 1.83886758 4.0254305  0.16076964 2.62819562 0.82764106 1.87446579\n",
      " 0.83526749 3.12564885 4.49617652 4.66006883 3.7293144  4.2247989\n",
      " 3.2731134  1.98210213 2.02962373 0.05707783 3.03685461 3.43185951\n",
      " 2.69050581 1.68195967 2.01119282 3.55279168 0.15184004 3.39791314\n",
      " 4.60194315 4.63071768 0.40759986 3.54880419 4.99031282 0.08587336\n",
      " 2.03231927 2.64996692 1.46694391 0.96776318 4.87451352 1.02813229\n",
      " 1.04315149 1.03313166 3.8910177  1.28276004 0.9225894  0.16373947\n",
      " 4.76414848 3.64569937 0.64925291 1.80101607 1.55104124 3.52583962\n",
      " 3.80510745 3.05461238 1.89525487 1.88288326 0.71072097 1.19317566\n",
      " 2.30497579 0.4672361  0.42783325 4.32179999 1.93858833 1.34668651\n",
      " 3.23999451 4.26940068 4.92065686 0.05111116 0.36890991 1.17774755\n",
      " 2.20944349 4.13566586 4.96168386 0.53191844 3.45687183 2.05236365\n",
      " 3.17524419 0.57459628 1.12451901 3.03286862 0.691684   1.83656616\n",
      " 4.86506728 1.2609081  4.01380797 0.77619692 1.41841979 3.65674566\n",
      " 1.32332438 0.73111336 2.56310648 2.41695665 3.18622659 1.58353515\n",
      " 3.61757299 4.95322048 0.08070431 0.68093213 3.70021259 3.83733212\n",
      " 1.80010699 0.07059097 3.38357711 3.58069346 0.80560932 1.037565\n",
      " 1.22740712 1.71261823 1.03998247 2.20487739 1.71058237 1.83628097\n",
      " 3.76293005 0.82705895 2.74168624 3.474915   4.22469205 0.47984839\n",
      " 1.30595998 4.93155148 1.48024002 3.47581607 2.47293205 0.24386277\n",
      " 3.24544762 1.98365833 4.79077162 3.119221   1.42234993 1.88203077\n",
      " 3.32243768 0.22503653 4.35836185 3.23749082 4.43794888 2.97156778\n",
      " 1.2976287  4.03691072 2.90696278 1.15462722 4.75744055 4.33291189\n",
      " 0.18906476 0.85245996 3.69792572 0.69833217 2.49894906 2.34874596\n",
      " 0.16764524 0.18150817 3.28192012 2.91510851 3.3211508  3.38120674\n",
      " 4.94005218 2.74134972 1.23208714 2.62167598 4.3083309  0.48558498\n",
      " 0.49650353 2.29687093 1.55605678 1.18693813 1.47835987 0.23575152\n",
      " 2.12947158 0.79777091 0.74491609 3.37248304 4.1023705  1.80120123\n",
      " 1.4581466  3.50219632 1.25219775 3.35741458 1.53187623 3.79208673\n",
      " 1.89960582 0.41147702 2.32914596 0.70752352 0.60373124 3.04052163\n",
      " 1.5479685  3.81493847 1.61897327 0.40506543 4.43347601 3.37791843\n",
      " 2.68875436 2.42449481 0.09257144 3.23717176 1.0777014  0.46409791\n",
      " 1.77606372 0.47304833 3.47821248 3.84359749 4.42836038 2.75064195\n",
      " 4.4129597  2.67015235 3.2226538  4.61601604 0.32134092 4.43825552\n",
      " 2.61050325 3.77583014 0.22600947 0.20249036 4.23947307 2.06352017\n",
      " 3.12189561 0.37431928 3.29832547 1.2565338  4.49019311 2.46571212\n",
      " 0.01779737 1.92534159 2.08183132 3.83014721 3.97249707 2.84310067\n",
      " 1.36197089 4.29122265 3.2978931  4.4405169  1.29434424 0.5012926\n",
      " 0.99113754 4.33297157 2.27386479 0.56734399]\n"
     ]
    }
   ],
   "source": [
    "import numpy as np\n",
    "\n",
    "x = np.random.uniform(0.0, 5.0, 250)\n",
    "\n",
    "print(x)"
   ]
  },
  {
   "cell_type": "markdown",
   "metadata": {},
   "source": [
    "<section style=\"direction: rtl; text-align: justify; margin: 30px;\">\n",
    "\n",
    "برای تجسم مجموعه داده‌ها، می‌توانیم با داده‌هایی که جمع‌آوری کردیم، یک هیستوگرام رسم کنیم.\n",
    "\n",
    "ما از ماژول Python Matplotlib برای رسم هیستوگرام استفاده می کنیم.\n",
    "\n",
    "</section>"
   ]
  },
  {
   "cell_type": "code",
   "execution_count": 14,
   "metadata": {},
   "outputs": [
    {
     "data": {
      "image/png": "[encoded data removed]",
      "text/plain": [
       "<Figure size 640x480 with 1 Axes>"
      ]
     },
     "metadata": {},
     "output_type": "display_data"
    }
   ],
   "source": [
    "import numpy as np\n",
    "import matplotlib.pyplot as plt\n",
    "\n",
    "x = np.random.uniform(0.0, 5.0, 250)\n",
    "\n",
    "plt.hist(x, 5)\n",
    "plt.show()"
   ]
  },
  {
   "cell_type": "markdown",
   "metadata": {},
   "source": [
    "<section style=\"direction: rtl; text-align: justify; margin: 30px;\">\n",
    "\n",
    "از آرایه مثال بالا برای رسم هیستوگرام با 5 میله استفاده می کنیم.\n",
    "\n",
    "نوار اول نشان دهنده تعداد مقادیر موجود در آرایه بین 0 و 1 است.\n",
    "\n",
    "نوار دوم نشان دهنده تعداد مقادیر بین 1 و 2 است...\n",
    "\n",
    "که این نتیجه را به ما می دهد:\n",
    "\n",
    "- 52 مقدار بین 0 و 1 هستند\n",
    "- 48 مقدار بین 1 و 2 هستند\n",
    "- 49 مقدار بین 2 و 3 هستند\n",
    "- 51 مقدار بین   3 و 4 هستند\n",
    "- 50 مقدار بین   4 تا 5 است\n",
    "\n",
    "⚠️ توجه: مقادیر آرایه ها اعداد تصادفی هستند و دقیقاً همان نتیجه را در رایانه شما نشان نمی دهند.\n",
    "\n",
    "**توزیع های کلان داده**\n",
    "\n",
    "یک آرایه حاوی 250 مقدار خیلی بزرگ در نظر گرفته نمی شود، اما اکنون می دانید که چگونه مجموعه ای تصادفی از مقادیر را ایجاد کنید و با تغییر پارامترها، می توانید مجموعه داده را به اندازه دلخواه ایجاد کنید.\n",
    "\n",
    "</section>"
   ]
  },
  {
   "cell_type": "code",
   "execution_count": 12,
   "metadata": {},
   "outputs": [
    {
     "data": {
      "image/png": "[encoded data removed]",
      "text/plain": [
       "<Figure size 640x480 with 1 Axes>"
      ]
     },
     "metadata": {},
     "output_type": "display_data"
    }
   ],
   "source": [
    "import numpy as np\n",
    "import matplotlib.pyplot as plt\n",
    "\n",
    "x = np.random.uniform(0.0, 5.0, 100000)\n",
    "\n",
    "plt.hist(x, 100)\n",
    "plt.show()"
   ]
  },
  {
   "cell_type": "markdown",
   "metadata": {},
   "source": [
    "___\n",
    "\n",
    "Machine Learning - Normal Data Distribution\n",
    "\n",
    "<section style=\"direction: rtl; text-align: justify; margin: 30px;\">\n",
    "\n",
    "### **توزیع داده نرمال**\n",
    "\n",
    "در قسمت قبل یاد گرفتیم که چگونه یک آرایه کاملا تصادفی، با اندازه معین و بین دو مقدار داده شده ایجاد کنیم.\n",
    "\n",
    "در این قسمت ما یاد خواهیم گرفت که چگونه یک آرایه ایجاد کنیم که در آن مقادیر حول یک مقدار معین متمرکز شوند.\n",
    "\n",
    "در تئوری احتمال، این نوع توزیع داده ها به نام توزیع داده های نرمال یا توزیع داده های گاوسی، پس از ریاضیدان کارل فردریش گاوس که فرمول این توزیع داده را ارائه کرد، شناخته می شود.\n",
    "\n",
    "</section>"
   ]
  },
  {
   "cell_type": "code",
   "execution_count": 23,
   "metadata": {},
   "outputs": [
    {
     "data": {
      "image/png": "[encoded data removed]",
      "text/plain": [
       "<Figure size 640x480 with 1 Axes>"
      ]
     },
     "metadata": {},
     "output_type": "display_data"
    }
   ],
   "source": [
    "import numpy as np\n",
    "import matplotlib.pyplot as plt\n",
    "\n",
    "x = np.random.normal(5.0, 1.0, 100000)\n",
    "\n",
    "plt.hist(x, 200)\n",
    "plt.show()"
   ]
  },
  {
   "cell_type": "markdown",
   "metadata": {},
   "source": [
    "<section style=\"direction: rtl; text-align: justify; margin: 30px;\">\n",
    "\n",
    "⚠️ توجه: نمودار توزیع نرمال به دلیل شکل مشخصه یک زنگ به منحنی زنگ (bell) نیز معروف است.\n",
    "\n",
    "ما از آرایه متد np.random.normal() با 100000 مقدار برای رسم هیستوگرام با 100 میله استفاده می کنیم.\n",
    "\n",
    "ما مشخص می کنیم که مقدار میانگین 5.0 و انحراف استاندارد 1.0 است.\n",
    "\n",
    "به این معنی که مقادیر باید در حدود 5.0 متمرکز شوند و به ندرت از میانگین دورتر از 1.0 باشند.\n",
    "\n",
    "و همانطور که از هیستوگرام می بینید، بیشتر مقادیر بین 4.0 و 6.0 هستند.\n",
    "</section>"
   ]
  },
  {
   "cell_type": "markdown",
   "metadata": {},
   "source": [
    "___\n",
    "\n",
    "Machine Learning - Scatter Plot\n",
    "\n",
    "<section style=\"direction: rtl; text-align: justify; margin: 30px;\">\n",
    "\n",
    "### **نمودار پراکندگی**\n",
    "\n",
    "نمودار پراکندگی نموداری است که در آن هر مقدار در مجموعه داده با یک نقطه نشان داده می شود.\n",
    "\n",
    "</section>\n",
    "\n",
    "![Graph](https://www.w3schools.com/python/img_scatterplot.png)\n",
    "\n",
    "<section style=\"direction: rtl; text-align: justify; margin: 30px;\">\n",
    "\n",
    "ماژول Matplotlib روشی برای رسم نمودارهای پراکندگی دارد، به دو آرایه با طول یکسان نیاز دارد، یکی برای مقادیر محور x و دیگری برای مقادیر محور y:\n",
    "\n",
    "</section>"
   ]
  },
  {
   "cell_type": "code",
   "execution_count": 24,
   "metadata": {},
   "outputs": [],
   "source": [
    "x = [5, 7, 8, 7, 2, 17, 2, 9, 4, 11, 12, 9, 6]\n",
    "\n",
    "y = [99, 86, 87, 88, 111, 86, 103, 87, 94, 78, 77, 85, 86]"
   ]
  },
  {
   "cell_type": "markdown",
   "metadata": {},
   "source": [
    "<section style=\"direction: rtl; text-align: justify; margin: 30px;\">\n",
    "\n",
    "آرایه x نشان دهنده سن هر خودرو است.\n",
    "\n",
    "آرایه y نشان دهنده سرعت هر خودرو است.\n",
    "\n",
    "</section>"
   ]
  },
  {
   "cell_type": "code",
   "execution_count": 25,
   "metadata": {},
   "outputs": [
    {
     "data": {
      "image/png": "[encoded data removed]",
      "text/plain": [
       "<Figure size 640x480 with 1 Axes>"
      ]
     },
     "metadata": {},
     "output_type": "display_data"
    }
   ],
   "source": [
    "import matplotlib.pyplot as plt\n",
    "\n",
    "x = [5, 7, 8, 7, 2, 17, 2, 9, 4, 11, 12, 9, 6]\n",
    "y = [99, 86, 87, 88, 111, 86, 103, 87, 94, 78, 77, 85, 86]\n",
    "\n",
    "plt.scatter(x, y)\n",
    "plt.show()"
   ]
  },
  {
   "cell_type": "markdown",
   "metadata": {},
   "source": [
    "<section style=\"direction: rtl; text-align: justify; margin: 30px;\">\n",
    "\n",
    "☝🏽 محور x نشان دهنده سن و محور y نشان دهنده سرعت است.\n",
    "\n",
    "آنچه که از نمودار می توانیم بخوانیم این است که دو خودروی سریع هر دو 2 ساله و کندترین خودرو 12 ساله بوده اند.\n",
    "\n",
    "⚠️ توجه: به نظر می رسد که هر چه ماشین جدیدتر باشد، سریعتر رانندگی می کند، اما این می تواند یک تصادف باشد، بالاخره ما فقط 13 خودرو ثبت نام کردیم.\n",
    "\n",
    "**توزیع تصادفی داده‌ها**\n",
    "\n",
    "در یادگیری ماشینی، مجموعه داده‌ها می‌توانند شامل هزاران یا حتی میلیون‌ها مقدار باشند.\n",
    "\n",
    "همانطور که در فصل قبل آموختیم، ماژول NumPy می تواند در این زمینه به ما کمک کند!\n",
    "\n",
    "اجازه دهید دو آرایه ایجاد کنیم که هر دو با 1000 عدد تصادفی از یک توزیع معمولی داده پر شده باشند.\n",
    "\n",
    "آرایه اول دارای میانگین 5.0 با انحراف استاندارد 1.0 خواهد بود.\n",
    "\n",
    "آرایه دوم دارای میانگین 10.0 با انحراف استاندارد 2.0 خواهد بود:\n",
    "\n",
    "</section>"
   ]
  },
  {
   "cell_type": "code",
   "execution_count": 26,
   "metadata": {},
   "outputs": [
    {
     "data": {
      "image/png": "[encoded data removed]",
      "text/plain": [
       "<Figure size 640x480 with 1 Axes>"
      ]
     },
     "metadata": {},
     "output_type": "display_data"
    }
   ],
   "source": [
    "import numpy as np\n",
    "import matplotlib.pyplot as plt\n",
    "\n",
    "x = np.random.normal(5.0, 1.0, 1000)\n",
    "y = np.random.normal(10.0, 2.0, 1000)\n",
    "\n",
    "plt.scatter(x, y)\n",
    "plt.show()"
   ]
  },
  {
   "cell_type": "markdown",
   "metadata": {},
   "source": [
    "<section style=\"direction: rtl; text-align: justify; margin: 30px;\">\n",
    "\n",
    "☝🏽 می بینیم که نقاط حول مقدار 5 در محور x و 10 در محور y متمرکز شده اند.\n",
    "\n",
    "همچنین می توانیم ببینیم که گسترش در محور y نسبت به محور x گسترده تر است.\n",
    "\n",
    "</section>"
   ]
  },
  {
   "cell_type": "markdown",
   "metadata": {},
   "source": [
    "___\n",
    "\n",
    "Machine Learning - Linear Regression\n",
    "\n",
    "<section style=\"direction: rtl; text-align: justify; margin: 30px;\">\n",
    "\n",
    "### **رگرسیون خطی**\n",
    "\n",
    "اصطلاح رگرسیون زمانی استفاده می شود که شما سعی می کنید رابطه بین متغیرها را پیدا کنید.\n",
    "\n",
    "در یادگیری ماشین و در مدل‌سازی آماری، از این رابطه برای پیش‌بینی نتیجه رویدادهای آینده استفاده می‌شود.\n",
    "\n",
    "رگرسیون خطی از رابطه بین نقاط داده برای ترسیم یک خط مستقیم در بین همه آنها استفاده می کند.\n",
    "\n",
    "از این خط می توان برای پیش بینی مقادیر آینده استفاده کرد.\n",
    "\n",
    "</section>\n",
    "\n",
    "![Graph](https://www.w3schools.com/python/img_linear_regression.png)\n",
    "\n",
    "<section style=\"direction: rtl; text-align: justify; margin: 30px;\">\n",
    "\n",
    "در یادگیری ماشینی، پیش بینی آینده بسیار مهم است.\n",
    "\n",
    "<div style=\"border-top: 1px solid #ccc; margin: 10px 0;\"></div>\n",
    "\n",
    "پایتون روش هایی برای یافتن رابطه بین نقاط داده و رسم خط رگرسیون خطی دارد. ما به شما نشان خواهیم داد که چگونه به جای استفاده از فرمول ریاضی از این روش ها استفاده کنید.\n",
    "\n",
    "در مثال زیر، محور x نشان دهنده سن و محور y نشان دهنده سرعت است. سن و سرعت 13 خودرو را هنگام عبور از باجه عوارضی ثبت کرده ایم. بیایید ببینیم که آیا داده هایی که جمع آوری کردیم می توانند در رگرسیون خطی استفاده شوند یا خیر:\n",
    "\n",
    "</section>"
   ]
  },
  {
   "cell_type": "code",
   "execution_count": 1,
   "metadata": {},
   "outputs": [
    {
     "data": {
      "image/png": "[encoded data removed]",
      "text/plain": [
       "<Figure size 640x480 with 1 Axes>"
      ]
     },
     "metadata": {},
     "output_type": "display_data"
    }
   ],
   "source": [
    "import matplotlib.pyplot as plt\n",
    "\n",
    "x = [5, 7, 8, 7, 2, 17, 2, 9, 4, 11, 12, 9, 6]\n",
    "y = [99, 86, 87, 88, 111, 86, 103, 87, 94, 78, 77, 85, 86]\n",
    "\n",
    "plt.scatter(x, y)\n",
    "plt.show()"
   ]
  },
  {
   "cell_type": "code",
   "execution_count": 2,
   "metadata": {},
   "outputs": [
    {
     "data": {
      "image/png": "[encoded data removed]",
      "text/plain": [
       "<Figure size 640x480 with 1 Axes>"
      ]
     },
     "metadata": {},
     "output_type": "display_data"
    }
   ],
   "source": [
    "import matplotlib.pyplot as plt\n",
    "from scipy import stats\n",
    "\n",
    "x = [5, 7, 8, 7, 2, 17, 2, 9, 4, 11, 12, 9, 6]\n",
    "y = [99, 86, 87, 88, 111, 86, 103, 87, 94, 78, 77, 85, 86]\n",
    "\n",
    "slope, intercept, r, p, std_err = stats.linregress(x, y)\n",
    "\n",
    "\n",
    "def myfunc(x):\n",
    "    return slope * x + intercept\n",
    "\n",
    "\n",
    "mymodel = list(map(myfunc, x))\n",
    "\n",
    "plt.scatter(x, y)\n",
    "plt.plot(x, mymodel)\n",
    "plt.show()"
   ]
  },
  {
   "cell_type": "markdown",
   "metadata": {},
   "source": [
    "<section style=\"direction: rtl; text-align: justify; margin: 30px;\">\n",
    "\n",
    "ماژول‌های مورد نیاز را وارد می‌کنیم.\n",
    "\n",
    "</section>"
   ]
  },
  {
   "cell_type": "code",
   "execution_count": 3,
   "metadata": {},
   "outputs": [],
   "source": [
    "import matplotlib.pyplot as plt\n",
    "from scipy import stats"
   ]
  },
  {
   "cell_type": "markdown",
   "metadata": {},
   "source": [
    "<section style=\"direction: rtl; text-align: justify; margin: 30px;\">\n",
    "\n",
    "آرایه هایی را ایجاد می‌کنیم که مقادیر محور x و y را نشان می دهند:\n",
    "\n",
    "</section>"
   ]
  },
  {
   "cell_type": "code",
   "execution_count": 4,
   "metadata": {},
   "outputs": [],
   "source": [
    "x = [5, 7, 8, 7, 2, 17, 2, 9, 4, 11, 12, 9, 6]\n",
    "y = [99, 86, 87, 88, 111, 86, 103, 87, 94, 78, 77, 85, 86]"
   ]
  },
  {
   "cell_type": "markdown",
   "metadata": {},
   "source": [
    "<section style=\"direction: rtl; text-align: justify; margin: 30px;\">\n",
    "\n",
    "آرایه هایی را ایجاد می‌کنیم که مقادیر محور x و y را نشان می دهند:\n",
    "\n",
    "</section>"
   ]
  },
  {
   "cell_type": "code",
   "execution_count": 5,
   "metadata": {},
   "outputs": [],
   "source": [
    "slope, intercept, r, p, std_err = stats.linregress(x, y)"
   ]
  },
  {
   "cell_type": "markdown",
   "metadata": {},
   "source": [
    "<section style=\"direction: rtl; text-align: justify; margin: 30px;\">\n",
    "\n",
    "تابعی ایجاد می‌کنیم که از مقادیر slope و intercept برای برگرداندن یک مقدار جدید استفاده کند. این مقدار جدید نشان دهنده جایی است که در محور y مقدار x مربوطه قرار می گیرد:\n",
    "\n",
    "</section>"
   ]
  },
  {
   "cell_type": "code",
   "execution_count": 6,
   "metadata": {},
   "outputs": [],
   "source": [
    "def myfunc(x):\n",
    "    return slope * x + intercept"
   ]
  },
  {
   "cell_type": "markdown",
   "metadata": {},
   "source": [
    "<section style=\"direction: rtl; text-align: justify; margin: 30px;\">\n",
    "\n",
    "هر مقدار از آرایه x را از طریق تابع اجرا می‌کنیم. این منجر به یک آرایه جدید با مقادیر جدید برای محور y می شود:\n",
    "\n",
    "</section>"
   ]
  },
  {
   "cell_type": "code",
   "execution_count": 7,
   "metadata": {},
   "outputs": [],
   "source": [
    "mymodel = list(map(myfunc, x))"
   ]
  },
  {
   "cell_type": "markdown",
   "metadata": {},
   "source": [
    "<section style=\"direction: rtl; text-align: justify; margin: 30px;\">\n",
    "\n",
    "نمودار پراکندگی اصلی را رسم می‌کنیم:\n",
    "\n",
    "</section>"
   ]
  },
  {
   "cell_type": "code",
   "execution_count": null,
   "metadata": {},
   "outputs": [],
   "source": [
    "plt.scatter(x, y)"
   ]
  },
  {
   "cell_type": "markdown",
   "metadata": {},
   "source": [
    "<section style=\"direction: rtl; text-align: justify; margin: 30px;\">\n",
    "\n",
    "خط رگرسیون خطی را رسم می‌کنیم:\n",
    "\n",
    "</section>"
   ]
  },
  {
   "cell_type": "code",
   "execution_count": null,
   "metadata": {},
   "outputs": [],
   "source": [
    "plt.plot(x, mymodel)"
   ]
  },
  {
   "cell_type": "markdown",
   "metadata": {},
   "source": [
    "<section style=\"direction: rtl; text-align: justify; margin: 30px;\">\n",
    "\n",
    "نمودار را نمایش می‌دهیم: \n",
    "\n",
    "</section>"
   ]
  },
  {
   "cell_type": "code",
   "execution_count": 11,
   "metadata": {},
   "outputs": [],
   "source": [
    "plt.show()"
   ]
  },
  {
   "cell_type": "markdown",
   "metadata": {},
   "source": [
    "<section style=\"direction: rtl; text-align: justify; margin: 30px;\">\n",
    "\n",
    "<div style=\"border-top: 1px solid #ccc; margin: 10px 0;\"></div>\n",
    "<div style=\"border-top: 1px solid #ccc; margin: 10px 0;\"></div>\n",
    "\n",
    "مهم است که بدانیم رابطه بین مقادیر محور x و مقادیر محور y چگونه است، اگر هیچ رابطه ای وجود نداشته باشد، نمی توان از رگرسیون خطی برای پیش بینی چیزی استفاده کرد.\n",
    "\n",
    "این رابطه - ضریب همبستگی - r نامیده می شود.\n",
    "\n",
    "مقدار r از 1- تا 1 است که 0 به معنای عدم وجود رابطه است و 1 (و -1) به معنای 100% مرتبط است.\n",
    "\n",
    "پایتون و ماژول Scipy این مقدار را برای شما محاسبه می کنند، تنها کاری که باید انجام دهید این است که آن را با مقادیر x و y تغذیه کنید.\n",
    "\n",
    "</section>"
   ]
  },
  {
   "cell_type": "code",
   "execution_count": 15,
   "metadata": {},
   "outputs": [
    {
     "name": "stdout",
     "output_type": "stream",
     "text": [
      "-0.76\n"
     ]
    }
   ],
   "source": [
    "from scipy import stats\n",
    "\n",
    "x = [5, 7, 8, 7, 2, 17, 2, 9, 4, 11, 12, 9, 6]\n",
    "y = [99, 86, 87, 88, 111, 86, 103, 87, 94, 78, 77, 85, 86]\n",
    "\n",
    "slope, intercept, r, p, std_err = stats.linregress(x, y)\n",
    "\n",
    "print(format(r, '.2f'))"
   ]
  },
  {
   "cell_type": "markdown",
   "metadata": {},
   "source": [
    "<section style=\"direction: rtl; text-align: justify; margin: 30px;\">\n",
    "\n",
    "⚠️ توجه: نتیجه 0.76- نشان می دهد که یک رابطه وجود دارد، نه کامل، اما نشان می دهد که می توانیم از رگرسیون خطی در پیش بینی های آینده استفاده کنیم.\n",
    "\n",
    "<div style=\"border-top: 1px solid #ccc; margin: 10px 0;\"></div>\n",
    "\n",
    "اکنون می توانیم از اطلاعاتی که جمع آوری کرده ایم برای پیش بینی مقادیر آینده استفاده کنیم.\n",
    "\n",
    "مثال: اجازه دهید سعی کنیم سرعت یک ماشین 10 ساله را پیش بینی کنیم.\n",
    "\n",
    "برای انجام این کار، به همان تابع myfunc() از مثال بالا نیاز داریم:\n",
    "\n",
    "</section>"
   ]
  },
  {
   "cell_type": "code",
   "execution_count": null,
   "metadata": {},
   "outputs": [],
   "source": [
    "def myfunc(x):\n",
    "    return slope * x + intercept"
   ]
  },
  {
   "cell_type": "code",
   "execution_count": 3,
   "metadata": {},
   "outputs": [
    {
     "name": "stdout",
     "output_type": "stream",
     "text": [
      "85.6\n"
     ]
    }
   ],
   "source": [
    "from scipy import stats\n",
    "\n",
    "x = [5, 7, 8, 7, 2, 17, 2, 9, 4, 11, 12, 9, 6]\n",
    "y = [99, 86, 87, 88, 111, 86, 103, 87, 94, 78, 77, 85, 86]\n",
    "\n",
    "slope, intercept, r, p, std_err = stats.linregress(x, y)\n",
    "\n",
    "\n",
    "def myfunc(x):\n",
    "    return slope * x + intercept\n",
    "\n",
    "\n",
    "speed = myfunc(10)\n",
    "\n",
    "print(format(speed, '.1f'))"
   ]
  },
  {
   "cell_type": "markdown",
   "metadata": {},
   "source": [
    "<section style=\"direction: rtl; text-align: justify; margin: 30px;\">\n",
    "\n",
    "مثال سرعت 85.6 را پیش‌بینی می‌کرد که می‌توانستیم آن را نیز از نمودار بخوانیم:\n",
    "\n",
    "</section>\n",
    "\n",
    "![Graph](https://www.w3schools.com/python/img_linear_regression2.png)"
   ]
  },
  {
   "cell_type": "markdown",
   "metadata": {},
   "source": [
    "<section style=\"direction: rtl; text-align: justify; margin: 30px;\">\n",
    "\n",
    "<div style=\"border-top: 1px solid #ccc; margin: 10px 0;\"></div>\n",
    "\n",
    "### **تناسب بد**\n",
    "\n",
    "اجازه دهید مثالی ایجاد کنیم که در آن رگرسیون خطی بهترین روش برای پیش‌بینی مقادیر آینده نخواهد بود.\n",
    "\n",
    "</section>"
   ]
  },
  {
   "cell_type": "code",
   "execution_count": 4,
   "metadata": {},
   "outputs": [
    {
     "data": {
      "image/png": "[encoded data removed]",
      "text/plain": [
       "<Figure size 640x480 with 1 Axes>"
      ]
     },
     "metadata": {},
     "output_type": "display_data"
    }
   ],
   "source": [
    "import matplotlib.pyplot as plt\n",
    "from scipy import stats\n",
    "\n",
    "x = [89, 43, 36, 36, 95, 10, 66, 34, 38, 20,\n",
    "     26, 29, 48, 64, 6, 5, 36, 66, 72, 40]\n",
    "y = [21, 46, 3, 35, 67, 95, 53, 72, 58, 10,\n",
    "     26, 34, 90, 33, 38, 20, 56, 2, 47, 15]\n",
    "\n",
    "slope, intercept, r, p, std_err = stats.linregress(x, y)\n",
    "\n",
    "\n",
    "def myfunc(x):\n",
    "    return slope * x + intercept\n",
    "\n",
    "\n",
    "mymodel = list(map(myfunc, x))\n",
    "\n",
    "plt.scatter(x, y)\n",
    "plt.plot(x, mymodel)\n",
    "plt.show()"
   ]
  },
  {
   "cell_type": "markdown",
   "metadata": {},
   "source": [
    "<section style=\"direction: rtl; text-align: justify; margin: 30px;\">\n",
    "\n",
    "و R برای رابطه؟\n",
    "\n",
    "</section>"
   ]
  },
  {
   "cell_type": "code",
   "execution_count": 6,
   "metadata": {},
   "outputs": [
    {
     "name": "stdout",
     "output_type": "stream",
     "text": [
      "0.013\n"
     ]
    }
   ],
   "source": [
    "import numpy\n",
    "from scipy import stats\n",
    "\n",
    "x = [89, 43, 36, 36, 95, 10, 66, 34, 38, 20,\n",
    "     26, 29, 48, 64, 6, 5, 36, 66, 72, 40]\n",
    "y = [21, 46, 3, 35, 67, 95, 53, 72, 58, 10,\n",
    "     26, 34, 90, 33, 38, 20, 56, 2, 47, 15]\n",
    "\n",
    "slope, intercept, r, p, std_err = stats.linregress(x, y)\n",
    "\n",
    "print(format(r, '.3f'))"
   ]
  },
  {
   "cell_type": "markdown",
   "metadata": {},
   "source": [
    "<section style=\"direction: rtl; text-align: justify; margin: 30px;\">\n",
    "\n",
    "⚠️ نتیجه: 0.013 یک رابطه بسیار بد را نشان می دهد و به ما می گوید که این مجموعه داده برای رگرسیون خطی مناسب نیست.\n",
    "\n",
    "</section>"
   ]
  },
  {
   "cell_type": "markdown",
   "metadata": {},
   "source": [
    "___\n",
    "\n",
    "Machine Learning - Polynomial Regression\n",
    "\n",
    "<section style=\"direction: rtl; text-align: justify; margin: 30px;\">\n",
    "\n",
    "### **رگرسیون چند جمله‌ای**\n",
    "\n",
    "اگر نقاط داده شما به وضوح با یک رگرسیون خطی مطابقت ندارند (یک خط مستقیم در تمام نقاط داده)، ممکن است برای رگرسیون چند جمله ای ایده آل باشد.\n",
    "\n",
    "رگرسیون چند جمله ای، مانند رگرسیون خطی، از رابطه بین متغیرهای x و y برای یافتن بهترین راه برای رسم خط در نقاط داده استفاده می کند.\n",
    "\n",
    "</section>\n",
    "\n",
    "![Graph](https://www.w3schools.com/python/img_polynomial_regression.png)\n",
    "\n",
    "<section style=\"direction: rtl; text-align: justify; margin: 30px;\">\n",
    "\n",
    "پایتون روش هایی برای یافتن رابطه بین نقاط داده و رسم خط رگرسیون چند جمله ای دارد. ما به شما نشان خواهیم داد که چگونه به جای استفاده از فرمول ریاضی از این روش ها استفاده کنید.\n",
    "\n",
    "در مثال زیر، 18 خودرو را هنگام عبور از یک باجه عوارض ثبت نام کرده ایم.\n",
    "\n",
    "ما سرعت ماشین را ثبت کرده ایم و زمان روز (ساعت) عبور اتفاق افتاده است.\n",
    "\n",
    "محور x نشان دهنده ساعات روز و محور y نشان دهنده سرعت است:\n",
    "\n",
    "</section>"
   ]
  },
  {
   "cell_type": "code",
   "execution_count": 1,
   "metadata": {},
   "outputs": [
    {
     "data": {
      "image/png": "[encoded data removed]",
      "text/plain": [
       "<Figure size 640x480 with 1 Axes>"
      ]
     },
     "metadata": {},
     "output_type": "display_data"
    }
   ],
   "source": [
    "import matplotlib.pyplot as plt\n",
    "\n",
    "x = [1, 2, 3, 5, 6, 7, 8, 9, 10, 12, 13, 14, 15, 16, 18, 19, 21, 22]\n",
    "y = [100, 90, 80, 60, 60, 55, 60, 65, 70, 70, 75, 76, 78, 79, 90, 99, 99, 100]\n",
    "\n",
    "plt.scatter(x, y)\n",
    "plt.show()"
   ]
  },
  {
   "cell_type": "code",
   "execution_count": 4,
   "metadata": {},
   "outputs": [
    {
     "data": {
      "image/png": "[encoded data removed]",
      "text/plain": [
       "<Figure size 640x480 with 1 Axes>"
      ]
     },
     "metadata": {},
     "output_type": "display_data"
    }
   ],
   "source": [
    "import numpy as np\n",
    "import matplotlib.pyplot as plt\n",
    "\n",
    "x = [1, 2, 3, 5, 6, 7, 8, 9, 10, 12, 13, 14, 15, 16, 18, 19, 21, 22]\n",
    "y = [100, 90, 80, 60, 60, 55, 60, 65, 70, 70, 75, 76, 78, 79, 90, 99, 99, 100]\n",
    "\n",
    "mymodel = np.poly1d(np.polyfit(x, y, 3))\n",
    "\n",
    "myline = np.linspace(1, 22, 100)\n",
    "\n",
    "plt.scatter(x, y)\n",
    "plt.plot(myline, mymodel(myline))\n",
    "plt.show()"
   ]
  },
  {
   "cell_type": "markdown",
   "metadata": {},
   "source": [
    "<section style=\"direction: rtl; text-align: justify; margin: 30px;\">\n",
    "\n",
    "**توضیحات**\n",
    "\n",
    "ماژول های مورد نیاز خود را وارد کنید.\n",
    "\n",
    "</section>"
   ]
  },
  {
   "cell_type": "code",
   "execution_count": 3,
   "metadata": {},
   "outputs": [],
   "source": [
    "import numpy as np\n",
    "import matplotlib.pyplot as plt"
   ]
  },
  {
   "cell_type": "markdown",
   "metadata": {},
   "source": [
    "<section style=\"direction: rtl; text-align: justify; margin: 30px;\">\n",
    "\n",
    "آرایه هایی را ایجاد کنید که مقادیر محور x و y را نشان می دهند:\n",
    "\n",
    "</section>"
   ]
  },
  {
   "cell_type": "code",
   "execution_count": 5,
   "metadata": {},
   "outputs": [],
   "source": [
    "x = [1, 2, 3, 5, 6, 7, 8, 9, 10, 12, 13, 14, 15, 16, 18, 19, 21, 22]\n",
    "y = [100, 90, 80, 60, 60, 55, 60, 65, 70, 70, 75, 76, 78, 79, 90, 99, 99, 100]"
   ]
  },
  {
   "cell_type": "markdown",
   "metadata": {},
   "source": [
    "<section style=\"direction: rtl; text-align: justify; margin: 30px;\">\n",
    "\n",
    "NumPy روشی دارد که به ما امکان می دهد یک مدل چند جمله ای بسازیم:\n",
    "\n",
    "</section>"
   ]
  },
  {
   "cell_type": "code",
   "execution_count": 8,
   "metadata": {},
   "outputs": [],
   "source": [
    "mymodel = np.poly1d(np.polyfit(x, y, 3))"
   ]
  },
  {
   "cell_type": "markdown",
   "metadata": {},
   "source": [
    "<section style=\"direction: rtl; text-align: justify; margin: 30px;\">\n",
    "\n",
    "سپس نحوه نمایش خط را مشخص کنید، از موقعیت 1 شروع می کنیم و در موقعیت 22 پایان می دهیم:\n",
    "\n",
    "</section>"
   ]
  },
  {
   "cell_type": "code",
   "execution_count": 9,
   "metadata": {},
   "outputs": [],
   "source": [
    "myline = np.linspace(1, 22, 100)"
   ]
  },
  {
   "cell_type": "markdown",
   "metadata": {},
   "source": [
    "<section style=\"direction: rtl; text-align: justify; margin: 30px;\">\n",
    "\n",
    "نمودار پراکندگی اصلی را رسم کنید:\n",
    "\n",
    "</section>"
   ]
  },
  {
   "cell_type": "code",
   "execution_count": null,
   "metadata": {},
   "outputs": [],
   "source": [
    "plt.scatter(x, y)"
   ]
  },
  {
   "cell_type": "markdown",
   "metadata": {},
   "source": [
    "<section style=\"direction: rtl; text-align: justify; margin: 30px;\">\n",
    "\n",
    "خط رگرسیون چند جمله ای را رسم کنید:\n",
    "\n",
    "</section>"
   ]
  },
  {
   "cell_type": "code",
   "execution_count": null,
   "metadata": {},
   "outputs": [],
   "source": [
    "plt.plot(myline, mymodel(myline))"
   ]
  },
  {
   "cell_type": "markdown",
   "metadata": {},
   "source": [
    "<section style=\"direction: rtl; text-align: justify; margin: 30px;\">\n",
    "\n",
    "نمودار را نمایش دهید: \n",
    "\n",
    "</section>"
   ]
  },
  {
   "cell_type": "code",
   "execution_count": 12,
   "metadata": {},
   "outputs": [],
   "source": [
    "plt.show()"
   ]
  },
  {
   "cell_type": "markdown",
   "metadata": {},
   "source": [
    "<div style=\"border-top: 1px solid #ccc; margin: 10px 0;\"></div>\n",
    "<div style=\"border-top: 1px solid #ccc; margin: 10px 0;\"></div>\n",
    "\n",
    "<section style=\"direction: rtl; text-align: justify; margin: 30px;\">\n",
    "\n",
    "### **R-Squared**\n",
    "\n",
    "مهم است که بدانیم رابطه بین مقادیر محور x و y چقدر خوب است، اگر هیچ رابطه ای وجود نداشته باشد، نمی توان از رگرسیون چند جمله ای برای پیش بینی چیزی استفاده کرد.\n",
    "\n",
    "این رابطه با مقداری به نام r-squared اندازه گیری می شود.\n",
    "\n",
    "مقدار r-squared از 0 تا 1 متغیر است که 0 به معنای عدم رابطه است و 1 به معنای 100٪ مرتبط است.\n",
    "\n",
    "پایتون و ماژول Sklearn این مقدار را برای شما محاسبه می کنند، تنها کاری که باید انجام دهید این است که آن را با آرایه های x و y تغذیه کنید:\n",
    "\n",
    "</section>"
   ]
  },
  {
   "cell_type": "code",
   "execution_count": 15,
   "metadata": {},
   "outputs": [
    {
     "name": "stdout",
     "output_type": "stream",
     "text": [
      "0.9432150416451026\n"
     ]
    }
   ],
   "source": [
    "import numpy as np\n",
    "from sklearn.metrics import r2_score\n",
    "\n",
    "x = [1, 2, 3, 5, 6, 7, 8, 9, 10, 12, 13, 14, 15, 16, 18, 19, 21, 22]\n",
    "y = [100, 90, 80, 60, 60, 55, 60, 65, 70, 70, 75, 76, 78, 79, 90, 99, 99, 100]\n",
    "\n",
    "mymodel = np.poly1d(np.polyfit(x, y, 3))\n",
    "\n",
    "print(r2_score(y, mymodel(x)))"
   ]
  },
  {
   "cell_type": "markdown",
   "metadata": {},
   "source": [
    "<section style=\"direction: rtl; text-align: justify; margin: 30px;\">\n",
    "\n",
    "⚠️ نکته: نتیجه 0.94 نشان می دهد که رابطه بسیار خوبی وجود دارد و می توانیم از رگرسیون چند جمله ای در پیش بینی های آینده استفاده کنیم.\n",
    "\n",
    "</section>"
   ]
  },
  {
   "cell_type": "markdown",
   "metadata": {},
   "source": [
    "<div style=\"border-top: 1px solid #ccc; margin: 10px 0;\"></div>\n",
    "\n",
    "<section style=\"direction: rtl; text-align: justify; margin: 30px;\">\n",
    "\n",
    "### **پیش بینی ارزش های آینده**\n",
    "\n",
    "اکنون می توانیم از اطلاعاتی که جمع آوری کرده ایم برای پیش بینی مقادیر آینده استفاده کنیم.\n",
    "\n",
    "مثال: اجازه دهید سعی کنیم سرعت خودرویی را که حدود ساعت 17:00 از باجه عوارض عبور می کند، پیش بینی کنیم:\n",
    "\n",
    "برای انجام این کار، به همان آرایه mymodel از مثال بالا نیاز داریم:\n",
    "\n",
    "</section>"
   ]
  },
  {
   "cell_type": "code",
   "execution_count": null,
   "metadata": {},
   "outputs": [],
   "source": [
    "mymodel = numpy.poly1d(numpy.polyfit(x, y, 3))"
   ]
  },
  {
   "cell_type": "code",
   "execution_count": 16,
   "metadata": {},
   "outputs": [
    {
     "name": "stdout",
     "output_type": "stream",
     "text": [
      "88.87331269697997\n"
     ]
    }
   ],
   "source": [
    "import numpy as np\n",
    "from sklearn.metrics import r2_score\n",
    "\n",
    "x = [1, 2, 3, 5, 6, 7, 8, 9, 10, 12, 13, 14, 15, 16, 18, 19, 21, 22]\n",
    "y = [100, 90, 80, 60, 60, 55, 60, 65, 70, 70, 75, 76, 78, 79, 90, 99, 99, 100]\n",
    "\n",
    "mymodel = np.poly1d(np.polyfit(x, y, 3))\n",
    "\n",
    "speed = mymodel(17)\n",
    "print(speed)"
   ]
  },
  {
   "cell_type": "markdown",
   "metadata": {},
   "source": [
    "<section style=\"direction: rtl; text-align: justify; margin: 30px;\">\n",
    "\n",
    "مثال سرعت 88.87 را پیش‌بینی کرد که می‌توانیم آن را از نمودار بخوانیم:\n",
    "\n",
    "</section>\n",
    "\n",
    "![Graph](https://www.w3schools.com/python/img_polynomial_prediction.png)"
   ]
  },
  {
   "cell_type": "markdown",
   "metadata": {},
   "source": [
    "<section style=\"direction: rtl; text-align: justify; margin: 30px;\">\n",
    "\n",
    "اجازه دهید مثالی ایجاد کنیم که در آن رگرسیون چند جمله ای بهترین روش برای پیش بینی مقادیر آینده نخواهد بود.\n",
    "\n",
    "</section>"
   ]
  },
  {
   "cell_type": "code",
   "execution_count": 2,
   "metadata": {},
   "outputs": [
    {
     "data": {
      "image/png": "[encoded data removed]",
      "text/plain": [
       "<Figure size 640x480 with 1 Axes>"
      ]
     },
     "metadata": {},
     "output_type": "display_data"
    }
   ],
   "source": [
    "import numpy as np\n",
    "import matplotlib.pyplot as plt\n",
    "\n",
    "x = [89, 43, 36, 36, 95, 10, 66, 34, 38, 20,\n",
    "     26, 29, 48, 64, 6, 5, 36, 66, 72, 40]\n",
    "y = [21, 46, 3, 35, 67, 95, 53, 72, 58, 10,\n",
    "     26, 34, 90, 33, 38, 20, 56, 2, 47, 15]\n",
    "\n",
    "mymodel = np.poly1d(np.polyfit(x, y, 3))\n",
    "\n",
    "myline = np.linspace(2, 95, 100)\n",
    "\n",
    "plt.scatter(x, y)\n",
    "plt.plot(myline, mymodel(myline))\n",
    "plt.show()"
   ]
  },
  {
   "cell_type": "markdown",
   "metadata": {},
   "source": [
    "<section style=\"direction: rtl; text-align: justify; margin: 30px;\">\n",
    "\n",
    "و مقدار r-squared؟\n",
    "\n",
    "</section>"
   ]
  },
  {
   "cell_type": "code",
   "execution_count": 5,
   "metadata": {},
   "outputs": [
    {
     "name": "stdout",
     "output_type": "stream",
     "text": [
      "0.009952707566680652\n"
     ]
    }
   ],
   "source": [
    "import numpy as np\n",
    "from sklearn.metrics import r2_score\n",
    "\n",
    "x = [89, 43, 36, 36, 95, 10, 66, 34, 38, 20,\n",
    "     26, 29, 48, 64, 6, 5, 36, 66, 72, 40]\n",
    "y = [21, 46, 3, 35, 67, 95, 53, 72, 58, 10,\n",
    "     26, 34, 90, 33, 38, 20, 56, 2, 47, 15]\n",
    "\n",
    "mymodel = np.poly1d(np.polyfit(x, y, 3))\n",
    "\n",
    "print(r2_score(y, mymodel(x)))"
   ]
  },
  {
   "cell_type": "markdown",
   "metadata": {},
   "source": [
    "<section style=\"direction: rtl; text-align: justify; margin: 30px;\">\n",
    "\n",
    "⚠️ نتیجه: 0.00995 یک رابطه بسیار بد را نشان می دهد و به ما می گوید که این مجموعه داده برای رگرسیون چند جمله ای مناسب نیست.\n",
    "\n",
    "</section>"
   ]
  },
  {
   "cell_type": "markdown",
   "metadata": {},
   "source": [
    "___\n",
    "\n",
    "Machine Learning - Multiple Regression\n",
    "\n",
    "<section style=\"direction: rtl; text-align: justify; margin: 30px;\">\n",
    "\n",
    "### **رگرسیون چندگانه**\n",
    "\n",
    "رگرسیون چندگانه مانند رگرسیون خطی است، اما با بیش از یک مقدار مستقل، به این معنی که سعی می کنیم یک مقدار را بر اساس دو یا چند متغیر پیش بینی کنیم.\n",
    "\n",
    "به مجموعه داده های زیر نگاهی بیندازید، حاوی اطلاعاتی در مورد خودروها است.\n",
    "\n",
    "</section>"
   ]
  },
  {
   "cell_type": "code",
   "execution_count": 11,
   "metadata": {},
   "outputs": [
    {
     "name": "stdout",
     "output_type": "stream",
     "text": [
      "           Car       Model  Volume  Weight  CO2\n",
      "0       Toyoty        Aygo    1000     790   99\n",
      "1   Mitsubishi  Space Star    1200    1160   95\n",
      "2        Skoda      Citigo    1000     929   95\n",
      "3         Fiat         500     900     865   90\n",
      "4         Mini      Cooper    1500    1140  105\n",
      "5           VW         Up!    1000     929  105\n",
      "6        Skoda       Fabia    1400    1109   90\n",
      "7     Mercedes     A-Class    1500    1365   92\n",
      "8         Ford      Fiesta    1500    1112   98\n",
      "9         Audi          A1    1600    1150   99\n",
      "10     Hyundai         I20    1100     980   99\n",
      "11      Suzuki       Swift    1300     990  101\n",
      "12        Ford      Fiesta    1000    1112   99\n",
      "13       Honda       Civic    1600    1252   94\n",
      "14      Hundai         I30    1600    1326   97\n",
      "15        Opel       Astra    1600    1330   97\n",
      "16         BMW           1    1600    1365   99\n",
      "17       Mazda           3    2200    1280  104\n",
      "18       Skoda       Rapid    1600    1119  104\n",
      "19        Ford       Focus    2000    1328  105\n"
     ]
    }
   ],
   "source": [
    "import pandas as pd\n",
    "import os\n",
    "\n",
    "folder_name = 'src'\n",
    "file_name = 'cardata.csv'\n",
    "\n",
    "file_path = os.path.join(folder_name, file_name)\n",
    "\n",
    "mydata = pd.read_csv(file_path)\n",
    "\n",
    "print(mydata.head(20))"
   ]
  },
  {
   "cell_type": "markdown",
   "metadata": {},
   "source": [
    "<section style=\"direction: rtl; text-align: justify; margin: 30px;\">\n",
    "\n",
    "ما می‌توانیم انتشار CO2 یک خودرو را بر اساس اندازه موتور پیش‌بینی کنیم، اما با رگرسیون چندگانه می‌توانیم متغیرهای بیشتری مانند وزن خودرو را برای پیش‌بینی دقیق‌تر وارد کنیم.\n",
    "\n",
    "در پایتون ماژول هایی داریم که کار را برای ما انجام می دهند. با وارد کردن ماژول Pandas شروع کنید.\n",
    "\n",
    "</section>"
   ]
  },
  {
   "cell_type": "code",
   "execution_count": 9,
   "metadata": {},
   "outputs": [],
   "source": [
    "import pandas as pd"
   ]
  },
  {
   "cell_type": "markdown",
   "metadata": {},
   "source": [
    "<section style=\"direction: rtl; text-align: justify; margin: 30px;\">\n",
    "\n",
    "ماژول Pandas به ما امکان می دهد فایل های csv را بخوانیم و یک شی DataFrame را برگردانیم.\n",
    "\n",
    "</section>"
   ]
  },
  {
   "cell_type": "code",
   "execution_count": 14,
   "metadata": {},
   "outputs": [],
   "source": [
    "df = pd.read_csv(file_path)"
   ]
  },
  {
   "cell_type": "markdown",
   "metadata": {},
   "source": [
    "<section style=\"direction: rtl; text-align: justify; margin: 30px;\">\n",
    "\n",
    "سپس لیستی از مقادیر مستقل تهیه کنید و این متغیر را X صدا کنید.\n",
    "\n",
    "مقادیر وابسته را در متغیری به نام y قرار دهید.\n",
    "\n",
    "</section>"
   ]
  },
  {
   "cell_type": "code",
   "execution_count": 16,
   "metadata": {},
   "outputs": [],
   "source": [
    "X = df[['Weight', 'Volume']]\n",
    "y = df['CO2']"
   ]
  },
  {
   "cell_type": "markdown",
   "metadata": {},
   "source": [
    "<section style=\"direction: rtl; text-align: justify; margin: 30px;\">\n",
    "\n",
    "⚠️ نکته: معمولاً لیست مقادیر مستقل را با حروف بزرگ X و لیست مقادیر وابسته را با حروف کوچک y نامگذاری می کنند.\n",
    "\n",
    "ما از چند روش از ماژول sklearn استفاده خواهیم کرد، بنابراین باید آن ماژول را نیز وارد کنیم:\n",
    "\n",
    "</section>"
   ]
  },
  {
   "cell_type": "code",
   "execution_count": 18,
   "metadata": {},
   "outputs": [],
   "source": [
    "from sklearn import linear_model"
   ]
  },
  {
   "cell_type": "markdown",
   "metadata": {},
   "source": [
    "<section style=\"direction: rtl; text-align: justify; margin: 30px;\">\n",
    "\n",
    "از ماژول sklearn از متد LinearRegression() برای ایجاد یک شی رگرسیون خطی استفاده می کنیم.\n",
    "\n",
    "این شی دارای روشی به نام fit() است که مقادیر مستقل و وابسته را به عنوان پارامتر می گیرد و شی رگرسیون را با داده هایی پر می کند که رابطه را توصیف می کند:\n",
    "\n",
    "</section>"
   ]
  },
  {
   "cell_type": "code",
   "execution_count": 19,
   "metadata": {},
   "outputs": [
    {
     "data": {
      "text/html": [
       "<style>#sk-container-id-1 {color: black;}#sk-container-id-1 pre{padding: 0;}#sk-container-id-1 div.sk-toggleable {background-color: white;}#sk-container-id-1 label.sk-toggleable__label {cursor: pointer;display: block;width: 100%;margin-bottom: 0;padding: 0.3em;box-sizing: border-box;text-align: center;}#sk-container-id-1 label.sk-toggleable__label-arrow:before {content: \"▸\";float: left;margin-right: 0.25em;color: #696969;}#sk-container-id-1 label.sk-toggleable__label-arrow:hover:before {color: black;}#sk-container-id-1 div.sk-estimator:hover label.sk-toggleable__label-arrow:before {color: black;}#sk-container-id-1 div.sk-toggleable__content {max-height: 0;max-width: 0;overflow: hidden;text-align: left;background-color: #f0f8ff;}#sk-container-id-1 div.sk-toggleable__content pre {margin: 0.2em;color: black;border-radius: 0.25em;background-color: #f0f8ff;}#sk-container-id-1 input.sk-toggleable__control:checked~div.sk-toggleable__content {max-height: 200px;max-width: 100%;overflow: auto;}#sk-container-id-1 input.sk-toggleable__control:checked~label.sk-toggleable__label-arrow:before {content: \"▾\";}#sk-container-id-1 div.sk-estimator input.sk-toggleable__control:checked~label.sk-toggleable__label {background-color: #d4ebff;}#sk-container-id-1 div.sk-label input.sk-toggleable__control:checked~label.sk-toggleable__label {background-color: #d4ebff;}#sk-container-id-1 input.sk-hidden--visually {border: 0;clip: rect(1px 1px 1px 1px);clip: rect(1px, 1px, 1px, 1px);height: 1px;margin: -1px;overflow: hidden;padding: 0;position: absolute;width: 1px;}#sk-container-id-1 div.sk-estimator {font-family: monospace;background-color: #f0f8ff;border: 1px dotted black;border-radius: 0.25em;box-sizing: border-box;margin-bottom: 0.5em;}#sk-container-id-1 div.sk-estimator:hover {background-color: #d4ebff;}#sk-container-id-1 div.sk-parallel-item::after {content: \"\";width: 100%;border-bottom: 1px solid gray;flex-grow: 1;}#sk-container-id-1 div.sk-label:hover label.sk-toggleable__label {background-color: #d4ebff;}#sk-container-id-1 div.sk-serial::before {content: \"\";position: absolute;border-left: 1px solid gray;box-sizing: border-box;top: 0;bottom: 0;left: 50%;z-index: 0;}#sk-container-id-1 div.sk-serial {display: flex;flex-direction: column;align-items: center;background-color: white;padding-right: 0.2em;padding-left: 0.2em;position: relative;}#sk-container-id-1 div.sk-item {position: relative;z-index: 1;}#sk-container-id-1 div.sk-parallel {display: flex;align-items: stretch;justify-content: center;background-color: white;position: relative;}#sk-container-id-1 div.sk-item::before, #sk-container-id-1 div.sk-parallel-item::before {content: \"\";position: absolute;border-left: 1px solid gray;box-sizing: border-box;top: 0;bottom: 0;left: 50%;z-index: -1;}#sk-container-id-1 div.sk-parallel-item {display: flex;flex-direction: column;z-index: 1;position: relative;background-color: white;}#sk-container-id-1 div.sk-parallel-item:first-child::after {align-self: flex-end;width: 50%;}#sk-container-id-1 div.sk-parallel-item:last-child::after {align-self: flex-start;width: 50%;}#sk-container-id-1 div.sk-parallel-item:only-child::after {width: 0;}#sk-container-id-1 div.sk-dashed-wrapped {border: 1px dashed gray;margin: 0 0.4em 0.5em 0.4em;box-sizing: border-box;padding-bottom: 0.4em;background-color: white;}#sk-container-id-1 div.sk-label label {font-family: monospace;font-weight: bold;display: inline-block;line-height: 1.2em;}#sk-container-id-1 div.sk-label-container {text-align: center;}#sk-container-id-1 div.sk-container {/* jupyter's `normalize.less` sets `[hidden] { display: none; }` but bootstrap.min.css set `[hidden] { display: none !important; }` so we also need the `!important` here to be able to override the default hidden behavior on the sphinx rendered scikit-learn.org. See: https://github.com/scikit-learn/scikit-learn/issues/21755 */display: inline-block !important;position: relative;}#sk-container-id-1 div.sk-text-repr-fallback {display: none;}</style><div id=\"sk-container-id-1\" class=\"sk-top-container\"><div class=\"sk-text-repr-fallback\"><pre>LinearRegression()</pre><b>In a Jupyter environment, please rerun this cell to show the HTML representation or trust the notebook. <br />On GitHub, the HTML representation is unable to render, please try loading this page with nbviewer.org.</b></div><div class=\"sk-container\" hidden><div class=\"sk-item\"><div class=\"sk-estimator sk-toggleable\"><input class=\"sk-toggleable__control sk-hidden--visually\" id=\"sk-estimator-id-1\" type=\"checkbox\" checked><label for=\"sk-estimator-id-1\" class=\"sk-toggleable__label sk-toggleable__label-arrow\">LinearRegression</label><div class=\"sk-toggleable__content\"><pre>LinearRegression()</pre></div></div></div></div></div>"
      ],
      "text/plain": [
       "LinearRegression()"
      ]
     },
     "execution_count": 19,
     "metadata": {},
     "output_type": "execute_result"
    }
   ],
   "source": [
    "regr = linear_model.LinearRegression()\n",
    "regr.fit(X, y)"
   ]
  },
  {
   "cell_type": "markdown",
   "metadata": {},
   "source": [
    "<section style=\"direction: rtl; text-align: justify; margin: 30px;\">\n",
    "\n",
    "اکنون یک شی رگرسیون داریم که آماده پیش بینی مقادیر CO2 بر اساس وزن و حجم خودرو است:\n",
    "\n",
    "</section>"
   ]
  },
  {
   "cell_type": "code",
   "execution_count": null,
   "metadata": {},
   "outputs": [],
   "source": [
    "# predict the CO2 emission of a car where the weight is 2300kg, and the volume is 1300cm3:\n",
    "predictedCO2 = regr.predict([[2300, 1300]])"
   ]
  },
  {
   "cell_type": "code",
   "execution_count": 22,
   "metadata": {},
   "outputs": [
    {
     "name": "stdout",
     "output_type": "stream",
     "text": [
      "[107.2087328]\n"
     ]
    },
    {
     "name": "stderr",
     "output_type": "stream",
     "text": [
      "/home/saleh/.local/lib/python3.10/site-packages/sklearn/base.py:464: UserWarning: X does not have valid feature names, but LinearRegression was fitted with feature names\n",
      "  warnings.warn(\n"
     ]
    }
   ],
   "source": [
    "import pandas as pd\n",
    "from sklearn import linear_model\n",
    "import os\n",
    "\n",
    "folder_name = 'src'\n",
    "file_name = 'cardata.csv'\n",
    "\n",
    "mydata = os.path.join(folder_name, file_name)\n",
    "\n",
    "df = pd.read_csv(mydata)\n",
    "\n",
    "X = df[['Weight', 'Volume']]\n",
    "y = df['CO2']\n",
    "\n",
    "regr = linear_model.LinearRegression()\n",
    "regr.fit(X, y)\n",
    "\n",
    "# predict the CO2 emission of a car where the weight is 2300kg, and the volume is 1300cm3:\n",
    "predictedCO2 = regr.predict([[2300, 1300]])\n",
    "\n",
    "print(predictedCO2)"
   ]
  },
  {
   "cell_type": "markdown",
   "metadata": {},
   "source": [
    "<section style=\"direction: rtl; text-align: justify; margin: 30px;\">\n",
    "\n",
    "ما پیش‌بینی کرده‌ایم که خودرویی با موتور 1.3 لیتری و وزن 2300 کیلوگرمی به ازای هر کیلومتری که طی می‌کند، تقریباً 107 گرم CO2 آزاد می‌کند.\n",
    "\n",
    "<div style=\"border-top: 1px solid #ccc; margin: 10px 0;\"></div>\n",
    "<div style=\"border-top: 1px solid #ccc; margin: 10px 0;\"></div>\n",
    "\n",
    "</section>\n",
    "\n",
    "\n",
    "<section style=\"direction: rtl; text-align: justify; margin: 30px;\">\n",
    "\n",
    "### **ضریب**\n",
    "\n",
    "ضریب عاملی است که رابطه با یک متغیر مجهول را توصیف می کند.\n",
    "\n",
    "مثال: اگر x یک متغیر است، 2x برابر x دو برابر است. x متغیر مجهول و عدد 2 ضریب است.\n",
    "\n",
    "در این حالت می توان مقدار ضریب وزن را در مقابل CO2 و حجم را در برابر CO2 درخواست کرد. پاسخ(هایی) که دریافت می کنیم به ما می گوید که اگر یکی از مقادیر مستقل را افزایش یا کاهش دهیم، چه اتفاقی می افتد.\n",
    "\n",
    "</section>"
   ]
  },
  {
   "cell_type": "code",
   "execution_count": 3,
   "metadata": {},
   "outputs": [
    {
     "name": "stdout",
     "output_type": "stream",
     "text": [
      "[0.00755095 0.00780526]\n"
     ]
    }
   ],
   "source": [
    "import pandas\n",
    "from sklearn import linear_model\n",
    "import os\n",
    "\n",
    "folder_name = 'src'\n",
    "file_name = 'cardata.csv'\n",
    "mydata = os.path.join(folder_name, file_name)\n",
    "\n",
    "df = pandas.read_csv(mydata)\n",
    "\n",
    "X = df[['Weight', 'Volume']]\n",
    "y = df['CO2']\n",
    "\n",
    "regr = linear_model.LinearRegression()\n",
    "regr.fit(X, y)\n",
    "\n",
    "print(regr.coef_)"
   ]
  },
  {
   "cell_type": "markdown",
   "metadata": {},
   "source": [
    "<section style=\"direction: rtl; text-align: justify; margin: 30px;\">\n",
    "\n",
    "### **شرح نتیجه**\n",
    "\n",
    "آرایه نتیجه مقادیر ضرایب وزن و حجم را نشان می دهد.\n",
    "\n",
    "Weight: 0.00755095  \n",
    "Volume: 0.00780526\n",
    "\n",
    "این مقادیر به ما می گوید که اگر وزن 1 کیلوگرم افزایش یابد، انتشار CO2 0.00755095 گرم افزایش می یابد.\n",
    "\n",
    "و اگر اندازه موتور (Volume) 1 cm3 افزایش یابد، انتشار CO2 0.00780526 گرم افزایش می یابد.\n",
    "\n",
    "من فکر می کنم که حدس منصفانه است، اما اجازه دهید آن را آزمایش کنیم!\n",
    "\n",
    "قبلاً پیش‌بینی کرده‌ایم که اگر خودرویی با موتور 1300 سانتی‌متر مکعبی 2300 کیلوگرم وزن داشته باشد، انتشار CO2 تقریباً 107 گرم خواهد بود.\n",
    "\n",
    "اگر وزن را با 1000 کیلوگرم افزایش دهیم چطور؟\n",
    "\n",
    "</section>"
   ]
  },
  {
   "cell_type": "code",
   "execution_count": 5,
   "metadata": {},
   "outputs": [
    {
     "name": "stdout",
     "output_type": "stream",
     "text": [
      "[114.75968007]\n"
     ]
    },
    {
     "name": "stderr",
     "output_type": "stream",
     "text": [
      "/home/saleh/.local/lib/python3.10/site-packages/sklearn/base.py:464: UserWarning: X does not have valid feature names, but LinearRegression was fitted with feature names\n",
      "  warnings.warn(\n"
     ]
    }
   ],
   "source": [
    "import pandas as pd\n",
    "from sklearn import linear_model\n",
    "\n",
    "df = pd.read_csv(mydata)\n",
    "\n",
    "X = df[['Weight', 'Volume']]\n",
    "y = df['CO2']\n",
    "\n",
    "regr = linear_model.LinearRegression()\n",
    "regr.fit(X, y)\n",
    "\n",
    "predictedCO2 = regr.predict([[3300, 1300]])\n",
    "\n",
    "print(predictedCO2)"
   ]
  },
  {
   "cell_type": "markdown",
   "metadata": {},
   "source": [
    "<section style=\"direction: rtl; text-align: justify; margin: 30px;\">\n",
    "\n",
    "ما پیش‌بینی کرده‌ایم که خودرویی با موتور 1.3 لیتری و وزن 3300 کیلوگرم به ازای هر کیلومتری که طی می‌کند، تقریباً 115 گرم CO2 آزاد می‌کند.\n",
    "\n",
    "که نشان می دهد ضریب 0.00755095 صحیح است:\n",
    "\n",
    "</section>\n",
    "\n",
    "107.2087328 + (1000 * 0.00755095) = 114.75968"
   ]
  },
  {
   "cell_type": "markdown",
   "metadata": {},
   "source": [
    "___\n",
    "\n",
    "Machine Learning - Scale\n",
    "\n",
    "<section style=\"direction: rtl; text-align: justify; margin: 30px;\">\n",
    "\n",
    "### **مقیاس**\n",
    "\n",
    "هنگامی که داده های شما دارای مقادیر مختلف و حتی واحدهای اندازه گیری متفاوتی هستند، مقایسه آنها می تواند دشوار باشد. کیلوگرم در مقایسه با متر چگونه محاسبه می‌شود؟ یا ارتفاع نسبت به زمان؟\n",
    "\n",
    "پاسخ این مشکل مقیاس بندی است. ما می‌توانیم داده‌ها را در مقادیر جدیدی که مقایسه آسان‌تر است، مقیاس کنیم.\n",
    "\n",
    "به جدول زیر نگاهی بیندازید، این همان مجموعه داده ای است که در فصل رگرسیون چندگانه استفاده کردیم، اما این بار ستون حجم به جای cm3 (1.0 به جای 1000) دارای مقادیر بر حسب لیتر است.\n",
    "\n",
    "</section>"
   ]
  },
  {
   "cell_type": "code",
   "execution_count": 22,
   "metadata": {},
   "outputs": [
    {
     "name": "stdout",
     "output_type": "stream",
     "text": [
      "           Car       Model  Volume  Weight  CO2\n",
      "0       Toyoty        Aygo    1000     790   99\n",
      "1   Mitsubishi  Space Star    1200    1160   95\n",
      "2        Skoda      Citigo    1000     929   95\n",
      "3         Fiat         500     900     865   90\n",
      "4         Mini      Cooper    1500    1140  105\n",
      "5           VW         Up!    1000     929  105\n",
      "6        Skoda       Fabia    1400    1109   90\n",
      "7     Mercedes     A-Class    1500    1365   92\n",
      "8         Ford      Fiesta    1500    1112   98\n",
      "9         Audi          A1    1600    1150   99\n",
      "10     Hyundai         I20    1100     980   99\n",
      "11      Suzuki       Swift    1300     990  101\n",
      "12        Ford      Fiesta    1000    1112   99\n",
      "13       Honda       Civic    1600    1252   94\n",
      "14      Hundai         I30    1600    1326   97\n",
      "15        Opel       Astra    1600    1330   97\n",
      "16         BMW           1    1600    1365   99\n",
      "17       Mazda           3    2200    1280  104\n",
      "18       Skoda       Rapid    1600    1119  104\n",
      "19        Ford       Focus    2000    1328  105\n"
     ]
    }
   ],
   "source": [
    "import pandas as pd\n",
    "from tabulate import tabulate\n",
    "import os\n",
    "\n",
    "folder_name = 'src'\n",
    "file_name = 'cardata.csv'\n",
    "mydata = os.path.join(folder_name, file_name)\n",
    "\n",
    "df = pd.read_csv(mydata)\n",
    "\n",
    "print(df.head(20))"
   ]
  },
  {
   "cell_type": "markdown",
   "metadata": {},
   "source": [
    "<section style=\"direction: rtl; text-align: justify; margin: 30px;\">\n",
    "\n",
    "مقایسه حجم 1.0 با وزن 790 می تواند دشوار باشد، اما اگر هر دو را در مقادیر قابل مقایسه قرار دهیم، به راحتی می توانیم متوجه شویم که یک مقدار با مقدار دیگر چقدر است.\n",
    "\n",
    "روش های مختلفی برای مقیاس بندی داده ها وجود دارد که در این آموزش از روشی به نام استانداردسازی استفاده خواهیم کرد.\n",
    "\n",
    "روش استانداردسازی از این فرمول استفاده می کند:\n",
    "\n",
    "</section>\n",
    "\n",
    "z = (x - u) / s\n",
    "\n",
    "<section style=\"direction: rtl; text-align: justify; margin: 30px;\">\n",
    "\n",
    "در جایی که z مقدار جدید، x مقدار اصلی، u میانگین و s انحراف استاندارد است.\n",
    "\n",
    "اگر ستون وزن را از مجموعه داده های بالا بگیرید، اولین مقدار 790 است و مقدار مقیاس شده به صورت زیر خواهد بود:\n",
    "\n",
    "</section>\n",
    "\n",
    "(790 - 1292.23) / 238.74 = -2.1\n",
    "\n",
    "<section style=\"direction: rtl; text-align: justify; margin: 30px;\">\n",
    "\n",
    "اگر ستون حجم را از مجموعه داده های بالا بگیرید، اولین مقدار 1.0 است و مقدار مقیاس شده به صورت زیر خواهد بود:\n",
    "\n",
    "</section>\n",
    "\n",
    "(1.0 - 1.61) / 0.38 = -1.59\n",
    "\n",
    "<section style=\"direction: rtl; text-align: justify; margin: 30px;\">\n",
    "\n",
    "اکنون می توانید به جای مقایسه 790 با 1.0، -2.1 را با -1.59 مقایسه کنید.\n",
    "\n",
    "لازم نیست این کار را به صورت دستی انجام دهید، ماژول Python sklearn متدی به نام StandardScaler() دارد که یک شی Scaler را با متدهایی برای تبدیل مجموعه داده ها برمی گرداند.\n",
    "\n",
    "</section>"
   ]
  },
  {
   "cell_type": "code",
   "execution_count": 26,
   "metadata": {},
   "outputs": [
    {
     "name": "stdout",
     "output_type": "stream",
     "text": [
      "[[-2.01130596 -1.20955005]\n",
      " [ 0.16753522 -0.61952563]\n",
      " [-1.19276833 -1.20955005]\n",
      " [-1.56964896 -1.50456225]\n",
      " [ 0.04976002  0.26551099]\n",
      " [-1.19276833 -1.20955005]\n",
      " [-0.13279154 -0.02950122]\n",
      " [ 1.37473101  0.26551099]\n",
      " [-0.11512526  0.26551099]\n",
      " [ 0.10864762  0.56052319]\n",
      " [-0.89244157 -0.91453784]\n",
      " [-0.83355397 -0.32451343]\n",
      " [-0.11512526 -1.20955005]\n",
      " [ 0.70930114  0.56052319]\n",
      " [ 1.14506937  0.56052319]\n",
      " [ 1.16862441  0.56052319]\n",
      " [ 1.37473101  0.56052319]\n",
      " [ 0.87418641  2.33059643]\n",
      " [-0.07390394  0.56052319]\n",
      " [ 1.15684689  1.74057202]]\n"
     ]
    }
   ],
   "source": [
    "import pandas as pd\n",
    "import os\n",
    "from sklearn import linear_model\n",
    "from sklearn.preprocessing import StandardScaler\n",
    "scale = StandardScaler()\n",
    "\n",
    "folder_name = 'src'\n",
    "file_name = 'cardata.csv'\n",
    "mydata = os.path.join(folder_name, file_name)\n",
    "\n",
    "df = pd.read_csv(mydata)\n",
    "\n",
    "X = df[['Weight', 'Volume']]\n",
    "\n",
    "scaledX = scale.fit_transform(X.head(20))\n",
    "\n",
    "print(scaledX)"
   ]
  },
  {
   "cell_type": "markdown",
   "metadata": {},
   "source": [
    "<section style=\"direction: rtl; text-align: justify; margin: 30px;\">\n",
    "\n",
    "پیش بینی مقادیر CO2\n",
    "\n",
    "وظیفه در فصل رگرسیون چندگانه پیش بینی انتشار CO2 از یک خودرو زمانی بود که فقط وزن و حجم آن را می دانستید.\n",
    "\n",
    "هنگامی که مجموعه داده مقیاس بندی می شود، هنگام پیش بینی مقادیر باید از مقیاس استفاده کنید:\n",
    "\n",
    "</section>"
   ]
  },
  {
   "cell_type": "code",
   "execution_count": 29,
   "metadata": {},
   "outputs": [
    {
     "name": "stdout",
     "output_type": "stream",
     "text": [
      "[97.07204485]\n"
     ]
    },
    {
     "name": "stderr",
     "output_type": "stream",
     "text": [
      "/home/saleh/.local/lib/python3.10/site-packages/sklearn/base.py:464: UserWarning: X does not have valid feature names, but StandardScaler was fitted with feature names\n",
      "  warnings.warn(\n"
     ]
    }
   ],
   "source": [
    "import pandas as pd\n",
    "from sklearn import linear_model\n",
    "from sklearn.preprocessing import StandardScaler\n",
    "import os\n",
    "scale = StandardScaler()\n",
    "\n",
    "folder_name = 'src'\n",
    "file_name = 'cardata.csv'\n",
    "mydata = os.path.join(folder_name, file_name)\n",
    "\n",
    "df = pd.read_csv(mydata)\n",
    "\n",
    "X = df[['Weight', 'Volume']]\n",
    "y = df['CO2']\n",
    "\n",
    "scaledX = scale.fit_transform(X)\n",
    "\n",
    "regr = linear_model.LinearRegression()\n",
    "regr.fit(scaledX, y)\n",
    "\n",
    "scaled = scale.transform([[2300, 1.3]])\n",
    "\n",
    "predictedCO2 = regr.predict([scaled[0]])\n",
    "print(predictedCO2)"
   ]
  },
  {
   "cell_type": "markdown",
   "metadata": {},
   "source": [
    "___\n",
    "\n",
    "Machine Learning - Train/Test\n",
    "\n",
    "<section style=\"direction: rtl; text-align: justify; margin: 30px;\">\n",
    "\n",
    "### **Train - Test**\n",
    "\n",
    "در یادگیری ماشینی، ما مدل‌هایی را برای پیش‌بینی نتیجه رویدادهای خاص ایجاد می‌کنیم، مانند قسمت قبل که انتشار CO2 یک خودرو را زمانی که وزن و اندازه موتور را می‌دانیم پیش‌بینی کردیم.\n",
    "\n",
    "برای اندازه گیری اینکه آیا مدل به اندازه کافی خوب است، می توانیم از روشی به نام Train/Test استفاده کنیم.\n",
    "\n",
    "Train/Test روشی برای اندازه گیری دقت مدل شماست.\n",
    "\n",
    "به آن Train/Test می گویند زیرا مجموعه داده ها را به دو مجموعه تقسیم می کنید: یک مجموعه آموزشی و یک مجموعه تست.\n",
    "\n",
    "⚠️ 80% برای آموزش و 20% برای تست.\n",
    "\n",
    "شما مدل را با استفاده از مجموعه آموزشی آموزش می دهید.  \n",
    "شما مدل را با استفاده از مجموعه تست تست می کنید.\n",
    "\n",
    "⚠️ Train the model یعنی ایجاد مدل.\n",
    "\n",
    "⚠️ Test the model مدل یعنی تست دقت مدل.\n",
    "\n",
    "با مجموعه داده ای که می خواهید آزمایش کنید شروع کنید.\n",
    "\n",
    "مجموعه داده های ما 100 مشتری در یک مغازه و عادات خرید آنها را نشان می دهد.\n",
    "\n",
    "</section>"
   ]
  },
  {
   "cell_type": "code",
   "execution_count": 3,
   "metadata": {},
   "outputs": [
    {
     "data": {
      "image/png": "[encoded data removed]",
      "text/plain": [
       "<Figure size 640x480 with 1 Axes>"
      ]
     },
     "metadata": {},
     "output_type": "display_data"
    }
   ],
   "source": [
    "import numpy as np\n",
    "import matplotlib.pyplot as plt\n",
    "np.random.seed(2)\n",
    "\n",
    "x = np.random.normal(3, 1, 100)\n",
    "y = np.random.normal(150, 40, 100) / x\n",
    "\n",
    "plt.scatter(x, y)\n",
    "plt.show()"
   ]
  },
  {
   "cell_type": "markdown",
   "metadata": {},
   "source": [
    "<section style=\"direction: rtl; text-align: justify; margin: 30px;\">\n",
    "\n",
    "**نتیجه**\n",
    "\n",
    "محور x تعداد دقیقه قبل از خرید را نشان می دهد.\n",
    "\n",
    "محور y نشان دهنده مقدار پولی است که برای خرید خرج شده است.\n",
    "\n",
    "</section>"
   ]
  },
  {
   "cell_type": "markdown",
   "metadata": {},
   "source": [
    "<section style=\"direction: rtl; text-align: justify; margin: 30px;\">\n",
    "\n",
    "<div style=\"border-top: 1px solid #ccc; margin: 10px 0;\"></div>\n",
    "<div style=\"border-top: 1px solid #ccc; margin: 10px 0;\"></div>\n",
    "\n",
    "**تقسیم بندی Train, Test**\n",
    "\n",
    "مجموعه آموزشی باید انتخابی تصادفی از 80 درصد داده های اصلی باشد.\n",
    "\n",
    "مجموعه تست باید 20٪ باقی مانده باشد.\n",
    "\n",
    "</section>"
   ]
  },
  {
   "cell_type": "code",
   "execution_count": 6,
   "metadata": {},
   "outputs": [],
   "source": [
    "train_x = x[:80]\n",
    "train_y = y[:80]\n",
    "\n",
    "test_x = x[80:]\n",
    "test_y = y[80:]"
   ]
  },
  {
   "cell_type": "markdown",
   "metadata": {},
   "source": [
    "<section style=\"direction: rtl; text-align: justify; margin: 30px;\">\n",
    "\n",
    "**نمایش مجموعه Train**\n",
    "\n",
    "نمایش همان نمودار پراکندگی با مجموعه آموزشی:\n",
    "\n",
    "</section>"
   ]
  },
  {
   "cell_type": "code",
   "execution_count": 7,
   "metadata": {},
   "outputs": [
    {
     "data": {
      "image/png": "[encoded data removed]",
      "text/plain": [
       "<Figure size 640x480 with 1 Axes>"
      ]
     },
     "metadata": {},
     "output_type": "display_data"
    }
   ],
   "source": [
    "plt.scatter(train_x, train_y)\n",
    "plt.show()"
   ]
  },
  {
   "cell_type": "markdown",
   "metadata": {},
   "source": [
    "<section style=\"direction: rtl; text-align: justify; margin: 30px;\">\n",
    "\n",
    "☝🏽 به نظر می رسد مجموعه داده های اصلی است، بنابراین به نظر می رسد انتخاب منصفانه ای باشد.\n",
    "\n",
    "</section>"
   ]
  },
  {
   "cell_type": "markdown",
   "metadata": {},
   "source": [
    "<section style=\"direction: rtl; text-align: justify; margin: 30px;\">\n",
    "\n",
    "<div style=\"border-top: 1px solid #ccc; margin: 10px 0;\"></div>\n",
    "\n",
    "**نمایش مجموعه Test**\n",
    "\n",
    "برای اطمینان از اینکه مجموعه تست کاملاً متفاوت نیست، نگاهی به مجموعه تست نیز خواهیم داشت.\n",
    "\n",
    "</section>"
   ]
  },
  {
   "cell_type": "code",
   "execution_count": 8,
   "metadata": {},
   "outputs": [
    {
     "data": {
      "image/png": "[encoded data removed]",
      "text/plain": [
       "<Figure size 640x480 with 1 Axes>"
      ]
     },
     "metadata": {},
     "output_type": "display_data"
    }
   ],
   "source": [
    "plt.scatter(test_x, test_y)\n",
    "plt.show()"
   ]
  },
  {
   "cell_type": "markdown",
   "metadata": {},
   "source": [
    "<section style=\"direction: rtl; text-align: justify; margin: 30px;\">\n",
    "\n",
    "<div style=\"border-top: 1px solid #ccc; margin: 10px 0;\"></div>\n",
    "\n",
    "**Fit کردن مجموعه داده**\n",
    "\n",
    "مجموعه داده ها چگونه به نظر می رسند؟ به نظر من بهترین تناسب رگرسیون چند جمله ای است، بنابراین اجازه دهید خطی از رگرسیون چند جمله ای ترسیم کنیم.\n",
    "\n",
    "برای رسم خط در نقاط داده، از متد plot() ماژول matplotlib استفاده می کنیم:\n",
    "\n",
    "</section>"
   ]
  },
  {
   "cell_type": "code",
   "execution_count": 5,
   "metadata": {},
   "outputs": [
    {
     "data": {
      "image/png": "[encoded data removed]",
      "text/plain": [
       "<Figure size 640x480 with 1 Axes>"
      ]
     },
     "metadata": {},
     "output_type": "display_data"
    }
   ],
   "source": [
    "import numpy as np\n",
    "import matplotlib.pyplot as plt\n",
    "np.random.seed(2)\n",
    "\n",
    "x = np.random.normal(3, 1, 100)\n",
    "y = np.random.normal(150, 40, 100) / x\n",
    "\n",
    "train_x = x[:80]\n",
    "train_y = y[:80]\n",
    "\n",
    "test_x = x[80:]\n",
    "test_y = y[80:]\n",
    "\n",
    "mymodel = np.poly1d(np.polyfit(train_x, train_y, 4))\n",
    "\n",
    "myline = np.linspace(0, 6, 100)\n",
    "\n",
    "plt.scatter(train_x, train_y)\n",
    "plt.plot(myline, mymodel(myline))\n",
    "plt.show()"
   ]
  },
  {
   "cell_type": "markdown",
   "metadata": {},
   "source": [
    "<section style=\"direction: rtl; text-align: justify; margin: 30px;\">\n",
    "\n",
    "نتیجه می‌تواند پیشنهاد من را مبنی بر تطبیق مجموعه داده‌ها با یک رگرسیون چند جمله‌ای پشتیبانی کند، حتی اگر بخواهیم مقادیر خارج از مجموعه داده را پیش‌بینی کنیم، نتایج عجیبی به ما می‌دهد. مثال:\n",
    "\n",
    "اما امتیاز مربع R چطور؟ امتیاز مربع R نشانگر خوبی است که نشان می دهد مجموعه داده های من چقدر با مدل مطابقت دارد.\n",
    "\n",
    "<div style=\"border-top: 1px solid #ccc; margin: 10px 0;\"></div>\n",
    "\n",
    "R2 را که با نام R-squared نیز شناخته می شود، به خاطر دارید؟\n",
    "\n",
    "رابطه بین محور x و محور y را اندازه‌گیری می‌کند و مقدار آن از 0 تا 1 متغیر است، که در آن 0 به معنای عدم وجود رابطه و 1 به معنای کاملاً مرتبط است.\n",
    "\n",
    "ماژول sklearn متدی به نام r2_score() دارد که به ما در یافتن این رابطه کمک می کند.\n",
    "\n",
    "در این مورد ما می خواهیم رابطه بین دقایقی که مشتری در مغازه می ماند و مقدار پولی که خرج می کند را اندازه گیری کنیم.\n",
    "\n",
    "</section>"
   ]
  },
  {
   "cell_type": "code",
   "execution_count": 9,
   "metadata": {},
   "outputs": [
    {
     "name": "stdout",
     "output_type": "stream",
     "text": [
      "0.799\n"
     ]
    }
   ],
   "source": [
    "import numpy as np\n",
    "from sklearn.metrics import r2_score\n",
    "np.random.seed(2)\n",
    "\n",
    "x = np.random.normal(3, 1, 100)\n",
    "y = np.random.normal(150, 40, 100) / x\n",
    "\n",
    "train_x = x[:80]\n",
    "train_y = y[:80]\n",
    "\n",
    "test_x = x[80:]\n",
    "test_y = y[80:]\n",
    "\n",
    "mymodel = np.poly1d(np.polyfit(train_x, train_y, 4))\n",
    "\n",
    "r2 = r2_score(train_y, mymodel(train_x))\n",
    "\n",
    "print(format(r2, '.3f'))"
   ]
  },
  {
   "cell_type": "markdown",
   "metadata": {},
   "source": [
    "<section style=\"direction: rtl; text-align: justify; margin: 30px;\">\n",
    "\n",
    "⚠️ توجه: نتیجه 0.799 نشان می دهد که یک رابطه OK وجود دارد.\n",
    "\n",
    "اکنون مدلی ساخته ایم که حداقل در مورد داده های آموزشی مناسب است.\n",
    "\n",
    "حالا می‌خواهیم مدل را با داده‌های تست نیز آزمایش کنیم تا ببینیم آیا همان نتیجه را به ما می‌دهد یا خیر.\n",
    "\n",
    "</section>"
   ]
  },
  {
   "cell_type": "code",
   "execution_count": 10,
   "metadata": {},
   "outputs": [
    {
     "name": "stdout",
     "output_type": "stream",
     "text": [
      "0.809\n"
     ]
    }
   ],
   "source": [
    "import numpy as np\n",
    "from sklearn.metrics import r2_score\n",
    "np.random.seed(2)\n",
    "\n",
    "x = np.random.normal(3, 1, 100)\n",
    "y = np.random.normal(150, 40, 100) / x\n",
    "\n",
    "train_x = x[:80]\n",
    "train_y = y[:80]\n",
    "\n",
    "test_x = x[80:]\n",
    "test_y = y[80:]\n",
    "\n",
    "mymodel = np.poly1d(np.polyfit(train_x, train_y, 4))\n",
    "\n",
    "r2 = r2_score(test_y, mymodel(test_x))\n",
    "\n",
    "print(format(r2, '.3f'))"
   ]
  },
  {
   "cell_type": "markdown",
   "metadata": {},
   "source": [
    "<section style=\"direction: rtl; text-align: justify; margin: 30px;\">\n",
    "\n",
    "⚠️ توجه: نتیجه 0.809 نشان می دهد که مدل با مجموعه تست نیز مطابقت دارد و ما مطمئن هستیم که می توانیم از مدل برای پیش بینی مقادیر آینده استفاده کنیم.\n",
    "\n",
    "<div style=\"border-top: 1px solid #ccc; margin: 10px 0;\"></div>\n",
    "\n",
    "اکنون که ثابت کرده ایم مدل ما خوب است، می توانیم مقادیر جدید را پیش بینی کنیم.\n",
    "\n",
    "اگر مشتری خریدار 5 دقیقه در مغازه بماند چقدر پول خرج می کند؟\n",
    "\n",
    "</section>"
   ]
  },
  {
   "cell_type": "code",
   "execution_count": 13,
   "metadata": {},
   "outputs": [
    {
     "name": "stdout",
     "output_type": "stream",
     "text": [
      "22.879625918122656\n"
     ]
    }
   ],
   "source": [
    "print(mymodel(5))"
   ]
  },
  {
   "cell_type": "markdown",
   "metadata": {},
   "source": [
    "<section style=\"direction: rtl; text-align: justify; margin: 30px;\">\n",
    "\n",
    "مثال پیش بینی می کند که مشتری 22.88 دلار خرج کند، همانطور که به نظر می رسد با نمودار مطابقت دارد:\n",
    "\n",
    "</section>\n",
    "\n",
    "![Graph](https://www.w3schools.com/python/img_traintest_predict.png)"
   ]
  },
  {
   "cell_type": "markdown",
   "metadata": {},
   "source": [
    "___\n",
    "\n",
    "Machine Learning - Decision Tree\n",
    "\n",
    "<section style=\"direction: rtl; text-align: justify; margin: 30px;\">\n",
    "\n",
    "### **درخت تصمیم**\n",
    "\n",
    "</section>\n",
    "\n",
    "![Graph](https://www.w3schools.com/python/img_ml_decision_tree.png)\n",
    "\n",
    "<section style=\"direction: rtl; text-align: justify; margin: 30px;\">\n",
    "\n",
    "در این قسمت به شما نشان خواهیم داد که چگونه یک \"درخت تصمیم\" بسازید. درخت تصمیم یک نمودار جریان است و می تواند به شما در تصمیم گیری بر اساس تجربه قبلی کمک کند.\n",
    "\n",
    "در مثال، یک فرد سعی می کند تصمیم بگیرد که آیا باید به یک برنامه کمدی برود یا نه.\n",
    "\n",
    "خوشبختانه شخص نمونه ما هر بار که یک برنامه طنز در شهر وجود داشته است ثبت نام کرده و اطلاعاتی در مورد بازیگر کمدی ثبت کرده است و همچنین ثبت کرده است که آیا رفته یا نه.\n",
    "\n",
    "</section>"
   ]
  },
  {
   "cell_type": "code",
   "execution_count": 5,
   "metadata": {},
   "outputs": [
    {
     "data": {
      "text/html": [
       "<div>\n",
       "<style scoped>\n",
       "    .dataframe tbody tr th:only-of-type {\n",
       "        vertical-align: middle;\n",
       "    }\n",
       "\n",
       "    .dataframe tbody tr th {\n",
       "        vertical-align: top;\n",
       "    }\n",
       "\n",
       "    .dataframe thead th {\n",
       "        text-align: right;\n",
       "    }\n",
       "</style>\n",
       "<table border=\"1\" class=\"dataframe\">\n",
       "  <thead>\n",
       "    <tr style=\"text-align: right;\">\n",
       "      <th></th>\n",
       "      <th>Age</th>\n",
       "      <th>Experience</th>\n",
       "      <th>Rank</th>\n",
       "      <th>Nationality</th>\n",
       "      <th>Go</th>\n",
       "    </tr>\n",
       "  </thead>\n",
       "  <tbody>\n",
       "    <tr>\n",
       "      <th>0</th>\n",
       "      <td>36</td>\n",
       "      <td>10</td>\n",
       "      <td>9</td>\n",
       "      <td>UK</td>\n",
       "      <td>NO</td>\n",
       "    </tr>\n",
       "    <tr>\n",
       "      <th>1</th>\n",
       "      <td>42</td>\n",
       "      <td>12</td>\n",
       "      <td>4</td>\n",
       "      <td>USA</td>\n",
       "      <td>NO</td>\n",
       "    </tr>\n",
       "    <tr>\n",
       "      <th>2</th>\n",
       "      <td>23</td>\n",
       "      <td>4</td>\n",
       "      <td>6</td>\n",
       "      <td>N</td>\n",
       "      <td>NO</td>\n",
       "    </tr>\n",
       "    <tr>\n",
       "      <th>3</th>\n",
       "      <td>52</td>\n",
       "      <td>4</td>\n",
       "      <td>4</td>\n",
       "      <td>USA</td>\n",
       "      <td>NO</td>\n",
       "    </tr>\n",
       "    <tr>\n",
       "      <th>4</th>\n",
       "      <td>43</td>\n",
       "      <td>21</td>\n",
       "      <td>8</td>\n",
       "      <td>USA</td>\n",
       "      <td>YES</td>\n",
       "    </tr>\n",
       "    <tr>\n",
       "      <th>5</th>\n",
       "      <td>44</td>\n",
       "      <td>14</td>\n",
       "      <td>5</td>\n",
       "      <td>UK</td>\n",
       "      <td>NO</td>\n",
       "    </tr>\n",
       "    <tr>\n",
       "      <th>6</th>\n",
       "      <td>66</td>\n",
       "      <td>3</td>\n",
       "      <td>7</td>\n",
       "      <td>N</td>\n",
       "      <td>YES</td>\n",
       "    </tr>\n",
       "    <tr>\n",
       "      <th>7</th>\n",
       "      <td>35</td>\n",
       "      <td>14</td>\n",
       "      <td>9</td>\n",
       "      <td>UK</td>\n",
       "      <td>YES</td>\n",
       "    </tr>\n",
       "    <tr>\n",
       "      <th>8</th>\n",
       "      <td>52</td>\n",
       "      <td>13</td>\n",
       "      <td>7</td>\n",
       "      <td>N</td>\n",
       "      <td>YES</td>\n",
       "    </tr>\n",
       "    <tr>\n",
       "      <th>9</th>\n",
       "      <td>35</td>\n",
       "      <td>5</td>\n",
       "      <td>9</td>\n",
       "      <td>N</td>\n",
       "      <td>YES</td>\n",
       "    </tr>\n",
       "    <tr>\n",
       "      <th>10</th>\n",
       "      <td>24</td>\n",
       "      <td>3</td>\n",
       "      <td>5</td>\n",
       "      <td>USA</td>\n",
       "      <td>NO</td>\n",
       "    </tr>\n",
       "    <tr>\n",
       "      <th>11</th>\n",
       "      <td>18</td>\n",
       "      <td>3</td>\n",
       "      <td>7</td>\n",
       "      <td>UK</td>\n",
       "      <td>YES</td>\n",
       "    </tr>\n",
       "    <tr>\n",
       "      <th>12</th>\n",
       "      <td>45</td>\n",
       "      <td>9</td>\n",
       "      <td>9</td>\n",
       "      <td>UK</td>\n",
       "      <td>YES</td>\n",
       "    </tr>\n",
       "  </tbody>\n",
       "</table>\n",
       "</div>"
      ],
      "text/plain": [
       "    Age  Experience  Rank Nationality   Go\n",
       "0    36          10     9          UK   NO\n",
       "1    42          12     4         USA   NO\n",
       "2    23           4     6           N   NO\n",
       "3    52           4     4         USA   NO\n",
       "4    43          21     8         USA  YES\n",
       "5    44          14     5          UK   NO\n",
       "6    66           3     7           N  YES\n",
       "7    35          14     9          UK  YES\n",
       "8    52          13     7           N  YES\n",
       "9    35           5     9           N  YES\n",
       "10   24           3     5         USA   NO\n",
       "11   18           3     7          UK  YES\n",
       "12   45           9     9          UK  YES"
      ]
     },
     "execution_count": 5,
     "metadata": {},
     "output_type": "execute_result"
    }
   ],
   "source": [
    "import pandas as pd\n",
    "import os\n",
    "\n",
    "folder_name = 'src'\n",
    "file_name = 'comedyshowdata.csv'\n",
    "mydata = os.path.join(folder_name, file_name)\n",
    "\n",
    "df = pd.read_csv(mydata)\n",
    "df.head(13)"
   ]
  },
  {
   "cell_type": "markdown",
   "metadata": {},
   "source": [
    "<section style=\"direction: rtl; text-align: justify; margin: 30px;\">\n",
    "\n",
    "اکنون، بر اساس این مجموعه داده، پایتون می‌تواند یک درخت تصمیم ایجاد کند که می‌تواند برای تصمیم‌گیری در مورد ارزش دیدن هر نمایش جدیدی استفاده شود.\n",
    "\n",
    "<div style=\"border-top: 1px solid #ccc; margin: 10px 0;\"></div>\n",
    "<div style=\"border-top: 1px solid #ccc; margin: 10px 0;\"></div>\n",
    "\n",
    "ابتدا مجموعه داده را با pandas بخوانید:\n",
    "\n",
    "</section>"
   ]
  },
  {
   "cell_type": "code",
   "execution_count": 12,
   "metadata": {},
   "outputs": [
    {
     "data": {
      "text/html": [
       "<div>\n",
       "<style scoped>\n",
       "    .dataframe tbody tr th:only-of-type {\n",
       "        vertical-align: middle;\n",
       "    }\n",
       "\n",
       "    .dataframe tbody tr th {\n",
       "        vertical-align: top;\n",
       "    }\n",
       "\n",
       "    .dataframe thead th {\n",
       "        text-align: right;\n",
       "    }\n",
       "</style>\n",
       "<table border=\"1\" class=\"dataframe\">\n",
       "  <thead>\n",
       "    <tr style=\"text-align: right;\">\n",
       "      <th></th>\n",
       "      <th>Age</th>\n",
       "      <th>Experience</th>\n",
       "      <th>Rank</th>\n",
       "      <th>Nationality</th>\n",
       "      <th>Go</th>\n",
       "    </tr>\n",
       "  </thead>\n",
       "  <tbody>\n",
       "    <tr>\n",
       "      <th>0</th>\n",
       "      <td>36</td>\n",
       "      <td>10</td>\n",
       "      <td>9</td>\n",
       "      <td>UK</td>\n",
       "      <td>NO</td>\n",
       "    </tr>\n",
       "    <tr>\n",
       "      <th>1</th>\n",
       "      <td>42</td>\n",
       "      <td>12</td>\n",
       "      <td>4</td>\n",
       "      <td>USA</td>\n",
       "      <td>NO</td>\n",
       "    </tr>\n",
       "    <tr>\n",
       "      <th>2</th>\n",
       "      <td>23</td>\n",
       "      <td>4</td>\n",
       "      <td>6</td>\n",
       "      <td>N</td>\n",
       "      <td>NO</td>\n",
       "    </tr>\n",
       "    <tr>\n",
       "      <th>3</th>\n",
       "      <td>52</td>\n",
       "      <td>4</td>\n",
       "      <td>4</td>\n",
       "      <td>USA</td>\n",
       "      <td>NO</td>\n",
       "    </tr>\n",
       "    <tr>\n",
       "      <th>4</th>\n",
       "      <td>43</td>\n",
       "      <td>21</td>\n",
       "      <td>8</td>\n",
       "      <td>USA</td>\n",
       "      <td>YES</td>\n",
       "    </tr>\n",
       "    <tr>\n",
       "      <th>5</th>\n",
       "      <td>44</td>\n",
       "      <td>14</td>\n",
       "      <td>5</td>\n",
       "      <td>UK</td>\n",
       "      <td>NO</td>\n",
       "    </tr>\n",
       "    <tr>\n",
       "      <th>6</th>\n",
       "      <td>66</td>\n",
       "      <td>3</td>\n",
       "      <td>7</td>\n",
       "      <td>N</td>\n",
       "      <td>YES</td>\n",
       "    </tr>\n",
       "    <tr>\n",
       "      <th>7</th>\n",
       "      <td>35</td>\n",
       "      <td>14</td>\n",
       "      <td>9</td>\n",
       "      <td>UK</td>\n",
       "      <td>YES</td>\n",
       "    </tr>\n",
       "    <tr>\n",
       "      <th>8</th>\n",
       "      <td>52</td>\n",
       "      <td>13</td>\n",
       "      <td>7</td>\n",
       "      <td>N</td>\n",
       "      <td>YES</td>\n",
       "    </tr>\n",
       "    <tr>\n",
       "      <th>9</th>\n",
       "      <td>35</td>\n",
       "      <td>5</td>\n",
       "      <td>9</td>\n",
       "      <td>N</td>\n",
       "      <td>YES</td>\n",
       "    </tr>\n",
       "    <tr>\n",
       "      <th>10</th>\n",
       "      <td>24</td>\n",
       "      <td>3</td>\n",
       "      <td>5</td>\n",
       "      <td>USA</td>\n",
       "      <td>NO</td>\n",
       "    </tr>\n",
       "    <tr>\n",
       "      <th>11</th>\n",
       "      <td>18</td>\n",
       "      <td>3</td>\n",
       "      <td>7</td>\n",
       "      <td>UK</td>\n",
       "      <td>YES</td>\n",
       "    </tr>\n",
       "    <tr>\n",
       "      <th>12</th>\n",
       "      <td>45</td>\n",
       "      <td>9</td>\n",
       "      <td>9</td>\n",
       "      <td>UK</td>\n",
       "      <td>YES</td>\n",
       "    </tr>\n",
       "  </tbody>\n",
       "</table>\n",
       "</div>"
      ],
      "text/plain": [
       "    Age  Experience  Rank Nationality   Go\n",
       "0    36          10     9          UK   NO\n",
       "1    42          12     4         USA   NO\n",
       "2    23           4     6           N   NO\n",
       "3    52           4     4         USA   NO\n",
       "4    43          21     8         USA  YES\n",
       "5    44          14     5          UK   NO\n",
       "6    66           3     7           N  YES\n",
       "7    35          14     9          UK  YES\n",
       "8    52          13     7           N  YES\n",
       "9    35           5     9           N  YES\n",
       "10   24           3     5         USA   NO\n",
       "11   18           3     7          UK  YES\n",
       "12   45           9     9          UK  YES"
      ]
     },
     "execution_count": 12,
     "metadata": {},
     "output_type": "execute_result"
    }
   ],
   "source": [
    "import pandas as pd\n",
    "\n",
    "df = pd.read_csv('src/comedyshowdata.csv')\n",
    "df"
   ]
  },
  {
   "cell_type": "markdown",
   "metadata": {},
   "source": [
    "<section style=\"direction: rtl; text-align: justify; margin: 30px;\">\n",
    "\n",
    "برای ایجاد درخت تصمیم، تمام داده ها باید عددی باشند.\n",
    "\n",
    "ما باید ستون های غیر عددی 'Nationality' و 'Go' را به مقادیر عددی تبدیل کنیم.\n",
    "\n",
    "Pandas یک متد map() دارد که یک دیکشنری با اطلاعاتی در مورد نحوه تبدیل مقادیر می گیرد.\n",
    "\n",
    "</section>\n",
    "\n",
    "{'UK': 0, 'USA': 1, 'N': 2}\n",
    "\n",
    "<section style=\"direction: rtl; text-align: justify; margin: 30px;\">\n",
    "\n",
    "یعنی مقادیر 'UK' را به 0، 'USA' را به 1 و 'N' را به 2 تبدیل می کند.\n",
    "\n",
    "</section>\n"
   ]
  },
  {
   "cell_type": "code",
   "execution_count": 13,
   "metadata": {},
   "outputs": [
    {
     "name": "stdout",
     "output_type": "stream",
     "text": [
      "    Age  Experience  Rank  Nationality  Go\n",
      "0    36          10     9            0   0\n",
      "1    42          12     4            1   0\n",
      "2    23           4     6            2   0\n",
      "3    52           4     4            1   0\n",
      "4    43          21     8            1   1\n",
      "5    44          14     5            0   0\n",
      "6    66           3     7            2   1\n",
      "7    35          14     9            0   1\n",
      "8    52          13     7            2   1\n",
      "9    35           5     9            2   1\n",
      "10   24           3     5            1   0\n",
      "11   18           3     7            0   1\n",
      "12   45           9     9            0   1\n"
     ]
    }
   ],
   "source": [
    "d = {'UK': 0, 'USA': 1, 'N': 2}\n",
    "df['Nationality'] = df['Nationality'].map(d)\n",
    "d = {'YES': 1, 'NO': 0}\n",
    "df['Go'] = df['Go'].map(d)\n",
    "\n",
    "print(df)"
   ]
  },
  {
   "cell_type": "markdown",
   "metadata": {},
   "source": [
    "<section style=\"direction: rtl; text-align: justify; margin: 30px;\">\n",
    "\n",
    "سپس باید ستون های ویژگی را از ستون هدف جدا کنیم.\n",
    "\n",
    "ستون‌های ویژگی ستون‌هایی هستند که سعی می‌کنیم از آن‌ها پیش‌بینی کنیم، و ستون هدف ستونی است که مقادیری را که می‌خواهیم پیش‌بینی کنیم.\n",
    "\n",
    "</section>\n"
   ]
  },
  {
   "cell_type": "code",
   "execution_count": 14,
   "metadata": {},
   "outputs": [
    {
     "name": "stdout",
     "output_type": "stream",
     "text": [
      "    Age  Experience  Rank  Nationality\n",
      "0    36          10     9            0\n",
      "1    42          12     4            1\n",
      "2    23           4     6            2\n",
      "3    52           4     4            1\n",
      "4    43          21     8            1\n",
      "5    44          14     5            0\n",
      "6    66           3     7            2\n",
      "7    35          14     9            0\n",
      "8    52          13     7            2\n",
      "9    35           5     9            2\n",
      "10   24           3     5            1\n",
      "11   18           3     7            0\n",
      "12   45           9     9            0\n",
      "0     0\n",
      "1     0\n",
      "2     0\n",
      "3     0\n",
      "4     1\n",
      "5     0\n",
      "6     1\n",
      "7     1\n",
      "8     1\n",
      "9     1\n",
      "10    0\n",
      "11    1\n",
      "12    1\n",
      "Name: Go, dtype: int64\n"
     ]
    }
   ],
   "source": [
    "features = ['Age', 'Experience', 'Rank', 'Nationality']\n",
    "\n",
    "X = df[features]\n",
    "y = df['Go']\n",
    "\n",
    "print(X)\n",
    "print(y)"
   ]
  },
  {
   "cell_type": "markdown",
   "metadata": {},
   "source": [
    "<section style=\"direction: rtl; text-align: justify; margin: 30px;\">\n",
    "\n",
    "اکنون می‌توانیم درخت تصمیم واقعی را ایجاد کنیم، آن را با جزئیات خود تطبیق دهیم. با وارد کردن ماژول های مورد نیاز خود شروع کنید:\n",
    "\n",
    "</section>\n"
   ]
  },
  {
   "cell_type": "code",
   "execution_count": 3,
   "metadata": {},
   "outputs": [
    {
     "data": {
      "text/plain": [
       "[Text(0.4, 0.875, 'Rank <= 6.5\\ngini = 0.497\\nsamples = 13\\nvalue = [6, 7]'),\n",
       " Text(0.2, 0.625, 'gini = 0.0\\nsamples = 5\\nvalue = [5, 0]'),\n",
       " Text(0.6, 0.625, 'Age <= 39.5\\ngini = 0.219\\nsamples = 8\\nvalue = [1, 7]'),\n",
       " Text(0.4, 0.375, 'Age <= 35.5\\ngini = 0.375\\nsamples = 4\\nvalue = [1, 3]'),\n",
       " Text(0.2, 0.125, 'gini = 0.0\\nsamples = 3\\nvalue = [0, 3]'),\n",
       " Text(0.6, 0.125, 'gini = 0.0\\nsamples = 1\\nvalue = [1, 0]'),\n",
       " Text(0.8, 0.375, 'gini = 0.0\\nsamples = 4\\nvalue = [0, 4]')]"
      ]
     },
     "execution_count": 3,
     "metadata": {},
     "output_type": "execute_result"
    },
    {
     "data": {
      "image/png": "[encoded data removed]",
      "text/plain": [
       "<Figure size 640x480 with 1 Axes>"
      ]
     },
     "metadata": {},
     "output_type": "display_data"
    }
   ],
   "source": [
    "import pandas as pd\n",
    "from sklearn import tree\n",
    "from sklearn.tree import DecisionTreeClassifier\n",
    "import matplotlib.pyplot as plt\n",
    "\n",
    "df = pd.read_csv('src/comedyshowdata.csv')\n",
    "\n",
    "d = {'UK': 0, 'USA': 1, 'N': 2}\n",
    "df['Nationality'] = df['Nationality'].map(d)\n",
    "d = {'YES': 1, 'NO': 0}\n",
    "df['Go'] = df['Go'].map(d)\n",
    "\n",
    "features = ['Age', 'Experience', 'Rank', 'Nationality']\n",
    "\n",
    "X = df[features]\n",
    "y = df['Go']\n",
    "\n",
    "dtree = DecisionTreeClassifier()\n",
    "dtree = dtree.fit(X, y)\n",
    "\n",
    "tree.plot_tree(dtree, feature_names=features)"
   ]
  },
  {
   "cell_type": "markdown",
   "metadata": {},
   "source": [
    "<section style=\"direction: rtl; text-align: justify; margin: 30px;\">\n",
    "\n",
    "درخت تصمیم گیری از تصمیمات قبلی شما برای محاسبه شانس اینکه بخواهید به دیدن یک کمدین بروید یا نه، استفاده می کند.\n",
    "\n",
    "اجازه دهید جنبه های مختلف درخت تصمیم را بخوانیم:\n",
    "\n",
    "</section>\n",
    "\n",
    "![Graph](https://www.w3schools.com/python/img_decisiontree1.png)\n",
    "\n",
    "<section style=\"direction: rtl; text-align: justify; margin: 30px;\">\n",
    "\n",
    "رتبه <= 6.5 به این معنی است که هر کمدین با رتبه 6.5 یا پایین تر از فلش True (به سمت چپ) و بقیه فلش False (به سمت راست) را دنبال می کنند.\n",
    "\n",
    "gini = 0.497 به کیفیت تقسیم اشاره دارد و همیشه عددی بین 0.0 و 0.5 است که 0.0 به این معنی است که همه نمونه ها نتیجه یکسانی دارند و 0.5 به این معنی است که تقسیم دقیقاً در وسط انجام می شود.\n",
    "\n",
    "نمونه = 13 به این معنی است که 13 کمدین در این مرحله از تصمیم گیری باقی می مانند که همه آنها هستند زیرا این اولین مرحله است.\n",
    "\n",
    "ارزش = [6، 7] به این معنی است که از این 13 کمدین، 6 نفر \"NO\" و 7 کمدین \"GO\" دریافت می کنند."
   ]
  },
  {
   "cell_type": "markdown",
   "metadata": {},
   "source": [
    "<section style=\"direction: rtl; text-align: justify; margin: 30px;\">\n",
    "\n",
    "⚠️ روش های زیادی برای تقسیم نمونه ها وجود دارد، ما در این آموزش از روش GINI استفاده می کنیم.\n",
    "\n",
    "روش جینی از این فرمول استفاده می کند:\n",
    "\n",
    "</section>\n",
    "\n",
    "Gini = 1 - (x/n)2 - (y/n)2\n",
    "\n",
    "<section style=\"direction: rtl; text-align: justify; margin: 30px;\">\n",
    "\n",
    "جایی که x تعداد پاسخ‌های مثبت (\"GO\")، n تعداد نمونه‌ها و y تعداد پاسخ‌های منفی (\"NO\") است که این محاسبه را به ما می‌دهد:\n",
    "\n",
    "</section>\n",
    "\n",
    "1 - (7 / 13)2 - (6 / 13)2 = 0.497\n",
    "\n",
    "![Graph](https://www.w3schools.com/python/img_decisiontree2.png)\n",
    "\n",
    "<section style=\"direction: rtl; text-align: justify; margin: 30px;\">\n",
    "\n",
    "مرحله بعدی شامل دو جعبه است، یک جعبه برای کمدین ها با 'رتبه' 6.5 یا پایین تر، و یک جعبه با بقیه.\n",
    "\n",
    "**درست - کار ۵ کمدین به پایان می‌رسد**\n",
    "\n",
    "gini = 0.0 به این معنی است که همه نمونه ها نتیجه یکسانی داشتند.\n",
    "\n",
    "نمونه = 5 به این معنی است که 5 کمدین در این شاخه باقی مانده است (5 کمدین با رتبه 6.5 یا کمتر).\n",
    "\n",
    "value = [5, 0] به این معنی است که 5 یک \"NO\" و 0 یک \"GO\" دریافت می کند.\n",
    "\n",
    "**غلط - ۸ کمدین ادامه می‌دهند**\n",
    "\n",
    "ملیت <= 0.5 به این معنی است که کمدین‌هایی که ارزش ملیت کمتر از 0.5 دارند، فلش را به سمت چپ دنبال می‌کنند (یعنی همه افراد از بریتانیا، ) و بقیه پیکان سمت راست را دنبال می‌کنند.\n",
    "\n",
    "gini = 0.219 به این معنی است که حدود 22 درصد از نمونه ها در یک جهت می روند.\n",
    "\n",
    "نمونه = 8 یعنی 8 کمدین در این شاخه باقی مانده است (8 کمدین با رتبه بالاتر از 6.5).\n",
    "\n",
    "value = [1, 7] یعنی از این 8 کمدین، 1 نفر \"NO\" و 7 کمدین \"GO\" دریافت می کنند.\n",
    "\n",
    "</section>"
   ]
  },
  {
   "cell_type": "markdown",
   "metadata": {},
   "source": [
    "<section style=\"direction: rtl; text-align: justify; margin: 30px;\">\n",
    "\n",
    "<div style=\"border-top: 1px solid #ccc; margin: 10px 0; opacity: 0.4\"></div>\n",
    "\n",
    "![Graph](https://www.w3schools.com/python/img_decisiontree3_2.png)\n",
    "\n",
    "**درست - ۴ کمدین ادامه می‌دهند**\n",
    "\n",
    "سن <= 35.5 به این معنی است که کمدین ها در سن 35.5 یا کمتر از فلش سمت چپ و بقیه پیکان سمت راست را دنبال می کنند.\n",
    "\n",
    "gini = 0.375 به این معنی است که حدود 37.5 درصد از نمونه ها در یک جهت می روند.\n",
    "\n",
    "نمونه = 4 یعنی 4 کمدین در این شاخه باقی مانده است (4 کمدین از انگلستان).\n",
    "\n",
    "value = [1, 3] به این معنی است که از این 4 کمدین، 1 نفر «NO» و 3 کمدین «GO» دریافت خواهند کرد.\n",
    "\n",
    "**غلط - کار ۴ کمدین پایان می‌یابد**\n",
    "\n",
    "gini = 0.0 به این معنی است که همه نمونه ها نتیجه یکسانی داشتند.\n",
    "\n",
    "نمونه = 4 یعنی 4 کمدین در این شاخه باقی مانده است (4 کمدین که از انگلستان نیستند).\n",
    "\n",
    "value = [0، 4] به این معنی است که از این 4 کمدین، 0 \"NO\" و 4 \"GO\" دریافت می کنند.\n",
    "\n",
    "</section>"
   ]
  },
  {
   "cell_type": "markdown",
   "metadata": {},
   "source": [
    "<section style=\"direction: rtl; text-align: justify; margin: 30px;\">\n",
    "\n",
    "<div style=\"border-top: 1px solid #ccc; margin: 10px 0; opacity: 0.4\"></div>\n",
    "\n",
    "![Graph](https://www.w3schools.com/python/img_decisiontree4_2.png)\n",
    "\n",
    "**درست - کار ۲ کمدین در اینجا پایان می‌یابد**\n",
    "\n",
    "gini = 0.0 به این معنی است که همه نمونه ها نتیجه یکسانی داشتند.\n",
    "\n",
    "نمونه = 2 به این معنی است که 2 کمدین در این شاخه باقی مانده است (2 کمدین در سن 35.5 یا کمتر).\n",
    "\n",
    "value = [0, 2] به این معنی است که از این 2 کمدین، 0 \"NO\" و 2 \"GO\" دریافت می کنند.\n",
    "\n",
    "**غلط - ۲ کمدین ادامه می‌دهند**\n",
    "\n",
    "تجربه <= 9.5 به این معنی است که کمدین هایی با 9.5 سال سابقه یا کمتر، فلش سمت چپ را دنبال می کنند و بقیه پیکان سمت راست را دنبال می کنند.\n",
    "\n",
    "جینی = 0.5 به این معنی است که 50 درصد نمونه ها در یک جهت می روند.\n",
    "\n",
    "جینی = 0.5 به این معنی است که 50 درصد نمونه ها در یک جهت می روند.\n",
    "\n",
    "ارزش = [1، 1] به این معنی است که از این 2 کمدین، 1 نفر \"NO\" و 1 \"GO\" دریافت می کند.\n",
    "\n",
    "</section>"
   ]
  },
  {
   "cell_type": "markdown",
   "metadata": {},
   "source": [
    "<section style=\"direction: rtl; text-align: justify; margin: 30px;\">\n",
    "\n",
    "<div style=\"border-top: 1px solid #ccc; margin: 10px 0; opacity: 0.4\"></div>\n",
    "\n",
    "![Graph](https://www.w3schools.com/python/img_decisiontree5.png)\n",
    "\n",
    "**درست - کار یک کمدین به پایان می‌رسد**\n",
    "\n",
    "gini = 0.0 به این معنی است که همه نمونه ها نتیجه یکسانی داشتند.\n",
    "\n",
    "نمونه = 1 یعنی 1 کمدین در این شاخه باقی مانده است (1 کمدین با 9.5 سال سابقه یا کمتر).\n",
    "\n",
    "ارزش = [0، 1] به این معنی است که 0 یک \"NO\" و 1 یک \"GO\" دریافت می کند.\n",
    "\n",
    "**غلط - کار یک کمدین اینجا به پایان می‌رسد**\n",
    "\n",
    "gini = 0.0 به این معنی است که همه نمونه ها نتیجه یکسانی داشتند.\n",
    "\n",
    "نمونه = 1 یعنی 1 کمدین در این شاخه باقی مانده است (1 کمدین با بیش از 9.5 سال سابقه).\n",
    "\n",
    "value = [1, 0] به این معنی است که 1 یک \"NO\" و 0 یک \"GO\" دریافت می کند.\n",
    "\n",
    "</section>"
   ]
  },
  {
   "cell_type": "markdown",
   "metadata": {},
   "source": [
    "<section style=\"direction: rtl; text-align: justify; margin: 30px;\">\n",
    "\n",
    "<div style=\"border-top: 1px solid #ccc; margin: 10px 0; opacity: 0.4\"></div>\n",
    "\n",
    "ما می توانیم از درخت تصمیم برای پیش بینی مقادیر جدید استفاده کنیم.\n",
    "\n",
    "مثال: آیا باید بروم سریالی با بازی یک کمدین 40 ساله آمریکایی با 10 سال سابقه و رتبه 7 کمدی ببینم؟\n",
    "\n",
    "</section>"
   ]
  },
  {
   "cell_type": "code",
   "execution_count": 5,
   "metadata": {},
   "outputs": [
    {
     "name": "stdout",
     "output_type": "stream",
     "text": [
      "[1]\n"
     ]
    },
    {
     "name": "stderr",
     "output_type": "stream",
     "text": [
      "/home/saleh/.local/lib/python3.10/site-packages/sklearn/base.py:464: UserWarning: X does not have valid feature names, but DecisionTreeClassifier was fitted with feature names\n",
      "  warnings.warn(\n"
     ]
    }
   ],
   "source": [
    "print(dtree.predict([[40, 10, 7, 1]]))"
   ]
  },
  {
   "cell_type": "code",
   "execution_count": 6,
   "metadata": {},
   "outputs": [
    {
     "name": "stdout",
     "output_type": "stream",
     "text": [
      "[0]\n"
     ]
    },
    {
     "name": "stderr",
     "output_type": "stream",
     "text": [
      "/home/saleh/.local/lib/python3.10/site-packages/sklearn/base.py:464: UserWarning: X does not have valid feature names, but DecisionTreeClassifier was fitted with feature names\n",
      "  warnings.warn(\n"
     ]
    }
   ],
   "source": [
    "print(dtree.predict([[40, 10, 6, 1]]))"
   ]
  },
  {
   "cell_type": "markdown",
   "metadata": {},
   "source": [
    "<section style=\"direction: rtl; text-align: justify; margin: 30px;\">\n",
    "\n",
    "<div style=\"border-top: 1px solid #ccc; margin: 10px 0; opacity: 0.4\"></div>\n",
    "\n",
    "⚠️ خواهید دید که درخت تصمیم اگر به اندازه کافی آن را اجرا کنید، حتی اگر با همان داده ها تغذیه کنید، نتایج متفاوتی به شما می دهد.\n",
    "\n",
    "⚠️ دلیلش این است که درخت تصمیم به ما صددرصد پاسخ قطعی نمی دهد. این بر اساس احتمال یک نتیجه است و پاسخ متفاوت خواهد بود.\n",
    "\n",
    "</section>"
   ]
  },
  {
   "cell_type": "markdown",
   "metadata": {},
   "source": [
    "___\n",
    "\n",
    "Machine Learning - Confusion Matrix\n",
    "\n",
    "<section style=\"direction: rtl; text-align: justify; margin: 30px;\">\n",
    "\n",
    "### **ماتریس سردرگمی**\n",
    "\n",
    "🧠 ماتریس سردرگمی (Confusion Matrix) یک ابزار ارزیابی است که در زمینه‌ی یادگیری ماشین و دسته‌بندی مورد استفاده قرار می‌گیرد. این ماتریس، عملکرد یک الگوریتم دسته‌بندی را با استفاده از مقایسه بین پیش‌بینی‌های آن و برچسب‌های واقعی داده‌های آموزشی یا آزمون نشان می‌دهد.\n",
    "\n",
    "یک ماتریس سردرگمی به صورت یک جدول دوبعدی است که در آن هر ردیف نشان‌دهنده‌ی یک کلاس واقعی و هر ستون نشان‌دهنده‌ی یک کلاس پیش‌بینی شده است. این ماتریس برای دو مسأله اصلی، که به صورت دودویی (binary) و چند دسته‌ای (multiclass) هستند، استفاده می‌شود.\n",
    "\n",
    "به طور کلی، یک ماتریس سردرگمی شامل چهار بخش اصلی است:\n",
    "\n",
    "۱. True Positives (TP): تعداد مواردی که به درستی به عنوان مثبت تشخیص داده شده‌اند.\n",
    "۲. False Positives (FP): تعداد مواردی که به اشتباه به عنوان مثبت تشخیص داده شده‌اند.\n",
    "۳. True Negatives (TN): تعداد مواردی که به درستی به عنوان منفی تشخیص داده شده‌اند.\n",
    "۴. False Negatives (FN): تعداد مواردی که به اشتباه به عنوان منفی تشخیص داده شده‌اند.\n",
    "\n",
    "از این ماتریس می‌توان به صورت مستقیم معیارهای ارزیابی متعددی مانند دقت (Accuracy)، دقت مثبت (Precision)، حساسیت (Recall) و اندازه‌گیری‌های مشتقاتی از آن‌ها مانند اندیس F1 (F1-score) را محاسبه کرد.\n",
    "\n",
    "<div style=\"border-top: 1px solid #ccc; margin: 10px 0; opacity: 0.4\"></div>\n",
    "\n",
    "ماتریس سردرگمی جدولی است که در مسائل طبقه بندی برای ارزیابی محل خطاهای مدل استفاده می شود.\n",
    "\n",
    "ردیف ها نشان دهنده کلاس های واقعی هستند که نتایج باید می شد. در حالی که ستون ها نشان دهنده پیش بینی هایی است که ما انجام داده ایم. با استفاده از این جدول می توان به راحتی متوجه شد که کدام پیش بینی اشتباه است.\n",
    "\n",
    "ماتریس های سردرگمی را می توان با پیش بینی های انجام شده از رگرسیون لجستیک ایجاد کرد.\n",
    "\n",
    "در حال حاضر با استفاده از NumPy مقادیر واقعی و پیش بینی شده را تولید خواهیم کرد:\n",
    "\n",
    "</section>"
   ]
  },
  {
   "cell_type": "code",
   "execution_count": 1,
   "metadata": {},
   "outputs": [],
   "source": [
    "import numpy as np"
   ]
  },
  {
   "cell_type": "markdown",
   "metadata": {},
   "source": [
    "<section style=\"direction: rtl; text-align: justify; margin: 30px;\">\n",
    "\n",
    "در مرحله بعد باید اعدادی را برای مقادیر \"واقعی\" و \"پیش بینی شده\" تولید کنیم.\n",
    "\n",
    "</section>"
   ]
  },
  {
   "cell_type": "code",
   "execution_count": 2,
   "metadata": {},
   "outputs": [],
   "source": [
    "actual = np.random.binomial(1, 0.9, size=1000)\n",
    "predicted = np.random.binomial(1, 0.9, size=1000)"
   ]
  },
  {
   "cell_type": "markdown",
   "metadata": {},
   "source": [
    "<section style=\"direction: rtl; text-align: justify; margin: 30px;\">\n",
    "\n",
    "برای ایجاد ماتریس سردرگمی، باید معیارها را از ماژول sklearn وارد کنیم.\n",
    "\n",
    "</section>"
   ]
  },
  {
   "cell_type": "code",
   "execution_count": 3,
   "metadata": {},
   "outputs": [],
   "source": [
    "from sklearn import metrics"
   ]
  },
  {
   "cell_type": "markdown",
   "metadata": {},
   "source": [
    "<section style=\"direction: rtl; text-align: justify; margin: 30px;\">\n",
    "\n",
    "هنگامی که معیارها وارد می شوند، می توانیم از تابع ماتریس سردرگمی روی مقادیر واقعی و پیش بینی شده خود استفاده کنیم.\n",
    "\n",
    "</section>"
   ]
  },
  {
   "cell_type": "code",
   "execution_count": 4,
   "metadata": {},
   "outputs": [],
   "source": [
    "confusion_matrix = metrics.confusion_matrix(actual, predicted)"
   ]
  },
  {
   "cell_type": "markdown",
   "metadata": {},
   "source": [
    "<section style=\"direction: rtl; text-align: justify; margin: 30px;\">\n",
    "\n",
    "برای ایجاد یک نمایش بصری قابل تفسیرتر، باید جدول را به یک نمایشگر ماتریس سردرگمی تبدیل کنیم.\n",
    "\n",
    "</section>"
   ]
  },
  {
   "cell_type": "code",
   "execution_count": 5,
   "metadata": {},
   "outputs": [],
   "source": [
    "cm_display = metrics.ConfusionMatrixDisplay(\n",
    "    confusion_matrix=confusion_matrix, display_labels=[False, True])"
   ]
  },
  {
   "cell_type": "markdown",
   "metadata": {},
   "source": [
    "<section style=\"direction: rtl; text-align: justify; margin: 30px;\">\n",
    "\n",
    "تجسم نمایشگر مستلزم وارد کردن pyplot از matplotlib است.\n",
    "\n",
    "</section>"
   ]
  },
  {
   "cell_type": "code",
   "execution_count": 6,
   "metadata": {},
   "outputs": [],
   "source": [
    "import matplotlib.pyplot as plt"
   ]
  },
  {
   "cell_type": "markdown",
   "metadata": {},
   "source": [
    "<section style=\"direction: rtl; text-align: justify; margin: 30px;\">\n",
    "\n",
    "در نهایت برای نمایش نمودار می توانیم از توابع plot() و show() از pyplot استفاده کنیم.\n",
    "\n",
    "</section>"
   ]
  },
  {
   "cell_type": "code",
   "execution_count": null,
   "metadata": {},
   "outputs": [],
   "source": [
    "cm_display.plot()\n",
    "plt.show()"
   ]
  },
  {
   "cell_type": "markdown",
   "metadata": {},
   "source": [
    "<section style=\"direction: rtl; text-align: justify; margin: 30px;\">\n",
    "\n",
    "کل مثال را در عمل ببینید:\n",
    "\n",
    "</section>"
   ]
  },
  {
   "cell_type": "code",
   "execution_count": 7,
   "metadata": {},
   "outputs": [
    {
     "data": {
      "image/png": "[encoded data removed]",
      "text/plain": [
       "<Figure size 640x480 with 2 Axes>"
      ]
     },
     "metadata": {},
     "output_type": "display_data"
    }
   ],
   "source": [
    "import matplotlib.pyplot as plt\n",
    "import numpy\n",
    "from sklearn import metrics\n",
    "\n",
    "actual = numpy.random.binomial(1, .9, size=1000)\n",
    "predicted = numpy.random.binomial(1, .9, size=1000)\n",
    "\n",
    "confusion_matrix = metrics.confusion_matrix(actual, predicted)\n",
    "\n",
    "cm_display = metrics.ConfusionMatrixDisplay(\n",
    "    confusion_matrix=confusion_matrix, display_labels=[False, True])\n",
    "\n",
    "cm_display.plot()\n",
    "plt.show()"
   ]
  },
  {
   "cell_type": "markdown",
   "metadata": {},
   "source": [
    "<section style=\"direction: rtl; text-align: justify; margin: 30px;\">\n",
    "\n",
    "☝🏽 ماتریس سردرگمی ایجاد شده دارای چهار ربع مختلف است:\n",
    "\n",
    "- منفی کاذب (ربع بالا چپ)\n",
    "- مثبت کاذب (ربع بالا سمت راست)\n",
    "- منفی واقعی (ربع پایین چپ)\n",
    "- مثبت واقعی (ربع پایین راست)\n",
    "\n",
    "True به این معنی است که مقادیر دقیقاً پیش‌بینی شده‌اند، False به این معنی است که یک خطا یا پیش‌بینی اشتباه وجود داشته است.\n",
    "\n",
    "اکنون که یک ماتریس سردرگمی ایجاد کرده‌ایم، می‌توانیم معیارهای مختلفی را برای کمی کردن کیفیت مدل محاسبه کنیم. ابتدا به دقت نگاه می کنیم.\n",
    "\n",
    "<div style=\"border-top: 1px solid #ccc; margin: 10px 0; opacity: 0.4\"></div>\n",
    "\n",
    "ماتریس معیارهای مفید بسیاری را در اختیار ما قرار می دهد که به ما در ارزیابی مدل طبقه بندی کمک می کند.\n",
    "\n",
    "معیارهای مختلف عبارتند از: دقت، دقت، حساسیت (یادآوری)، ویژگی و امتیاز F که در زیر توضیح داده شده است.\n",
    "\n",
    "<div style=\"border-top: 1px solid #ccc; margin: 10px 0; opacity: 0.4\"></div>\n",
    "\n",
    "دقت (Accuracy) اندازه گیری می کند که هر چند وقت یکبار مدل صحیح است.\n",
    "\n",
    "</section>\n",
    "\n",
    "(مثبت واقعی + منفی واقعی) / کل پیش بینی ها"
   ]
  },
  {
   "cell_type": "code",
   "execution_count": 13,
   "metadata": {},
   "outputs": [
    {
     "name": "stdout",
     "output_type": "stream",
     "text": [
      "0.834\n"
     ]
    }
   ],
   "source": [
    "Accuracy = metrics.accuracy_score(actual, predicted)"
   ]
  },
  {
   "cell_type": "markdown",
   "metadata": {},
   "source": [
    "<section style=\"direction: rtl; text-align: justify; margin: 30px;\">\n",
    "\n",
    "<div style=\"border-top: 1px solid #ccc; margin: 10px 0; opacity: 0.4\"></div>\n",
    "\n",
    "از بین موارد مثبت پیش بینی شده، چند درصد واقعا مثبت است؟\n",
    "\n",
    "</section>\n",
    "\n",
    "<section style=\"direction: rtl; text-align: center; margin: 30px;\">\n",
    "\n",
    "مثبت واقعی / (مثبت واقعی + مثبت کاذب)\n",
    "\n",
    "</section>\n",
    "\n",
    "<section style=\"direction: rtl; text-align: justify; margin: 30px;\">\n",
    "\n",
    "دقت موارد منفی پیش بینی شده را به درستی ارزیابی نمی کند:\n",
    "\n",
    "</section>"
   ]
  },
  {
   "cell_type": "code",
   "execution_count": 12,
   "metadata": {},
   "outputs": [
    {
     "name": "stdout",
     "output_type": "stream",
     "text": [
      "0.91\n"
     ]
    }
   ],
   "source": [
    "Precision = metrics.precision_score(actual, predicted)"
   ]
  },
  {
   "cell_type": "markdown",
   "metadata": {},
   "source": [
    "<section style=\"direction: rtl; text-align: justify; margin: 30px;\">\n",
    "\n",
    "<div style=\"border-top: 1px solid #ccc; margin: 10px 0; opacity: 0.4\"></div>\n",
    "\n",
    "**حساسیت (Recall)**\n",
    "\n",
    "از بین همه موارد مثبت چند درصد مثبت پیش بینی می شود؟\n",
    "\n",
    "حساسیت (گاهی اوقات فراخوانی نامیده می شود (Recall)) میزان خوب بودن مدل را در پیش بینی موارد مثبت اندازه گیری می کند.\n",
    "\n",
    "این بدان معناست که به نکات مثبت واقعی و منفی کاذب (که مثبت هایی هستند که به اشتباه به عنوان منفی پیش بینی شده اند) نگاه می کند.\n",
    "\n",
    "</section>\n",
    "\n",
    "<section style=\"direction: rtl; text-align: center; margin: 30px;\">\n",
    "\n",
    "مثبت واقعی / (مثبت واقعی + منفی کاذب)\n",
    "\n",
    "</section>\n",
    "\n",
    "<section style=\"direction: rtl; text-align: justify; margin: 30px;\">\n",
    "\n",
    "حساسیت در درک اینکه مدل چقدر خوب چیزی را مثبت پیش بینی می کند خوب است:\n",
    "\n",
    "</section>"
   ]
  },
  {
   "cell_type": "code",
   "execution_count": 21,
   "metadata": {},
   "outputs": [
    {
     "name": "stdout",
     "output_type": "stream",
     "text": [
      "0.90\n"
     ]
    }
   ],
   "source": [
    "Sensitivity_recall = metrics.recall_score(actual, predicted)"
   ]
  },
  {
   "cell_type": "markdown",
   "metadata": {},
   "source": [
    "<section style=\"direction: rtl; text-align: justify; margin: 30px;\">\n",
    "\n",
    "<div style=\"border-top: 1px solid #ccc; margin: 10px 0; opacity: 0.4\"></div>\n",
    "\n",
    "**اختصاصی (Specificity)**\n",
    "\n",
    "مدل در پیش بینی نتایج منفی چقدر خوب است؟\n",
    "\n",
    "خاص بودن شبیه حساسیت است، اما از منظر نتایج منفی به آن می نگرد.\n",
    "\n",
    "</section>\n",
    "\n",
    "<section style=\"direction: rtl; text-align: center; margin: 30px;\">\n",
    "\n",
    "منفی واقعی / (منفی واقعی + مثبت کاذب)\n",
    "\n",
    "</section>\n",
    "\n",
    "<section style=\"direction: rtl; text-align: justify; margin: 30px;\">\n",
    "\n",
    "از آنجایی که دقیقاً برعکس Recall است، از تابع recall_score استفاده می کنیم و برچسب موقعیت مخالف را می گیریم:\n",
    "\n",
    "</section>"
   ]
  },
  {
   "cell_type": "code",
   "execution_count": 16,
   "metadata": {},
   "outputs": [
    {
     "name": "stdout",
     "output_type": "stream",
     "text": [
      "0.125\n"
     ]
    }
   ],
   "source": [
    "Specificity = metrics.recall_score(actual, predicted, pos_label=0)"
   ]
  },
  {
   "cell_type": "markdown",
   "metadata": {},
   "source": [
    "<section style=\"direction: rtl; text-align: justify; margin: 30px;\">\n",
    "\n",
    "<div style=\"border-top: 1px solid #ccc; margin: 10px 0; opacity: 0.4\"></div>\n",
    "\n",
    "**F-score**\n",
    "\n",
    "F-score \"میانگین هارمونیک\" دقت و حساسیت است.\n",
    "\n",
    "هم موارد مثبت کاذب و هم موارد منفی کاذب را در نظر می گیرد و برای مجموعه داده های نامتعادل خوب است.\n",
    "\n",
    "</section>\n",
    "\n",
    "<section style=\"direction: rtl; text-align: center; margin: 30px;\">\n",
    "\n",
    "2 * ((دقت * حساسیت) / (دقت + حساسیت))\n",
    "\n",
    "</section>\n",
    "\n",
    "<section style=\"direction: rtl; text-align: justify; margin: 30px;\">\n",
    "\n",
    "این امتیاز مقادیر واقعی منفی را در نظر نمی گیرد:\n",
    "\n",
    "</section>"
   ]
  },
  {
   "cell_type": "code",
   "execution_count": 18,
   "metadata": {},
   "outputs": [
    {
     "name": "stdout",
     "output_type": "stream",
     "text": [
      "0.91\n"
     ]
    }
   ],
   "source": [
    "F1_score = metrics.f1_score(actual, predicted)"
   ]
  },
  {
   "cell_type": "code",
   "execution_count": 23,
   "metadata": {},
   "outputs": [
    {
     "name": "stdout",
     "output_type": "stream",
     "text": [
      "{'Accuracy': 0.834, 'Precision': 0.9144444444444444, 'Sensitivity_recall': 0.9024122807017544, 'Specificity': 0.125, 'F1_score': 0.9083885209713025}\n"
     ]
    }
   ],
   "source": [
    "# metrics\n",
    "print({\"Accuracy\": Accuracy, \"Precision\": Precision,\n",
    "       \"Sensitivity_recall\": Sensitivity_recall,\n",
    "       \"Specificity\": Specificity, \"F1_score\": F1_score})"
   ]
  },
  {
   "cell_type": "markdown",
   "metadata": {},
   "source": [
    "___\n",
    "\n",
    "Machine Learning - Hierarchical Clustering\n",
    "\n",
    "<section style=\"direction: rtl; text-align: justify; margin: 30px;\">\n",
    "\n",
    "### **خوشه‌بندی سلسله مراتبی**\n",
    "\n",
    "🧠 الگوریتم Hierarchical Clustering یکی از روش‌های مهم در ماشین لرنینگ برای خوشه‌بندی داده‌هاست. این الگوریتم به دو صورت Agglomerative و Divisive وجود دارد.\n",
    "\n",
    "1. **Agglomerative Hierarchical Clustering**:\n",
    "   - در این روش، هر داده به عنوان یک خوشه جدید در نظر گرفته می‌شود، سپس خوشه‌ها به طور تدریجی با یکدیگر ترکیب شده و خوشه‌های بزرگتری ایجاد می‌شوند.\n",
    "   - این فرآیند ادامه پیدا می‌کند تا به یک خوشه بزرگ واحد برسیم یا تا یک شرط معینی از ترکیب خوشه‌ها برآورده شود.\n",
    "\n",
    "2. **Divisive Hierarchical Clustering**:\n",
    "   - در این روش، همه داده‌ها به یک خوشه تصادفی تخصیص می‌یابند و سپس خوشه‌ها به تدریج به دو خوشه کوچک‌تر تقسیم می‌شوند.\n",
    "   - این فرآیند ادامه می‌یابد تا به تک‌خوشه‌ها برسیم یا تا شرایط مشخصی برای تقسیم خوشه‌ها برآورده شود.\n",
    "\n",
    "در هر دو روش، می‌توان بر اساس معیارهایی مانند فاصله اقدام به ترکیب یا تقسیم خوشه‌ها کرد. این فاصله می‌تواند بر اساس فاصله اقلیدسی، فاصله منهتن یا سایر معیارهایی محاسبه شود. \n",
    "\n",
    "یکی از مزایای این الگوریتم این است که ارائه یک نمایش سلسله مراتبی از داده‌ها است که می‌تواند در تجزیه و تحلیل داده‌ها و درک ساختار داده‌ها بسیار مفید باشد. اما از معایب آن می‌توان به پیچیدگی محاسباتی برای مجموعه‌های داده بزرگ، حساسیت به نویز و نیاز به انتخاب درست پارامترها اشاره کرد.\n",
    "\n",
    "خوشه بندی سلسله مراتبی یک روش یادگیری بدون نظارت برای خوشه بندی نقاط داده است. الگوریتم با اندازه‌گیری تفاوت‌های بین داده‌ها، خوشه‌ها را می‌سازد. یادگیری بدون نظارت به این معنی است که یک مدل نیازی به آموزش ندارد و ما به متغیر \"هدف\" نیاز نداریم. این روش را می توان بر روی هر داده ای برای تجسم و تفسیر رابطه بین نقاط داده فردی استفاده کرد.\n",
    "\n",
    "در اینجا ما از خوشه‌بندی سلسله مراتبی برای گروه‌بندی نقاط داده و تجسم خوشه‌ها با استفاده از نمودار دندروگرام و نمودار پراکندگی استفاده خواهیم کرد.\n",
    "\n",
    "\n",
    "<div style=\"border-top: 1px solid #ccc; margin: 10px 0; opacity: 0.4\"></div>\n",
    "\n",
    "ما از خوشه بندی انبوهی استفاده خواهیم کرد، نوعی از خوشه بندی سلسله مراتبی که از رویکرد پایین به بالا پیروی می کند. ما با در نظر گرفتن هر نقطه داده به عنوان خوشه خود شروع می کنیم. سپس، خوشه هایی را که کمترین فاصله را بین آنها دارند به هم می پیوندیم تا خوشه های بزرگتر ایجاد کنیم. این مرحله تا زمانی تکرار می شود که یک خوشه بزرگ حاوی تمام نقاط داده تشکیل شود.\n",
    "\n",
    "خوشه بندی سلسله مراتبی ما را ملزم به تصمیم گیری در مورد روش فاصله و پیوند می کند. ما از فاصله اقلیدسی و روش پیوند وارد استفاده خواهیم کرد، که تلاش می کند واریانس بین خوشه ها را به حداقل برساند.\n",
    "\n",
    "</section>"
   ]
  },
  {
   "cell_type": "code",
   "execution_count": 1,
   "metadata": {},
   "outputs": [
    {
     "data": {
      "image/png": "[encoded data removed]",
      "text/plain": [
       "<Figure size 640x480 with 1 Axes>"
      ]
     },
     "metadata": {},
     "output_type": "display_data"
    }
   ],
   "source": [
    "import numpy as np\n",
    "import matplotlib.pyplot as plt\n",
    "\n",
    "x = [4, 5, 10, 4, 3, 11, 14, 6, 10, 12]\n",
    "y = [21, 19, 24, 17, 16, 25, 24, 22, 21, 21]\n",
    "\n",
    "plt.scatter(x, y)\n",
    "plt.show()"
   ]
  },
  {
   "cell_type": "markdown",
   "metadata": {},
   "source": [
    "<section style=\"direction: rtl; text-align: justify; margin: 30px;\">\n",
    "\n",
    "اکنون پیوند بخش را با استفاده از فاصله اقلیدسی محاسبه می کنیم و آن را با استفاده از دندروگرام تجسم می کنیم:\n",
    "\n",
    "</section>"
   ]
  },
  {
   "cell_type": "code",
   "execution_count": 2,
   "metadata": {},
   "outputs": [
    {
     "data": {
      "image/png": "[encoded data removed]",
      "text/plain": [
       "<Figure size 640x480 with 1 Axes>"
      ]
     },
     "metadata": {},
     "output_type": "display_data"
    }
   ],
   "source": [
    "import numpy as np\n",
    "import matplotlib.pyplot as plt\n",
    "from scipy.cluster.hierarchy import dendrogram, linkage\n",
    "\n",
    "x = [4, 5, 10, 4, 3, 11, 14, 6, 10, 12]\n",
    "y = [21, 19, 24, 17, 16, 25, 24, 22, 21, 21]\n",
    "\n",
    "data = list(zip(x, y))\n",
    "\n",
    "linkage_data = linkage(data, method='ward', metric='euclidean')\n",
    "dendrogram(linkage_data)\n",
    "\n",
    "plt.show()"
   ]
  },
  {
   "cell_type": "markdown",
   "metadata": {},
   "source": [
    "<section style=\"direction: rtl; text-align: justify; margin: 30px;\">\n",
    "\n",
    "در اینجا، ما همین کار را با کتابخانه اسکیت یادگیری پایتون انجام می دهیم. سپس روی یک طرح دو بعدی تجسم کنید:\n",
    "\n",
    "</section>"
   ]
  },
  {
   "cell_type": "code",
   "execution_count": 8,
   "metadata": {},
   "outputs": [
    {
     "name": "stdout",
     "output_type": "stream",
     "text": [
      "[0 0 1 0 0 1 1 0 1 1]\n"
     ]
    },
    {
     "data": {
      "image/png": "[encoded data removed]",
      "text/plain": [
       "<Figure size 640x480 with 1 Axes>"
      ]
     },
     "metadata": {},
     "output_type": "display_data"
    }
   ],
   "source": [
    "import numpy as np\n",
    "import matplotlib.pyplot as plt\n",
    "from sklearn.cluster import AgglomerativeClustering\n",
    "\n",
    "x = [4, 5, 10, 4, 3, 11, 14, 6, 10, 12]\n",
    "y = [21, 19, 24, 17, 16, 25, 24, 22, 21, 21]\n",
    "\n",
    "data = list(zip(x, y))\n",
    "\n",
    "hierarchical_cluster = AgglomerativeClustering(\n",
    "    n_clusters=2, metric='euclidean', linkage='ward')\n",
    "labels = hierarchical_cluster.fit_predict(data)\n",
    "print(labels)\n",
    "\n",
    "plt.scatter(x, y, c=labels)\n",
    "plt.show()"
   ]
  },
  {
   "cell_type": "markdown",
   "metadata": {},
   "source": [
    "<section style=\"direction: rtl; text-align: justify; margin: 30px;\">\n",
    "\n",
    "**توضیحات مسأله**\n",
    "\n",
    "ماژول های مورد نیاز خود را وارد کنید.\n",
    "\n",
    "</section>"
   ]
  },
  {
   "cell_type": "code",
   "execution_count": 9,
   "metadata": {},
   "outputs": [],
   "source": [
    "import numpy as np\n",
    "import matplotlib.pyplot as plt\n",
    "from scipy.cluster.hierarchy import dendrogram, linkage\n",
    "from sklearn.cluster import AgglomerativeClustering"
   ]
  },
  {
   "cell_type": "markdown",
   "metadata": {},
   "source": [
    "<section style=\"direction: rtl; text-align: justify; margin: 30px;\">\n",
    "\n",
    "آرایه هایی ایجاد کنید که شبیه دو متغیر در یک مجموعه داده باشند. توجه داشته باشید که ما در اینجا فقط از دو متغیر استفاده می کنیم، این روش با هر تعداد متغیر کار می کند:\n",
    "\n",
    "</section>"
   ]
  },
  {
   "cell_type": "code",
   "execution_count": 10,
   "metadata": {},
   "outputs": [],
   "source": [
    "x = [4, 5, 10, 4, 3, 11, 14, 6, 10, 12]\n",
    "y = [21, 19, 24, 17, 16, 25, 24, 22, 21, 21]"
   ]
  },
  {
   "cell_type": "markdown",
   "metadata": {},
   "source": [
    "<section style=\"direction: rtl; text-align: justify; margin: 30px;\">\n",
    "\n",
    "داده ها را به مجموعه ای از نقاط تبدیل کنید:\n",
    "\n",
    "</section>"
   ]
  },
  {
   "cell_type": "code",
   "execution_count": 11,
   "metadata": {},
   "outputs": [
    {
     "name": "stdout",
     "output_type": "stream",
     "text": [
      "[(4, 21), (5, 19), (10, 24), (4, 17), (3, 16), (11, 25), (14, 24), (6, 22), (10, 21), (12, 21)]\n"
     ]
    }
   ],
   "source": [
    "data = list(zip(x, y))\n",
    "print(data)"
   ]
  },
  {
   "cell_type": "markdown",
   "metadata": {},
   "source": [
    "<section style=\"direction: rtl; text-align: justify; margin: 30px;\">\n",
    "\n",
    "ارتباط بین تمام نقاط مختلف را محاسبه کنید. در اینجا ما از یک اندازه گیری فاصله اقلیدسی ساده و Ward's linkage استفاده می کنیم، که به دنبال به حداقل رساندن واریانس بین خوشه ها است.\n",
    "\n",
    "</section>"
   ]
  },
  {
   "cell_type": "code",
   "execution_count": 12,
   "metadata": {},
   "outputs": [],
   "source": [
    "linkage_data = linkage(data, method='ward', metric='euclidean')"
   ]
  },
  {
   "cell_type": "markdown",
   "metadata": {},
   "source": [
    "<section style=\"direction: rtl; text-align: justify; margin: 30px;\">\n",
    "\n",
    "در نهایت نتایج را در دندروگرام رسم کنید. این نمودار سلسله مراتب خوشه ها را از پایین (نقاط منفرد) به بالا (یک خوشه منفرد متشکل از تمام نقاط داده) به ما نشان می دهد.\n",
    "\n",
    "()plt.show به ما اجازه می دهد به جای داده های پیوند خام، دندروگرام را تجسم کنیم.\n",
    "\n",
    "</section>"
   ]
  },
  {
   "cell_type": "code",
   "execution_count": 13,
   "metadata": {},
   "outputs": [
    {
     "data": {
      "image/png": "[encoded data removed]",
      "text/plain": [
       "<Figure size 640x480 with 1 Axes>"
      ]
     },
     "metadata": {},
     "output_type": "display_data"
    }
   ],
   "source": [
    "dendrogram(linkage_data)\n",
    "plt.show()"
   ]
  },
  {
   "cell_type": "markdown",
   "metadata": {},
   "source": [
    "<section style=\"direction: rtl; text-align: justify; margin: 30px;\">\n",
    "\n",
    "کتابخانه scikit-learn به ما امکان می دهد از خوشه بندی سلسله مراتبی به شیوه ای متفاوت استفاده کنیم. ابتدا، کلاس AgglomerativeClustering را با 2 خوشه، با استفاده از فاصله اقلیدسی و Ward linkage، مقداردهی اولیه می کنیم.\n",
    "\n",
    "</section>"
   ]
  },
  {
   "cell_type": "code",
   "execution_count": 17,
   "metadata": {},
   "outputs": [],
   "source": [
    "hierarchical_cluster = AgglomerativeClustering(\n",
    "    n_clusters=2, metric='euclidean', linkage='ward')"
   ]
  },
  {
   "cell_type": "markdown",
   "metadata": {},
   "source": [
    "<section style=\"direction: rtl; text-align: justify; margin: 30px;\">\n",
    "\n",
    "روش .fit_predict را می توان روی داده های ما برای محاسبه خوشه ها با استفاده از پارامترهای تعریف شده در تعداد خوشه های انتخابی ما فراخوانی کرد.\n",
    "\n",
    "</section>"
   ]
  },
  {
   "cell_type": "code",
   "execution_count": 19,
   "metadata": {},
   "outputs": [
    {
     "name": "stdout",
     "output_type": "stream",
     "text": [
      "[0 0 1 0 0 1 1 0 1 1]\n"
     ]
    }
   ],
   "source": [
    "labels = hierarchical_cluster.fit_predict(data)\n",
    "print(labels)"
   ]
  },
  {
   "cell_type": "markdown",
   "metadata": {},
   "source": [
    "<section style=\"direction: rtl; text-align: justify; margin: 30px;\">\n",
    "\n",
    "در نهایت، اگر همان داده‌ها را رسم کنیم و نقاط را با استفاده از برچسب‌هایی که با روش خوشه‌بندی سلسله مراتبی به هر شاخص اختصاص داده شده، رنگ کنیم، می‌توانیم خوشه‌ای را که هر نقطه به آن اختصاص داده شده است، ببینیم:\n",
    "\n",
    "</section>"
   ]
  },
  {
   "cell_type": "code",
   "execution_count": 20,
   "metadata": {},
   "outputs": [
    {
     "data": {
      "image/png": "[encoded data removed]",
      "text/plain": [
       "<Figure size 640x480 with 1 Axes>"
      ]
     },
     "metadata": {},
     "output_type": "display_data"
    }
   ],
   "source": [
    "plt.scatter(x, y, c=labels)\n",
    "plt.show()"
   ]
  },
  {
   "cell_type": "markdown",
   "metadata": {},
   "source": [
    "___\n",
    "\n",
    "Machine Learning - Logistic Regression\n",
    "\n",
    "<section style=\"direction: rtl; text-align: justify; margin: 30px;\">\n",
    "\n",
    "### **رگرسیون لاجستیک**\n",
    "\n",
    "🧠 رگرسیون لجستیک یک الگوریتم یادگیری ماشینی است که برای مسائل دسته‌بندی استفاده می‌شود. این الگوریتم بر اساس رگرسیون خطی استوار است اما برای مسائل دسته‌بندی بکار می‌رود.\n",
    "\n",
    "در الگوریتم رگرسیون لجستیک، ما دو مرحله اصلی داریم: آموزش و پیش‌بینی.\n",
    "\n",
    "۱. **آموزش**: در این مرحله، الگوریتم با استفاده از مجموعه داده‌های آموزشی، مدل خود را آموزش می‌دهد. این مدل با استفاده از توزیع لجستیک (یا sigmoid)، احتمال تعلق هر نمونه به هر یک از دسته‌ها را محاسبه می‌کند.\n",
    "\n",
    "۲. **پیش‌بینی**: در این مرحله، مدل آموزش دیده برای پیش‌بینی دسته‌ای که یک نمونه جدید به آن تعلق دارد، استفاده می‌شود. مدل احتمال تعلق نمونه جدید را به هر یک از دسته‌ها محاسبه کرده و سپس نمونه را به دسته‌ای که احتمال تعلق بیشتری دارد، تخصیص می‌دهد.\n",
    "\n",
    "برای آموزش مدل رگرسیون لجستیک، از تکنیک بهینه‌سازی مانند روش کاهش گرادیان یا روش‌های بهینه‌سازی دیگر استفاده می‌شود تا پارامترهای مدل (وزن‌ها) به‌طوری تنظیم شوند که خطای مدل کمینه شود و عملکرد دسته‌بندی بهینه باشد.\n",
    "\n",
    "به طور خلاصه، رگرسیون لجستیک یک الگوریتم دسته‌بندی است که احتمال تعلق یک نمونه به هر یک از دسته‌ها را محاسبه می‌کند و برای مسائل دسته‌بندی دو دسته‌ای (binary classification) و چند دسته‌ای (multiclass classification) استفاده می‌شود.\n",
    "\n",
    "\n",
    "<div style=\"border-top: 1px solid #ccc; margin: 10px 0; opacity: 0.4\"></div>\n",
    "\n",
    "هدف رگرسیون لجستیک حل مسائل طبقه بندی است. برخلاف رگرسیون خطی که یک نتیجه پیوسته را پیش‌بینی می‌کند، این کار را با پیش‌بینی نتایج طبقه‌بندی انجام می‌دهد.\n",
    "\n",
    "در ساده ترین حالت دو نتیجه وجود دارد که به آن دو جمله ای می گویند که یک مثال از آن پیش بینی بدخیم یا خوش خیم بودن تومور است. موارد دیگر بیش از دو نتیجه برای طبقه بندی دارند، در این مورد به آن چند جمله ای می گویند.\n",
    "یک مثال رایج برای رگرسیون لجستیک چند جمله ای، پیش بینی کلاس گل زنبق بین 3 گونه مختلف است.\n",
    "\n",
    "در اینجا ما از رگرسیون لجستیک پایه برای پیش بینی یک متغیر دوجمله ای استفاده خواهیم کرد. این بدان معناست که فقط دو نتیجه ممکن دارد.\n",
    "\n",
    "<div style=\"border-top: 1px solid #ccc; margin: 10px 0; opacity: 0.4\"></div>\n",
    "\n",
    "در پایتون ماژول هایی داریم که کار را برای ما انجام می دهند. با وارد کردن ماژول NumPy شروع کنید.\n",
    "\n",
    "</section>"
   ]
  },
  {
   "cell_type": "code",
   "execution_count": 1,
   "metadata": {},
   "outputs": [],
   "source": [
    "import numpy as np"
   ]
  },
  {
   "cell_type": "markdown",
   "metadata": {},
   "source": [
    "<section style=\"direction: rtl; text-align: justify; margin: 30px;\">\n",
    "\n",
    "متغیرهای مستقل را در X ذخیره کنید.\n",
    "\n",
    "متغیر وابسته را در y ذخیره کنید.\n",
    "\n",
    "در زیر یک مجموعه داده نمونه آورده شده است:\n",
    "\n",
    "</section>"
   ]
  },
  {
   "cell_type": "code",
   "execution_count": 2,
   "metadata": {},
   "outputs": [],
   "source": [
    "X = np.array([3.78, 2.44, 2.09, 0.14, 1.72, 1.65, 4.92,\n",
    "             4.37, 4.96, 4.52, 3.69, 5.88]).reshape(-1, 1)\n",
    "y = np.array([0, 0, 0, 0, 0, 0, 1, 1, 1, 1, 1, 1])"
   ]
  },
  {
   "cell_type": "markdown",
   "metadata": {},
   "source": [
    "<section style=\"direction: rtl; text-align: justify; margin: 30px;\">\n",
    "\n",
    "ما از روشی از ماژول sklearn استفاده خواهیم کرد، بنابراین باید آن ماژول را نیز وارد کنیم:\n",
    "\n",
    "</section>"
   ]
  },
  {
   "cell_type": "code",
   "execution_count": 3,
   "metadata": {},
   "outputs": [],
   "source": [
    "from sklearn import linear_model"
   ]
  },
  {
   "cell_type": "markdown",
   "metadata": {},
   "source": [
    "<section style=\"direction: rtl; text-align: justify; margin: 30px;\">\n",
    "\n",
    "از ماژول sklearn ما از متد LogisticRegression() برای ایجاد یک شی رگرسیون لجستیک استفاده خواهیم کرد.\n",
    "\n",
    "این شی دارای روشی به نام fit() است که مقادیر مستقل و وابسته را به عنوان پارامتر می گیرد و شی رگرسیون را با داده هایی پر می کند که رابطه را توصیف می کند:\n",
    "\n",
    "</section>"
   ]
  },
  {
   "cell_type": "code",
   "execution_count": 5,
   "metadata": {},
   "outputs": [
    {
     "data": {
      "text/html": [
       "<style>#sk-container-id-2 {color: black;}#sk-container-id-2 pre{padding: 0;}#sk-container-id-2 div.sk-toggleable {background-color: white;}#sk-container-id-2 label.sk-toggleable__label {cursor: pointer;display: block;width: 100%;margin-bottom: 0;padding: 0.3em;box-sizing: border-box;text-align: center;}#sk-container-id-2 label.sk-toggleable__label-arrow:before {content: \"▸\";float: left;margin-right: 0.25em;color: #696969;}#sk-container-id-2 label.sk-toggleable__label-arrow:hover:before {color: black;}#sk-container-id-2 div.sk-estimator:hover label.sk-toggleable__label-arrow:before {color: black;}#sk-container-id-2 div.sk-toggleable__content {max-height: 0;max-width: 0;overflow: hidden;text-align: left;background-color: #f0f8ff;}#sk-container-id-2 div.sk-toggleable__content pre {margin: 0.2em;color: black;border-radius: 0.25em;background-color: #f0f8ff;}#sk-container-id-2 input.sk-toggleable__control:checked~div.sk-toggleable__content {max-height: 200px;max-width: 100%;overflow: auto;}#sk-container-id-2 input.sk-toggleable__control:checked~label.sk-toggleable__label-arrow:before {content: \"▾\";}#sk-container-id-2 div.sk-estimator input.sk-toggleable__control:checked~label.sk-toggleable__label {background-color: #d4ebff;}#sk-container-id-2 div.sk-label input.sk-toggleable__control:checked~label.sk-toggleable__label {background-color: #d4ebff;}#sk-container-id-2 input.sk-hidden--visually {border: 0;clip: rect(1px 1px 1px 1px);clip: rect(1px, 1px, 1px, 1px);height: 1px;margin: -1px;overflow: hidden;padding: 0;position: absolute;width: 1px;}#sk-container-id-2 div.sk-estimator {font-family: monospace;background-color: #f0f8ff;border: 1px dotted black;border-radius: 0.25em;box-sizing: border-box;margin-bottom: 0.5em;}#sk-container-id-2 div.sk-estimator:hover {background-color: #d4ebff;}#sk-container-id-2 div.sk-parallel-item::after {content: \"\";width: 100%;border-bottom: 1px solid gray;flex-grow: 1;}#sk-container-id-2 div.sk-label:hover label.sk-toggleable__label {background-color: #d4ebff;}#sk-container-id-2 div.sk-serial::before {content: \"\";position: absolute;border-left: 1px solid gray;box-sizing: border-box;top: 0;bottom: 0;left: 50%;z-index: 0;}#sk-container-id-2 div.sk-serial {display: flex;flex-direction: column;align-items: center;background-color: white;padding-right: 0.2em;padding-left: 0.2em;position: relative;}#sk-container-id-2 div.sk-item {position: relative;z-index: 1;}#sk-container-id-2 div.sk-parallel {display: flex;align-items: stretch;justify-content: center;background-color: white;position: relative;}#sk-container-id-2 div.sk-item::before, #sk-container-id-2 div.sk-parallel-item::before {content: \"\";position: absolute;border-left: 1px solid gray;box-sizing: border-box;top: 0;bottom: 0;left: 50%;z-index: -1;}#sk-container-id-2 div.sk-parallel-item {display: flex;flex-direction: column;z-index: 1;position: relative;background-color: white;}#sk-container-id-2 div.sk-parallel-item:first-child::after {align-self: flex-end;width: 50%;}#sk-container-id-2 div.sk-parallel-item:last-child::after {align-self: flex-start;width: 50%;}#sk-container-id-2 div.sk-parallel-item:only-child::after {width: 0;}#sk-container-id-2 div.sk-dashed-wrapped {border: 1px dashed gray;margin: 0 0.4em 0.5em 0.4em;box-sizing: border-box;padding-bottom: 0.4em;background-color: white;}#sk-container-id-2 div.sk-label label {font-family: monospace;font-weight: bold;display: inline-block;line-height: 1.2em;}#sk-container-id-2 div.sk-label-container {text-align: center;}#sk-container-id-2 div.sk-container {/* jupyter's `normalize.less` sets `[hidden] { display: none; }` but bootstrap.min.css set `[hidden] { display: none !important; }` so we also need the `!important` here to be able to override the default hidden behavior on the sphinx rendered scikit-learn.org. See: https://github.com/scikit-learn/scikit-learn/issues/21755 */display: inline-block !important;position: relative;}#sk-container-id-2 div.sk-text-repr-fallback {display: none;}</style><div id=\"sk-container-id-2\" class=\"sk-top-container\"><div class=\"sk-text-repr-fallback\"><pre>LogisticRegression()</pre><b>In a Jupyter environment, please rerun this cell to show the HTML representation or trust the notebook. <br />On GitHub, the HTML representation is unable to render, please try loading this page with nbviewer.org.</b></div><div class=\"sk-container\" hidden><div class=\"sk-item\"><div class=\"sk-estimator sk-toggleable\"><input class=\"sk-toggleable__control sk-hidden--visually\" id=\"sk-estimator-id-2\" type=\"checkbox\" checked><label for=\"sk-estimator-id-2\" class=\"sk-toggleable__label sk-toggleable__label-arrow\">LogisticRegression</label><div class=\"sk-toggleable__content\"><pre>LogisticRegression()</pre></div></div></div></div></div>"
      ],
      "text/plain": [
       "LogisticRegression()"
      ]
     },
     "execution_count": 5,
     "metadata": {},
     "output_type": "execute_result"
    }
   ],
   "source": [
    "logr = linear_model.LogisticRegression()\n",
    "logr.fit(X, y)"
   ]
  },
  {
   "cell_type": "markdown",
   "metadata": {},
   "source": [
    "<section style=\"direction: rtl; text-align: justify; margin: 30px;\">\n",
    "\n",
    "اکنون ما یک شی رگرسیون لجستیک داریم که بر اساس اندازه تومور آماده است که آیا تومور سرطانی است یا خیر:\n",
    "\n",
    "</section>"
   ]
  },
  {
   "cell_type": "code",
   "execution_count": 6,
   "metadata": {},
   "outputs": [],
   "source": [
    "predicted = logr.predict(np.array([3.46]).reshape(-1, 1))"
   ]
  },
  {
   "cell_type": "code",
   "execution_count": 7,
   "metadata": {},
   "outputs": [
    {
     "name": "stdout",
     "output_type": "stream",
     "text": [
      "[0]\n"
     ]
    }
   ],
   "source": [
    "import numpy as np\n",
    "from sklearn import linear_model\n",
    "\n",
    "# Reshape for Logistic function\n",
    "X = np.array([3.78, 2.44, 2.09, 0.14, 1.72, 1.65, 4.92,\n",
    "             4.37, 4.96, 4.52, 3.69, 5.88]).reshape(-1, 1)\n",
    "y = np.array([0, 0, 0, 0, 0, 0, 1, 1, 1, 1, 1, 1])\n",
    "\n",
    "logr = linear_model.LogisticRegression()\n",
    "logr.fit(X, y)\n",
    "\n",
    "# Predict if tumor is cancerous where the size is 3.46mm:\n",
    "predicted = logr.predict(np.array([3.46]).reshape(-1, 1))\n",
    "print(predicted)"
   ]
  },
  {
   "cell_type": "markdown",
   "metadata": {},
   "source": [
    "<section style=\"direction: rtl; text-align: justify; margin: 30px;\">\n",
    "\n",
    "ما پیش بینی کرده ایم که توموری با اندازه 3.46 میلی متر سرطانی نخواهد بود.\n",
    "\n",
    "</section>"
   ]
  },
  {
   "cell_type": "markdown",
   "metadata": {},
   "source": [
    "<section style=\"direction: rtl; text-align: justify; margin: 30px;\">\n",
    "\n",
    "<div style=\"border-top: 1px solid #ccc; margin: 10px 0; opacity: 0.4\"></div>\n",
    "\n",
    "### **ضریب (Coefficient)**\n",
    "\n",
    "در رگرسیون لجستیک، ضریب تغییر مورد انتظار در شانس ورود نتیجه در واحد تغییر در X است.\n",
    "\n",
    "این شهودی ترین درک را ندارد، بنابراین بیایید از آن برای ایجاد چیزی استفاده کنیم که منطقی تر است، شانس.\n",
    "\n",
    "</section>"
   ]
  },
  {
   "cell_type": "code",
   "execution_count": 2,
   "metadata": {},
   "outputs": [
    {
     "name": "stdout",
     "output_type": "stream",
     "text": [
      "[[4.03541657]]\n"
     ]
    }
   ],
   "source": [
    "import numpy as np\n",
    "from sklearn import linear_model\n",
    "\n",
    "# Reshaped for Logistic function.\n",
    "X = np.array([3.78, 2.44, 2.09, 0.14, 1.72, 1.65, 4.92,\n",
    "             4.37, 4.96, 4.52, 3.69, 5.88]).reshape(-1, 1)\n",
    "y = np.array([0, 0, 0, 0, 0, 0, 1, 1, 1, 1, 1, 1])\n",
    "\n",
    "logr = linear_model.LogisticRegression()\n",
    "logr.fit(X, y)\n",
    "\n",
    "log_odds = logr.coef_\n",
    "odds = np.exp(log_odds)\n",
    "\n",
    "print(odds)"
   ]
  },
  {
   "cell_type": "markdown",
   "metadata": {},
   "source": [
    "<section style=\"direction: rtl; text-align: justify; margin: 30px;\">\n",
    "\n",
    "☝🏽☝🏽 این به ما می گوید که با افزایش 1 میلی متری اندازه تومور، احتمال سرطانی بودن آن 4 برابر افزایش می یابد.\n",
    "\n",
    "<div style=\"border-top: 1px solid #ccc; margin: 10px 0; opacity: 0.4\"></div>\n",
    "\n",
    "### **احتمال (Probability)**\n",
    "\n",
    "ضریب و مقادیر رهگیری را می توان برای یافتن احتمال سرطانی بودن هر تومور استفاده کرد.\n",
    "\n",
    "تابعی ایجاد کنید که از ضریب مدل و مقادیر قطع برای برگرداندن یک مقدار جدید استفاده کند. این مقدار جدید نشان دهنده احتمال این است که مشاهده داده شده یک تومور است:\n",
    "\n",
    "</section>"
   ]
  },
  {
   "cell_type": "code",
   "execution_count": 3,
   "metadata": {},
   "outputs": [],
   "source": [
    "def logit2prob(logr, x):\n",
    "    log_odds = logr.coef_ * x + logr.intercept_\n",
    "    odds = numpy.exp(log_odds)\n",
    "    probability = odds / (1 + odds)\n",
    "    return (probability)"
   ]
  },
  {
   "cell_type": "markdown",
   "metadata": {},
   "source": [
    "<section style=\"direction: rtl; text-align: justify; margin: 30px;\">\n",
    "\n",
    "### **توضیح تابع ☝🏽**\n",
    "\n",
    "برای یافتن log- شانس برای هر مشاهده، ابتدا باید فرمولی ایجاد کنیم که شبیه فرمولی از رگرسیون خطی باشد و ضریب و قطع را استخراج کنیم.\n",
    "\n",
    "\n",
    "</section>"
   ]
  },
  {
   "cell_type": "code",
   "execution_count": null,
   "metadata": {},
   "outputs": [],
   "source": [
    "log_odds = logr.coef_ * x + logr.intercept_"
   ]
  },
  {
   "cell_type": "markdown",
   "metadata": {},
   "source": [
    "<section style=\"direction: rtl; text-align: justify; margin: 30px;\">\n",
    "\n",
    "سپس برای تبدیل log-odds به شانس، باید log-odds را افزایش دهیم.\n",
    "\n",
    "</section>"
   ]
  },
  {
   "cell_type": "code",
   "execution_count": null,
   "metadata": {},
   "outputs": [],
   "source": [
    "odds = numpy.exp(log_odds)"
   ]
  },
  {
   "cell_type": "markdown",
   "metadata": {},
   "source": [
    "<section style=\"direction: rtl; text-align: justify; margin: 30px;\">\n",
    "\n",
    "اکنون که شانس را داریم، می توانیم با تقسیم آن بر 1 به اضافه شانس، آن را به احتمال تبدیل کنیم.\n",
    "\n",
    "</section>"
   ]
  },
  {
   "cell_type": "code",
   "execution_count": 5,
   "metadata": {},
   "outputs": [],
   "source": [
    "probability = odds / (1 + odds)"
   ]
  },
  {
   "cell_type": "markdown",
   "metadata": {},
   "source": [
    "<section style=\"direction: rtl; text-align: justify; margin: 30px;\">\n",
    "\n",
    "اکنون اجازه دهید از تابع با آنچه آموخته ایم استفاده کنیم تا احتمال سرطانی بودن هر تومور را دریابیم.\n",
    "\n",
    "</section>\n",
    "👇👇"
   ]
  },
  {
   "cell_type": "code",
   "execution_count": 6,
   "metadata": {},
   "outputs": [
    {
     "name": "stdout",
     "output_type": "stream",
     "text": [
      "[[0.60749955]\n",
      " [0.19268876]\n",
      " [0.12775886]\n",
      " [0.00955221]\n",
      " [0.08038616]\n",
      " [0.07345637]\n",
      " [0.88362743]\n",
      " [0.77901378]\n",
      " [0.88924409]\n",
      " [0.81293497]\n",
      " [0.57719129]\n",
      " [0.96664243]]\n"
     ]
    }
   ],
   "source": [
    "import numpy\n",
    "from sklearn import linear_model\n",
    "\n",
    "X = numpy.array([3.78, 2.44, 2.09, 0.14, 1.72, 1.65, 4.92,\n",
    "                4.37, 4.96, 4.52, 3.69, 5.88]).reshape(-1, 1)\n",
    "y = numpy.array([0, 0, 0, 0, 0, 0, 1, 1, 1, 1, 1, 1])\n",
    "\n",
    "logr = linear_model.LogisticRegression()\n",
    "logr.fit(X, y)\n",
    "\n",
    "\n",
    "def logit2prob(logr, X):\n",
    "    log_odds = logr.coef_ * X + logr.intercept_\n",
    "    odds = numpy.exp(log_odds)\n",
    "    probability = odds / (1 + odds)\n",
    "    return (probability)\n",
    "\n",
    "\n",
    "print(logit2prob(logr, X))"
   ]
  },
  {
   "cell_type": "markdown",
   "metadata": {},
   "source": [
    "<section style=\"direction: rtl; text-align: justify; margin: 30px;\">\n",
    "\n",
    "3.78 0.61 احتمال سرطانی بودن تومور با اندازه 3.78 سانتی متر 61 درصد است.\n",
    "\n",
    "2.44 0.19 احتمال سرطانی بودن تومور با اندازه 2.44 سانتی متر 19 درصد است.\n",
    "\n",
    "2.09 0.13 احتمال سرطانی بودن توموری با اندازه 2.09 سانتی متر 13 درصد است.\n",
    "\n",
    "</section>"
   ]
  }
 ],
 "metadata": {
  "kernelspec": {
   "display_name": "Python 3",
   "language": "python",
   "name": "python3"
  },
  "language_info": {
   "codemirror_mode": {
    "name": "ipython",
    "version": 3
   },
   "file_extension": ".py",
   "mimetype": "text/x-python",
   "name": "python",
   "nbconvert_exporter": "python",
   "pygments_lexer": "ipython3",
   "version": "3.10.12"
  }
 },
 "nbformat": 4,
 "nbformat_minor": 2
}
