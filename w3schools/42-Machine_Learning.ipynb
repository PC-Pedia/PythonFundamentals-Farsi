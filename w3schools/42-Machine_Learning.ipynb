{
 "cells": [
  {
   "cell_type": "markdown",
   "metadata": {},
   "source": [
    "Machine Learning\n",
    "\n",
    "<section style=\"direction: rtl; text-align: justify; margin: 30px;\">\n",
    "\n",
    "## **یادگیری ماشین**\n",
    "\n",
    "🧠 یادگیری ماشین یک روش در علوم کامپیوتر و هوش مصنوعی است که به ماشین‌ها و کامپیوترها اجازه می‌دهد از داده‌ها یاد بگیرند و بدون نیاز به برنامه‌ریزی صریح، الگوها و الگوریتم‌هایی را شناسایی کنند. در واقع، هدف اصلی یادگیری ماشین این است که به ماشین‌ها امکان بدهد از داده‌های ورودی موجود، قوانین یا الگوهایی را استخراج کرده و درک کنند تا بتوانند پیش‌بینی کنند یا تصمیماتی را اتخاذ کنند.\n",
    "\n",
    "این فرایند به صورت کلی شامل چند مرحله است:\n",
    "\n",
    "1. **تجمیع داده**: ابتدا داده‌های مورد نیاز برای آموزش ماشین جمع‌آوری می‌شود. این داده ممکن است اطلاعاتی از مشاهدات، تجربیات، یا هر نوع دیگری از منابع باشد.\n",
    "\n",
    "2. **پیش‌پردازش داده**: در این مرحله، داده‌ها پیش‌پردازش می‌شوند تا به شکلی مناسب برای ورود به مدل یادگیری ماشین تبدیل شوند، این شامل حذف داده‌های نامناسب، تبدیل داده‌های متنی به بردارهای عددی و اقدامات مشابه است.\n",
    "\n",
    "3. **انتخاب مدل**: در این مرحله، یک مدل یادگیری ماشین انتخاب می‌شود که بهترین عملکرد را برای مسئله‌ی مورد نظر داشته باشد. این مدل ممکن است از دسته‌های مختلفی مانند درخت تصمیم، شبکه‌های عصبی، یا روش‌های دیگر باشد.\n",
    "\n",
    "4. **آموزش مدل**: در این مرحله، مدل انتخاب شده با استفاده از داده‌های آموزشی آموزش داده می‌شود، به این معنی که به مدل داده می‌شود تا الگوهای موجود در داده‌های آموزشی را بیاموزد.\n",
    "\n",
    "5. **ارزیابی مدل**: پس از آموزش مدل، عملکرد آن با استفاده از داده‌های آزمون یا داده‌های جدیدی که قبلاً دیده نشده‌اند، ارزیابی می‌شود.\n",
    "\n",
    "6. **پیش‌بینی و استفاده از مدل**: در این مرحله، مدل آموزش دیده شده برای پیش‌بینی یا انجام وظایف خاصی در داده‌های جدید استفاده می‌شود.\n",
    "\n",
    "این فرآیند یک چرخه است که به طور معمول بهبود مدل با تغییرات در داده‌ها یا معماری مدل ادامه پیدا می‌کند.\n",
    "\n",
    "در این آموزش به ریاضیات و آمار مطالعه و نحوه محاسبه اعداد مهم بر اساس مجموعه داده ها باز خواهیم گشت.\n",
    "\n",
    "همچنین یاد خواهیم گرفت که چگونه از ماژول های مختلف پایتون برای دریافت پاسخ های مورد نیاز خود استفاده کنیم.\n",
    "\n",
    "و ما یاد خواهیم گرفت که چگونه توابعی بسازیم که قادر به پیش بینی نتیجه بر اساس آموخته هایمان باشند.\n",
    "\n",
    "در ذهن یک کامپیوتر، مجموعه داده هر مجموعه ای از داده ها است. این می تواند هر چیزی از یک آرایه گرفته تا یک پایگاه داده کامل باشد.\n",
    "\n",
    "نمونه ای از آرایه:\n",
    "\n",
    "</section>"
   ]
  },
  {
   "cell_type": "code",
   "execution_count": null,
   "metadata": {},
   "outputs": [],
   "source": [
    "[99, 86, 87, 88, 111, 86, 103, 87, 94, 78, 77, 85, 86]"
   ]
  },
  {
   "cell_type": "markdown",
   "metadata": {},
   "source": [
    "<section style=\"direction: rtl; text-align: justify; margin: 30px;\">\n",
    "\n",
    "نمونه ای از پایگاه داده:\n",
    "\n",
    "</secion>"
   ]
  },
  {
   "cell_type": "code",
   "execution_count": 2,
   "metadata": {},
   "outputs": [
    {
     "name": "stdout",
     "output_type": "stream",
     "text": [
      "   Carname  Color  Age  Speed AutoPass\n",
      "0      BMW    red    5     99        Y\n",
      "1    Volvo  black    7     86        Y\n",
      "2       VW   gray    8     87        N\n",
      "3       VW  white    7     88        Y\n",
      "4     Ford  white    2    111        Y\n",
      "5       VW  white   17     86        Y\n",
      "6    Tesla    red    2    103        Y\n",
      "7      BMW  black    9     87        Y\n",
      "8    Volvo   gray    4     94        N\n",
      "9     Ford  white   11     78        N\n",
      "10  Toyota   gray   12     77        N\n",
      "11      VW  white    9     85        N\n",
      "12  Toyota   blue    6     86        Y\n"
     ]
    }
   ],
   "source": [
    "import pandas as pd\n",
    "import os\n",
    "\n",
    "folder_name = 'src'\n",
    "file_name = 'cars.csv'\n",
    "\n",
    "file_path = os.path.join(folder_name, file_name)\n",
    "\n",
    "dataset = pd.read_csv(file_path)\n",
    "\n",
    "print(dataset)"
   ]
  },
  {
   "cell_type": "markdown",
   "metadata": {},
   "source": [
    "<section style=\"direction: rtl; text-align: justify; margin: 30px;\">\n",
    "\n",
    "با نگاه کردن به آرایه می توان حدس زد که مقدار متوسط ​​احتمالاً حدود 80 یا 90 است و همچنین می توانیم بالاترین مقدار و کمترین مقدار را تعیین کنیم، اما چه کار دیگری می توانیم انجام دهیم؟\n",
    "\n",
    "با نگاه کردن به پایگاه داده می توانیم متوجه شویم که محبوب ترین رنگ سفید است و قدیمی ترین خودرو 17 سال سن دارد، اما اگر بتوانیم فقط با نگاه کردن به مقادیر دیگر پیش بینی کنیم که آیا یک خودرو دارای AutoPass است چه می شود؟\n",
    "\n",
    "یادگیری ماشین برای همین است! تجزیه و تحلیل داده ها و پیش بینی نتیجه!\n",
    "\n",
    "⚠️ در یادگیری ماشین کار با مجموعه داده های بسیار بزرگ رایج است. در این آموزش سعی خواهیم کرد تا حد امکان درک مفاهیم مختلف یادگیری ماشین را آسان کنیم و با مجموعه داده های کوچک و قابل درک کار خواهیم کرد.\n",
    "\n",
    "<div style=\"border-top: 1px solid #ccc; margin: 10px 0;\"></div>\n",
    "\n",
    "<div style=\"border-top: 1px solid #ccc; margin: 10px 0;\"></div>\n",
    "\n",
    "</secion>"
   ]
  },
  {
   "cell_type": "markdown",
   "metadata": {},
   "source": [
    "<section style=\"direction: rtl; text-align: justify; margin: 30px;\">\n",
    "\n",
    "### **نوع داده‌ها**\n",
    "\n",
    "برای تجزیه و تحلیل داده ها، مهم است که بدانیم با چه نوع داده ای سروکار داریم.\n",
    "\n",
    "ما می توانیم انواع داده ها را به سه دسته اصلی تقسیم کنیم:\n",
    "\n",
    "- عددی\n",
    "- موضوعی\n",
    "- ترتیبی\n",
    "\n",
    "داده های عددی اعداد هستند و می توانند به دو دسته عددی تقسیم شوند:\n",
    "\n",
    "- داده های گسسته\n",
    "\n",
    "    - داده های شمارش شده که به اعداد صحیح محدود می شوند. مثال: تعداد خودروهای عبوری.\n",
    "- داده‌های پیوسته\n",
    "\n",
    "    - داده های اندازه گیری شده که می تواند هر عددی باشد. مثال: قیمت یک کالا یا اندازه یک کالا\n",
    "\n",
    "داده های طبقه بندی یا موضوعی مقادیری هستند که نمی توان آنها را با یکدیگر اندازه گیری کرد. مثال: یک مقدار رنگ، یا هر مقدار بله/خیر.\n",
    "\n",
    "داده‌های ترتیبی مانند داده‌های طبقه‌بندی هستند، اما می‌توانند با یکدیگر اندازه‌گیری شوند. مثال: نمرات مدرسه که در آن A بهتر از B است و غیره.\n",
    "\n",
    "با دانستن نوع داده منبع داده خود، قادر خواهید بود بدانید هنگام تجزیه و تحلیل آنها از چه تکنیکی استفاده کنید.\n",
    "\n",
    "در فصل های بعدی با آمار و تجزیه و تحلیل داده ها بیشتر آشنا خواهید شد.\n",
    "\n",
    "</secion>"
   ]
  },
  {
   "cell_type": "markdown",
   "metadata": {},
   "source": [
    "<div style=\"border-top: 1px solid #ccc; margin: 10px 0;\"></div>\n",
    "<div style=\"border-top: 1px solid #ccc; margin: 10px 0;\"></div>\n",
    "\n",
    "<section style=\"direction: rtl; text-align: justify; margin: 30px;\">\n",
    "\n",
    "### **توضیحات تکمیلی در مورد داده‌های گسسته و پیوسته**\n",
    "\n",
    "در زمینه‌ی علوم کامپیوتر و آمار، داده‌ها می‌توانند به دو دسته‌ی اصلی تقسیم شوند: داده‌های گسسته و داده‌های پیوسته.\n",
    "\n",
    "1. **داده‌های گسسته (Discrete Data)**:\n",
    "   - داده‌های گسسته مقادیری هستند که متناهی یا شمارا هستند، به عبارت دیگر، این داده‌ها مقادیری دارند که معمولاً از یک مجموعه متناهی یا شمارا انتخاب می‌شوند.\n",
    "   - مثال‌هایی از داده‌های گسسته شامل تعداد کلیک‌ها بر روی یک تبلیغ در اینترنت، تعداد دانشجوهای حاضر در یک کلاس، تعداد قطعات محصول در یک کارخانه و غیره می‌شود.\n",
    "   - داده‌های گسسته معمولاً با استفاده از اعداد صحیح نمایش داده می‌شوند و می‌توانند شامل نوعی شمارش یا تعداد باشند.\n",
    "\n",
    "2. **داده‌های پیوسته (Continuous Data)**:\n",
    "   - داده‌های پیوسته مقادیری هستند که می‌توانند در یک بازه‌ی پیوسته از مقادیر اعداد حقیقی باشند.\n",
    "   - مثال‌هایی از داده‌های پیوسته شامل قد افراد، وزن، دما، زمان، و غیره می‌شود.\n",
    "   - داده‌های پیوسته معمولاً با استفاده از اعداد اعشاری نمایش داده می‌شوند و ممکن است هر مقدار ممکن در یک بازه مشخص را بپذیرند.\n",
    "\n",
    "مقایسه:\n",
    "- در داده‌های گسسته، مقادیر متمایز و مجزا هستند، در حالی که در داده‌های پیوسته، مقادیر می‌توانند در یک بازه‌ی بی‌نهایت اعداد حقیقی باشند.\n",
    "- داده‌های گسسته معمولاً با اعداد صحیح نمایش داده می‌شوند، در حالی که داده‌های پیوسته معمولاً با اعداد اعشاری نمایش داده می‌شوند.\n",
    "- در تجزیه و تحلیل داده‌های گسسته، معمولاً از روش‌های گسسته‌سازی و توزیع‌های احتمال گسسته استفاده می‌شود، در حالی که در داده‌های پیوسته، از روش‌ها و توزیع‌های احتمال پیوسته استفاده می‌شود.\n",
    "\n",
    "در واقع، این تفاوت‌ها نقش مهمی در انتخاب و استفاده از روش‌های مختلف تجزیه و تحلیل داده و تصمیم‌گیری‌های مربوط به آن‌ها ایفا می‌کنند.\n",
    "\n",
    "</secion>"
   ]
  },
  {
   "cell_type": "markdown",
   "metadata": {},
   "source": [
    "___\n",
    "\n",
    "Machine Learning - Mean Median Mode\n",
    "\n",
    "<section style=\"direction: rtl; text-align: justify; margin: 30px;\">\n",
    "\n",
    "### **توضیحات تکمیلی در مورد داده‌های گسسته و پیوسته**\n",
    "\n",
    "از نگاه کردن به گروهی از اعداد چه چیزی می توانیم یاد بگیریم؟\n",
    "\n",
    "در یادگیری ماشینی (و در ریاضیات) اغلب سه ارزش وجود دارد که به ما علاقه دارد:\n",
    "\n",
    "- میانگین - مقدار متوسط\n",
    "- میانه - مقدار نقطه میانی\n",
    "- حالت - رایج ترین مقدار\n",
    "\n",
    "مثال: سرعت 13 خودرو را ثبت کرده ایم:\n",
    "\n",
    "</secion>"
   ]
  },
  {
   "cell_type": "code",
   "execution_count": 1,
   "metadata": {},
   "outputs": [],
   "source": [
    "speed = [99, 86, 87, 88, 111, 86, 103, 87, 94, 78, 77, 85, 86]"
   ]
  },
  {
   "cell_type": "markdown",
   "metadata": {},
   "source": [
    "<section style=\"direction: rtl; text-align: justify; margin: 30px;\">\n",
    "\n",
    "### **میانگین (Mean)**\n",
    "\n",
    "میانگین، متوسط ​​یا رایج ترین مقدار سرعت چیست؟\n",
    "\n",
    "مقدار متوسط، مقدار متوسط ​​است.\n",
    "\n",
    "برای محاسبه میانگین، مجموع همه مقادیر را بیابید و مجموع را بر تعداد مقادیر تقسیم کنید:\n",
    "\n",
    "</secion>"
   ]
  },
  {
   "cell_type": "code",
   "execution_count": 3,
   "metadata": {},
   "outputs": [
    {
     "name": "stdout",
     "output_type": "stream",
     "text": [
      "89.76923076923077\n"
     ]
    }
   ],
   "source": [
    "import numpy as np\n",
    "\n",
    "speed = [99, 86, 87, 88, 111, 86, 103, 87, 94, 78, 77, 85, 86]\n",
    "\n",
    "x = np.mean(speed)\n",
    "\n",
    "print(x)"
   ]
  },
  {
   "cell_type": "markdown",
   "metadata": {},
   "source": [
    "<section style=\"direction: rtl; text-align: justify; margin: 30px;\">\n",
    "\n",
    "### **میانه (Median)**\n",
    "\n",
    "پس از اینکه همه مقادیر را مرتب کردید، مقدار میانه مقدار وسط است:\n",
    "\n",
    "⚠️ قبل از اینکه بتوانید میانه را پیدا کنید، مهم است که اعداد مرتب شوند.\n",
    "\n",
    "ماژول NumPy روشی برای این کار دارد:\n",
    "\n",
    "</secion>"
   ]
  },
  {
   "cell_type": "code",
   "execution_count": 4,
   "metadata": {},
   "outputs": [
    {
     "name": "stdout",
     "output_type": "stream",
     "text": [
      "87.0\n"
     ]
    }
   ],
   "source": [
    "import numpy as np\n",
    "\n",
    "speed = [99, 86, 87, 88, 111, 86, 103, 87, 94, 78, 77, 85, 86]\n",
    "\n",
    "x = np.median(speed)\n",
    "\n",
    "print(x)"
   ]
  },
  {
   "cell_type": "markdown",
   "metadata": {},
   "source": [
    "<section style=\"direction: rtl; text-align: justify; margin: 30px;\">\n",
    "\n",
    "⚠️ اگر دو عدد در وسط بود، مجموع آن اعداد را بر دو تقسیم کنید.\n",
    "\n",
    "</secion>"
   ]
  },
  {
   "cell_type": "code",
   "execution_count": 5,
   "metadata": {},
   "outputs": [
    {
     "name": "stdout",
     "output_type": "stream",
     "text": [
      "86.5\n"
     ]
    }
   ],
   "source": [
    "import numpy as np\n",
    "\n",
    "speed = [99, 86, 87, 88, 86, 103, 87, 94, 78, 77, 85, 86]\n",
    "\n",
    "x = np.median(speed)\n",
    "\n",
    "print(x)"
   ]
  },
  {
   "cell_type": "markdown",
   "metadata": {},
   "source": [
    "<section style=\"direction: rtl; text-align: justify; margin: 30px;\">\n",
    "\n",
    "### **بیشینه (Mode)**\n",
    "\n",
    "مقدار Mode مقداری است که بیشتر از همه ظاهر می شود:\n",
    "\n",
    "ماژول SciPy روشی برای این کار دارد.\n",
    "\n",
    "</secion>"
   ]
  },
  {
   "cell_type": "code",
   "execution_count": 6,
   "metadata": {},
   "outputs": [
    {
     "name": "stdout",
     "output_type": "stream",
     "text": [
      "ModeResult(mode=86, count=3)\n"
     ]
    }
   ],
   "source": [
    "from scipy import stats\n",
    "\n",
    "speed = [99, 86, 87, 88, 111, 86, 103, 87, 94, 78, 77, 85, 86]\n",
    "\n",
    "x = stats.mode(speed)\n",
    "\n",
    "print(x)"
   ]
  },
  {
   "cell_type": "markdown",
   "metadata": {},
   "source": [
    "<section style=\"direction: rtl; text-align: justify; margin: 30px;\">\n",
    "\n",
    "میانگین، میانه و بیشینه تکنیک هایی هستند که اغلب در یادگیری ماشینی استفاده می‌شوند، بنابراین درک مفهوم پشت آن ها مهم است.\n",
    "\n",
    "</secion>"
   ]
  },
  {
   "cell_type": "markdown",
   "metadata": {},
   "source": [
    "___\n",
    "\n",
    "Machine Learning - Standard Deviation\n",
    "\n",
    "<section style=\"direction: rtl; text-align: justify; margin: 30px;\">\n",
    "\n",
    "### **انحراف استاندارد**\n",
    "\n",
    "انحراف استاندارد عددی است که میزان پراکندگی مقادیر را توصیف می کند.\n",
    "\n",
    "انحراف استاندارد پایین به این معنی است که بیشتر اعداد به مقدار میانگین (متوسط) نزدیک هستند.\n",
    "\n",
    "انحراف استاندارد بالا به این معنی است که مقادیر در محدوده وسیع تری پخش می شوند.\n",
    "\n",
    "مثال: این بار سرعت 7 خودرو را ثبت کرده ایم:\n",
    "\n",
    "</secion>"
   ]
  },
  {
   "cell_type": "code",
   "execution_count": 7,
   "metadata": {},
   "outputs": [],
   "source": [
    "speed = [86, 87, 88, 86, 87, 85, 86]"
   ]
  },
  {
   "cell_type": "markdown",
   "metadata": {},
   "source": [
    "<section style=\"direction: rtl; text-align: justify; margin: 30px;\">\n",
    "\n",
    "انحراف معیار ۰.۹ است.\n",
    "\n",
    "به این معنی که اکثر مقادیر در محدوده 0.9 از مقدار میانگین هستند که 86.4 است.\n",
    "\n",
    "اجازه دهید همین کار را با مجموعه ای از اعداد با دامنه وسیع تر انجام دهیم:\n",
    "\n",
    "</secion>"
   ]
  },
  {
   "cell_type": "code",
   "execution_count": 8,
   "metadata": {},
   "outputs": [],
   "source": [
    "speed = [32, 111, 138, 28, 59, 77, 97]"
   ]
  },
  {
   "cell_type": "markdown",
   "metadata": {},
   "source": [
    "<section style=\"direction: rtl; text-align: justify; margin: 30px;\">\n",
    "\n",
    "انحراف معیار این لیست ۳۷.۸۵ است.\n",
    "\n",
    "به این معنی که اکثر مقادیر در محدوده 37.85 از مقدار میانگین قرار دارند که 77.4 است.\n",
    "\n",
    "همانطور که می بینید، انحراف استاندارد بالاتر نشان می دهد که مقادیر در محدوده وسیع تری پخش شده اند.\n",
    "\n",
    "ماژول NumPy روشی برای محاسبه انحراف استاندارد دارد:\n",
    "\n",
    "</secion>"
   ]
  },
  {
   "cell_type": "code",
   "execution_count": 14,
   "metadata": {},
   "outputs": [
    {
     "name": "stdout",
     "output_type": "stream",
     "text": [
      "0.9\n"
     ]
    }
   ],
   "source": [
    "import numpy as np\n",
    "\n",
    "speed = [86, 87, 88, 86, 87, 85, 86]\n",
    "\n",
    "x = np.std(speed)\n",
    "\n",
    "print(format(x, '.1f'))"
   ]
  },
  {
   "cell_type": "code",
   "execution_count": 12,
   "metadata": {},
   "outputs": [
    {
     "name": "stdout",
     "output_type": "stream",
     "text": [
      "37.85\n"
     ]
    }
   ],
   "source": [
    "import numpy as np\n",
    "\n",
    "speed = [32, 111, 138, 28, 59, 77, 97]\n",
    "\n",
    "x = np.std(speed)\n",
    "\n",
    "print(format(x, '.2f'))"
   ]
  },
  {
   "cell_type": "markdown",
   "metadata": {},
   "source": [
    "<div style=\"border-top: 1px solid #ccc; margin: 10px 0;\"></div>\n",
    "\n",
    "<section style=\"direction: rtl; text-align: justify; margin: 30px;\">\n",
    "\n",
    "واریانس عدد دیگری است که میزان پراکندگی مقادیر را نشان می دهد.\n",
    "\n",
    "در واقع، اگر جذر واریانس را بگیرید، انحراف معیار را دریافت می کنید!\n",
    "\n",
    "یا برعکس، اگر انحراف معیار را در خودش ضرب کنید، واریانس به دست می آید!\n",
    "\n",
    "برای محاسبه واریانس باید به صورت زیر عمل کنید:\n",
    "\n",
    "</secion>"
   ]
  },
  {
   "cell_type": "markdown",
   "metadata": {},
   "source": [
    "<section style=\"direction: rtl; text-align: justify; margin: 30px;\">\n",
    "\n",
    "1. میانگین را پیدا کنید:\n",
    "\n",
    "</section>\n",
    "\n",
    "(32+111+138+28+59+77+97) / 7 = 77.4"
   ]
  },
  {
   "cell_type": "markdown",
   "metadata": {},
   "source": [
    "<section style=\"direction: rtl; text-align: justify; margin: 30px;\">\n",
    "\n",
    "2. برای هر مقدار: تفاوت را از میانگین بیابید:\n",
    "\n",
    "</section>\n",
    "\n",
    "32 - 77.4 = -45.4  \n",
    "111 - 77.4 =  33.6  \n",
    "138 - 77.4 =  60.6  \n",
    "28 - 77.4 = -49.4  \n",
    "59 - 77.4 = -18.4  \n",
    "77 - 77.4 = - 0.4  \n",
    "97 - 77.4 =  19.6  "
   ]
  },
  {
   "cell_type": "markdown",
   "metadata": {},
   "source": [
    "<section style=\"direction: rtl; text-align: justify; margin: 30px;\">\n",
    "\n",
    "3. برای هر تفاوت: مقدار مربع را پیدا کنید:\n",
    "\n",
    "</section>\n",
    "\n",
    "(-45.4)2 = 2061.16  \n",
    "(33.6)2 = 1128.96  \n",
    "(60.6)2 = 3672.36  \n",
    "(-49.4)2 = 2440.36  \n",
    "(-18.4)2 = 338.56  \n",
    "(- 0.4)2 = 0.16  \n",
    "(19.6)2 =  384.16  "
   ]
  },
  {
   "cell_type": "markdown",
   "metadata": {},
   "source": [
    "<section style=\"direction: rtl; text-align: justify; margin: 30px;\">\n",
    "\n",
    "4. واریانس میانگین تعداد این اختلافات مجذور است:\n",
    "\n",
    "</section>\n",
    "\n",
    "(2061.16+1128.96+3672.36+2440.36+338.56+0.16+384.16) / 7 = 1432.2"
   ]
  },
  {
   "cell_type": "markdown",
   "metadata": {},
   "source": [
    "<section style=\"direction: rtl; text-align: justify; margin: 30px;\">\n",
    "\n",
    "خوشبختانه، NumPy روشی برای محاسبه واریانس دارد:\n",
    "\n",
    "</section>"
   ]
  },
  {
   "cell_type": "code",
   "execution_count": 2,
   "metadata": {},
   "outputs": [
    {
     "name": "stdout",
     "output_type": "stream",
     "text": [
      "1432.2448979591834\n"
     ]
    }
   ],
   "source": [
    "import numpy as np\n",
    "\n",
    "speed = [32, 111, 138, 28, 59, 77, 97]\n",
    "\n",
    "x = np.var(speed)\n",
    "\n",
    "print(x)"
   ]
  },
  {
   "cell_type": "markdown",
   "metadata": {},
   "source": [
    "<div style=\"border-top: 1px solid #ccc; margin: 10px 0;\"></div>\n",
    "\n",
    "<section style=\"direction: rtl; text-align: justify; margin: 30px;\">\n",
    "\n",
    "همانطور که آموختیم، فرمول برای یافتن انحراف معیار، جذر واریانس است:\n",
    "\n",
    "</section>\n",
    "\n",
    "√1432.25 = 37.85\n",
    "\n",
    "<section style=\"direction: rtl; text-align: justify; margin: 30px;\">\n",
    "\n",
    "یا، مانند مثال قبلی، از NumPy برای محاسبه انحراف استاندارد استفاده می‌کنیم:\n",
    "\n",
    "</section>"
   ]
  },
  {
   "cell_type": "code",
   "execution_count": 3,
   "metadata": {},
   "outputs": [
    {
     "name": "stdout",
     "output_type": "stream",
     "text": [
      "37.84501153334721\n"
     ]
    }
   ],
   "source": [
    "import numpy as np\n",
    "\n",
    "speed = [32, 111, 138, 28, 59, 77, 97]\n",
    "\n",
    "x = np.std(speed)\n",
    "\n",
    "print(x)"
   ]
  },
  {
   "cell_type": "markdown",
   "metadata": {},
   "source": [
    "<section style=\"direction: rtl; text-align: justify; margin: 30px;\">\n",
    "\n",
    "انحراف استاندارد اغلب با نماد Sigma نشان داده می شود: σ\n",
    "\n",
    "واریانس اغلب با نماد Sigma Squared: σ2 نشان داده می شود\n",
    "\n",
    "انحراف استاندارد و واریانس اصطلاحاتی هستند که اغلب در یادگیری ماشینی استفاده می شوند، بنابراین درک نحوه به دست آوردن آنها و مفهوم پشت آنها بسیار مهم است.\n",
    "\n",
    "</section>"
   ]
  },
  {
   "cell_type": "markdown",
   "metadata": {},
   "source": [
    "___\n",
    "\n",
    "Machine Learning - Percentiles\n",
    "\n",
    "<section style=\"direction: rtl; text-align: justify; margin: 30px;\">\n",
    "\n",
    "### **درصدها**\n",
    "\n",
    "از صدک ها در آمار استفاده می شود تا به شما عددی بدهند که مقداری را که درصد معینی از مقادیر کمتر از آن است را توصیف کند.\n",
    "\n",
    "مثال: فرض کنید مجموعه ای از سنین همه مردمی که در یک خیابان زندگی می کنند داریم.\n",
    "\n",
    "</section>"
   ]
  },
  {
   "cell_type": "code",
   "execution_count": 4,
   "metadata": {},
   "outputs": [],
   "source": [
    "ages = [5, 31, 43, 48, 50, 41, 7, 11, 15, 39,\n",
    "        80, 82, 32, 2, 8, 6, 25, 36, 27, 61, 31]"
   ]
  },
  {
   "cell_type": "markdown",
   "metadata": {},
   "source": [
    "<section style=\"direction: rtl; text-align: justify; margin: 30px;\">\n",
    "\n",
    "صدک 75 چیست؟ پاسخ 43 است، یعنی 75 درصد افراد 43 سال یا کمتر هستند.\n",
    "\n",
    "ماژول NumPy روشی برای یافتن صدک مشخص شده دارد:\n",
    "\n",
    "</section>"
   ]
  },
  {
   "cell_type": "code",
   "execution_count": 6,
   "metadata": {},
   "outputs": [
    {
     "name": "stdout",
     "output_type": "stream",
     "text": [
      "43.0\n"
     ]
    }
   ],
   "source": [
    "import numpy as np\n",
    "\n",
    "ages = [5, 31, 43, 48, 50, 41, 7, 11, 15, 39,\n",
    "        80, 82, 32, 2, 8, 6, 25, 36, 27, 61, 31]\n",
    "\n",
    "x = np.percentile(ages, 75)\n",
    "\n",
    "print(x)"
   ]
  },
  {
   "cell_type": "code",
   "execution_count": 7,
   "metadata": {},
   "outputs": [
    {
     "name": "stdout",
     "output_type": "stream",
     "text": [
      "61.0\n"
     ]
    }
   ],
   "source": [
    "import numpy as np\n",
    "\n",
    "ages = [5, 31, 43, 48, 50, 41, 7, 11, 15, 39,\n",
    "        80, 82, 32, 2, 8, 6, 25, 36, 27, 61, 31]\n",
    "\n",
    "x = np.percentile(ages, 90)\n",
    "\n",
    "print(x)"
   ]
  },
  {
   "cell_type": "markdown",
   "metadata": {},
   "source": [
    "___\n",
    "\n",
    "Machine Learning - Data Distribution\n",
    "\n",
    "<section style=\"direction: rtl; text-align: justify; margin: 30px;\">\n",
    "\n",
    "### **توزیع داده**\n",
    "\n",
    "قبلاً در این آموزش ما با مقادیر بسیار کمی از داده ها در مثال های خود کار کرده ایم، فقط برای درک مفاهیم مختلف.\n",
    "\n",
    "در دنیای واقعی، مجموعه داده‌ها بسیار بزرگتر هستند، اما جمع‌آوری داده‌های دنیای واقعی، حداقل در مراحل اولیه یک پروژه، می‌تواند دشوار باشد.\n",
    "\n",
    "**چگونه می توانیم مجموعه های کلان داده را بدست آوریم؟**\n",
    "\n",
    "برای ایجاد مجموعه‌های داده‌های بزرگ برای آزمایش، از ماژول پایتون NumPy استفاده می‌کنیم که با تعدادی روش برای ایجاد مجموعه داده‌های تصادفی، با هر اندازه ارائه می‌شود.\n",
    "\n",
    "</section>"
   ]
  },
  {
   "cell_type": "code",
   "execution_count": 8,
   "metadata": {},
   "outputs": [
    {
     "name": "stdout",
     "output_type": "stream",
     "text": [
      "[1.97549358 4.19871375 2.5743808  1.33729992 3.38612755 0.23044642\n",
      " 1.67614645 4.44011963 4.02042948 0.20699798 1.74444187 2.89792019\n",
      " 0.16725004 4.2806835  0.3595551  0.93035377 3.2047151  3.82180293\n",
      " 1.83886758 4.0254305  0.16076964 2.62819562 0.82764106 1.87446579\n",
      " 0.83526749 3.12564885 4.49617652 4.66006883 3.7293144  4.2247989\n",
      " 3.2731134  1.98210213 2.02962373 0.05707783 3.03685461 3.43185951\n",
      " 2.69050581 1.68195967 2.01119282 3.55279168 0.15184004 3.39791314\n",
      " 4.60194315 4.63071768 0.40759986 3.54880419 4.99031282 0.08587336\n",
      " 2.03231927 2.64996692 1.46694391 0.96776318 4.87451352 1.02813229\n",
      " 1.04315149 1.03313166 3.8910177  1.28276004 0.9225894  0.16373947\n",
      " 4.76414848 3.64569937 0.64925291 1.80101607 1.55104124 3.52583962\n",
      " 3.80510745 3.05461238 1.89525487 1.88288326 0.71072097 1.19317566\n",
      " 2.30497579 0.4672361  0.42783325 4.32179999 1.93858833 1.34668651\n",
      " 3.23999451 4.26940068 4.92065686 0.05111116 0.36890991 1.17774755\n",
      " 2.20944349 4.13566586 4.96168386 0.53191844 3.45687183 2.05236365\n",
      " 3.17524419 0.57459628 1.12451901 3.03286862 0.691684   1.83656616\n",
      " 4.86506728 1.2609081  4.01380797 0.77619692 1.41841979 3.65674566\n",
      " 1.32332438 0.73111336 2.56310648 2.41695665 3.18622659 1.58353515\n",
      " 3.61757299 4.95322048 0.08070431 0.68093213 3.70021259 3.83733212\n",
      " 1.80010699 0.07059097 3.38357711 3.58069346 0.80560932 1.037565\n",
      " 1.22740712 1.71261823 1.03998247 2.20487739 1.71058237 1.83628097\n",
      " 3.76293005 0.82705895 2.74168624 3.474915   4.22469205 0.47984839\n",
      " 1.30595998 4.93155148 1.48024002 3.47581607 2.47293205 0.24386277\n",
      " 3.24544762 1.98365833 4.79077162 3.119221   1.42234993 1.88203077\n",
      " 3.32243768 0.22503653 4.35836185 3.23749082 4.43794888 2.97156778\n",
      " 1.2976287  4.03691072 2.90696278 1.15462722 4.75744055 4.33291189\n",
      " 0.18906476 0.85245996 3.69792572 0.69833217 2.49894906 2.34874596\n",
      " 0.16764524 0.18150817 3.28192012 2.91510851 3.3211508  3.38120674\n",
      " 4.94005218 2.74134972 1.23208714 2.62167598 4.3083309  0.48558498\n",
      " 0.49650353 2.29687093 1.55605678 1.18693813 1.47835987 0.23575152\n",
      " 2.12947158 0.79777091 0.74491609 3.37248304 4.1023705  1.80120123\n",
      " 1.4581466  3.50219632 1.25219775 3.35741458 1.53187623 3.79208673\n",
      " 1.89960582 0.41147702 2.32914596 0.70752352 0.60373124 3.04052163\n",
      " 1.5479685  3.81493847 1.61897327 0.40506543 4.43347601 3.37791843\n",
      " 2.68875436 2.42449481 0.09257144 3.23717176 1.0777014  0.46409791\n",
      " 1.77606372 0.47304833 3.47821248 3.84359749 4.42836038 2.75064195\n",
      " 4.4129597  2.67015235 3.2226538  4.61601604 0.32134092 4.43825552\n",
      " 2.61050325 3.77583014 0.22600947 0.20249036 4.23947307 2.06352017\n",
      " 3.12189561 0.37431928 3.29832547 1.2565338  4.49019311 2.46571212\n",
      " 0.01779737 1.92534159 2.08183132 3.83014721 3.97249707 2.84310067\n",
      " 1.36197089 4.29122265 3.2978931  4.4405169  1.29434424 0.5012926\n",
      " 0.99113754 4.33297157 2.27386479 0.56734399]\n"
     ]
    }
   ],
   "source": [
    "import numpy as np\n",
    "\n",
    "x = np.random.uniform(0.0, 5.0, 250)\n",
    "\n",
    "print(x)"
   ]
  },
  {
   "cell_type": "markdown",
   "metadata": {},
   "source": [
    "<section style=\"direction: rtl; text-align: justify; margin: 30px;\">\n",
    "\n",
    "برای تجسم مجموعه داده‌ها، می‌توانیم با داده‌هایی که جمع‌آوری کردیم، یک هیستوگرام رسم کنیم.\n",
    "\n",
    "ما از ماژول Python Matplotlib برای رسم هیستوگرام استفاده می کنیم.\n",
    "\n",
    "</section>"
   ]
  },
  {
   "cell_type": "code",
   "execution_count": 14,
   "metadata": {},
   "outputs": [
    {
     "data": {
      "image/png": "[encoded data removed]",
      "text/plain": [
       "<Figure size 640x480 with 1 Axes>"
      ]
     },
     "metadata": {},
     "output_type": "display_data"
    }
   ],
   "source": [
    "import numpy as np\n",
    "import matplotlib.pyplot as plt\n",
    "\n",
    "x = np.random.uniform(0.0, 5.0, 250)\n",
    "\n",
    "plt.hist(x, 5)\n",
    "plt.show()"
   ]
  },
  {
   "cell_type": "markdown",
   "metadata": {},
   "source": [
    "<section style=\"direction: rtl; text-align: justify; margin: 30px;\">\n",
    "\n",
    "از آرایه مثال بالا برای رسم هیستوگرام با 5 میله استفاده می کنیم.\n",
    "\n",
    "نوار اول نشان دهنده تعداد مقادیر موجود در آرایه بین 0 و 1 است.\n",
    "\n",
    "نوار دوم نشان دهنده تعداد مقادیر بین 1 و 2 است...\n",
    "\n",
    "که این نتیجه را به ما می دهد:\n",
    "\n",
    "- 52 مقدار بین 0 و 1 هستند\n",
    "- 48 مقدار بین 1 و 2 هستند\n",
    "- 49 مقدار بین 2 و 3 هستند\n",
    "- 51 مقدار بین   3 و 4 هستند\n",
    "- 50 مقدار بین   4 تا 5 است\n",
    "\n",
    "⚠️ توجه: مقادیر آرایه ها اعداد تصادفی هستند و دقیقاً همان نتیجه را در رایانه شما نشان نمی دهند.\n",
    "\n",
    "**توزیع های کلان داده**\n",
    "\n",
    "یک آرایه حاوی 250 مقدار خیلی بزرگ در نظر گرفته نمی شود، اما اکنون می دانید که چگونه مجموعه ای تصادفی از مقادیر را ایجاد کنید و با تغییر پارامترها، می توانید مجموعه داده را به اندازه دلخواه ایجاد کنید.\n",
    "\n",
    "</section>"
   ]
  },
  {
   "cell_type": "code",
   "execution_count": 12,
   "metadata": {},
   "outputs": [
    {
     "data": {
      "image/png": "[encoded data removed]",
      "text/plain": [
       "<Figure size 640x480 with 1 Axes>"
      ]
     },
     "metadata": {},
     "output_type": "display_data"
    }
   ],
   "source": [
    "import numpy as np\n",
    "import matplotlib.pyplot as plt\n",
    "\n",
    "x = np.random.uniform(0.0, 5.0, 100000)\n",
    "\n",
    "plt.hist(x, 100)\n",
    "plt.show()"
   ]
  },
  {
   "cell_type": "markdown",
   "metadata": {},
   "source": [
    "___\n",
    "\n",
    "Machine Learning - Normal Data Distribution\n",
    "\n",
    "<section style=\"direction: rtl; text-align: justify; margin: 30px;\">\n",
    "\n",
    "### **توزیع داده نرمال**\n",
    "\n",
    "در قسمت قبل یاد گرفتیم که چگونه یک آرایه کاملا تصادفی، با اندازه معین و بین دو مقدار داده شده ایجاد کنیم.\n",
    "\n",
    "در این قسمت ما یاد خواهیم گرفت که چگونه یک آرایه ایجاد کنیم که در آن مقادیر حول یک مقدار معین متمرکز شوند.\n",
    "\n",
    "در تئوری احتمال، این نوع توزیع داده ها به نام توزیع داده های نرمال یا توزیع داده های گاوسی، پس از ریاضیدان کارل فردریش گاوس که فرمول این توزیع داده را ارائه کرد، شناخته می شود.\n",
    "\n",
    "</section>"
   ]
  },
  {
   "cell_type": "code",
   "execution_count": 23,
   "metadata": {},
   "outputs": [
    {
     "data": {
      "image/png": "[encoded data removed]",
      "text/plain": [
       "<Figure size 640x480 with 1 Axes>"
      ]
     },
     "metadata": {},
     "output_type": "display_data"
    }
   ],
   "source": [
    "import numpy as np\n",
    "import matplotlib.pyplot as plt\n",
    "\n",
    "x = np.random.normal(5.0, 1.0, 100000)\n",
    "\n",
    "plt.hist(x, 200)\n",
    "plt.show()"
   ]
  },
  {
   "cell_type": "markdown",
   "metadata": {},
   "source": [
    "<section style=\"direction: rtl; text-align: justify; margin: 30px;\">\n",
    "\n",
    "⚠️ توجه: نمودار توزیع نرمال به دلیل شکل مشخصه یک زنگ به منحنی زنگ (bell) نیز معروف است.\n",
    "\n",
    "ما از آرایه متد np.random.normal() با 100000 مقدار برای رسم هیستوگرام با 100 میله استفاده می کنیم.\n",
    "\n",
    "ما مشخص می کنیم که مقدار میانگین 5.0 و انحراف استاندارد 1.0 است.\n",
    "\n",
    "به این معنی که مقادیر باید در حدود 5.0 متمرکز شوند و به ندرت از میانگین دورتر از 1.0 باشند.\n",
    "\n",
    "و همانطور که از هیستوگرام می بینید، بیشتر مقادیر بین 4.0 و 6.0 هستند.\n",
    "</section>"
   ]
  },
  {
   "cell_type": "markdown",
   "metadata": {},
   "source": [
    "___\n",
    "\n",
    "Machine Learning - Scatter Plot\n",
    "\n",
    "<section style=\"direction: rtl; text-align: justify; margin: 30px;\">\n",
    "\n",
    "### **نمودار پراکندگی**\n",
    "\n",
    "نمودار پراکندگی نموداری است که در آن هر مقدار در مجموعه داده با یک نقطه نشان داده می شود.\n",
    "\n",
    "</section>\n",
    "\n",
    "![Graph](https://www.w3schools.com/python/img_scatterplot.png)\n",
    "\n",
    "<section style=\"direction: rtl; text-align: justify; margin: 30px;\">\n",
    "\n",
    "ماژول Matplotlib روشی برای رسم نمودارهای پراکندگی دارد، به دو آرایه با طول یکسان نیاز دارد، یکی برای مقادیر محور x و دیگری برای مقادیر محور y:\n",
    "\n",
    "</section>"
   ]
  },
  {
   "cell_type": "code",
   "execution_count": 24,
   "metadata": {},
   "outputs": [],
   "source": [
    "x = [5, 7, 8, 7, 2, 17, 2, 9, 4, 11, 12, 9, 6]\n",
    "\n",
    "y = [99, 86, 87, 88, 111, 86, 103, 87, 94, 78, 77, 85, 86]"
   ]
  },
  {
   "cell_type": "markdown",
   "metadata": {},
   "source": [
    "<section style=\"direction: rtl; text-align: justify; margin: 30px;\">\n",
    "\n",
    "آرایه x نشان دهنده سن هر خودرو است.\n",
    "\n",
    "آرایه y نشان دهنده سرعت هر خودرو است.\n",
    "\n",
    "</section>"
   ]
  },
  {
   "cell_type": "code",
   "execution_count": 25,
   "metadata": {},
   "outputs": [
    {
     "data": {
      "image/png": "[encoded data removed]",
      "text/plain": [
       "<Figure size 640x480 with 1 Axes>"
      ]
     },
     "metadata": {},
     "output_type": "display_data"
    }
   ],
   "source": [
    "import matplotlib.pyplot as plt\n",
    "\n",
    "x = [5, 7, 8, 7, 2, 17, 2, 9, 4, 11, 12, 9, 6]\n",
    "y = [99, 86, 87, 88, 111, 86, 103, 87, 94, 78, 77, 85, 86]\n",
    "\n",
    "plt.scatter(x, y)\n",
    "plt.show()"
   ]
  },
  {
   "cell_type": "markdown",
   "metadata": {},
   "source": [
    "<section style=\"direction: rtl; text-align: justify; margin: 30px;\">\n",
    "\n",
    "☝🏽 محور x نشان دهنده سن و محور y نشان دهنده سرعت است.\n",
    "\n",
    "آنچه که از نمودار می توانیم بخوانیم این است که دو خودروی سریع هر دو 2 ساله و کندترین خودرو 12 ساله بوده اند.\n",
    "\n",
    "⚠️ توجه: به نظر می رسد که هر چه ماشین جدیدتر باشد، سریعتر رانندگی می کند، اما این می تواند یک تصادف باشد، بالاخره ما فقط 13 خودرو ثبت نام کردیم.\n",
    "\n",
    "**توزیع تصادفی داده‌ها**\n",
    "\n",
    "در یادگیری ماشینی، مجموعه داده‌ها می‌توانند شامل هزاران یا حتی میلیون‌ها مقدار باشند.\n",
    "\n",
    "همانطور که در فصل قبل آموختیم، ماژول NumPy می تواند در این زمینه به ما کمک کند!\n",
    "\n",
    "اجازه دهید دو آرایه ایجاد کنیم که هر دو با 1000 عدد تصادفی از یک توزیع معمولی داده پر شده باشند.\n",
    "\n",
    "آرایه اول دارای میانگین 5.0 با انحراف استاندارد 1.0 خواهد بود.\n",
    "\n",
    "آرایه دوم دارای میانگین 10.0 با انحراف استاندارد 2.0 خواهد بود:\n",
    "\n",
    "</section>"
   ]
  },
  {
   "cell_type": "code",
   "execution_count": 26,
   "metadata": {},
   "outputs": [
    {
     "data": {
      "image/png": "[encoded data removed]",
      "text/plain": [
       "<Figure size 640x480 with 1 Axes>"
      ]
     },
     "metadata": {},
     "output_type": "display_data"
    }
   ],
   "source": [
    "import numpy as np\n",
    "import matplotlib.pyplot as plt\n",
    "\n",
    "x = np.random.normal(5.0, 1.0, 1000)\n",
    "y = np.random.normal(10.0, 2.0, 1000)\n",
    "\n",
    "plt.scatter(x, y)\n",
    "plt.show()"
   ]
  },
  {
   "cell_type": "markdown",
   "metadata": {},
   "source": [
    "<section style=\"direction: rtl; text-align: justify; margin: 30px;\">\n",
    "\n",
    "☝🏽 می بینیم که نقاط حول مقدار 5 در محور x و 10 در محور y متمرکز شده اند.\n",
    "\n",
    "همچنین می توانیم ببینیم که گسترش در محور y نسبت به محور x گسترده تر است.\n",
    "\n",
    "</section>"
   ]
  },
  {
   "cell_type": "markdown",
   "metadata": {},
   "source": [
    "___\n",
    "\n",
    "Machine Learning - Linear Regression\n",
    "\n",
    "<section style=\"direction: rtl; text-align: justify; margin: 30px;\">\n",
    "\n",
    "### **رگرسیون خطی**\n",
    "\n",
    "اصطلاح رگرسیون زمانی استفاده می شود که شما سعی می کنید رابطه بین متغیرها را پیدا کنید.\n",
    "\n",
    "در یادگیری ماشین و در مدل‌سازی آماری، از این رابطه برای پیش‌بینی نتیجه رویدادهای آینده استفاده می‌شود.\n",
    "\n",
    "رگرسیون خطی از رابطه بین نقاط داده برای ترسیم یک خط مستقیم در بین همه آنها استفاده می کند.\n",
    "\n",
    "از این خط می توان برای پیش بینی مقادیر آینده استفاده کرد.\n",
    "\n",
    "</section>\n",
    "\n",
    "![Graph](https://www.w3schools.com/python/img_linear_regression.png)\n",
    "\n",
    "<section style=\"direction: rtl; text-align: justify; margin: 30px;\">\n",
    "\n",
    "در یادگیری ماشینی، پیش بینی آینده بسیار مهم است.\n",
    "\n",
    "<div style=\"border-top: 1px solid #ccc; margin: 10px 0;\"></div>\n",
    "\n",
    "پایتون روش هایی برای یافتن رابطه بین نقاط داده و رسم خط رگرسیون خطی دارد. ما به شما نشان خواهیم داد که چگونه به جای استفاده از فرمول ریاضی از این روش ها استفاده کنید.\n",
    "\n",
    "در مثال زیر، محور x نشان دهنده سن و محور y نشان دهنده سرعت است. سن و سرعت 13 خودرو را هنگام عبور از باجه عوارضی ثبت کرده ایم. بیایید ببینیم که آیا داده هایی که جمع آوری کردیم می توانند در رگرسیون خطی استفاده شوند یا خیر:\n",
    "\n",
    "</section>"
   ]
  },
  {
   "cell_type": "code",
   "execution_count": 1,
   "metadata": {},
   "outputs": [
    {
     "data": {
      "image/png": "[encoded data removed]",
      "text/plain": [
       "<Figure size 640x480 with 1 Axes>"
      ]
     },
     "metadata": {},
     "output_type": "display_data"
    }
   ],
   "source": [
    "import matplotlib.pyplot as plt\n",
    "\n",
    "x = [5, 7, 8, 7, 2, 17, 2, 9, 4, 11, 12, 9, 6]\n",
    "y = [99, 86, 87, 88, 111, 86, 103, 87, 94, 78, 77, 85, 86]\n",
    "\n",
    "plt.scatter(x, y)\n",
    "plt.show()"
   ]
  },
  {
   "cell_type": "code",
   "execution_count": 2,
   "metadata": {},
   "outputs": [
    {
     "data": {
      "image/png": "[encoded data removed]",
      "text/plain": [
       "<Figure size 640x480 with 1 Axes>"
      ]
     },
     "metadata": {},
     "output_type": "display_data"
    }
   ],
   "source": [
    "import matplotlib.pyplot as plt\n",
    "from scipy import stats\n",
    "\n",
    "x = [5, 7, 8, 7, 2, 17, 2, 9, 4, 11, 12, 9, 6]\n",
    "y = [99, 86, 87, 88, 111, 86, 103, 87, 94, 78, 77, 85, 86]\n",
    "\n",
    "slope, intercept, r, p, std_err = stats.linregress(x, y)\n",
    "\n",
    "\n",
    "def myfunc(x):\n",
    "    return slope * x + intercept\n",
    "\n",
    "\n",
    "mymodel = list(map(myfunc, x))\n",
    "\n",
    "plt.scatter(x, y)\n",
    "plt.plot(x, mymodel)\n",
    "plt.show()"
   ]
  },
  {
   "cell_type": "markdown",
   "metadata": {},
   "source": [
    "<section style=\"direction: rtl; text-align: justify; margin: 30px;\">\n",
    "\n",
    "ماژول‌های مورد نیاز را وارد می‌کنیم.\n",
    "\n",
    "</section>"
   ]
  },
  {
   "cell_type": "code",
   "execution_count": 3,
   "metadata": {},
   "outputs": [],
   "source": [
    "import matplotlib.pyplot as plt\n",
    "from scipy import stats"
   ]
  },
  {
   "cell_type": "markdown",
   "metadata": {},
   "source": [
    "<section style=\"direction: rtl; text-align: justify; margin: 30px;\">\n",
    "\n",
    "آرایه هایی را ایجاد می‌کنیم که مقادیر محور x و y را نشان می دهند:\n",
    "\n",
    "</section>"
   ]
  },
  {
   "cell_type": "code",
   "execution_count": 4,
   "metadata": {},
   "outputs": [],
   "source": [
    "x = [5, 7, 8, 7, 2, 17, 2, 9, 4, 11, 12, 9, 6]\n",
    "y = [99, 86, 87, 88, 111, 86, 103, 87, 94, 78, 77, 85, 86]"
   ]
  },
  {
   "cell_type": "markdown",
   "metadata": {},
   "source": [
    "<section style=\"direction: rtl; text-align: justify; margin: 30px;\">\n",
    "\n",
    "آرایه هایی را ایجاد می‌کنیم که مقادیر محور x و y را نشان می دهند:\n",
    "\n",
    "</section>"
   ]
  },
  {
   "cell_type": "code",
   "execution_count": 5,
   "metadata": {},
   "outputs": [],
   "source": [
    "slope, intercept, r, p, std_err = stats.linregress(x, y)"
   ]
  },
  {
   "cell_type": "markdown",
   "metadata": {},
   "source": [
    "<section style=\"direction: rtl; text-align: justify; margin: 30px;\">\n",
    "\n",
    "تابعی ایجاد می‌کنیم که از مقادیر slope و intercept برای برگرداندن یک مقدار جدید استفاده کند. این مقدار جدید نشان دهنده جایی است که در محور y مقدار x مربوطه قرار می گیرد:\n",
    "\n",
    "</section>"
   ]
  },
  {
   "cell_type": "code",
   "execution_count": 6,
   "metadata": {},
   "outputs": [],
   "source": [
    "def myfunc(x):\n",
    "    return slope * x + intercept"
   ]
  },
  {
   "cell_type": "markdown",
   "metadata": {},
   "source": [
    "<section style=\"direction: rtl; text-align: justify; margin: 30px;\">\n",
    "\n",
    "هر مقدار از آرایه x را از طریق تابع اجرا می‌کنیم. این منجر به یک آرایه جدید با مقادیر جدید برای محور y می شود:\n",
    "\n",
    "</section>"
   ]
  },
  {
   "cell_type": "code",
   "execution_count": 7,
   "metadata": {},
   "outputs": [],
   "source": [
    "mymodel = list(map(myfunc, x))"
   ]
  },
  {
   "cell_type": "markdown",
   "metadata": {},
   "source": [
    "<section style=\"direction: rtl; text-align: justify; margin: 30px;\">\n",
    "\n",
    "نمودار پراکندگی اصلی را رسم می‌کنیم:\n",
    "\n",
    "</section>"
   ]
  },
  {
   "cell_type": "code",
   "execution_count": null,
   "metadata": {},
   "outputs": [],
   "source": [
    "plt.scatter(x, y)"
   ]
  },
  {
   "cell_type": "markdown",
   "metadata": {},
   "source": [
    "<section style=\"direction: rtl; text-align: justify; margin: 30px;\">\n",
    "\n",
    "خط رگرسیون خطی را رسم می‌کنیم:\n",
    "\n",
    "</section>"
   ]
  },
  {
   "cell_type": "code",
   "execution_count": null,
   "metadata": {},
   "outputs": [],
   "source": [
    "plt.plot(x, mymodel)"
   ]
  },
  {
   "cell_type": "markdown",
   "metadata": {},
   "source": [
    "<section style=\"direction: rtl; text-align: justify; margin: 30px;\">\n",
    "\n",
    "نمودار را نمایش می‌دهیم: \n",
    "\n",
    "</section>"
   ]
  },
  {
   "cell_type": "code",
   "execution_count": 11,
   "metadata": {},
   "outputs": [],
   "source": [
    "plt.show()"
   ]
  },
  {
   "cell_type": "markdown",
   "metadata": {},
   "source": [
    "<section style=\"direction: rtl; text-align: justify; margin: 30px;\">\n",
    "\n",
    "<div style=\"border-top: 1px solid #ccc; margin: 10px 0;\"></div>\n",
    "<div style=\"border-top: 1px solid #ccc; margin: 10px 0;\"></div>\n",
    "\n",
    "مهم است که بدانیم رابطه بین مقادیر محور x و مقادیر محور y چگونه است، اگر هیچ رابطه ای وجود نداشته باشد، نمی توان از رگرسیون خطی برای پیش بینی چیزی استفاده کرد.\n",
    "\n",
    "این رابطه - ضریب همبستگی - r نامیده می شود.\n",
    "\n",
    "مقدار r از 1- تا 1 است که 0 به معنای عدم وجود رابطه است و 1 (و -1) به معنای 100% مرتبط است.\n",
    "\n",
    "پایتون و ماژول Scipy این مقدار را برای شما محاسبه می کنند، تنها کاری که باید انجام دهید این است که آن را با مقادیر x و y تغذیه کنید.\n",
    "\n",
    "</section>"
   ]
  },
  {
   "cell_type": "code",
   "execution_count": 15,
   "metadata": {},
   "outputs": [
    {
     "name": "stdout",
     "output_type": "stream",
     "text": [
      "-0.76\n"
     ]
    }
   ],
   "source": [
    "from scipy import stats\n",
    "\n",
    "x = [5, 7, 8, 7, 2, 17, 2, 9, 4, 11, 12, 9, 6]\n",
    "y = [99, 86, 87, 88, 111, 86, 103, 87, 94, 78, 77, 85, 86]\n",
    "\n",
    "slope, intercept, r, p, std_err = stats.linregress(x, y)\n",
    "\n",
    "print(format(r, '.2f'))"
   ]
  },
  {
   "cell_type": "markdown",
   "metadata": {},
   "source": [
    "<section style=\"direction: rtl; text-align: justify; margin: 30px;\">\n",
    "\n",
    "⚠️ توجه: نتیجه 0.76- نشان می دهد که یک رابطه وجود دارد، نه کامل، اما نشان می دهد که می توانیم از رگرسیون خطی در پیش بینی های آینده استفاده کنیم.\n",
    "\n",
    "<div style=\"border-top: 1px solid #ccc; margin: 10px 0;\"></div>\n",
    "\n",
    "اکنون می توانیم از اطلاعاتی که جمع آوری کرده ایم برای پیش بینی مقادیر آینده استفاده کنیم.\n",
    "\n",
    "مثال: اجازه دهید سعی کنیم سرعت یک ماشین 10 ساله را پیش بینی کنیم.\n",
    "\n",
    "برای انجام این کار، به همان تابع myfunc() از مثال بالا نیاز داریم:\n",
    "\n",
    "</section>"
   ]
  },
  {
   "cell_type": "code",
   "execution_count": null,
   "metadata": {},
   "outputs": [],
   "source": [
    "def myfunc(x):\n",
    "    return slope * x + intercept"
   ]
  },
  {
   "cell_type": "code",
   "execution_count": 3,
   "metadata": {},
   "outputs": [
    {
     "name": "stdout",
     "output_type": "stream",
     "text": [
      "85.6\n"
     ]
    }
   ],
   "source": [
    "from scipy import stats\n",
    "\n",
    "x = [5, 7, 8, 7, 2, 17, 2, 9, 4, 11, 12, 9, 6]\n",
    "y = [99, 86, 87, 88, 111, 86, 103, 87, 94, 78, 77, 85, 86]\n",
    "\n",
    "slope, intercept, r, p, std_err = stats.linregress(x, y)\n",
    "\n",
    "\n",
    "def myfunc(x):\n",
    "    return slope * x + intercept\n",
    "\n",
    "\n",
    "speed = myfunc(10)\n",
    "\n",
    "print(format(speed, '.1f'))"
   ]
  },
  {
   "cell_type": "markdown",
   "metadata": {},
   "source": [
    "<section style=\"direction: rtl; text-align: justify; margin: 30px;\">\n",
    "\n",
    "مثال سرعت 85.6 را پیش‌بینی می‌کرد که می‌توانستیم آن را نیز از نمودار بخوانیم:\n",
    "\n",
    "</section>\n",
    "\n",
    "![Graph](https://www.w3schools.com/python/img_linear_regression2.png)"
   ]
  },
  {
   "cell_type": "markdown",
   "metadata": {},
   "source": [
    "<section style=\"direction: rtl; text-align: justify; margin: 30px;\">\n",
    "\n",
    "<div style=\"border-top: 1px solid #ccc; margin: 10px 0;\"></div>\n",
    "\n",
    "### **تناسب بد**\n",
    "\n",
    "اجازه دهید مثالی ایجاد کنیم که در آن رگرسیون خطی بهترین روش برای پیش‌بینی مقادیر آینده نخواهد بود.\n",
    "\n",
    "</section>"
   ]
  },
  {
   "cell_type": "code",
   "execution_count": 4,
   "metadata": {},
   "outputs": [
    {
     "data": {
      "image/png": "[encoded data removed]",
      "text/plain": [
       "<Figure size 640x480 with 1 Axes>"
      ]
     },
     "metadata": {},
     "output_type": "display_data"
    }
   ],
   "source": [
    "import matplotlib.pyplot as plt\n",
    "from scipy import stats\n",
    "\n",
    "x = [89, 43, 36, 36, 95, 10, 66, 34, 38, 20,\n",
    "     26, 29, 48, 64, 6, 5, 36, 66, 72, 40]\n",
    "y = [21, 46, 3, 35, 67, 95, 53, 72, 58, 10,\n",
    "     26, 34, 90, 33, 38, 20, 56, 2, 47, 15]\n",
    "\n",
    "slope, intercept, r, p, std_err = stats.linregress(x, y)\n",
    "\n",
    "\n",
    "def myfunc(x):\n",
    "    return slope * x + intercept\n",
    "\n",
    "\n",
    "mymodel = list(map(myfunc, x))\n",
    "\n",
    "plt.scatter(x, y)\n",
    "plt.plot(x, mymodel)\n",
    "plt.show()"
   ]
  },
  {
   "cell_type": "markdown",
   "metadata": {},
   "source": [
    "<section style=\"direction: rtl; text-align: justify; margin: 30px;\">\n",
    "\n",
    "و R برای رابطه؟\n",
    "\n",
    "</section>"
   ]
  },
  {
   "cell_type": "code",
   "execution_count": 6,
   "metadata": {},
   "outputs": [
    {
     "name": "stdout",
     "output_type": "stream",
     "text": [
      "0.013\n"
     ]
    }
   ],
   "source": [
    "import numpy\n",
    "from scipy import stats\n",
    "\n",
    "x = [89, 43, 36, 36, 95, 10, 66, 34, 38, 20,\n",
    "     26, 29, 48, 64, 6, 5, 36, 66, 72, 40]\n",
    "y = [21, 46, 3, 35, 67, 95, 53, 72, 58, 10,\n",
    "     26, 34, 90, 33, 38, 20, 56, 2, 47, 15]\n",
    "\n",
    "slope, intercept, r, p, std_err = stats.linregress(x, y)\n",
    "\n",
    "print(format(r, '.3f'))"
   ]
  },
  {
   "cell_type": "markdown",
   "metadata": {},
   "source": [
    "<section style=\"direction: rtl; text-align: justify; margin: 30px;\">\n",
    "\n",
    "نتیجه: 0.013 یک رابطه بسیار بد را نشان می دهد و به ما می گوید که این مجموعه داده برای رگرسیون خطی مناسب نیست.\n",
    "\n",
    "</section>"
   ]
  }
 ],
 "metadata": {
  "kernelspec": {
   "display_name": "Python 3",
   "language": "python",
   "name": "python3"
  },
  "language_info": {
   "codemirror_mode": {
    "name": "ipython",
    "version": 3
   },
   "file_extension": ".py",
   "mimetype": "text/x-python",
   "name": "python",
   "nbconvert_exporter": "python",
   "pygments_lexer": "ipython3",
   "version": "3.10.12"
  }
 },
 "nbformat": 4,
 "nbformat_minor": 2
}
