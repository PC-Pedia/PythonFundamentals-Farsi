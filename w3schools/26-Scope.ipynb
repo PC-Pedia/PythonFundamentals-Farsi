{
 "cells": [
  {
   "cell_type": "markdown",
   "metadata": {},
   "source": [
    "Python Scope\n",
    "\n",
    "<section style=\"direction: rtl; text-align: justify; margin: 30px;\">\n",
    "\n",
    "## **محدوده‌ها در پایتون**\n",
    "\n",
    "یک متغیر فقط از داخل منطقه ایجاد شده در دسترس است. به این محدوده یا Scope می گویند.\n",
    "\n",
    "متغیری که در داخل یک تابع ایجاد می شود به محدوده محلی آن تابع تعلق دارد و فقط می تواند در داخل آن تابع استفاده شود.\n",
    "\n",
    "</section>"
   ]
  },
  {
   "cell_type": "code",
   "execution_count": 1,
   "metadata": {},
   "outputs": [
    {
     "name": "stdout",
     "output_type": "stream",
     "text": [
      "300\n"
     ]
    }
   ],
   "source": [
    "def myFunc():\n",
    "    x = 300\n",
    "    print(x)\n",
    "\n",
    "\n",
    "myFunc()"
   ]
  },
  {
   "cell_type": "markdown",
   "metadata": {},
   "source": [
    "<section style=\"direction: rtl; text-align: justify; margin: 30px;\">\n",
    "\n",
    "همانطور که در مثال بالا توضیح داده شد، متغیر x خارج از تابع در دسترس نیست، اما برای هر تابعی در داخل تابع در دسترس است:\n",
    "\n",
    "</section>"
   ]
  },
  {
   "cell_type": "code",
   "execution_count": 2,
   "metadata": {},
   "outputs": [
    {
     "name": "stdout",
     "output_type": "stream",
     "text": [
      "300\n"
     ]
    }
   ],
   "source": [
    "def myFunc():\n",
    "    x = 300\n",
    "\n",
    "    def myInnerFunc():\n",
    "        print(x)\n",
    "    myInnerFunc()\n",
    "\n",
    "\n",
    "myFunc()"
   ]
  },
  {
   "cell_type": "markdown",
   "metadata": {},
   "source": [
    "<section style=\"direction: rtl; text-align: justify; margin: 30px;\">\n",
    "\n",
    "متغیری که در بدنه اصلی کد پایتون ایجاد می شود، یک متغیر جهانی است و به دامنه جهانی تعلق دارد.\n",
    "\n",
    "متغیرهای سراسری از هر محدوده ای، جهانی و محلی در دسترس هستند.\n",
    "\n",
    "</section>"
   ]
  },
  {
   "cell_type": "code",
   "execution_count": 5,
   "metadata": {},
   "outputs": [
    {
     "name": "stdout",
     "output_type": "stream",
     "text": [
      "300\n",
      "300\n"
     ]
    }
   ],
   "source": [
    "x = 300\n",
    "\n",
    "def myFunc():\n",
    "    print(x)\n",
    "\n",
    "myFunc()\n",
    "\n",
    "print(x)"
   ]
  },
  {
   "cell_type": "markdown",
   "metadata": {},
   "source": [
    "<section style=\"direction: rtl; text-align: justify; margin: 30px;\">\n",
    "\n",
    "اگر با نام متغیر یکسانی در داخل و خارج از یک تابع کار کنید، پایتون آنها را به عنوان دو متغیر مجزا در نظر می‌گیرد که یکی در محدوده جهانی (خارج از تابع) و دیگری در محدوده محلی (داخل تابع) موجود است:\n",
    "\n",
    "</section>"
   ]
  },
  {
   "cell_type": "code",
   "execution_count": 4,
   "metadata": {},
   "outputs": [
    {
     "name": "stdout",
     "output_type": "stream",
     "text": [
      "200\n",
      "300\n"
     ]
    }
   ],
   "source": [
    "x = 300\n",
    "\n",
    "def myFunc():\n",
    "    x = 200\n",
    "    print(x)\n",
    "\n",
    "myFunc()\n",
    "\n",
    "print(x)"
   ]
  },
  {
   "cell_type": "markdown",
   "metadata": {},
   "source": [
    "<section style=\"direction: rtl; text-align: justify; margin: 30px;\">\n",
    "\n",
    "اگر نیاز به ایجاد یک متغیر سراسری دارید، اما در محدوده محلی گیر کرده اید، می توانید از کلمه کلیدی global استفاده کنید.\n",
    "\n",
    "کلمه کلیدی global متغیر را جهانی می کند.\n",
    "\n",
    "</section>"
   ]
  },
  {
   "cell_type": "code",
   "execution_count": 5,
   "metadata": {},
   "outputs": [
    {
     "name": "stdout",
     "output_type": "stream",
     "text": [
      "300\n"
     ]
    }
   ],
   "source": [
    "def myFunc():\n",
    "    global x\n",
    "    x = 300\n",
    "\n",
    "\n",
    "myFunc()\n",
    "\n",
    "print(x)"
   ]
  },
  {
   "cell_type": "markdown",
   "metadata": {},
   "source": [
    "<section style=\"direction: rtl; text-align: justify; margin: 30px;\">\n",
    "\n",
    "همچنین اگر می‌خواهید در یک تابع تغییری در متغیر سراسری ایجاد کنید، از کلمه کلیدی global استفاده کنید.\n",
    "\n",
    "</section>"
   ]
  },
  {
   "cell_type": "code",
   "execution_count": 7,
   "metadata": {},
   "outputs": [
    {
     "name": "stdout",
     "output_type": "stream",
     "text": [
      "200\n"
     ]
    }
   ],
   "source": [
    "x = 300\n",
    "\n",
    "def myFunc():\n",
    "    global x\n",
    "    x = 200\n",
    "\n",
    "myFunc()\n",
    "\n",
    "print(x)"
   ]
  }
 ],
 "metadata": {
  "kernelspec": {
   "display_name": "My Environment",
   "language": "python",
   "name": "myenv"
  },
  "language_info": {
   "codemirror_mode": {
    "name": "ipython",
    "version": 3
   },
   "file_extension": ".py",
   "mimetype": "text/x-python",
   "name": "python",
   "nbconvert_exporter": "python",
   "pygments_lexer": "ipython3",
   "version": "3.11.4"
  },
  "orig_nbformat": 4
 },
 "nbformat": 4,
 "nbformat_minor": 2
}
