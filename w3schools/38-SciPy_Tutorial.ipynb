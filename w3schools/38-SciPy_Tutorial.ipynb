{
 "cells": [
  {
   "cell_type": "markdown",
   "metadata": {},
   "source": [
    "SciPy Introduction\n",
    "\n",
    "<section style=\"direction: rtl; text-align: justify; margin: 30px;\">\n",
    "\n",
    "## **معرفی SciPy**\n",
    "\n",
    "- SciPy یک کتابخانه محاسباتی علمی است که از NumPy در زیر آن استفاده می کند.\n",
    "- SciPy مخفف Scientific Python است.\n",
    "- این توابع کاربردی بیشتری برای بهینه سازی، آمار و پردازش سیگنال فراهم می کند.\n",
    "- مانند NumPy، SciPy منبع باز است بنابراین می توانیم آزادانه از آن استفاده کنیم.\n",
    "- SciPy توسط خالق NumPy Travis Olliphant ساخته شده است.\n",
    "\n",
    "### چرا از SciPy استفاده می‌کنیم؟\n",
    "\n",
    "اگر SciPy از NumPy در زیر استفاده می کند، چرا ما نمی توانیم فقط از NumPy استفاده کنیم؟\n",
    "SciPy توابع بهینه سازی و اضافه کرده است که اغلب در NumPy و Data Science استفاده می شود.\n",
    "\n",
    "### با کدام زبان SciPy نوشته شده است؟\n",
    "\n",
    "SciPy عمدتاً در پایتون نوشته می شود، اما چند بخش به زبان C نوشته می شود.\n",
    "\n",
    "### نصب SciPy\n",
    "\n",
    "اگر پایتون و PIP را قبلاً روی یک سیستم نصب کرده اید، نصب SciPy بسیار آسان است.\n",
    "با استفاده از این دستور آن را نصب کنید:\n",
    "\n",
    "</section>\n",
    "\n",
    "> C:\\Users\\Your Name>pip install scipy"
   ]
  },
  {
   "cell_type": "code",
   "execution_count": 4,
   "metadata": {},
   "outputs": [
    {
     "name": "stdout",
     "output_type": "stream",
     "text": [
      "0.001\n"
     ]
    }
   ],
   "source": [
    "from scipy import constants\n",
    "\n",
    "print(constants.liter)"
   ]
  },
  {
   "cell_type": "markdown",
   "metadata": {},
   "source": [
    "<section style=\"direction: rtl; text-align: justify; margin: 30px;\">\n",
    "\n",
    "ثابت‌ها (constants): SciPy مجموعه ای از ثابت های ریاضی را ارائه می دهد که یکی از آنها liter است که 1 لیتر را به عنوان متر مکعب برمی گرداند.\n",
    "\n",
    "\n",
    "</section>"
   ]
  },
  {
   "cell_type": "code",
   "execution_count": 6,
   "metadata": {},
   "outputs": [
    {
     "name": "stdout",
     "output_type": "stream",
     "text": [
      "1.11.2\n"
     ]
    }
   ],
   "source": [
    "# Checking SciPy Version\n",
    "\n",
    "import scipy\n",
    "\n",
    "print(scipy.__version__)"
   ]
  }
 ],
 "metadata": {
  "kernelspec": {
   "display_name": "Python 3",
   "language": "python",
   "name": "python3"
  },
  "language_info": {
   "codemirror_mode": {
    "name": "ipython",
    "version": 3
   },
   "file_extension": ".py",
   "mimetype": "text/x-python",
   "name": "python",
   "nbconvert_exporter": "python",
   "pygments_lexer": "ipython3",
   "version": "3.10.12"
  }
 },
 "nbformat": 4,
 "nbformat_minor": 2
}
