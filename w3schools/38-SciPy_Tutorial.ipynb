{
 "cells": [
  {
   "cell_type": "markdown",
   "metadata": {},
   "source": [
    "SciPy Introduction\n",
    "\n",
    "<section style=\"direction: rtl; text-align: justify; margin: 30px;\">\n",
    "\n",
    "## **معرفی SciPy**\n",
    "\n",
    "- SciPy یک کتابخانه محاسباتی علمی است که از NumPy در زیر آن استفاده می کند.\n",
    "- SciPy مخفف Scientific Python است.\n",
    "- این توابع کاربردی بیشتری برای بهینه سازی، آمار و پردازش سیگنال فراهم می کند.\n",
    "- مانند NumPy، SciPy منبع باز است بنابراین می توانیم آزادانه از آن استفاده کنیم.\n",
    "- SciPy توسط خالق NumPy Travis Olliphant ساخته شده است.\n",
    "\n",
    "### چرا از SciPy استفاده می‌کنیم؟\n",
    "\n",
    "اگر SciPy از NumPy در زیر استفاده می کند، چرا ما نمی توانیم فقط از NumPy استفاده کنیم؟\n",
    "SciPy توابع بهینه سازی و اضافه کرده است که اغلب در NumPy و Data Science استفاده می شود.\n",
    "\n",
    "### با کدام زبان SciPy نوشته شده است؟\n",
    "\n",
    "SciPy عمدتاً در پایتون نوشته می شود، اما چند بخش به زبان C نوشته می شود.\n",
    "\n",
    "### نصب SciPy\n",
    "\n",
    "اگر پایتون و PIP را قبلاً روی یک سیستم نصب کرده اید، نصب SciPy بسیار آسان است.\n",
    "با استفاده از این دستور آن را نصب کنید:\n",
    "\n",
    "</section>\n",
    "\n",
    "> C:\\Users\\Your Name>pip install scipy"
   ]
  },
  {
   "cell_type": "code",
   "execution_count": 5,
   "metadata": {},
   "outputs": [
    {
     "name": "stdout",
     "output_type": "stream",
     "text": [
      "0.001\n"
     ]
    }
   ],
   "source": [
    "from scipy import constants\n",
    "\n",
    "print(constants.liter)"
   ]
  },
  {
   "cell_type": "markdown",
   "metadata": {},
   "source": [
    "<section style=\"direction: rtl; text-align: justify; margin: 30px;\">\n",
    "\n",
    "ثابت‌ها (constants): SciPy مجموعه ای از ثابت های ریاضی را ارائه می دهد که یکی از آنها liter است که 1 لیتر را به عنوان متر مکعب برمی گرداند.\n",
    "\n",
    "\n",
    "</section>"
   ]
  },
  {
   "cell_type": "code",
   "execution_count": 6,
   "metadata": {},
   "outputs": [
    {
     "name": "stdout",
     "output_type": "stream",
     "text": [
      "1.11.2\n"
     ]
    }
   ],
   "source": [
    "# Checking SciPy Version\n",
    "\n",
    "import scipy\n",
    "\n",
    "print(scipy.__version__)"
   ]
  },
  {
   "cell_type": "markdown",
   "metadata": {},
   "source": [
    "___\n",
    "SciPy Constants\n",
    "\n",
    "<section style=\"direction: rtl; text-align: justify; margin: 30px;\">\n",
    "\n",
    "## **ثابت‌ها**\n",
    "\n",
    "از آنجایی که SciPy بیشتر بر پیاده سازی های علمی متمرکز است، بسیاری از ثابت های علمی داخلی را ارائه می دهد.\n",
    "هنگامی که با Data Science کار می کنید، این ثابت ها می توانند مفید باشند.\n",
    "\n",
    "PI (عدد پی) نمونه ای از ثابت علمی است .\n",
    "\n",
    "\n",
    "</section>"
   ]
  },
  {
   "cell_type": "code",
   "execution_count": 1,
   "metadata": {},
   "outputs": [
    {
     "name": "stdout",
     "output_type": "stream",
     "text": [
      "3.141592653589793\n"
     ]
    }
   ],
   "source": [
    "from scipy import constants\n",
    "\n",
    "print(constants.pi)"
   ]
  },
  {
   "cell_type": "markdown",
   "metadata": {},
   "source": [
    "Constant Units\n",
    "\n",
    "<section style=\"direction: rtl; text-align: justify; margin: 30px;\">\n",
    "\n",
    "### **واحدهای ثابت**\n",
    "\n",
    "با استفاده از تابع dir () می توان لیستی از تمام واحدها را در ماژول ثابت ها مشاهده کرد.\n",
    "\n",
    "\n",
    "\n",
    "</section>"
   ]
  },
  {
   "cell_type": "code",
   "execution_count": 2,
   "metadata": {},
   "outputs": [
    {
     "name": "stdout",
     "output_type": "stream",
     "text": [
      "['Avogadro', 'Boltzmann', 'Btu', 'Btu_IT', 'Btu_th', 'ConstantWarning', 'G', 'Julian_year', 'N_A', 'Planck', 'R', 'Rydberg', 'Stefan_Boltzmann', 'Wien', '__all__', '__builtins__', '__cached__', '__doc__', '__file__', '__loader__', '__name__', '__package__', '__path__', '__spec__', '_codata', '_constants', '_obsolete_constants', 'acre', 'alpha', 'angstrom', 'arcmin', 'arcminute', 'arcsec', 'arcsecond', 'astronomical_unit', 'atm', 'atmosphere', 'atomic_mass', 'atto', 'au', 'bar', 'barrel', 'bbl', 'blob', 'c', 'calorie', 'calorie_IT', 'calorie_th', 'carat', 'centi', 'codata', 'constants', 'convert_temperature', 'day', 'deci', 'degree', 'degree_Fahrenheit', 'deka', 'dyn', 'dyne', 'e', 'eV', 'electron_mass', 'electron_volt', 'elementary_charge', 'epsilon_0', 'erg', 'exa', 'exbi', 'femto', 'fermi', 'find', 'fine_structure', 'fluid_ounce', 'fluid_ounce_US', 'fluid_ounce_imp', 'foot', 'g', 'gallon', 'gallon_US', 'gallon_imp', 'gas_constant', 'gibi', 'giga', 'golden', 'golden_ratio', 'grain', 'gram', 'gravitational_constant', 'h', 'hbar', 'hectare', 'hecto', 'horsepower', 'hour', 'hp', 'inch', 'k', 'kgf', 'kibi', 'kilo', 'kilogram_force', 'kmh', 'knot', 'lambda2nu', 'lb', 'lbf', 'light_year', 'liter', 'litre', 'long_ton', 'm_e', 'm_n', 'm_p', 'm_u', 'mach', 'mebi', 'mega', 'metric_ton', 'micro', 'micron', 'mil', 'mile', 'milli', 'minute', 'mmHg', 'mph', 'mu_0', 'nano', 'nautical_mile', 'neutron_mass', 'nu2lambda', 'ounce', 'oz', 'parsec', 'pebi', 'peta', 'physical_constants', 'pi', 'pico', 'point', 'pound', 'pound_force', 'precision', 'proton_mass', 'psi', 'pt', 'quecto', 'quetta', 'ronna', 'ronto', 'short_ton', 'sigma', 'slinch', 'slug', 'speed_of_light', 'speed_of_sound', 'stone', 'survey_foot', 'survey_mile', 'tebi', 'tera', 'test', 'ton_TNT', 'torr', 'troy_ounce', 'troy_pound', 'u', 'unit', 'value', 'week', 'yard', 'year', 'yobi', 'yocto', 'yotta', 'zebi', 'zepto', 'zero_Celsius', 'zetta']\n"
     ]
    }
   ],
   "source": [
    "from scipy import constants\n",
    "\n",
    "print(dir(constants))"
   ]
  },
  {
   "cell_type": "markdown",
   "metadata": {},
   "source": [
    "Unit Categories\n",
    "\n",
    "<section style=\"direction: rtl; text-align: justify; margin: 30px;\">\n",
    "\n",
    "### **دسته‌بندی‌های واحد**\n",
    "\n",
    "واحدها در این دسته بندی ها قرار می گیرند:\n",
    "\n",
    "</section>\n",
    "\n",
    "- Metric\n",
    "- Binary\n",
    "- Mass\n",
    "- Angle\n",
    "- Time\n",
    "- Length\n",
    "- Pressure\n",
    "- Volume\n",
    "- Speed\n",
    "- Temperature\n",
    "- Energy\n",
    "- Power\n",
    "- Force\n",
    "\n",
    "<section style=\"direction: rtl; text-align: justify; margin: 30px;\">\n",
    "\n",
    "### **پیشوندهای متریک**\n",
    "\n",
    "</section>"
   ]
  },
  {
   "cell_type": "code",
   "execution_count": 5,
   "metadata": {},
   "outputs": [
    {
     "name": "stdout",
     "output_type": "stream",
     "text": [
      "1e+24\n",
      "1e+21\n",
      "1e+18\n",
      "1000000000000000.0\n",
      "1000000000000.0\n",
      "1000000000.0\n",
      "1000000.0\n",
      "1000.0\n",
      "100.0\n",
      "10.0\n",
      "0.1\n",
      "0.01\n",
      "0.001\n",
      "1e-06\n",
      "1e-09\n",
      "1e-12\n",
      "1e-15\n",
      "1e-18\n",
      "1e-21\n"
     ]
    }
   ],
   "source": [
    "# Return the specified unit in meter (e.g. centi returns 0.01)\n",
    "\n",
    "from scipy import constants\n",
    "\n",
    "print(constants.yotta)    #1e+24\n",
    "print(constants.zetta)    #1e+21\n",
    "print(constants.exa)      #1e+18\n",
    "print(constants.peta)     #1000000000000000.0\n",
    "print(constants.tera)     #1000000000000.0\n",
    "print(constants.giga)     #1000000000.0\n",
    "print(constants.mega)     #1000000.0\n",
    "print(constants.kilo)     #1000.0\n",
    "print(constants.hecto)    #100.0\n",
    "print(constants.deka)     #10.0\n",
    "print(constants.deci)     #0.1\n",
    "print(constants.centi)    #0.01\n",
    "print(constants.milli)    #0.001\n",
    "print(constants.micro)    #1e-06\n",
    "print(constants.nano)     #1e-09\n",
    "print(constants.pico)     #1e-12\n",
    "print(constants.femto)    #1e-15\n",
    "print(constants.atto)     #1e-18\n",
    "print(constants.zepto)    #1e-21\n"
   ]
  },
  {
   "cell_type": "markdown",
   "metadata": {},
   "source": [
    "<section style=\"direction: rtl; text-align: justify; margin: 30px;\">\n",
    "\n",
    "### **پیشوندهای باینری**\n",
    "\n",
    "</section>"
   ]
  },
  {
   "cell_type": "code",
   "execution_count": 7,
   "metadata": {},
   "outputs": [
    {
     "name": "stdout",
     "output_type": "stream",
     "text": [
      "1024\n",
      "1048576\n",
      "1073741824\n",
      "1099511627776\n",
      "1125899906842624\n",
      "1152921504606846976\n",
      "1180591620717411303424\n",
      "1208925819614629174706176\n"
     ]
    }
   ],
   "source": [
    "# Return the specified unit in bytes (e.g. kibi returns 1024)\n",
    "\n",
    "print(constants.kibi)    #1024\n",
    "print(constants.mebi)    #1048576\n",
    "print(constants.gibi)    #1073741824\n",
    "print(constants.tebi)    #1099511627776\n",
    "print(constants.pebi)    #1125899906842624\n",
    "print(constants.exbi)    #1152921504606846976\n",
    "print(constants.zebi)    #1180591620717411303424\n",
    "print(constants.yobi)    #1208925819614629174706176"
   ]
  },
  {
   "cell_type": "markdown",
   "metadata": {},
   "source": [
    "<section style=\"direction: rtl; text-align: justify; margin: 30px;\">\n",
    "\n",
    "### **جِرم**\n",
    "\n",
    "</section>"
   ]
  },
  {
   "cell_type": "code",
   "execution_count": 8,
   "metadata": {},
   "outputs": [
    {
     "name": "stdout",
     "output_type": "stream",
     "text": [
      "0.001\n",
      "1000.0\n",
      "6.479891e-05\n",
      "0.45359236999999997\n",
      "0.45359236999999997\n",
      "0.028349523124999998\n",
      "0.028349523124999998\n",
      "6.3502931799999995\n",
      "1016.0469088\n",
      "907.1847399999999\n",
      "0.031103476799999998\n",
      "0.37324172159999996\n",
      "0.0002\n",
      "1.6605390666e-27\n",
      "1.6605390666e-27\n",
      "1.6605390666e-27\n"
     ]
    }
   ],
   "source": [
    "# Return the specified unit in kg (e.g. gram returns 0.001)\n",
    "\n",
    "print(constants.gram)        #0.001\n",
    "print(constants.metric_ton)  #1000.0\n",
    "print(constants.grain)       #6.479891e-05\n",
    "print(constants.lb)          #0.45359236999999997\n",
    "print(constants.pound)       #0.45359236999999997\n",
    "print(constants.oz)          #0.028349523124999998\n",
    "print(constants.ounce)       #0.028349523124999998\n",
    "print(constants.stone)       #6.3502931799999995\n",
    "print(constants.long_ton)    #1016.0469088\n",
    "print(constants.short_ton)   #907.1847399999999\n",
    "print(constants.troy_ounce)  #0.031103476799999998\n",
    "print(constants.troy_pound)  #0.37324172159999996\n",
    "print(constants.carat)       #0.0002\n",
    "print(constants.atomic_mass) #1.66053904e-27\n",
    "print(constants.m_u)         #1.66053904e-27\n",
    "print(constants.u)           #1.66053904e-27"
   ]
  },
  {
   "cell_type": "markdown",
   "metadata": {},
   "source": [
    "<section style=\"direction: rtl; text-align: justify; margin: 30px;\">\n",
    "\n",
    "### **زاویه**\n",
    "\n",
    "</section>"
   ]
  },
  {
   "cell_type": "code",
   "execution_count": 9,
   "metadata": {},
   "outputs": [
    {
     "name": "stdout",
     "output_type": "stream",
     "text": [
      "0.017453292519943295\n",
      "0.0002908882086657216\n",
      "0.0002908882086657216\n",
      "4.84813681109536e-06\n",
      "4.84813681109536e-06\n"
     ]
    }
   ],
   "source": [
    "# Return the specified unit in radians (e.g. degree returns 0.017453292519943295)\n",
    "\n",
    "from scipy import constants\n",
    "\n",
    "print(constants.degree)     #0.017453292519943295\n",
    "print(constants.arcmin)     #0.0002908882086657216\n",
    "print(constants.arcminute)  #0.0002908882086657216\n",
    "print(constants.arcsec)     #4.84813681109536e-06\n",
    "print(constants.arcsecond)  #4.84813681109536e-06"
   ]
  },
  {
   "cell_type": "markdown",
   "metadata": {},
   "source": [
    "<section style=\"direction: rtl; text-align: justify; margin: 30px;\">\n",
    "\n",
    "### **زمان**\n",
    "\n",
    "</section>"
   ]
  },
  {
   "cell_type": "code",
   "execution_count": 10,
   "metadata": {},
   "outputs": [
    {
     "name": "stdout",
     "output_type": "stream",
     "text": [
      "60.0\n",
      "3600.0\n",
      "86400.0\n",
      "604800.0\n",
      "31536000.0\n",
      "31557600.0\n"
     ]
    }
   ],
   "source": [
    "# Return the specified unit in seconds (e.g. hour returns 3600.0)\n",
    "\n",
    "from scipy import constants\n",
    "\n",
    "print(constants.minute)      #60.0\n",
    "print(constants.hour)        #3600.0\n",
    "print(constants.day)         #86400.0\n",
    "print(constants.week)        #604800.0\n",
    "print(constants.year)        #31536000.0\n",
    "print(constants.Julian_year) #31557600.0"
   ]
  }
 ],
 "metadata": {
  "kernelspec": {
   "display_name": "Python 3",
   "language": "python",
   "name": "python3"
  },
  "language_info": {
   "codemirror_mode": {
    "name": "ipython",
    "version": 3
   },
   "file_extension": ".py",
   "mimetype": "text/x-python",
   "name": "python",
   "nbconvert_exporter": "python",
   "pygments_lexer": "ipython3",
   "version": "3.10.12"
  }
 },
 "nbformat": 4,
 "nbformat_minor": 2
}
