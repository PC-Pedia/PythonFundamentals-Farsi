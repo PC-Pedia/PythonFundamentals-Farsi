{
 "cells": [
  {
   "cell_type": "markdown",
   "metadata": {},
   "source": [
    "Python If ... Else\n",
    "\n",
    "<section style=\"direction: rtl; text-align: justify; margin: 30px;\">\n",
    "\n",
    "## **دستورات شرطی در پایتون**\n",
    "\n",
    "پایتون از شرایط منطقی معمول ریاضیات پشتیبانی می کند:\n",
    "\n",
    "- برابر است با : a == b\n",
    "- برابر نیست با : a != b\n",
    "- کوچکتر از : a < b\n",
    "- کوچکتر و مساوی است با : a <= b\n",
    "- بزرگتر از : a > b\n",
    "- بزرگتر و مساوی است با :‌ a >= b\n",
    "\n",
    "این شرایط را می توان به روش های مختلفی مورد استفاده قرار داد، معمولاً در «عبارات if» و حلقه ها.\n",
    "\n",
    "یک عبارت شرطی با استفاده از کلمه کلیدی if نوشته می شود.\n",
    "\n",
    "</section>"
   ]
  },
  {
   "cell_type": "code",
   "execution_count": 1,
   "metadata": {},
   "outputs": [
    {
     "name": "stdout",
     "output_type": "stream",
     "text": [
      "b is greater than a\n"
     ]
    }
   ],
   "source": [
    "a = 33\n",
    "b = 40\n",
    "if b > a:\n",
    "    print(\"b is greater than a\")"
   ]
  },
  {
   "cell_type": "markdown",
   "metadata": {},
   "source": [
    "<section style=\"direction: rtl; text-align: justify; margin: 30px;\">\n",
    "\n",
    "در این مثال از دو متغیر a و b استفاده می کنیم که به عنوان بخشی از دستور if برای آزمایش اینکه آیا b بزرگتر از a است استفاده می شود. از آنجایی که a 33 است و b 40 است، می دانیم که 40 بزرگتر از 33 است و بنابراین برای صفحه نمایش چاپ می کنیم که \"b بزرگتر از a است\".\n",
    "\n",
    "### **تورفتگی**\n",
    "\n",
    "پایتون برای تعریف محدوده در کد به تورفتگی (فاصله سفید در ابتدای خط) متکی است. سایر زبان های برنامه نویسی اغلب از آکولاد {  } برای این منظور استفاده می کنند.\n",
    "\n",
    "</section>"
   ]
  },
  {
   "cell_type": "code",
   "execution_count": 5,
   "metadata": {},
   "outputs": [
    {
     "ename": "IndentationError",
     "evalue": "expected an indented block after 'if' statement on line 3 (3640775026.py, line 4)",
     "output_type": "error",
     "traceback": [
      "\u001b[1;36m  Cell \u001b[1;32mIn[5], line 4\u001b[1;36m\u001b[0m\n\u001b[1;33m    print(\"b is greater than a\")\u001b[0m\n\u001b[1;37m    ^\u001b[0m\n\u001b[1;31mIndentationError\u001b[0m\u001b[1;31m:\u001b[0m expected an indented block after 'if' statement on line 3\n"
     ]
    }
   ],
   "source": [
    "a = 33\n",
    "b = 40\n",
    "if b > a:\n",
    "print(\"b is greater than a\")"
   ]
  }
 ],
 "metadata": {
  "kernelspec": {
   "display_name": "My Environment",
   "language": "python",
   "name": "myenv"
  },
  "language_info": {
   "codemirror_mode": {
    "name": "ipython",
    "version": 3
   },
   "file_extension": ".py",
   "mimetype": "text/x-python",
   "name": "python",
   "nbconvert_exporter": "python",
   "pygments_lexer": "ipython3",
   "version": "3.11.4"
  }
 },
 "nbformat": 4,
 "nbformat_minor": 2
}
