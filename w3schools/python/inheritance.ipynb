{
 "cells": [
  {
   "cell_type": "code",
   "execution_count": null,
   "metadata": {},
   "outputs": [],
   "source": [
    "class Person:\n",
    "    def __init__(self, fname, lname):\n",
    "        self.firstname = fname\n",
    "        self.lastname = lname\n",
    "        \n",
    "    def printname(self):\n",
    "        print(self.firstname, self.lastname)\n",
    "        \n",
    "p1 = Person(\"Saleh\", \"Abedinezhad\")\n",
    "p1.printname()\n",
    "\n",
    "class Student(Person):\n",
    "    pass\n",
    "\n",
    "p2 = Student(\"Ali\", \"Abedinezhad\")\n",
    "p2.printname()"
   ]
  }
 ],
 "metadata": {
  "language_info": {
   "name": "python"
  },
  "orig_nbformat": 4
 },
 "nbformat": 4,
 "nbformat_minor": 2
}
