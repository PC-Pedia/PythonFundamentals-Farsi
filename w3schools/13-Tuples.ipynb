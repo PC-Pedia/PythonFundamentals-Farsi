{
 "cells": [
  {
   "cell_type": "markdown",
   "metadata": {},
   "source": [
    "Python Tuples\n",
    "\n",
    "<section style=\"direction: rtl; text-align: justify; margin: 30px;\">\n",
    "\n",
    "## **تاپل‌ها**\n",
    "\n",
    "تاپل ها برای ذخیره چندین آیتم در یک متغیر استفاده می شوند.\n",
    "\n",
    "تاپل یکی از 4 نوع داده داخلی در پایتون است که برای ذخیره مجموعه داده ها استفاده می شود، 3 نوع دیگر List، Set و Dictionary هستند که همگی با کیفیت ها و کاربردهای متفاوتی هستند.\n",
    "\n",
    "تاپل مجموعه‌ای است منظم و غیرقابل تغییر.\n",
    "\n",
    "تاپل ها با پرانتز نوشته می شوند.\n",
    "\n",
    "\n",
    "</section>"
   ]
  },
  {
   "cell_type": "code",
   "execution_count": 1,
   "metadata": {},
   "outputs": [
    {
     "name": "stdout",
     "output_type": "stream",
     "text": [
      "('apple', 'banana', 'cherry')\n"
     ]
    }
   ],
   "source": [
    "thistuple = (\"apple\", \"banana\", \"cherry\")\n",
    "print(thistuple)"
   ]
  },
  {
   "cell_type": "markdown",
   "metadata": {},
   "source": [
    "<section style=\"direction: rtl; text-align: justify; margin: 30px;\">\n",
    "\n",
    "### **تاپل‌ها**\n",
    "\n",
    "موارد tuple، غیرقابل تغییر هستند و نوشتن مقادیر تکراری در آن مجاز است.\n",
    "\n",
    "موارد متعدد ایندکس می شوند، مورد اول دارای ایندکس [0]، مورد دوم دارای ایندکس [1] و غیره است.\n",
    "\n",
    "\n",
    "</section>"
   ]
  },
  {
   "cell_type": "markdown",
   "metadata": {},
   "source": [
    "<section style=\"direction: rtl; text-align: justify; margin: 30px;\">\n",
    "\n",
    "### **مرتب سازی**\n",
    "\n",
    "وقتی می گوییم تاپل ها مرتب می شوند به این معنی است که موارد دارای ترتیب مشخصی هستند و این ترتیب تغییر نمی کند.\n",
    "\n",
    "</section>"
   ]
  },
  {
   "cell_type": "markdown",
   "metadata": {},
   "source": [
    "<section style=\"direction: rtl; text-align: justify; margin: 30px;\">\n",
    "\n",
    "### **غیر قابل تغییر**\n",
    "\n",
    "تاپل ها غیر قابل تغییر هستند، به این معنی که پس از ایجاد تاپل نمی توانیم موارد را تغییر، اضافه یا حذف کنیم.\n",
    "\n",
    "</section>"
   ]
  },
  {
   "cell_type": "markdown",
   "metadata": {},
   "source": [
    "<section style=\"direction: rtl; text-align: justify; margin: 30px;\">\n",
    "\n",
    "### **مجاز به تکرار**\n",
    "\n",
    "از آنجایی که تاپل ها ایندکس می شوند، می توانند مواردی با همان مقدار داشته باشند:\n",
    "\n",
    "</section>"
   ]
  },
  {
   "cell_type": "code",
   "execution_count": 4,
   "metadata": {},
   "outputs": [
    {
     "name": "stdout",
     "output_type": "stream",
     "text": [
      "('apple', 'banana', 'cherry', 'apple', 'cherry')\n"
     ]
    }
   ],
   "source": [
    "thistuple = (\"apple\", \"banana\", \"cherry\", \"apple\", \"cherry\")\n",
    "print(thistuple)"
   ]
  },
  {
   "cell_type": "markdown",
   "metadata": {},
   "source": [
    "<section style=\"direction: rtl; text-align: justify; margin: 30px;\">\n",
    "\n",
    "### **طول تاپل**\n",
    "\n",
    "برای تعیین تعداد آیتم های یک تاپل، از تابع len() استفاده کنید:\n",
    "\n",
    "</section>"
   ]
  },
  {
   "cell_type": "code",
   "execution_count": 1,
   "metadata": {},
   "outputs": [
    {
     "name": "stdout",
     "output_type": "stream",
     "text": [
      "3\n"
     ]
    }
   ],
   "source": [
    "thistuple = (\"apple\", \"banana\", \"cherry\")\n",
    "print(len(thistuple))"
   ]
  },
  {
   "cell_type": "markdown",
   "metadata": {},
   "source": [
    "<section style=\"direction: rtl; text-align: justify; margin: 30px;\">\n",
    "\n",
    "### **ایجاد تاپل با یک آیتم**\n",
    "\n",
    "برای ایجاد یک تاپل تنها با یک آیتم، باید یک کاما بعد از آیتم اضافه کنید، در غیر این صورت پایتون آن را به عنوان یک تاپل تشخیص نخواهد داد.\n",
    "\n",
    "</section>"
   ]
  },
  {
   "cell_type": "code",
   "execution_count": 3,
   "metadata": {},
   "outputs": [
    {
     "name": "stdout",
     "output_type": "stream",
     "text": [
      "<class 'tuple'>\n",
      "<class 'str'>\n"
     ]
    }
   ],
   "source": [
    "thistuple = (\"apple\",)\n",
    "print(type(thistuple))\n",
    "\n",
    "# Not a tuple\n",
    "thistuple = (\"apple\")\n",
    "print(type(thistuple))"
   ]
  },
  {
   "cell_type": "markdown",
   "metadata": {},
   "source": [
    "<section style=\"direction: rtl; text-align: justify; margin: 30px;\">\n",
    "\n",
    "### **نوع داده‌های یک تاپل**\n",
    "\n",
    "تاپل‌های می‌توانند از هر نوع داده‌ای باشند:\n",
    "\n",
    "</section>"
   ]
  },
  {
   "cell_type": "code",
   "execution_count": 4,
   "metadata": {},
   "outputs": [],
   "source": [
    "tuple1 = (\"apple\", \"banana\", \"cherry\")\n",
    "tuple2 = (1, 2, 3, 4, 5)\n",
    "tuple3 = (True, False, False)"
   ]
  },
  {
   "cell_type": "markdown",
   "metadata": {},
   "source": [
    "<section style=\"direction: rtl; text-align: justify; margin: 30px;\">\n",
    "\n",
    "حتی یک تاپل می‌تواند از چند نوع مختلف داده‌ای باشد:\n",
    "\n",
    "</section>"
   ]
  },
  {
   "cell_type": "code",
   "execution_count": 5,
   "metadata": {},
   "outputs": [],
   "source": [
    "tuple1 = (\"abc\", 34, True, 40, \"male\")"
   ]
  },
  {
   "cell_type": "markdown",
   "metadata": {},
   "source": [
    "<section style=\"direction: rtl; text-align: justify; margin: 30px;\">\n",
    "\n",
    "از دیدگاه پایتون، تاپل ها به عنوان اشیایی با نوع داده \"tuple\" تعریف می شوند:\n",
    "\n",
    "</section>"
   ]
  },
  {
   "cell_type": "code",
   "execution_count": 6,
   "metadata": {},
   "outputs": [
    {
     "name": "stdout",
     "output_type": "stream",
     "text": [
      "<class 'tuple'>\n"
     ]
    }
   ],
   "source": [
    "mytuple = (\"apple\", \"banana\", \"cherry\")\n",
    "print(type(mytuple))"
   ]
  },
  {
   "cell_type": "markdown",
   "metadata": {},
   "source": [
    "<section style=\"direction: rtl; text-align: justify; margin: 30px;\">\n",
    "\n",
    "### **سازنده تاپل (Constructor)**\n",
    "\n",
    "همچنین می توان از سازنده ()tuple برای ساختن یک تاپل استفاده کرد.\n",
    "\n",
    "</section>"
   ]
  },
  {
   "cell_type": "code",
   "execution_count": 7,
   "metadata": {},
   "outputs": [
    {
     "name": "stdout",
     "output_type": "stream",
     "text": [
      "('apple', 'banana', 'cherry')\n"
     ]
    }
   ],
   "source": [
    "thistuple = tuple((\"apple\", \"banana\", \"cherry\"))  # Note a double round-brakets\n",
    "print(thistuple)"
   ]
  },
  {
   "cell_type": "markdown",
   "metadata": {},
   "source": [
    "<section style=\"direction: rtl; text-align: justify; margin: 30px;\">\n",
    "\n",
    "### **مجموعه‌های پایتون (آرایه‌ها)**\n",
    "\n",
    "چهار نوع داده مجموعه در زبان برنامه نویسی پایتون وجود دارد:\n",
    "\n",
    "- List: لیست مجموعه ای است که مرتب و قابل تغییر است. این نوع مجموعه به ما اجازه تکرار اعضا را می‌دهد.\n",
    "- Tuple: تاپل مجموعه ای است منظم و غیرقابل تغییر. این نوع مجموعه به ما اجازه تکرار اعضا را می‌دهد.\n",
    "- Set: مجموعه‌ای است مرتب و غیر قابل تغییر که ایندکس گذاری نشده و نمی‌تواند عضو تکراری داشته باشد.\n",
    "- Dictionary: دیکشنری مجموعه ای است سفارشی و قابل تغییر. بدون عضو تکراری\n",
    "\n",
    "هنگام انتخاب نوع مجموعه، درک خواص آن نوع مفید است. انتخاب نوع مناسب برای یک مجموعه داده خاص می تواند به معنای حفظ معنا باشد، و می تواند به معنای افزایش کارایی یا امنیت باشد.\n",
    "\n",
    "</section>"
   ]
  }
 ],
 "metadata": {
  "kernelspec": {
   "display_name": "Python 3",
   "language": "python",
   "name": "python3"
  },
  "language_info": {
   "codemirror_mode": {
    "name": "ipython",
    "version": 3
   },
   "file_extension": ".py",
   "mimetype": "text/x-python",
   "name": "python",
   "nbconvert_exporter": "python",
   "pygments_lexer": "ipython3",
   "version": "3.11.6"
  }
 },
 "nbformat": 4,
 "nbformat_minor": 2
}
