{
 "cells": [
  {
   "cell_type": "markdown",
   "metadata": {},
   "source": [
    "Python Tuples\n",
    "\n",
    "<section style=\"direction: rtl; text-align: justify; margin: 30px;\">\n",
    "\n",
    "## **تاپل‌ها**\n",
    "\n",
    "تاپل ها برای ذخیره چندین آیتم در یک متغیر استفاده می شوند.\n",
    "\n",
    "تاپل یکی از 4 نوع داده داخلی در پایتون است که برای ذخیره مجموعه داده ها استفاده می شود، 3 نوع دیگر List، Set و Dictionary هستند که همگی با کیفیت ها و کاربردهای متفاوتی هستند.\n",
    "\n",
    "تاپل مجموعه‌ای است منظم و غیرقابل تغییر.\n",
    "\n",
    "تاپل ها با پرانتز نوشته می شوند.\n",
    "\n",
    "\n",
    "</section>"
   ]
  },
  {
   "cell_type": "code",
   "execution_count": 1,
   "metadata": {},
   "outputs": [
    {
     "name": "stdout",
     "output_type": "stream",
     "text": [
      "('apple', 'banana', 'cherry')\n"
     ]
    }
   ],
   "source": [
    "thistuple = (\"apple\", \"banana\", \"cherry\")\n",
    "print(thistuple)"
   ]
  },
  {
   "cell_type": "markdown",
   "metadata": {},
   "source": [
    "<section style=\"direction: rtl; text-align: justify; margin: 30px;\">\n",
    "\n",
    "### **تاپل‌ها**\n",
    "\n",
    "موارد tuple، غیرقابل تغییر هستند و نوشتن مقادیر تکراری در آن مجاز است.\n",
    "\n",
    "موارد متعدد ایندکس می شوند، مورد اول دارای ایندکس [0]، مورد دوم دارای ایندکس [1] و غیره است.\n",
    "\n",
    "\n",
    "</section>"
   ]
  },
  {
   "cell_type": "markdown",
   "metadata": {},
   "source": [
    "<section style=\"direction: rtl; text-align: justify; margin: 30px;\">\n",
    "\n",
    "### **مرتب سازی**\n",
    "\n",
    "وقتی می گوییم تاپل ها مرتب می شوند به این معنی است که موارد دارای ترتیب مشخصی هستند و این ترتیب تغییر نمی کند.\n",
    "\n",
    "</section>"
   ]
  },
  {
   "cell_type": "markdown",
   "metadata": {},
   "source": [
    "<section style=\"direction: rtl; text-align: justify; margin: 30px;\">\n",
    "\n",
    "### **غیر قابل تغییر**\n",
    "\n",
    "تاپل ها غیر قابل تغییر هستند، به این معنی که پس از ایجاد تاپل نمی توانیم موارد را تغییر، اضافه یا حذف کنیم.\n",
    "\n",
    "</section>"
   ]
  },
  {
   "cell_type": "markdown",
   "metadata": {},
   "source": [
    "<section style=\"direction: rtl; text-align: justify; margin: 30px;\">\n",
    "\n",
    "### **مجاز به تکرار**\n",
    "\n",
    "از آنجایی که تاپل ها ایندکس می شوند، می توانند مواردی با همان مقدار داشته باشند:\n",
    "\n",
    "</section>"
   ]
  },
  {
   "cell_type": "code",
   "execution_count": 4,
   "metadata": {},
   "outputs": [
    {
     "name": "stdout",
     "output_type": "stream",
     "text": [
      "('apple', 'banana', 'cherry', 'apple', 'cherry')\n"
     ]
    }
   ],
   "source": [
    "thistuple = (\"apple\", \"banana\", \"cherry\", \"apple\", \"cherry\")\n",
    "print(thistuple)"
   ]
  }
 ],
 "metadata": {
  "kernelspec": {
   "display_name": "Python 3",
   "language": "python",
   "name": "python3"
  },
  "language_info": {
   "codemirror_mode": {
    "name": "ipython",
    "version": 3
   },
   "file_extension": ".py",
   "mimetype": "text/x-python",
   "name": "python",
   "nbconvert_exporter": "python",
   "pygments_lexer": "ipython3",
   "version": "3.11.4"
  }
 },
 "nbformat": 4,
 "nbformat_minor": 2
}
