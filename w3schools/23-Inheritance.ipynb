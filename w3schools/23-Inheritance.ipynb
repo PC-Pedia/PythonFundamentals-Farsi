{
 "cells": [
  {
   "cell_type": "markdown",
   "metadata": {},
   "source": [
    "Python Inheritance\n",
    "\n",
    "<section style=\"direction: rtl; text-align: justify; margin: 30px;\">\n",
    "\n",
    "## **وراثت در پایتون**\n",
    "\n",
    "وراثت به ما اجازه می دهد کلاسی را تعریف کنیم که تمام متدها و ویژگی ها را از کلاس دیگری به ارث می برد.\n",
    "\n",
    "کلاس والد کلاسی است که از آن به ارث برده شده است که به آن کلاس پایه نیز می گویند.\n",
    "\n",
    "کلاس فرزند کلاسی است که از کلاس دیگری به ارث می برد که به آن کلاس مشتق شده نیز می گویند.\n",
    "\n",
    "هر کلاسی می تواند یک کلاس والد باشد، بنابراین سینتکس مانند ایجاد هر کلاس دیگر است:\n",
    "\n",
    "</section>"
   ]
  },
  {
   "cell_type": "code",
   "execution_count": 1,
   "metadata": {},
   "outputs": [
    {
     "name": "stdout",
     "output_type": "stream",
     "text": [
      "Saleh Abedinezhad\n"
     ]
    }
   ],
   "source": [
    "# Create a Parent Class\n",
    "class Person:\n",
    "    def __init__(self, fname, lname):\n",
    "        self.firstname = fname\n",
    "        self.lastname = lname\n",
    "\n",
    "    def printname(self):\n",
    "        print(self.firstname, self.lastname)\n",
    "\n",
    "\n",
    "# Use the Person class to create an object, and then execute the printname method:\n",
    "x = Person(\"Saleh\", \"Abedinezhad\")\n",
    "x.printname()"
   ]
  },
  {
   "cell_type": "markdown",
   "metadata": {},
   "source": [
    "<section style=\"direction: rtl; text-align: justify; margin: 30px;\">\n",
    "\n",
    "برای ایجاد کلاسی که عملکرد را از کلاس دیگری به ارث می برد، هنگام ایجاد کلاس فرزند، کلاس والد را به عنوان پارامتر ارسال کنید:\n",
    "\n",
    "</section>"
   ]
  },
  {
   "cell_type": "code",
   "execution_count": 3,
   "metadata": {},
   "outputs": [],
   "source": [
    "class Student(Person):\n",
    "    pass"
   ]
  },
  {
   "cell_type": "markdown",
   "metadata": {},
   "source": [
    "<section style=\"direction: rtl; text-align: justify; margin: 30px;\">\n",
    "\n",
    "توجه: زمانی که نمی خواهید هیچ ویژگی یا متد دیگری به کلاس اضافه کنید از کلمه کلیدی pass استفاده کنید.\n",
    "\n",
    "اکنون کلاس Student دارای همان ویژگی ها و متدهای کلاس Person است.\n",
    "\n",
    "</section>"
   ]
  },
  {
   "cell_type": "code",
   "execution_count": 4,
   "metadata": {},
   "outputs": [
    {
     "name": "stdout",
     "output_type": "stream",
     "text": [
      "Saleh Abedinezhad\n"
     ]
    }
   ],
   "source": [
    "x = Student(\"Saleh\", \"Abedinezhad\")\n",
    "x.printname()"
   ]
  },
  {
   "cell_type": "markdown",
   "metadata": {},
   "source": [
    "<section style=\"direction: rtl; text-align: justify; margin: 30px;\">\n",
    "\n",
    "تا اینجا ما یک کلاس فرزند ایجاد کرده ایم که ویژگی ها و متدها را از والد خود به ارث می برد.\n",
    "\n",
    "می خواهیم تابع __init__() را به کلاس فرزند اضافه کنیم (به جای کلمه کلیدی pass).\n",
    "\n",
    "نکته: تابع __init__() به طور خودکار هر بار که از کلاس برای ایجاد یک شی جدید استفاده می شود، فراخوانی می شود.\n",
    "\n",
    "</section>"
   ]
  },
  {
   "cell_type": "code",
   "execution_count": null,
   "metadata": {},
   "outputs": [],
   "source": [
    "class Student(Person):\n",
    "    def __init__(self, fname, lname):\n",
    "        # add peroperties etc."
   ]
  },
  {
   "cell_type": "markdown",
   "metadata": {},
   "source": [
    "<section style=\"direction: rtl; text-align: justify; margin: 30px;\">\n",
    "\n",
    "وقتی تابع __init__() را اضافه می کنید، کلاس فرزند دیگر تابع __init__() والدین را به ارث نمی برد.\n",
    "\n",
    "توجه: تابع __init__() فرزند، وراثت تابع __init__() والدین را لغو می کند.\n",
    "\n",
    "برای حفظ وراثت تابع __init__() والدین، یک فراخوانی به تابع __init__() والدین اضافه کنید:\n",
    "\n",
    "</section>"
   ]
  },
  {
   "cell_type": "code",
   "execution_count": 5,
   "metadata": {},
   "outputs": [],
   "source": [
    "class Student(Person):\n",
    "    def __init__(self, fname, lname):\n",
    "        Person.__init__(self, fname, lname)"
   ]
  },
  {
   "cell_type": "markdown",
   "metadata": {},
   "source": [
    "<section style=\"direction: rtl; text-align: justify; margin: 30px;\">\n",
    "\n",
    "اکنون تابع __init__() را با موفقیت اضافه کرده ایم و ارث بری کلاس والد را حفظ کرده ایم و آماده هستیم تا عملکرد را در تابع __init__() اضافه کنیم.\n",
    "\n",
    "پایتون همچنین دارای یک تابع super() است که باعث می‌شود کلاس فرزند تمام متدها و ویژگی‌ها را از والد خود به ارث ببرد:\n",
    "\n",
    "</section>"
   ]
  },
  {
   "cell_type": "code",
   "execution_count": 6,
   "metadata": {},
   "outputs": [],
   "source": [
    "class Student(Person):\n",
    "    def __init__(self, fname, lname):\n",
    "        super().__init__(fname, lname)"
   ]
  },
  {
   "cell_type": "markdown",
   "metadata": {},
   "source": [
    "<section style=\"direction: rtl; text-align: justify; margin: 30px;\">\n",
    "\n",
    "با استفاده از تابع ()super، لازم نیست از نام عنصر والد استفاده کنید، این عنصر به طور خودکار متدها و خصوصیات را از والد خود به ارث می برد.\n",
    "\n",
    "</section>"
   ]
  },
  {
   "cell_type": "code",
   "execution_count": null,
   "metadata": {},
   "outputs": [],
   "source": [
    "class Student(Person):\n",
    "    def __init__(self, fname, lname):\n",
    "        super().__init__(fname, lname)\n",
    "        self.graduationayear = 2023"
   ]
  },
  {
   "cell_type": "markdown",
   "metadata": {},
   "source": [
    "<section style=\"direction: rtl; text-align: justify; margin: 30px;\">\n",
    "\n",
    "در مثال زیر، سال 2023 باید یک متغیر باشد و هنگام ایجاد اشیاء دانشجویی به کلاس Student منتقل شود. برای انجام این کار، پارامتر دیگری را در تابع __init__() اضافه کنید:\n",
    "\n",
    "</section>"
   ]
  },
  {
   "cell_type": "code",
   "execution_count": 8,
   "metadata": {},
   "outputs": [
    {
     "name": "stdout",
     "output_type": "stream",
     "text": [
      "saleh abdeinezhad 2023\n"
     ]
    }
   ],
   "source": [
    "# Add Properties\n",
    "class Student(Person):\n",
    "    def __init__(self, fname, lname, year):\n",
    "        super().__init__(fname, lname)\n",
    "        self.graduationyear = year\n",
    "\n",
    "    def printname(self):\n",
    "        print(self.firstname, self.lastname, self.graduationyear)\n",
    "\n",
    "\n",
    "x = Student(\"saleh\", \"abdeinezhad\", 2023)\n",
    "x.printname()"
   ]
  },
  {
   "cell_type": "markdown",
   "metadata": {},
   "source": [
    "In the example below, the year 2023 should be a variable, and passed into the Student class when creating student objects. To do so, add another parameter in the \\_\\_init_\\_\\() function:"
   ]
  },
  {
   "cell_type": "markdown",
   "metadata": {},
   "source": [
    "***\n",
    "## Add Methods"
   ]
  },
  {
   "cell_type": "code",
   "execution_count": 12,
   "metadata": {},
   "outputs": [
    {
     "name": "stdout",
     "output_type": "stream",
     "text": [
      "Welcome saleh abedinezhad to the class of 2023\n"
     ]
    }
   ],
   "source": [
    "# Add Methods\n",
    "class Student(Person):\n",
    "    def __init__(self, fname, lname, year):\n",
    "        super().__init__(fname, lname)\n",
    "        self.graduationyear = year\n",
    "\n",
    "    def welcome(self):\n",
    "        print(\"Welcome\", self.firstname, self.lastname,\n",
    "              \"to the class of\", self.graduationyear)\n",
    "\n",
    "\n",
    "# Example:\n",
    "x = Student(\"saleh\", \"abedinezhad\", 2023)\n",
    "x.welcome()"
   ]
  }
 ],
 "metadata": {
  "kernelspec": {
   "display_name": "My Environment",
   "language": "python",
   "name": "myenv"
  },
  "language_info": {
   "codemirror_mode": {
    "name": "ipython",
    "version": 3
   },
   "file_extension": ".py",
   "mimetype": "text/x-python",
   "name": "python",
   "nbconvert_exporter": "python",
   "pygments_lexer": "ipython3",
   "version": "3.11.4"
  },
  "orig_nbformat": 4
 },
 "nbformat": 4,
 "nbformat_minor": 2
}
