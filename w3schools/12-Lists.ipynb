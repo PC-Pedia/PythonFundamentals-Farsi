{
 "cells": [
  {
   "cell_type": "markdown",
   "metadata": {},
   "source": [
    "Python Lists\n",
    "\n",
    "<section style=\"direction: rtl; text-align: justify; margin: 30px;\">\n",
    "\n",
    "## **لیست‌ها**\n",
    "\n",
    "لیست ها برای ذخیره چندین مورد در یک متغیر استفاده می شوند.\n",
    "\n",
    "لیست ها یکی از 4 نوع داده داخلی در پایتون هستند که برای ذخیره مجموعه داده ها استفاده می شوند، 3 نوع دیگر Tuple، Set و Dictionary هستند که همگی با کیفیت ها و کاربردهای متفاوتی هستند.\n",
    "\n",
    "لیست ها با استفاده از براکت‌ها ایجاد می شوند:\n",
    "\n",
    "</section>"
   ]
  },
  {
   "cell_type": "code",
   "execution_count": 9,
   "metadata": {},
   "outputs": [
    {
     "name": "stdout",
     "output_type": "stream",
     "text": [
      "['apple', 'banana', 'cherry']\n"
     ]
    }
   ],
   "source": [
    "thislist = [\"apple\", \"banana\", \"cherry\"]\n",
    "print(thislist)"
   ]
  },
  {
   "cell_type": "markdown",
   "metadata": {},
   "source": [
    "<section style=\"direction: rtl; text-align: justify; margin: 30px;\">\n",
    "\n",
    "### **آیتم‌های لیست**\n",
    "\n",
    "به وسیله‌ی ایندکس‌ها می‌توانیم به اجزای یک لیست دسترسی داشته باشیم، موارد فهرست ایندکس‌گذاری می شوند، مورد اول دارای نمایه [0]، مورد دوم دارای نمایه [1] است.\n",
    "\n",
    "\n",
    "</section>"
   ]
  },
  {
   "cell_type": "markdown",
   "metadata": {},
   "source": [
    "<section style=\"direction: rtl; text-align: justify; margin: 30px;\">\n",
    "\n",
    "### **ترتیب‌گذاری**\n",
    "\n",
    "وقتی می گوییم لیست ها مرتب شده اند به این معنی است که موارد دارای ترتیب مشخصی هستند و این ترتیب تغییر نمی کند.\n",
    "\n",
    "اگر موارد جدیدی را به لیست اضافه کنید، موارد جدید در انتهای لیست قرار خواهند گرفت.\n",
    "\n",
    "نکته: روش های لیستی وجود دارد که ترتیب را تغییر می دهد، اما به طور کلی: ترتیب آیتم ها تغییر نمی کند.\n",
    "\n",
    "\n",
    "</section>"
   ]
  },
  {
   "cell_type": "markdown",
   "metadata": {},
   "source": [
    "<section style=\"direction: rtl; text-align: justify; margin: 30px;\">\n",
    "\n",
    "### **تغییر پذیری**\n",
    "\n",
    "لیست قابل تغییر است، به این معنی که ما می توانیم موارد را در یک لیست پس از ایجاد تغییر، اضافه و حذف کنیم.\n",
    "\n",
    "</section>"
   ]
  },
  {
   "cell_type": "markdown",
   "metadata": {},
   "source": [
    "<section style=\"direction: rtl; text-align: justify; margin: 30px;\">\n",
    "\n",
    "### **تکرار پذیری**\n",
    "\n",
    "از آنجایی که لیست ها ایندکس شده اند، می توانند مواردی با مقدار تکراری داشته باشند:\n",
    "\n",
    "</section>"
   ]
  },
  {
   "cell_type": "code",
   "execution_count": 10,
   "metadata": {},
   "outputs": [
    {
     "name": "stdout",
     "output_type": "stream",
     "text": [
      "['apple', 'banana', 'cherry', 'apple', 'cherry']\n"
     ]
    }
   ],
   "source": [
    "thislist = [\"apple\", \"banana\", \"cherry\", \"apple\", \"cherry\"]\n",
    "print(thislist)"
   ]
  },
  {
   "cell_type": "markdown",
   "metadata": {},
   "source": [
    "<section style=\"direction: rtl; text-align: justify; margin: 30px;\">\n",
    "\n",
    "### **طول لیست‌ها**\n",
    "\n",
    "برای تعیین تعداد آیتم های یک لیست، از تابع len() استفاده کنید:\n",
    "\n",
    "</section>"
   ]
  },
  {
   "cell_type": "code",
   "execution_count": 11,
   "metadata": {},
   "outputs": [
    {
     "name": "stdout",
     "output_type": "stream",
     "text": [
      "3\n"
     ]
    }
   ],
   "source": [
    "thislist = [\"apple\", \"banana\", \"cherry\"]\n",
    "print(len(thislist))"
   ]
  },
  {
   "cell_type": "markdown",
   "metadata": {},
   "source": [
    "<section style=\"direction: rtl; text-align: justify; margin: 30px;\">\n",
    "\n",
    "### **نوع داده در لیست‌ها**\n",
    "\n",
    "موارد فهرست می توانند از هر نوع داده ای باشند:\n",
    "\n",
    "</section>"
   ]
  },
  {
   "cell_type": "code",
   "execution_count": 17,
   "metadata": {},
   "outputs": [],
   "source": [
    "list1 = [\"apple\", \"banana\", \"cherry\"]\n",
    "list2 = [1, 5, 7, 9, 3]\n",
    "list3 = [True, False, False]"
   ]
  },
  {
   "cell_type": "markdown",
   "metadata": {},
   "source": [
    "<section style=\"direction: rtl; text-align: justify; margin: 30px;\">\n",
    "\n",
    "یک لیست می تواند شامل انواع داده های مختلف باشد:\n",
    "\n",
    "</section>"
   ]
  },
  {
   "cell_type": "code",
   "execution_count": 18,
   "metadata": {},
   "outputs": [],
   "source": [
    "list1 = [\"abc\", 34, True, 40, \"male\"]"
   ]
  },
  {
   "cell_type": "markdown",
   "metadata": {},
   "source": [
    "<section style=\"direction: rtl; text-align: justify; margin: 30px;\">\n",
    "\n",
    "از دیدگاه پایتون، لیست ها به عنوان اشیایی با نوع داده \"list\" تعریف می شوند:\n",
    "\n",
    "</section>"
   ]
  },
  {
   "cell_type": "code",
   "execution_count": 19,
   "metadata": {},
   "outputs": [
    {
     "name": "stdout",
     "output_type": "stream",
     "text": [
      "<class 'list'>\n"
     ]
    }
   ],
   "source": [
    "mylist = [\"apple\", \"banana\", \"cherry\"]\n",
    "\n",
    "print(type(mylist))"
   ]
  },
  {
   "cell_type": "markdown",
   "metadata": {},
   "source": [
    "<section style=\"direction: rtl; text-align: justify; margin: 30px;\">\n",
    "\n",
    "استفاده از سازنده list() برای ایجاد لیست:\n",
    "\n",
    "</section>"
   ]
  },
  {
   "cell_type": "code",
   "execution_count": 21,
   "metadata": {},
   "outputs": [
    {
     "name": "stdout",
     "output_type": "stream",
     "text": [
      "['apple', 'banana', 'cherry']\n"
     ]
    }
   ],
   "source": [
    "thislist = list((\"apple\", \"banana\", \"cherry\"))\n",
    "\n",
    "print(thislist)"
   ]
  },
  {
   "cell_type": "markdown",
   "metadata": {},
   "source": [
    "<section style=\"direction: rtl; text-align: justify; margin: 30px;\">\n",
    "\n",
    "### **مجموعه‌های پایتون (آرایه‌ها)**\n",
    "\n",
    "چهار نوع داده مجموعه در زبان برنامه نویسی پایتون وجود دارد:\n",
    "\n",
    "- لیست مجموعه ای است که مرتب و قابل تغییر است. به اعضای تکراری اجازه می دهد.\n",
    "\n",
    "- تاپل مجموعه ای است منظم و غیرقابل تغییر. به اعضای تکراری اجازه می دهد.\n",
    "\n",
    "- مجموعه مجموعه‌ای است که مرتب، غیرقابل تغییر* و نمایه نشده است. بدون عضو تکراری\n",
    "\n",
    "- دیکشنری مجموعه ای است سفارشی** و قابل تغییر. بدون عضو تکراری\n",
    "\n",
    "*موارد تنظیم شده غیرقابل تغییر هستند، اما هر زمان که بخواهید می توانید موارد را حذف و/یا اضافه کنید.\n",
    "\n",
    "**از نسخه 3.7 پایتون، دیکشنری ها مرتب شده اند. در پایتون 3.6 و نسخه های قبلی، دیکشنری ها نامرتب هستند.\n",
    "\n",
    "هنگام انتخاب نوع مجموعه، درک خواص آن نوع مفید است. انتخاب نوع مناسب برای یک مجموعه داده خاص می تواند به معنای حفظ معنا باشد، و می تواند به معنای افزایش کارایی یا امنیت باشد.\n",
    "\n",
    "</section>"
   ]
  }
 ],
 "metadata": {
  "kernelspec": {
   "display_name": "Python 3",
   "language": "python",
   "name": "python3"
  },
  "language_info": {
   "codemirror_mode": {
    "name": "ipython",
    "version": 3
   },
   "file_extension": ".py",
   "mimetype": "text/x-python",
   "name": "python",
   "nbconvert_exporter": "python",
   "pygments_lexer": "ipython3",
   "version": "3.11.4"
  }
 },
 "nbformat": 4,
 "nbformat_minor": 2
}
