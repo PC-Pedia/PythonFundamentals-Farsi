{
 "cells": [
  {
   "cell_type": "code",
   "execution_count": 9,
   "metadata": {},
   "outputs": [
    {
     "name": "stdout",
     "output_type": "stream",
     "text": [
      "this file demofile.txt is updated!\n",
      "Nothing went wrong\n"
     ]
    }
   ],
   "source": [
    "import os\n",
    "\n",
    "demofile = \"demofile.txt\"\n",
    "file_path = os.path.abspath(demofile)\n",
    "\n",
    "# with try-except, we control the errors\n",
    "try:\n",
    "    with open(demofile, \"w\") as file:\n",
    "        new_content = \"Hello, im saleh abedinezhad from iran, I'm 35 years old and intrested to learnin python :)\"\n",
    "        \n",
    "        file.write(new_content)\n",
    "        \n",
    "    print(f\"this file {demofile} is updated!\")\n",
    "except:\n",
    "    print(\"Something went wrong\")\n",
    "else:\n",
    "    print(\"Nothing went wrong\")"
   ]
  }
 ],
 "metadata": {
  "kernelspec": {
   "display_name": "Python 3",
   "language": "python",
   "name": "python3"
  },
  "language_info": {
   "codemirror_mode": {
    "name": "ipython",
    "version": 3
   },
   "file_extension": ".py",
   "mimetype": "text/x-python",
   "name": "python",
   "nbconvert_exporter": "python",
   "pygments_lexer": "ipython3",
   "version": "3.10.12"
  },
  "orig_nbformat": 4
 },
 "nbformat": 4,
 "nbformat_minor": 2
}
