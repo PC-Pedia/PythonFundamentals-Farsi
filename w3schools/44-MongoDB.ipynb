{
 "cells": [
  {
   "cell_type": "markdown",
   "metadata": {},
   "source": [
    "Python MongoDB\n",
    "\n",
    "<section style=\"direction: rtl; text-align: justify; margin: 30px;\">\n",
    "\n",
    "## **MongoDB (noSQL)**\n",
    "\n",
    "🧠 دیتابیس MongoDB یکی از دیتابیس‌های NoSQL است که از مدل سنتی جدولی SQL (مانند MySQL یا PostgreSQL) متمایز است. MongoDB یک دیتابیس مبتنی بر اسناد است، به این معنی که اطلاعات به شکل اسناد JSON ذخیره می‌شوند. این به توسعه‌دهندگان امکان می‌دهد تا با ساختار اطلاعاتی انعطاف‌پذیرتری کار کنند.\n",
    "\n",
    "### ویژگی‌های MongoDB:\n",
    "1. **اسناد:**\n",
    "    - اطلاعات در MongoDB به شکل اسناد ذخیره می‌شوند. این اسناد به شکل JSON هستند که فیلدها و مقادیرشان را نشان می‌دهند.\n",
    "\n",
    "2. **توزیع‌پذیری:**\n",
    "    - MongoDB امکان توزیع و ذخیره سازی اطلاعات را در سرورهای متعدد فراهم می‌کند که این امکان به شما کمک می‌کند تا بتوانید با حجم بالای داده‌ها ساختارهای کارآمدی را پیاده‌سازی کنید.\n",
    "\n",
    "3. **انعطاف‌پذیری:**\n",
    "    - MongoDB به شما امکان می‌دهد تا با ساختار اطلاعاتی انعطاف‌پذیرتری کار کنید. در MongoDB، ساختار مورد نیاز خود را برای هر سند می‌توانید تعیین کنید.\n",
    "\n",
    "4. **سریع:**\n",
    "    - در مقایسه با دیتابیس‌های رابطه‌ای، MongoDB سریع‌تر است. این خصوصیت آن را به یکی از گزینه‌های مناسب برای کار با داده‌های حجیم تبدیل کرده است.\n",
    "\n",
    "### استفاده از MongoDB در پایتون:\n",
    "برای استفاده از MongoDB در پایتون، ابتدا باید MongoDB را بر روی سیستم خود نصب کرده و سپس کتابخانه رسمی MongoDB برای Python به نام pymongo را نصب کنید. برای نصب pymongo می‌توانید از ابزار pip استفاده کنید. اگر pip نصب نیست، آن را از [اینجا](https://pip.pypa.io/en/stable/installation/) نصب کنید.\n",
    "\n",
    "#### نصب pymongo:\n",
    "```\n",
    "pip install pymongo\n",
    "```\n",
    "\n",
    "حالا بعد از نصب pymongo، می‌توانید از طریق کد Python به دیتابیس MongoDB متصل شوید و با آن تعامل داشته باشید.\n",
    "\n",
    "#### مثال اولیه:\n",
    "\n",
    "</section>\n",
    "\n",
    "```python\n",
    "import pymongo\n",
    "\n",
    "# اتصال به دیتابیس MongoDB\n",
    "client = pymongo.MongoClient(\"mongodb://localhost:27017/\")\n",
    "\n",
    "# انتخاب یک دیتابیس\n",
    "mydb = client[\"mydatabase\"]\n",
    "\n",
    "# ایجاد یک کالکشن (معادل جدول در دیتابیس‌های رابطه‌ای)\n",
    "mycol = mydb[\"customers\"]\n",
    "\n",
    "# اضافه کردن یک سند (معادل ردیف در دیتابیس‌های رابطه‌ای)\n",
    "mydict = { \"name\": \"John\", \"address\": \"Highway 37\" }\n",
    "x = mycol.insert_one(mydict)\n",
    "\n",
    "# نمایش لیست کل کالکشن‌ها در دیتابیس\n",
    "print(client.list_database_names())\n",
    "\n",
    "# نمایش لیست کل کالکشن‌های موجود در دیتابیس\n",
    "print(mydb.list_collection_names())\n",
    "\n",
    "# خواندن یک سند\n",
    "x = mycol.find_one()\n",
    "print(x)\n",
    "```\n",
    "\n",
    "<section style=\"direction: rtl; text-align: justify; margin: 30px;\">\n",
    "\n",
    "در این مثال، یک کالکشن به نام \"customers\" در دیتابیس \"mydatabase\" ساخته شده و یک سند به این کالکشن اضافه شده است.\n",
    "\n",
    "این تنها یک مثال ساده بود. MongoDB امکانات بسیاری برای جستجو، فیلترینگ، و به‌روزرسانی داده‌ها را فراهم می‌کند که می‌توانید آنها را با کمی تحقیق بیشتر کشف کنید.\n",
    "\n",
    "برای استفاده از کتابخانه MongoDB باید آن را import کنید:\n",
    "\n",
    "</section>"
   ]
  },
  {
   "cell_type": "code",
   "execution_count": 1,
   "metadata": {},
   "outputs": [],
   "source": [
    "import pymongo"
   ]
  },
  {
   "cell_type": "markdown",
   "metadata": {},
   "source": [
    "<section style=\"direction: rtl; text-align: justify; margin: 30px;\">\n",
    "\n",
    "در صورتی که کد فوق بدون خطا اجرا شده باشد، \"pymongo\" نصب شده و آماده استفاده است.\n",
    "\n",
    "</section>"
   ]
  },
  {
   "cell_type": "markdown",
   "metadata": {},
   "source": [
    "---\n",
    "\n",
    "Python MongoDB Create Database\n",
    "\n",
    "<section style=\"direction: rtl; text-align: justify; margin: 30px;\">\n",
    "\n",
    "## **ساخت دیتابیس**\n",
    "\n",
    "برای ایجاد یک پایگاه داده در MongoDB، با ایجاد یک شی MongoClient شروع کنید، سپس یک URL اتصال با آدرس IP صحیح و نام پایگاه داده ای که می خواهید ایجاد کنید را مشخص کنید.\n",
    "\n",
    "MongoDB در صورتی که پایگاه داده وجود نداشته باشد، ایجاد می کند و با آن ارتباط برقرار می کند.\n",
    "\n",
    "</section>"
   ]
  },
  {
   "cell_type": "code",
   "execution_count": 2,
   "metadata": {},
   "outputs": [],
   "source": [
    "import pymongo\n",
    "\n",
    "myclient = pymongo.MongoClient(\"mongodb://localhost:27017/\")\n",
    "\n",
    "mydb = myclient['mydatabase']"
   ]
  },
  {
   "cell_type": "markdown",
   "metadata": {},
   "source": [
    "<section style=\"direction: rtl; text-align: justify; margin: 30px;\">\n",
    "\n",
    "⚠️ مهم: در MongoDB، پایگاه داده تا زمانی که محتوا دریافت نکند ایجاد نمی شود!\n",
    "\n",
    "MongoDB منتظر می ماند تا یک مجموعه (جدول) با حداقل یک سند (رکورد) ایجاد کنید تا اینکه واقعاً پایگاه داده (و مجموعه) را ایجاد کند.\n",
    "\n",
    "به یاد داشته باشید: در MongoDB، پایگاه داده تا زمانی که محتوا دریافت نکند ایجاد نمی شود، بنابراین اگر این اولین باری است که پایگاه داده ایجاد می کنید، باید قبل از بررسی وجود پایگاه داده، دو فصل بعدی (ایجاد مجموعه و ایجاد سند) را تکمیل کنید!\n",
    "\n",
    "می توانید با فهرست کردن همه پایگاه های داده در سیستم خود، وجود پایگاه داده را بررسی کنید:\n",
    "\n",
    "</section>"
   ]
  },
  {
   "cell_type": "code",
   "execution_count": 3,
   "metadata": {},
   "outputs": [
    {
     "name": "stdout",
     "output_type": "stream",
     "text": [
      "['admin', 'config', 'local']\n"
     ]
    }
   ],
   "source": [
    "import pymongo\n",
    "\n",
    "myclient = pymongo.MongoClient(\"mongodb://localhost:27017/\")\n",
    "\n",
    "print(myclient.list_database_names())"
   ]
  },
  {
   "cell_type": "markdown",
   "metadata": {},
   "source": [
    "<section style=\"direction: rtl; text-align: justify; margin: 30px;\">\n",
    "\n",
    "یا می توانید یک پایگاه داده خاص را با نام بررسی کنید:\n",
    "\n",
    "</section>"
   ]
  },
  {
   "cell_type": "code",
   "execution_count": 5,
   "metadata": {},
   "outputs": [],
   "source": [
    "dblist = myclient.list_database_names()\n",
    "\n",
    "if 'mydatabase' in dblist:\n",
    "    print(\"The database is exists\")"
   ]
  },
  {
   "cell_type": "markdown",
   "metadata": {},
   "source": [
    "***\n",
    "\n",
    "Python MongoDB Create Collection\n",
    "\n",
    "<section style=\"direction: rtl; text-align: justify; margin: 30px;\">\n",
    "\n",
    "## **ساخت مجموعه**\n",
    "\n",
    "⚠️ یک مجموعه در MongoDB مانند یک جدول در پایگاه داده SQL است.\n",
    "\n",
    "برای ایجاد یک مجموعه در MongoDB، از آبجکت پایگاه داده استفاده کنید و نام مجموعه ای را که می خواهید ایجاد کنید مشخص کنید.\n",
    "\n",
    "اگر مجموعه MongoDB وجود نداشته باشد، آن را ایجاد می کند.\n",
    "\n",
    "</section>"
   ]
  },
  {
   "cell_type": "code",
   "execution_count": 4,
   "metadata": {},
   "outputs": [],
   "source": [
    "import pymongo\n",
    "\n",
    "myclient = pymongo.MongoClient('mongodb://localhost:27017/')\n",
    "mydb = myclient['mydatabase']\n",
    "\n",
    "mycol = mydb['customers']"
   ]
  },
  {
   "cell_type": "markdown",
   "metadata": {},
   "source": [
    "<section style=\"direction: rtl; text-align: justify; margin: 30px;\">\n",
    "\n",
    "⚠️ مهم: در MongoDB، مجموعه ای ایجاد نمی شود تا زمانی که محتوا دریافت کند!\n",
    "\n",
    "MongoDB منتظر می ماند تا زمانی که سندی را وارد کنید قبل از اینکه مجموعه را ایجاد کند.\n",
    "\n",
    "⚠️ به یاد داشته باشید: در MongoDB، مجموعه ای تا زمانی که محتوا دریافت نکند ایجاد نمی شود، بنابراین اگر این اولین بار است که یک مجموعه ایجاد می کنید، باید قبل از بررسی وجود مجموعه، فصل بعدی (ایجاد سند) را تکمیل کنید!\n",
    "\n",
    "می‌توانید با فهرست کردن همه مجموعه‌ها بررسی کنید که آیا مجموعه‌ای در پایگاه داده وجود دارد:\n",
    "\n",
    "</section>"
   ]
  },
  {
   "cell_type": "code",
   "execution_count": 28,
   "metadata": {},
   "outputs": [
    {
     "name": "stdout",
     "output_type": "stream",
     "text": [
      "['customers']\n"
     ]
    }
   ],
   "source": [
    "print(mydb.list_collection_names())"
   ]
  },
  {
   "cell_type": "markdown",
   "metadata": {},
   "source": [
    "<section style=\"direction: rtl; text-align: justify; margin: 30px;\">\n",
    "\n",
    "یا می توانید یک پایگاه داده خاص را با نام بررسی کنید:\n",
    "\n",
    "</section>"
   ]
  },
  {
   "cell_type": "code",
   "execution_count": 29,
   "metadata": {},
   "outputs": [
    {
     "name": "stdout",
     "output_type": "stream",
     "text": [
      "The database is exists.\n"
     ]
    }
   ],
   "source": [
    "dblist = myclient.list_database_names()\n",
    "\n",
    "if 'mydatabase' in dblist:\n",
    "    print('The database is exists.')"
   ]
  },
  {
   "cell_type": "markdown",
   "metadata": {},
   "source": [
    "***\n",
    "\n",
    "Python MongoDB Insert Document\n",
    "\n",
    "<section style=\"direction: rtl; text-align: justify; margin: 30px;\">\n",
    "\n",
    "## **درج سند**\n",
    "\n",
    "⚠️ یک سند در MongoDB مانند یک رکورد در پایگاه داده SQL است.\n",
    "\n",
    "برای درج یک رکورد یا سندی که در MongoDB نامیده می شود در یک مجموعه، از متد insert_one() استفاده می کنیم.\n",
    "\n",
    "اولین پارامتر متد insert_one() دیکشنری است که شامل نام(ها) و مقدار(های) هر فیلد در سندی است که می خواهید درج کنید.\n",
    "\n",
    "</section>"
   ]
  },
  {
   "cell_type": "code",
   "execution_count": 35,
   "metadata": {},
   "outputs": [],
   "source": [
    "import pymongo\n",
    "\n",
    "myclient = pymongo.MongoClient(\"mongodb://localhost:27017/\")\n",
    "mydb = myclient['mydatabase']\n",
    "mycol = mydb['customers']\n",
    "\n",
    "mydict = {'name': 'Saleh', 'address': 'Tehran'}\n",
    "\n",
    "x = mycol.insert_one(mydict)"
   ]
  },
  {
   "cell_type": "markdown",
   "metadata": {},
   "source": [
    "<section style=\"direction: rtl; text-align: justify; margin: 30px;\">\n",
    "\n",
    "متد ()insert_one یک شی InsertOneResult را برمی‌گرداند که دارای ویژگی inserted_id است که شناسه سند درج شده را نگه می‌دارد.\n",
    "\n",
    "</section>"
   ]
  },
  {
   "cell_type": "code",
   "execution_count": 32,
   "metadata": {},
   "outputs": [
    {
     "name": "stdout",
     "output_type": "stream",
     "text": [
      "6647c525c6536111c899f075\n"
     ]
    }
   ],
   "source": [
    "mydict = {\"Name\": \"Peter\", \"Address\": \"Lowstreet 27\"}\n",
    "\n",
    "x = mycol.insert_one(mydict)\n",
    "\n",
    "print(x.inserted_id)"
   ]
  },
  {
   "cell_type": "markdown",
   "metadata": {},
   "source": [
    "<section style=\"direction: rtl; text-align: justify; margin: 30px;\">\n",
    "\n",
    "اگر یک فیلد _id را مشخص نکنید، MongoDB یک فیلد برای شما اضافه می کند و برای هر سند یک شناسه منحصر به فرد اختصاص می دهد.\n",
    "\n",
    "در مثال بالا هیچ فیلد _id مشخص نشده بود، بنابراین MongoDB یک _id منحصر به فرد برای رکورد (سند) اختصاص داد.\n",
    "\n",
    "<div style=\"border-top: 1px solid #ccc; margin: 10px 0; opacity: 0.4\"></div>\n",
    "<div style=\"border-top: 1px solid #ccc; margin: 10px 0; opacity: 0.4\"></div>\n",
    "\n",
    "برای درج چندین سند در یک مجموعه در MongoDB، از متد insert_many() استفاده می کنیم.\n",
    "\n",
    "اولین پارامتر متد insert_many() لیستی است که شامل دیکشنری هایی با داده هایی است که می خواهید وارد کنید:\n",
    "\n",
    "</section>"
   ]
  },
  {
   "cell_type": "code",
   "execution_count": 4,
   "metadata": {},
   "outputs": [
    {
     "name": "stdout",
     "output_type": "stream",
     "text": [
      "[ObjectId('66633d9715f9bbae3e25d8fc'), ObjectId('66633d9715f9bbae3e25d8fd'), ObjectId('66633d9715f9bbae3e25d8fe'), ObjectId('66633d9715f9bbae3e25d8ff'), ObjectId('66633d9715f9bbae3e25d900'), ObjectId('66633d9715f9bbae3e25d901'), ObjectId('66633d9715f9bbae3e25d902'), ObjectId('66633d9715f9bbae3e25d903'), ObjectId('66633d9715f9bbae3e25d904'), ObjectId('66633d9715f9bbae3e25d905'), ObjectId('66633d9715f9bbae3e25d906'), ObjectId('66633d9715f9bbae3e25d907')]\n"
     ]
    }
   ],
   "source": [
    "import pymongo\n",
    "\n",
    "myclient = pymongo.MongoClient(\"mongodb://localhost:27017/\")\n",
    "mydb = myclient[\"mydatabase\"]\n",
    "mycol = mydb[\"customers\"]\n",
    "\n",
    "mylist = [\n",
    "    {\"name\": \"Amy\", \"address\": \"Apple st 652\"},\n",
    "    {\"name\": \"Hannah\", \"address\": \"Mountain 21\"},\n",
    "    {\"name\": \"Michael\", \"address\": \"Valley 345\"},\n",
    "    {\"name\": \"Sandy\", \"address\": \"Ocean blvd 2\"},\n",
    "    {\"name\": \"Betty\", \"address\": \"Green Grass 1\"},\n",
    "    {\"name\": \"Richard\", \"address\": \"Sky st 331\"},\n",
    "    {\"name\": \"Susan\", \"address\": \"One way 98\"},\n",
    "    {\"name\": \"Vicky\", \"address\": \"Yellow Garden 2\"},\n",
    "    {\"name\": \"Ben\", \"address\": \"Park Lane 38\"},\n",
    "    {\"name\": \"William\", \"address\": \"Central st 954\"},\n",
    "    {\"name\": \"Chuck\", \"address\": \"Main Road 989\"},\n",
    "    {\"name\": \"Viola\", \"address\": \"Sideway 1633\"}\n",
    "]\n",
    "\n",
    "x = mycol.insert_many(mylist)\n",
    "\n",
    "# print list of the _id values of the inserted documents:\n",
    "print(x.inserted_ids)"
   ]
  },
  {
   "cell_type": "markdown",
   "metadata": {},
   "source": [
    "<section style=\"direction: rtl; text-align: justify; margin: 30px;\">\n",
    "\n",
    "متد insert_many() یک شی InsertManyResult را برمی‌گرداند که دارای ویژگی inserted_ids است که شناسه اسناد درج شده را در خود نگه می‌دارد.\n",
    "\n",
    "<div style=\"border-top: 1px solid #ccc; margin: 10px 0; opacity: 0.4\"></div>\n",
    "\n",
    "اگر نمی‌خواهید MongoDB شناسه‌های منحصربه‌فردی را برای سند شما تعیین کند، می‌توانید فیلد _id را هنگام درج سند(ها) مشخص کنید.\n",
    "\n",
    "به یاد داشته باشید که ارزش ها باید منحصر به فرد باشند. دو سند نمی توانند _id یکسان داشته باشند.\n",
    "\n",
    "</section>"
   ]
  },
  {
   "cell_type": "code",
   "execution_count": null,
   "metadata": {},
   "outputs": [],
   "source": [
    "import pymongo\n",
    "\n",
    "myclient = pymongo.MongoClient(\"mongodb://localhost:27017/\")\n",
    "mydb = myclient[\"mydatabase\"]\n",
    "mycol = mydb[\"customers\"]\n",
    "\n",
    "mylist = [\n",
    "    {\"_id\": 1, \"name\": \"John\", \"address\": \"Highway 37\"},\n",
    "    {\"_id\": 2, \"name\": \"Peter\", \"address\": \"Lowstreet 27\"},\n",
    "    {\"_id\": 3, \"name\": \"Amy\", \"address\": \"Apple st 652\"},\n",
    "    {\"_id\": 4, \"name\": \"Hannah\", \"address\": \"Mountain 21\"},\n",
    "    {\"_id\": 5, \"name\": \"Michael\", \"address\": \"Valley 345\"},\n",
    "    {\"_id\": 6, \"name\": \"Sandy\", \"address\": \"Ocean blvd 2\"},\n",
    "    {\"_id\": 7, \"name\": \"Betty\", \"address\": \"Green Grass 1\"},\n",
    "    {\"_id\": 8, \"name\": \"Richard\", \"address\": \"Sky st 331\"},\n",
    "    {\"_id\": 9, \"name\": \"Susan\", \"address\": \"One way 98\"},\n",
    "    {\"_id\": 10, \"name\": \"Vicky\", \"address\": \"Yellow Garden 2\"},\n",
    "    {\"_id\": 11, \"name\": \"Ben\", \"address\": \"Park Lane 38\"},\n",
    "    {\"_id\": 12, \"name\": \"William\", \"address\": \"Central st 954\"},\n",
    "    {\"_id\": 13, \"name\": \"Chuck\", \"address\": \"Main Road 989\"},\n",
    "    {\"_id\": 14, \"name\": \"Viola\", \"address\": \"Sideway 1633\"}\n",
    "]\n",
    "\n",
    "x = mycol.insert_many(mylist)\n",
    "\n",
    "# print list of the _id values of the inserted documents:\n",
    "print(x.inserted_ids)"
   ]
  },
  {
   "cell_type": "markdown",
   "metadata": {},
   "source": [
    "***\n",
    "\n",
    "Python MongoDB Find\n",
    "\n",
    "<section style=\"direction: rtl; text-align: justify; margin: 30px;\">\n",
    "\n",
    "## **تابع Find**\n",
    "\n",
    "⚠️ در MongoDB از متدهای find() و find_one() برای یافتن داده ها در یک مجموعه استفاده می کنیم.\n",
    "\n",
    "⚠️ درست مانند دستور SELECT برای یافتن داده ها در یک جدول در پایگاه داده MySQL.\n",
    "\n",
    "برای انتخاب داده ها از یک مجموعه در MongoDB، می توانیم از متد find_one() استفاده کنیم.\n",
    "\n",
    "متد find_one() اولین اتفاق را در انتخاب برمی گرداند.\n",
    "\n",
    "</section>"
   ]
  },
  {
   "cell_type": "code",
   "execution_count": 36,
   "metadata": {},
   "outputs": [
    {
     "name": "stdout",
     "output_type": "stream",
     "text": [
      "{'_id': ObjectId('66477e8ec6536111c899f055'), 'name': 'Saleh', 'address': 'Tehran'}\n"
     ]
    }
   ],
   "source": [
    "import pymongo\n",
    "\n",
    "myclient = pymongo.MongoClient(\"mongodb://localhost:27017/\")\n",
    "mydb = myclient['mydatabase']\n",
    "mycol = mydb['customers']\n",
    "\n",
    "x = mycol.find_one()\n",
    "\n",
    "print(x)"
   ]
  },
  {
   "cell_type": "markdown",
   "metadata": {},
   "source": [
    "<section style=\"direction: rtl; text-align: justify; margin: 30px;\">\n",
    "\n",
    "برای انتخاب داده ها از جدول در MongoDB، می توانیم از متد ()find نیز استفاده کنیم.\n",
    "\n",
    "متد find() تمام رخدادهای انتخاب شده را برمی گرداند.\n",
    "\n",
    "اولین پارامتر متد find() یک شی query است. در این مثال ما از یک شی پرس و جو خالی استفاده می کنیم که تمام اسناد مجموعه را انتخاب می کند.\n",
    "\n",
    "⚠️ متد find () نتیجه ای مشابه با SELECT * در MySQL به شما می دهد.\n",
    "\n",
    "</section>"
   ]
  },
  {
   "cell_type": "code",
   "execution_count": 37,
   "metadata": {},
   "outputs": [
    {
     "name": "stdout",
     "output_type": "stream",
     "text": [
      "{'_id': ObjectId('66477e8ec6536111c899f055'), 'name': 'Saleh', 'address': 'Tehran'}\n",
      "{'_id': ObjectId('66477f12c6536111c899f056'), 'Name': 'Peter', 'Address': 'Lowstreet 27'}\n",
      "{'_id': ObjectId('66478338c6536111c899f058'), 'name': 'Amy', 'address': 'Apple st 652'}\n",
      "{'_id': ObjectId('66478338c6536111c899f059'), 'name': 'Hannah', 'address': 'Mountain 21'}\n",
      "{'_id': ObjectId('66478338c6536111c899f05a'), 'name': 'Michael', 'address': 'Valley 345'}\n",
      "{'_id': ObjectId('66478338c6536111c899f05b'), 'name': 'Sandy', 'address': 'Ocean blvd 2'}\n",
      "{'_id': ObjectId('66478338c6536111c899f05c'), 'name': 'Betty', 'address': 'Green Grass 1'}\n",
      "{'_id': ObjectId('66478338c6536111c899f05d'), 'name': 'Richard', 'address': 'Sky st 331'}\n",
      "{'_id': ObjectId('66478338c6536111c899f05e'), 'name': 'Susan', 'address': 'One way 98'}\n",
      "{'_id': ObjectId('66478338c6536111c899f05f'), 'name': 'Vicky', 'address': 'Yellow Garden 2'}\n",
      "{'_id': ObjectId('66478338c6536111c899f060'), 'name': 'Ben', 'address': 'Park Lane 38'}\n",
      "{'_id': ObjectId('66478338c6536111c899f061'), 'name': 'William', 'address': 'Central st 954'}\n",
      "{'_id': ObjectId('66478338c6536111c899f062'), 'name': 'Chuck', 'address': 'Main Road 989'}\n",
      "{'_id': ObjectId('66478338c6536111c899f063'), 'name': 'Viola', 'address': 'Sideway 1633'}\n",
      "{'_id': ObjectId('6647c4f8c6536111c899f072'), 'name': 'Saleh', 'address': 'Tehran'}\n",
      "{'_id': ObjectId('6647c521c6536111c899f074'), 'name': 'Saleh', 'address': 'Tehran'}\n",
      "{'_id': ObjectId('6647c525c6536111c899f075'), 'Name': 'Peter', 'Address': 'Lowstreet 27'}\n",
      "{'_id': ObjectId('6647c570c6536111c899f077'), 'name': 'Amy', 'address': 'Apple st 652'}\n",
      "{'_id': ObjectId('6647c570c6536111c899f078'), 'name': 'Hannah', 'address': 'Mountain 21'}\n",
      "{'_id': ObjectId('6647c570c6536111c899f079'), 'name': 'Michael', 'address': 'Valley 345'}\n",
      "{'_id': ObjectId('6647c570c6536111c899f07a'), 'name': 'Sandy', 'address': 'Ocean blvd 2'}\n",
      "{'_id': ObjectId('6647c570c6536111c899f07b'), 'name': 'Betty', 'address': 'Green Grass 1'}\n",
      "{'_id': ObjectId('6647c570c6536111c899f07c'), 'name': 'Richard', 'address': 'Sky st 331'}\n",
      "{'_id': ObjectId('6647c570c6536111c899f07d'), 'name': 'Susan', 'address': 'One way 98'}\n",
      "{'_id': ObjectId('6647c570c6536111c899f07e'), 'name': 'Vicky', 'address': 'Yellow Garden 2'}\n",
      "{'_id': ObjectId('6647c570c6536111c899f07f'), 'name': 'Ben', 'address': 'Park Lane 38'}\n",
      "{'_id': ObjectId('6647c570c6536111c899f080'), 'name': 'William', 'address': 'Central st 954'}\n",
      "{'_id': ObjectId('6647c570c6536111c899f081'), 'name': 'Chuck', 'address': 'Main Road 989'}\n",
      "{'_id': ObjectId('6647c570c6536111c899f082'), 'name': 'Viola', 'address': 'Sideway 1633'}\n",
      "{'_id': ObjectId('6647c716c6536111c899f086'), 'name': 'Saleh', 'address': 'Tehran'}\n"
     ]
    }
   ],
   "source": [
    "import pymongo\n",
    "\n",
    "myclient = pymongo.MongoClient(\"mongodb://localhost:27017/\")\n",
    "mydb = myclient['mydatabase']\n",
    "mycol = mydb['customers']\n",
    "\n",
    "for x in mycol.find():\n",
    "    print(x)"
   ]
  },
  {
   "cell_type": "markdown",
   "metadata": {},
   "source": [
    "<section style=\"direction: rtl; text-align: justify; margin: 30px;\">\n",
    "\n",
    "<div style=\"border-top: 1px solid #ccc; margin: 10px 0; opacity: 0.4\"></div>\n",
    "<div style=\"border-top: 1px solid #ccc; margin: 10px 0; opacity: 0.4\"></div>\n",
    "\n",
    "پارامتر دوم متد ()find یک شی است که توضیح می دهد کدام فیلدها در نتیجه گنجانده شود.\n",
    "\n",
    "این پارامتر اختیاری است و در صورت حذف تمام فیلدها در نتیجه گنجانده می شود.\n",
    "\n",
    "</section>"
   ]
  },
  {
   "cell_type": "code",
   "execution_count": 38,
   "metadata": {},
   "outputs": [],
   "source": [
    "import pymongo\n",
    "\n",
    "myclient = pymongo.MongoClient(\"mongodb://localhost:27017/\")\n",
    "mydb = myclient['mydatbase']\n",
    "mycol = mydb['customers']\n",
    "\n",
    "for x in mycol.find({}, {\"_id\": 0, \"name\": 1, \"address\": 1}):\n",
    "    print(x)"
   ]
  },
  {
   "cell_type": "markdown",
   "metadata": {},
   "source": [
    "<section style=\"direction: rtl; text-align: justify; margin: 30px;\">\n",
    "\n",
    "⚠️ شما مجاز به تعیین هر دو مقدار 0 و 1 در یک شی نیستید (مگر اینکه یکی از فیلدها فیلد _id باشد). اگر فیلدی را با مقدار 0 مشخص کنید، تمام فیلدهای دیگر مقدار 1 را دریافت می کنند و بالعکس:\n",
    "\n",
    "</section>"
   ]
  },
  {
   "cell_type": "code",
   "execution_count": 16,
   "metadata": {},
   "outputs": [
    {
     "name": "stdout",
     "output_type": "stream",
     "text": [
      "{'_id': ObjectId('66477e8ec6536111c899f055'), 'name': 'Saleh'}\n",
      "{'_id': ObjectId('66477f12c6536111c899f056'), 'Name': 'Peter', 'Address': 'Lowstreet 27'}\n",
      "{'_id': ObjectId('66478338c6536111c899f058'), 'name': 'Amy'}\n",
      "{'_id': ObjectId('66478338c6536111c899f059'), 'name': 'Hannah'}\n",
      "{'_id': ObjectId('66478338c6536111c899f05a'), 'name': 'Michael'}\n",
      "{'_id': ObjectId('66478338c6536111c899f05b'), 'name': 'Sandy'}\n",
      "{'_id': ObjectId('66478338c6536111c899f05c'), 'name': 'Betty'}\n",
      "{'_id': ObjectId('66478338c6536111c899f05d'), 'name': 'Richard'}\n",
      "{'_id': ObjectId('66478338c6536111c899f05e'), 'name': 'Susan'}\n",
      "{'_id': ObjectId('66478338c6536111c899f05f'), 'name': 'Vicky'}\n",
      "{'_id': ObjectId('66478338c6536111c899f060'), 'name': 'Ben'}\n",
      "{'_id': ObjectId('66478338c6536111c899f061'), 'name': 'William'}\n",
      "{'_id': ObjectId('66478338c6536111c899f062'), 'name': 'Chuck'}\n",
      "{'_id': ObjectId('66478338c6536111c899f063'), 'name': 'Viola'}\n"
     ]
    }
   ],
   "source": [
    "import pymongo\n",
    "\n",
    "myclient = pymongo.MongoClient(\"mongodb://localhost:27017/\")\n",
    "mydb = myclient['mydatabase']\n",
    "mycol = mydb['customers']\n",
    "\n",
    "for x in mycol.find({}, {\"address\": 0}):\n",
    "    print(x)"
   ]
  },
  {
   "cell_type": "markdown",
   "metadata": {},
   "source": [
    "***\n",
    "\n",
    "Python MongoDB Query\n",
    "\n",
    "<section style=\"direction: rtl; text-align: justify; margin: 30px;\">\n",
    "\n",
    "## **کوئری (پرس و جو)**\n",
    "\n",
    "هنگام یافتن اسناد در یک مجموعه، می توانید نتیجه را با استفاده از یک آبجکت پرس و جو فیلتر کنید.\n",
    "\n",
    "اولین آرگومان متد find() یک شی پرس و جو است و برای محدود کردن جستجو استفاده می شود.\n",
    "\n",
    "</section>"
   ]
  },
  {
   "cell_type": "code",
   "execution_count": 39,
   "metadata": {},
   "outputs": [
    {
     "name": "stdout",
     "output_type": "stream",
     "text": [
      "{'_id': ObjectId('66477e8ec6536111c899f055'), 'name': 'Saleh', 'address': 'Tehran'}\n",
      "{'_id': ObjectId('6647c4f8c6536111c899f072'), 'name': 'Saleh', 'address': 'Tehran'}\n",
      "{'_id': ObjectId('6647c521c6536111c899f074'), 'name': 'Saleh', 'address': 'Tehran'}\n",
      "{'_id': ObjectId('6647c716c6536111c899f086'), 'name': 'Saleh', 'address': 'Tehran'}\n"
     ]
    }
   ],
   "source": [
    "import pymongo\n",
    "\n",
    "myclient = pymongo.MongoClient(\"mongodb://localhost:27017/\")\n",
    "mydb = myclient[\"mydatabase\"]\n",
    "mycol = mydb[\"customers\"]\n",
    "\n",
    "myquery = {\"address\": \"Tehran\"}\n",
    "\n",
    "mydoc = mycol.find(myquery)\n",
    "\n",
    "for x in mydoc:\n",
    "    print(x)"
   ]
  },
  {
   "cell_type": "markdown",
   "metadata": {},
   "source": [
    "<section style=\"direction: rtl; text-align: justify; margin: 30px;\">\n",
    "\n",
    "### **پرس و جوی پیشرفته**\n",
    "\n",
    "برای ایجاد پرس و جوهای پیشرفته می توانید از اصلاح کننده ها به عنوان مقادیر در شی پرس و جو استفاده کنید.\n",
    "\n",
    "به عنوان مثال. برای یافتن اسنادی که فیلد \"آدرس\" با حرف \"S\" یا بالاتر (بر اساس حروف الفبا) شروع می شود، از اصلاح کننده بزرگتر استفاده کنید: \n",
    "\n",
    "</section>\n",
    "\n",
    "{\"$gt\": \"S\"}:"
   ]
  },
  {
   "cell_type": "code",
   "execution_count": 2,
   "metadata": {},
   "outputs": [
    {
     "name": "stdout",
     "output_type": "stream",
     "text": [
      "{'_id': ObjectId('66477e8ec6536111c899f055'), 'name': 'Saleh', 'address': 'Tehran'}\n",
      "{'_id': ObjectId('66478338c6536111c899f05a'), 'name': 'Michael', 'address': 'Valley 345'}\n",
      "{'_id': ObjectId('66478338c6536111c899f05d'), 'name': 'Richard', 'address': 'Sky st 331'}\n",
      "{'_id': ObjectId('66478338c6536111c899f05f'), 'name': 'Vicky', 'address': 'Yellow Garden 2'}\n",
      "{'_id': ObjectId('66478338c6536111c899f063'), 'name': 'Viola', 'address': 'Sideway 1633'}\n",
      "{'_id': ObjectId('6647c4f8c6536111c899f072'), 'name': 'Saleh', 'address': 'Tehran'}\n",
      "{'_id': ObjectId('6647c521c6536111c899f074'), 'name': 'Saleh', 'address': 'Tehran'}\n",
      "{'_id': ObjectId('6647c570c6536111c899f079'), 'name': 'Michael', 'address': 'Valley 345'}\n",
      "{'_id': ObjectId('6647c570c6536111c899f07c'), 'name': 'Richard', 'address': 'Sky st 331'}\n",
      "{'_id': ObjectId('6647c570c6536111c899f07e'), 'name': 'Vicky', 'address': 'Yellow Garden 2'}\n",
      "{'_id': ObjectId('6647c570c6536111c899f082'), 'name': 'Viola', 'address': 'Sideway 1633'}\n",
      "{'_id': ObjectId('6647c716c6536111c899f086'), 'name': 'Saleh', 'address': 'Tehran'}\n"
     ]
    }
   ],
   "source": [
    "import pymongo\n",
    "\n",
    "myclient = pymongo.MongoClient(\"mongodb://localhost:27017\")\n",
    "mydb = myclient['mydatabase']\n",
    "mycol = mydb['customers']\n",
    "\n",
    "myquery = {\"address\": {\"$gt\": \"S\"}}\n",
    "\n",
    "mydoc = mycol.find(myquery)\n",
    "\n",
    "for x in mydoc:\n",
    "    print(x)"
   ]
  },
  {
   "cell_type": "markdown",
   "metadata": {},
   "source": [
    "<section style=\"direction: rtl; text-align: justify; margin: 30px;\">\n",
    "\n",
    "### **پرس و جوی پیشرفته**\n",
    "\n",
    "برای ایجاد پرس و جوهای پیشرفته می توانید از اصلاح کننده ها به عنوان مقادیر در شی پرس و جو استفاده کنید.\n",
    "\n",
    "به عنوان مثال. برای یافتن اسنادی که فیلد \"آدرس\" با حرف \"S\" یا بالاتر (بر اساس حروف الفبا) شروع می شود، از اصلاح کننده بزرگتر استفاده کنید: \n",
    "\n",
    "</section>\n",
    "\n",
    "{\"$gt\": \"S\"}:"
   ]
  },
  {
   "cell_type": "code",
   "execution_count": 1,
   "metadata": {},
   "outputs": [
    {
     "name": "stdout",
     "output_type": "stream",
     "text": [
      "{'_id': ObjectId('66478338c6536111c899f05d'), 'name': 'Richard', 'address': 'Sky st 331'}\n",
      "{'_id': ObjectId('66478338c6536111c899f063'), 'name': 'Viola', 'address': 'Sideway 1633'}\n",
      "{'_id': ObjectId('6647c570c6536111c899f07c'), 'name': 'Richard', 'address': 'Sky st 331'}\n",
      "{'_id': ObjectId('6647c570c6536111c899f082'), 'name': 'Viola', 'address': 'Sideway 1633'}\n"
     ]
    }
   ],
   "source": [
    "import pymongo\n",
    "\n",
    "myclient = pymongo.MongoClient(\"mongodb://localhost:27017/\")\n",
    "mydb = myclient[\"mydatabase\"]\n",
    "mycol = mydb[\"customers\"]\n",
    "\n",
    "myquery = {\"address\": {\"$regex\": \"^S\"}}\n",
    "\n",
    "mydoc = mycol.find(myquery)\n",
    "\n",
    "for x in mydoc:\n",
    "    print(x)"
   ]
  },
  {
   "cell_type": "markdown",
   "metadata": {},
   "source": [
    "***\n",
    "\n",
    "Python MongoDB Sort\n",
    "\n",
    "<section style=\"direction: rtl; text-align: justify; margin: 30px;\">\n",
    "\n",
    "## **مرتب سازی**\n",
    "\n",
    "از متد sort() برای مرتب کردن نتایج به ترتیب صعودی یا نزولی استفاده کنید.\n",
    "\n",
    "متد sort() یک پارامتر برای \"fieldname\" و یک پارامتر برای \"direction\" می گیرد (جهت پیش فرض صعودی است).\n",
    "\n",
    "</section>"
   ]
  },
  {
   "cell_type": "code",
   "execution_count": 9,
   "metadata": {},
   "outputs": [
    {
     "name": "stdout",
     "output_type": "stream",
     "text": [
      "{'_id': ObjectId('66477f12c6536111c899f056'), 'Name': 'Peter', 'Address': 'Lowstreet 27'}\n",
      "{'_id': ObjectId('6647c525c6536111c899f075'), 'Name': 'Peter', 'Address': 'Lowstreet 27'}\n",
      "{'_id': ObjectId('6647c570c6536111c899f077'), 'name': 'Amy', 'address': 'Apple st 652'}\n",
      "{'_id': ObjectId('66478338c6536111c899f058'), 'name': 'Amy', 'address': 'Apple st 652'}\n",
      "{'_id': ObjectId('66478338c6536111c899f060'), 'name': 'Ben', 'address': 'Park Lane 38'}\n"
     ]
    }
   ],
   "source": [
    "import pymongo\n",
    "\n",
    "myclient = pymongo.MongoClient(\"mongodb://localhost:27017/\")\n",
    "mydb = myclient[\"mydatabase\"]\n",
    "mycol = mydb[\"customers\"]\n",
    "\n",
    "mydoc = mycol.find().sort(\"name\").limit(5)\n",
    "\n",
    "for x in mydoc:\n",
    "    print(x)"
   ]
  },
  {
   "cell_type": "markdown",
   "metadata": {},
   "source": [
    "<section style=\"direction: rtl; text-align: justify; margin: 30px;\">\n",
    "\n",
    "### **مرتب سازی نزولی**\n",
    "\n",
    "از مقدار -1 به عنوان پارامتر دوم برای مرتب سازی نزولی استفاده کنید.\n",
    "\n",
    "</section>\n",
    "\n",
    "sort(\"name\", 1) #ascending  \n",
    "sort(\"name\", -1) #descending"
   ]
  },
  {
   "cell_type": "code",
   "execution_count": 1,
   "metadata": {},
   "outputs": [
    {
     "name": "stdout",
     "output_type": "stream",
     "text": [
      "{'_id': ObjectId('66478338c6536111c899f061'), 'name': 'William', 'address': 'Central st 954'}\n",
      "{'_id': ObjectId('6647c570c6536111c899f080'), 'name': 'William', 'address': 'Central st 954'}\n",
      "{'_id': ObjectId('6647c570c6536111c899f082'), 'name': 'Viola', 'address': 'Sideway 1633'}\n",
      "{'_id': ObjectId('66478338c6536111c899f063'), 'name': 'Viola', 'address': 'Sideway 1633'}\n",
      "{'_id': ObjectId('6647c570c6536111c899f07e'), 'name': 'Vicky', 'address': 'Yellow Garden 2'}\n"
     ]
    }
   ],
   "source": [
    "import pymongo\n",
    "\n",
    "myclient = pymongo.MongoClient(\"mongodb://localhost:27017/\")\n",
    "mydb = myclient[\"mydatabase\"]\n",
    "mycol = mydb[\"customers\"]\n",
    "\n",
    "mydoc = mycol.find().sort(\"name\", -1).limit(5)\n",
    "\n",
    "for x in mydoc:\n",
    "    print(x)"
   ]
  },
  {
   "cell_type": "markdown",
   "metadata": {},
   "source": [
    "***\n",
    "\n",
    "Python MongoDB Delete Document\n",
    "\n",
    "<section style=\"direction: rtl; text-align: justify; margin: 30px;\">\n",
    "\n",
    "## **حذف داکیومنت**\n",
    "\n",
    "برای حذف یک سند، از متد ()delete_one استفاده می کنیم.\n",
    "\n",
    "اولین پارامتر متد ()delete_one یک شی پرس و جو است که تعریف می کند کدام سند را حذف کنیم.\n",
    "\n",
    "⚠️ توجه: اگر پرس و جو بیش از یک سند پیدا کند، فقط اولین مورد حذف می شود.\n",
    "\n",
    "</section>"
   ]
  },
  {
   "cell_type": "code",
   "execution_count": 2,
   "metadata": {},
   "outputs": [
    {
     "data": {
      "text/plain": [
       "DeleteResult({'n': 1, 'ok': 1.0}, acknowledged=True)"
      ]
     },
     "execution_count": 2,
     "metadata": {},
     "output_type": "execute_result"
    }
   ],
   "source": [
    "import pymongo\n",
    "\n",
    "myclient = pymongo.MongoClient(\"mongodb://localhost:27017/\")\n",
    "mydb = myclient['mydatabase']\n",
    "mycol = mydb['customers']\n",
    "\n",
    "myquery = {\"address\": \"Mountain 21\"}\n",
    "\n",
    "mycol.delete_one(myquery)"
   ]
  },
  {
   "cell_type": "markdown",
   "metadata": {},
   "source": [
    "<section style=\"direction: rtl; text-align: justify; margin: 30px;\">\n",
    "\n",
    "### **حذف چند داکیومنت**\n",
    "\n",
    "برای حذف بیش از یک سند، از متد ()delete_many استفاده کنید.\n",
    "\n",
    "اولین پارامتر متد ()delete_many یک شی پرس و جو است که تعریف می کند کدام اسناد را حذف کنید.\n",
    "\n",
    "</section>"
   ]
  },
  {
   "cell_type": "code",
   "execution_count": 3,
   "metadata": {},
   "outputs": [
    {
     "name": "stdout",
     "output_type": "stream",
     "text": [
      "4 documents deleted.\n"
     ]
    }
   ],
   "source": [
    "import pymongo\n",
    "\n",
    "myclient = pymongo.MongoClient(\"mongodb://localhost:27017/\")\n",
    "mydb = myclient[\"mydatabase\"]\n",
    "mycol = mydb[\"customers\"]\n",
    "\n",
    "myquery = {\"address\": {\"$regex\": \"^S\"}}\n",
    "\n",
    "x = mycol.delete_many(myquery)\n",
    "\n",
    "print(x.deleted_count, \"documents deleted.\")"
   ]
  },
  {
   "cell_type": "markdown",
   "metadata": {},
   "source": [
    "<section style=\"direction: rtl; text-align: justify; margin: 30px;\">\n",
    "\n",
    "### **حذف همه‌ی داکیومنت‌ها**\n",
    "\n",
    "برای حذف تمام اسناد در یک مجموعه، یک شی پرس و جو خالی را به متد ()delete_many ارسال کنید:\n",
    "\n",
    "</section>"
   ]
  },
  {
   "cell_type": "code",
   "execution_count": 1,
   "metadata": {},
   "outputs": [
    {
     "name": "stdout",
     "output_type": "stream",
     "text": [
      "25 documents deleted.\n"
     ]
    }
   ],
   "source": [
    "import pymongo\n",
    "\n",
    "myclient = pymongo.MongoClient(\"mongodb://localhost:27017/\")\n",
    "mydb = myclient['mydatabase']\n",
    "mycol = mydb['customers']\n",
    "\n",
    "x = mycol.delete_many({})\n",
    "\n",
    "print(x.deleted_count, \"documents deleted.\")"
   ]
  },
  {
   "cell_type": "markdown",
   "metadata": {},
   "source": [
    "***\n",
    "\n",
    "Python MongoDB Drop Collection\n",
    "\n",
    "<section style=\"direction: rtl; text-align: justify; margin: 30px;\">\n",
    "\n",
    "## **حذف کالکشن**\n",
    "\n",
    "با استفاده از متد drop() می توانید یک جدول یا مجموعه ای را که در MongoDB نامیده می شود حذف کنید.\n",
    "\n",
    "</section>"
   ]
  },
  {
   "cell_type": "code",
   "execution_count": 2,
   "metadata": {},
   "outputs": [],
   "source": [
    "import pymongo\n",
    "\n",
    "myclient = pymongo.MongoClient(\"mongodb://localhost:27017/\")\n",
    "mydb = myclient['mydatabase']\n",
    "mycol = mydb['customers']\n",
    "\n",
    "mycol.drop()"
   ]
  },
  {
   "cell_type": "markdown",
   "metadata": {},
   "source": [
    "<section style=\"direction: rtl; text-align: justify; margin: 30px;\">\n",
    "\n",
    "متد drop() اگر مجموعه با موفقیت حذف شده باشد، مقدار true را برمی‌گرداند و اگر مجموعه وجود نداشته باشد، false را برمی‌گرداند.\n",
    "\n",
    "</section>"
   ]
  },
  {
   "cell_type": "markdown",
   "metadata": {},
   "source": [
    "***\n",
    "\n",
    "Python MongoDB Update\n",
    "\n",
    "<section style=\"direction: rtl; text-align: justify; margin: 30px;\">\n",
    "\n",
    "## **به‌روزرسانی کالکشن**\n",
    "\n",
    "شما می توانید یک رکورد یا سندی را که در MongoDB نامیده می شود، با استفاده از متد update_one() به روز کنید.\n",
    "\n",
    " اولین پارامتر متد update_one() یک شی پرس و جو است که تعریف می کند کدام سند باید به روز شود.\n",
    "\n",
    "⚠️ توجه: اگر پرس و جو بیش از یک رکورد پیدا کند، فقط اولین رخداد به روز می شود.\n",
    "\n",
    "پارامتر دوم یک شی است که مقادیر جدید سند را تعریف می کند.\n",
    "\n",
    "</section>"
   ]
  },
  {
   "cell_type": "code",
   "execution_count": 5,
   "metadata": {},
   "outputs": [
    {
     "name": "stdout",
     "output_type": "stream",
     "text": [
      "{'_id': ObjectId('66633d9715f9bbae3e25d8fc'), 'name': 'Amy', 'address': 'Apple st 652'}\n",
      "{'_id': ObjectId('66633d9715f9bbae3e25d8fd'), 'name': 'Hannah', 'address': 'Mountain 21'}\n",
      "{'_id': ObjectId('66633d9715f9bbae3e25d8fe'), 'name': 'Michael', 'address': 'Canyion 123'}\n",
      "{'_id': ObjectId('66633d9715f9bbae3e25d8ff'), 'name': 'Sandy', 'address': 'Ocean blvd 2'}\n",
      "{'_id': ObjectId('66633d9715f9bbae3e25d900'), 'name': 'Betty', 'address': 'Green Grass 1'}\n",
      "{'_id': ObjectId('66633d9715f9bbae3e25d901'), 'name': 'Richard', 'address': 'Sky st 331'}\n",
      "{'_id': ObjectId('66633d9715f9bbae3e25d902'), 'name': 'Susan', 'address': 'One way 98'}\n",
      "{'_id': ObjectId('66633d9715f9bbae3e25d903'), 'name': 'Vicky', 'address': 'Yellow Garden 2'}\n",
      "{'_id': ObjectId('66633d9715f9bbae3e25d904'), 'name': 'Ben', 'address': 'Park Lane 38'}\n",
      "{'_id': ObjectId('66633d9715f9bbae3e25d905'), 'name': 'William', 'address': 'Central st 954'}\n",
      "{'_id': ObjectId('66633d9715f9bbae3e25d906'), 'name': 'Chuck', 'address': 'Main Road 989'}\n",
      "{'_id': ObjectId('66633d9715f9bbae3e25d907'), 'name': 'Viola', 'address': 'Sideway 1633'}\n"
     ]
    }
   ],
   "source": [
    "import pymongo\n",
    "\n",
    "myclient = pymongo.MongoClient(\"mongodb://localhost:27017/\")\n",
    "mydb = myclient['mydatabase']\n",
    "mycol = mydb['customers']\n",
    "\n",
    "myquery = {\"address\": \"Valley 345\"}\n",
    "newvalues = {\"$set\": {\"address\": \"Canyion 123\"}}\n",
    "\n",
    "mycol.update_one(myquery, newvalues)\n",
    "\n",
    "# print \"customers\" after the update:\n",
    "for x in mycol.find():\n",
    "    print(x)"
   ]
  },
  {
   "cell_type": "markdown",
   "metadata": {},
   "source": [
    "<section style=\"direction: rtl; text-align: justify; margin: 30px;\">\n",
    "\n",
    "### **بروزرسانی چندگانه**\n",
    "\n",
    "برای به روز رسانی تمام اسنادی که معیارهای پرس و جو را دارند، از متد update_many() استفاده کنید.\n",
    "\n",
    "</section>"
   ]
  },
  {
   "cell_type": "code",
   "execution_count": null,
   "metadata": {},
   "outputs": [],
   "source": [
    "import pymongo\n",
    "\n",
    "myclient = pymongo.MongoClient(\"mongodb://localhost:27017/\")\n",
    "mydb = myclient[\"mydatabase\"]\n",
    "mycol = mydb[\"customers\"]\n",
    "\n",
    "myquery = {\"address\": {\"$regex\": \"^S\"}}\n",
    "newvaluse = {\"$set\": {\"name\": \"Minnie\"}}\n",
    "\n",
    "x = mycol.update_many(myquery, newvalues)\n",
    "\n",
    "print(x.modified_count, \"documents updated.\")"
   ]
  },
  {
   "cell_type": "markdown",
   "metadata": {},
   "source": [
    "***\n",
    "\n",
    "Python MongoDB Limit\n",
    "\n",
    "<section style=\"direction: rtl; text-align: justify; margin: 30px;\">\n",
    "\n",
    "## **اعمال محدودیت**\n",
    "\n",
    "برای محدود کردن نتیجه در MongoDB، از متد limit() استفاده می کنیم.\n",
    "\n",
    "متد limit() یک پارامتر می گیرد، عددی که تعیین می کند چه تعداد سند باید برگردانده شود.\n",
    "\n",
    "در نظر بگیرید که یک مجموعه \"مشتریان\" دارید:\n",
    "\n",
    "</section>"
   ]
  },
  {
   "cell_type": "code",
   "execution_count": null,
   "metadata": {},
   "outputs": [],
   "source": [
    "import pymongo\n",
    "\n",
    "myclient = pymongo.MongoClient(\"mongodb://localhost:27017/\")\n",
    "mydb = myclient[\"mydatabase\"]\n",
    "mycol = mydb[\"customers\"]\n",
    "\n",
    "myresult = mycol.find().limit(5)\n",
    "\n",
    "for x in myresult:\n",
    "    print(x)"
   ]
  }
 ],
 "metadata": {
  "kernelspec": {
   "display_name": "Python 3",
   "language": "python",
   "name": "python3"
  },
  "language_info": {
   "codemirror_mode": {
    "name": "ipython",
    "version": 3
   },
   "file_extension": ".py",
   "mimetype": "text/x-python",
   "name": "python",
   "nbconvert_exporter": "python",
   "pygments_lexer": "ipython3",
   "version": "3.10.12"
  }
 },
 "nbformat": 4,
 "nbformat_minor": 2
}
