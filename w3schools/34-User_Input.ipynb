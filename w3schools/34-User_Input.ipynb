{
 "cells": [
  {
   "cell_type": "markdown",
   "metadata": {},
   "source": [
    "Python User Input\n",
    "\n",
    "<section style=\"direction: rtl; text-align: justify; margin: 30px;\">\n",
    "\n",
    "## **دریافت ورودی از کاربر**\n",
    "\n",
    "پایتون اجازه ورود اطلاعات از طریق کاربر را می دهد.\n",
    "\n",
    "این بدان معناست که ما می توانیم از کاربر ورودی دریافت کنیم.\n",
    "\n",
    "این روش در پایتون 3.6 با پایتون 2.7 کمی متفاوت است.\n",
    "\n",
    "پایتون 3.6 از متد input() استفاده می کند.\n",
    "\n",
    "پایتون 2.7 از متد raw_input() استفاده می کند.\n",
    "\n",
    "مثال زیر نام کاربری را می‌پرسد و وقتی نام کاربری را وارد کردید، روی صفحه نمایش داده می‌شود:\n",
    "\n",
    "</section>"
   ]
  },
  {
   "cell_type": "code",
   "execution_count": 1,
   "metadata": {},
   "outputs": [
    {
     "name": "stdout",
     "output_type": "stream",
     "text": [
      "username is: Saleh\n"
     ]
    }
   ],
   "source": [
    "username = input(\"Enter username:\")\n",
    "print(\"username is: \" + username)"
   ]
  },
  {
   "cell_type": "markdown",
   "metadata": {},
   "source": [
    "<section style=\"direction: rtl; text-align: justify; margin: 30px;\">\n",
    "\n",
    "پایتون زمانی که به تابع input() می‌رسد، اجرای آن را متوقف می‌کند و زمانی که کاربر مقداری ورودی داده است، ادامه می‌یابد.\n",
    "\n",
    "___\n",
    "\n",
    "### **مثال:**\n",
    "\n",
    "</section>"
   ]
  },
  {
   "cell_type": "code",
   "execution_count": 2,
   "metadata": {},
   "outputs": [
    {
     "name": "stdout",
     "output_type": "stream",
     "text": [
      "Hello Saleh\n"
     ]
    }
   ],
   "source": [
    "name = input(\"Enter name:\")\n",
    "print(\"Hello \" + name)"
   ]
  },
  {
   "cell_type": "code",
   "execution_count": 7,
   "metadata": {},
   "outputs": [
    {
     "name": "stdout",
     "output_type": "stream",
     "text": [
      "Total:  27\n"
     ]
    }
   ],
   "source": [
    "num1 = int(input(\"Enter num 1:\"))\n",
    "num2 = int(input(\"Enter num 2:\"))\n",
    "\n",
    "print(\"Total: \", num1 + num2)"
   ]
  },
  {
   "cell_type": "code",
   "execution_count": 1,
   "metadata": {},
   "outputs": [
    {
     "name": "stdout",
     "output_type": "stream",
     "text": [
      "Total: 265\n",
      "Nothing went wrong :)\n"
     ]
    }
   ],
   "source": [
    "num1 = input(\"Enter number 1:\")\n",
    "num2 = input(\"Enter number 2:\")\n",
    "\n",
    "try:\n",
    "    # casting entered value to integer and printing\n",
    "    print(\"Total:\", int(num1) + int(num2))\n",
    "except:\n",
    "    # if you don't enter an integer, the following value is displayed:\n",
    "    print(\"Something went wrong, enter an integer number...\")\n",
    "else:\n",
    "    # If you enter an integer, the following value is displayed:\n",
    "    print(\"Nothing went wrong :)\")"
   ]
  },
  {
   "cell_type": "code",
   "execution_count": 1,
   "metadata": {},
   "outputs": [
    {
     "name": "stderr",
     "output_type": "stream",
     "text": [
      "UsageError: Cell magic `%%ai` not found.\n"
     ]
    }
   ],
   "source": [
    "%%ai chatgpt\n",
    "write python code to create a simple calculator"
   ]
  }
 ],
 "metadata": {
  "kernelspec": {
   "display_name": "My Environment",
   "language": "python",
   "name": "myenv"
  },
  "language_info": {
   "codemirror_mode": {
    "name": "ipython",
    "version": 3
   },
   "file_extension": ".py",
   "mimetype": "text/x-python",
   "name": "python",
   "nbconvert_exporter": "python",
   "pygments_lexer": "ipython3",
   "version": "3.11.4"
  },
  "orig_nbformat": 4
 },
 "nbformat": 4,
 "nbformat_minor": 2
}
