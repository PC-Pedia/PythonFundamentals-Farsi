{
 "cells": [
  {
   "cell_type": "markdown",
   "metadata": {},
   "source": [
    "Python Functions\n",
    "\n",
    "<section style=\"direction: rtl; text-align: justify; margin: 30px;\">\n",
    "\n",
    "## **توابع پایتون**\n",
    "\n",
    "تابع یک بلوک از کد است که فقط زمانی اجرا می شود که فراخوانی شود.\n",
    "\n",
    "شما می توانید داده ها را که به عنوان پارامتر شناخته می شوند، به یک تابع منتقل کنید.\n",
    "\n",
    "یک تابع می تواند در نتیجه داده ها را برگرداند.\n",
    "\n",
    "در پایتون یک تابع با استفاده از کلمه کلیدی def تعریف می شود:\n",
    "\n",
    "\n",
    "</section>"
   ]
  },
  {
   "cell_type": "code",
   "execution_count": 2,
   "metadata": {},
   "outputs": [],
   "source": [
    "def my_function():\n",
    "    print(\"Hello from a function\")"
   ]
  },
  {
   "cell_type": "markdown",
   "metadata": {},
   "source": [
    "<section style=\"direction: rtl; text-align: justify; margin: 30px;\">\n",
    "\n",
    "برای فراخوانی یک تابع، از نام تابع به دنبال پرانتز استفاده کنید:\n",
    "\n",
    "</section>"
   ]
  },
  {
   "cell_type": "code",
   "execution_count": 3,
   "metadata": {},
   "outputs": [
    {
     "name": "stdout",
     "output_type": "stream",
     "text": [
      "Hello from a function\n"
     ]
    }
   ],
   "source": [
    "my_function()"
   ]
  },
  {
   "cell_type": "markdown",
   "metadata": {},
   "source": [
    "<section style=\"direction: rtl; text-align: justify; margin: 30px;\">\n",
    "\n",
    "برای فراخوانی یک تابع، از نام تابع به دنبال پرانتز استفاده کنید:\n",
    "\n",
    "آرگومان ها بعد از نام تابع در داخل پرانتز مشخص می شوند. می توانید هر تعداد آرگومان که می خواهید اضافه کنید، فقط آنها را با کاما جدا کنید.\n",
    "\n",
    "مثال زیر تابعی با یک آرگومان (fname) دارد. هنگامی که تابع فراخوانی می شود، یک نام را به همراه می فرستیم که در داخل تابع برای چاپ نام کامل استفاده می شود:\n",
    "\n",
    "</section>"
   ]
  },
  {
   "cell_type": "code",
   "execution_count": 5,
   "metadata": {},
   "outputs": [
    {
     "name": "stdout",
     "output_type": "stream",
     "text": [
      "Saleh Refsens\n",
      "Ali Refsens\n",
      "Hossein Refsens\n"
     ]
    }
   ],
   "source": [
    "def my_function(fname):\n",
    "    print(fname + \" Refsens\")\n",
    "\n",
    "\n",
    "my_function(\"Saleh\")\n",
    "my_function(\"Ali\")\n",
    "my_function(\"Hossein\")"
   ]
  },
  {
   "cell_type": "markdown",
   "metadata": {},
   "source": [
    "<section style=\"direction: rtl; text-align: justify; margin: 30px;\">\n",
    "\n",
    "آرگومان ها اغلب به args در اسناد پایتون خلاصه می شوند.\n",
    "\n",
    "اصطلاحات پارامتر و آرگومان را می توان برای یک چیز استفاده کرد: اطلاعاتی که به یک تابع منتقل می شوند.\n",
    "\n",
    "از دیدگاه یک تابع:\n",
    "- یک پارامتر متغیری است که در داخل پرانتز در تعریف تابع فهرست شده است.\n",
    "- آرگومان مقداری است که هنگام فراخوانی تابع به آن ارسال می شود.\n",
    "\n",
    "به طور پیش فرض، یک تابع باید با تعداد آرگومان های صحیح فراخوانی شود. به این معنی که اگر تابع شما 2 آرگومان انتظار دارد، باید تابع را با 2 آرگومان فراخوانی کنید، نه بیشتر و نه کمتر.\n",
    "\n",
    "</section>"
   ]
  },
  {
   "cell_type": "code",
   "execution_count": 7,
   "metadata": {},
   "outputs": [
    {
     "name": "stdout",
     "output_type": "stream",
     "text": [
      "Saleh Abedinezhad\n"
     ]
    }
   ],
   "source": [
    "def my_function(fname, lname):\n",
    "    print(fname + \" \" + lname)\n",
    "\n",
    "\n",
    "my_function(\"Saleh\", \"Abedinezhad\")"
   ]
  },
  {
   "cell_type": "markdown",
   "metadata": {},
   "source": [
    "<section style=\"direction: rtl; text-align: justify; margin: 30px;\">\n",
    "\n",
    "اگر بخواهید تابع را با 1 یا 3 آرگومان فراخوانی کنید، با یک خطا مواجه خواهید شد:\n",
    "\n",
    "</section>"
   ]
  },
  {
   "cell_type": "code",
   "execution_count": 8,
   "metadata": {},
   "outputs": [
    {
     "ename": "TypeError",
     "evalue": "my_function() missing 1 required positional argument: 'lname'",
     "output_type": "error",
     "traceback": [
      "\u001b[1;31m---------------------------------------------------------------------------\u001b[0m",
      "\u001b[1;31mTypeError\u001b[0m                                 Traceback (most recent call last)",
      "\u001b[1;32mc:\\Users\\Saleh\\OneDrive\\My Projects\\PythonFundamentals-Farsi\\w3schools\\19-Functions.ipynb Cell 10\u001b[0m line \u001b[0;36m4\n\u001b[0;32m      <a href='vscode-notebook-cell:/c%3A/Users/Saleh/OneDrive/My%20Projects/PythonFundamentals-Farsi/w3schools/19-Functions.ipynb#X22sZmlsZQ%3D%3D?line=0'>1</a>\u001b[0m \u001b[39mdef\u001b[39;00m \u001b[39mmy_function\u001b[39m(fname, lname):\n\u001b[0;32m      <a href='vscode-notebook-cell:/c%3A/Users/Saleh/OneDrive/My%20Projects/PythonFundamentals-Farsi/w3schools/19-Functions.ipynb#X22sZmlsZQ%3D%3D?line=1'>2</a>\u001b[0m   \u001b[39mprint\u001b[39m(fname \u001b[39m+\u001b[39m \u001b[39m\"\u001b[39m\u001b[39m \u001b[39m\u001b[39m\"\u001b[39m \u001b[39m+\u001b[39m lname)\n\u001b[1;32m----> <a href='vscode-notebook-cell:/c%3A/Users/Saleh/OneDrive/My%20Projects/PythonFundamentals-Farsi/w3schools/19-Functions.ipynb#X22sZmlsZQ%3D%3D?line=3'>4</a>\u001b[0m my_function(\u001b[39m\"\u001b[39;49m\u001b[39mEmil\u001b[39;49m\u001b[39m\"\u001b[39;49m)\n",
      "\u001b[1;31mTypeError\u001b[0m: my_function() missing 1 required positional argument: 'lname'"
     ]
    }
   ],
   "source": [
    "def my_function(fname, lname):\n",
    "    print(fname + \" \" + lname)\n",
    "\n",
    "\n",
    "my_function(\"Emil\")"
   ]
  },
  {
   "cell_type": "markdown",
   "metadata": {},
   "source": [
    "<section style=\"direction: rtl; text-align: justify; margin: 30px;\">\n",
    "\n",
    "اگر نمی دانید چند آرگومان به تابع شما ارسال می شود، قبل از نام پارامتر در تعریف تابع یک * اضافه کنید.\n",
    "\n",
    "</section>"
   ]
  },
  {
   "cell_type": "code",
   "execution_count": 10,
   "metadata": {},
   "outputs": [
    {
     "name": "stdout",
     "output_type": "stream",
     "text": [
      "The youngest child is Ali\n"
     ]
    }
   ],
   "source": [
    "def my_function(*kids):\n",
    "    print(\"The youngest child is \" + kids[2])\n",
    "\n",
    "\n",
    "my_function(\"Saleh\", \"Hossein\", \"Ali\")"
   ]
  },
  {
   "cell_type": "markdown",
   "metadata": {},
   "source": [
    "<section style=\"direction: rtl; text-align: justify; margin: 30px;\">\n",
    "\n",
    "آرگومان های دلخواه اغلب به *args در اسناد پایتون کوتاه می شوند.\n",
    "\n",
    "همچنین می توانید آرگومان ها را با دستور key = value ارسال کنید.\n",
    "\n",
    "به این ترتیب ترتیب استدلال ها مهم نیست.\n",
    "\n",
    "</section>"
   ]
  },
  {
   "cell_type": "code",
   "execution_count": 11,
   "metadata": {},
   "outputs": [
    {
     "name": "stdout",
     "output_type": "stream",
     "text": [
      "The youngest child is Hossein\n"
     ]
    }
   ],
   "source": [
    "def myFunc(child3, child1, child2):\n",
    "    print('The youngest child is ' + child3)\n",
    "\n",
    "\n",
    "myFunc(child1='Saleh', child2='Ali', child3='Hossein')"
   ]
  },
  {
   "cell_type": "code",
   "execution_count": 2,
   "metadata": {},
   "outputs": [
    {
     "name": "stdout",
     "output_type": "stream",
     "text": [
      "i am from Canada\n"
     ]
    }
   ],
   "source": [
    "def myFunc(country=\"iran\"):\n",
    "    print(\"i am from \" + country)\n",
    "\n",
    "\n",
    "myFunc(\"Canada\")"
   ]
  },
  {
   "cell_type": "code",
   "execution_count": 5,
   "metadata": {},
   "outputs": [
    {
     "name": "stdout",
     "output_type": "stream",
     "text": [
      "apple\n",
      "banana\n",
      "cherry\n"
     ]
    }
   ],
   "source": [
    "def myFunc2(food):\n",
    "    for x in food:\n",
    "        print(x)\n",
    "\n",
    "\n",
    "fruits = [\"apple\", \"banana\", \"cherry\"]\n",
    "\n",
    "myFunc2(fruits)"
   ]
  },
  {
   "cell_type": "code",
   "execution_count": 2,
   "metadata": {},
   "outputs": [
    {
     "data": {
      "text/plain": [
       "100"
      ]
     },
     "execution_count": 2,
     "metadata": {},
     "output_type": "execute_result"
    }
   ],
   "source": [
    "def myFunc3(num):\n",
    "    return num ** 2\n",
    "\n",
    "\n",
    "myFunc3(10)"
   ]
  },
  {
   "cell_type": "code",
   "execution_count": 8,
   "metadata": {},
   "outputs": [],
   "source": [
    "def myFunc4():\n",
    "    pass"
   ]
  },
  {
   "cell_type": "code",
   "execution_count": 9,
   "metadata": {},
   "outputs": [
    {
     "name": "stdout",
     "output_type": "stream",
     "text": [
      "\n",
      "\n",
      "Recursion Example Results\n",
      "1\n",
      "3\n",
      "6\n",
      "10\n",
      "15\n",
      "21\n",
      "28\n",
      "36\n"
     ]
    },
    {
     "data": {
      "text/plain": [
       "36"
      ]
     },
     "execution_count": 9,
     "metadata": {},
     "output_type": "execute_result"
    }
   ],
   "source": [
    "def tri_recursion(k):\n",
    "    if (k > 0):\n",
    "        result = k + tri_recursion(k - 1)\n",
    "        print(result)\n",
    "    else:\n",
    "        result = 0\n",
    "    return result\n",
    "\n",
    "\n",
    "print(\"\\n\\nRecursion Example Results\")\n",
    "tri_recursion(8)"
   ]
  }
 ],
 "metadata": {
  "kernelspec": {
   "display_name": "My Environment",
   "language": "python",
   "name": "myenv"
  },
  "language_info": {
   "codemirror_mode": {
    "name": "ipython",
    "version": 3
   },
   "file_extension": ".py",
   "mimetype": "text/x-python",
   "name": "python",
   "nbconvert_exporter": "python",
   "pygments_lexer": "ipython3",
   "version": "3.11.4"
  },
  "orig_nbformat": 4
 },
 "nbformat": 4,
 "nbformat_minor": 2
}
