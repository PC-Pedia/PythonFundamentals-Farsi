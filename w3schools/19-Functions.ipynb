{
 "cells": [
  {
   "cell_type": "markdown",
   "metadata": {},
   "source": [
    "Python Functions\n",
    "\n",
    "<section style=\"direction: rtl; text-align: justify; margin: 30px;\">\n",
    "\n",
    "## **توابع پایتون**\n",
    "\n",
    "تابع یک بلوک از کد است که فقط زمانی اجرا می شود که فراخوانی شود.\n",
    "\n",
    "شما می توانید داده ها را که به عنوان پارامتر شناخته می شوند، به یک تابع منتقل کنید.\n",
    "\n",
    "یک تابع می تواند در نتیجه داده ها را برگرداند.\n",
    "\n",
    "در پایتون یک تابع با استفاده از کلمه کلیدی def تعریف می شود:\n",
    "\n",
    "\n",
    "</section>"
   ]
  },
  {
   "cell_type": "code",
   "execution_count": 2,
   "metadata": {},
   "outputs": [],
   "source": [
    "def my_function():\n",
    "    print(\"Hello from a function\")"
   ]
  },
  {
   "cell_type": "markdown",
   "metadata": {},
   "source": [
    "<section style=\"direction: rtl; text-align: justify; margin: 30px;\">\n",
    "\n",
    "برای فراخوانی یک تابع، از نام تابع به دنبال پرانتز استفاده کنید:\n",
    "\n",
    "</section>"
   ]
  },
  {
   "cell_type": "code",
   "execution_count": 3,
   "metadata": {},
   "outputs": [
    {
     "name": "stdout",
     "output_type": "stream",
     "text": [
      "Hello from a function\n"
     ]
    }
   ],
   "source": [
    "my_function()"
   ]
  },
  {
   "cell_type": "markdown",
   "metadata": {},
   "source": [
    "<section style=\"direction: rtl; text-align: justify; margin: 30px;\">\n",
    "\n",
    "برای فراخوانی یک تابع، از نام تابع به دنبال پرانتز استفاده کنید:\n",
    "\n",
    "آرگومان ها بعد از نام تابع در داخل پرانتز مشخص می شوند. می توانید هر تعداد آرگومان که می خواهید اضافه کنید، فقط آنها را با کاما جدا کنید.\n",
    "\n",
    "مثال زیر تابعی با یک آرگومان (fname) دارد. هنگامی که تابع فراخوانی می شود، یک نام را به همراه می فرستیم که در داخل تابع برای چاپ نام کامل استفاده می شود:\n",
    "\n",
    "</section>"
   ]
  },
  {
   "cell_type": "code",
   "execution_count": 5,
   "metadata": {},
   "outputs": [
    {
     "name": "stdout",
     "output_type": "stream",
     "text": [
      "Saleh Refsens\n",
      "Ali Refsens\n",
      "Hossein Refsens\n"
     ]
    }
   ],
   "source": [
    "def my_function(fname):\n",
    "    print(fname + \" Refsens\")\n",
    "\n",
    "\n",
    "my_function(\"Saleh\")\n",
    "my_function(\"Ali\")\n",
    "my_function(\"Hossein\")"
   ]
  },
  {
   "cell_type": "markdown",
   "metadata": {},
   "source": [
    "<section style=\"direction: rtl; text-align: justify; margin: 30px;\">\n",
    "\n",
    "آرگومان ها اغلب به args در اسناد پایتون خلاصه می شوند.\n",
    "\n",
    "اصطلاحات پارامتر و آرگومان را می توان برای یک چیز استفاده کرد: اطلاعاتی که به یک تابع منتقل می شوند.\n",
    "\n",
    "از دیدگاه یک تابع:\n",
    "- یک پارامتر متغیری است که در داخل پرانتز در تعریف تابع فهرست شده است.\n",
    "- آرگومان مقداری است که هنگام فراخوانی تابع به آن ارسال می شود.\n",
    "\n",
    "به طور پیش فرض، یک تابع باید با تعداد آرگومان های صحیح فراخوانی شود. به این معنی که اگر تابع شما 2 آرگومان انتظار دارد، باید تابع را با 2 آرگومان فراخوانی کنید، نه بیشتر و نه کمتر.\n",
    "\n",
    "</section>"
   ]
  },
  {
   "cell_type": "code",
   "execution_count": 7,
   "metadata": {},
   "outputs": [
    {
     "name": "stdout",
     "output_type": "stream",
     "text": [
      "Saleh Abedinezhad\n"
     ]
    }
   ],
   "source": [
    "def my_function(fname, lname):\n",
    "    print(fname + \" \" + lname)\n",
    "\n",
    "\n",
    "my_function(\"Saleh\", \"Abedinezhad\")"
   ]
  },
  {
   "cell_type": "markdown",
   "metadata": {},
   "source": [
    "<section style=\"direction: rtl; text-align: justify; margin: 30px;\">\n",
    "\n",
    "اگر بخواهید تابع را با 1 یا 3 آرگومان فراخوانی کنید، با یک خطا مواجه خواهید شد:\n",
    "\n",
    "</section>"
   ]
  },
  {
   "cell_type": "code",
   "execution_count": 8,
   "metadata": {},
   "outputs": [
    {
     "ename": "TypeError",
     "evalue": "my_function() missing 1 required positional argument: 'lname'",
     "output_type": "error",
     "traceback": [
      "\u001b[1;31m---------------------------------------------------------------------------\u001b[0m",
      "\u001b[1;31mTypeError\u001b[0m                                 Traceback (most recent call last)",
      "\u001b[1;32mc:\\Users\\Saleh\\OneDrive\\My Projects\\PythonFundamentals-Farsi\\w3schools\\19-Functions.ipynb Cell 10\u001b[0m line \u001b[0;36m4\n\u001b[0;32m      <a href='vscode-notebook-cell:/c%3A/Users/Saleh/OneDrive/My%20Projects/PythonFundamentals-Farsi/w3schools/19-Functions.ipynb#X22sZmlsZQ%3D%3D?line=0'>1</a>\u001b[0m \u001b[39mdef\u001b[39;00m \u001b[39mmy_function\u001b[39m(fname, lname):\n\u001b[0;32m      <a href='vscode-notebook-cell:/c%3A/Users/Saleh/OneDrive/My%20Projects/PythonFundamentals-Farsi/w3schools/19-Functions.ipynb#X22sZmlsZQ%3D%3D?line=1'>2</a>\u001b[0m   \u001b[39mprint\u001b[39m(fname \u001b[39m+\u001b[39m \u001b[39m\"\u001b[39m\u001b[39m \u001b[39m\u001b[39m\"\u001b[39m \u001b[39m+\u001b[39m lname)\n\u001b[1;32m----> <a href='vscode-notebook-cell:/c%3A/Users/Saleh/OneDrive/My%20Projects/PythonFundamentals-Farsi/w3schools/19-Functions.ipynb#X22sZmlsZQ%3D%3D?line=3'>4</a>\u001b[0m my_function(\u001b[39m\"\u001b[39;49m\u001b[39mEmil\u001b[39;49m\u001b[39m\"\u001b[39;49m)\n",
      "\u001b[1;31mTypeError\u001b[0m: my_function() missing 1 required positional argument: 'lname'"
     ]
    }
   ],
   "source": [
    "def my_function(fname, lname):\n",
    "    print(fname + \" \" + lname)\n",
    "\n",
    "\n",
    "my_function(\"Emil\")"
   ]
  },
  {
   "cell_type": "markdown",
   "metadata": {},
   "source": [
    "<section style=\"direction: rtl; text-align: justify; margin: 30px;\">\n",
    "\n",
    "اگر نمی دانید چند آرگومان به تابع شما ارسال می شود، قبل از نام پارامتر در تعریف تابع یک * اضافه کنید.\n",
    "\n",
    "</section>"
   ]
  },
  {
   "cell_type": "code",
   "execution_count": 10,
   "metadata": {},
   "outputs": [
    {
     "name": "stdout",
     "output_type": "stream",
     "text": [
      "The youngest child is Ali\n"
     ]
    }
   ],
   "source": [
    "def my_function(*kids):\n",
    "    print(\"The youngest child is \" + kids[2])\n",
    "\n",
    "\n",
    "my_function(\"Saleh\", \"Hossein\", \"Ali\")"
   ]
  },
  {
   "cell_type": "markdown",
   "metadata": {},
   "source": [
    "<section style=\"direction: rtl; text-align: justify; margin: 30px;\">\n",
    "\n",
    "آرگومان های دلخواه اغلب به *args در اسناد پایتون کوتاه می شوند.\n",
    "\n",
    "همچنین می توانید آرگومان ها را با دستور key = value ارسال کنید.\n",
    "\n",
    "به این ترتیب ترتیب استدلال ها مهم نیست.\n",
    "\n",
    "</section>"
   ]
  },
  {
   "cell_type": "code",
   "execution_count": 11,
   "metadata": {},
   "outputs": [
    {
     "name": "stdout",
     "output_type": "stream",
     "text": [
      "The youngest child is Hossein\n"
     ]
    }
   ],
   "source": [
    "def myFunc(child3, child1, child2):\n",
    "    print('The youngest child is ' + child3)\n",
    "\n",
    "\n",
    "myFunc(child1='Saleh', child2='Ali', child3='Hossein')"
   ]
  },
  {
   "cell_type": "markdown",
   "metadata": {},
   "source": [
    "<section style=\"direction: rtl; text-align: justify; margin: 30px;\">\n",
    "\n",
    "اگر نمی دانید چند آرگومان کلمه کلیدی به تابع شما ارسال می شود، دو ستاره اضافه کنید: ** قبل از نام پارامتر در تعریف تابع.\n",
    "\n",
    "به این ترتیب تابع یک دیکشنری از آرگومان ها را دریافت می کند و می تواند به موارد زیر دسترسی داشته باشد:\n",
    "\n",
    "</section>"
   ]
  },
  {
   "cell_type": "code",
   "execution_count": 13,
   "metadata": {},
   "outputs": [
    {
     "name": "stdout",
     "output_type": "stream",
     "text": [
      "His last name is Abedinezhad\n"
     ]
    }
   ],
   "source": [
    "def my_function(**kid):\n",
    "    print(\"His last name is \" + kid[\"lname\"])\n",
    "\n",
    "\n",
    "my_function(fname=\"Saleh\", lname=\"Abedinezhad\")"
   ]
  },
  {
   "cell_type": "markdown",
   "metadata": {},
   "source": [
    "<section style=\"direction: rtl; text-align: justify; margin: 30px;\">\n",
    "\n",
    "آرگومان های Kword دلخواه اغلب در اسناد پایتون به **kwargs کوتاه می شوند.\n",
    "\n",
    "مثال زیر نحوه استفاده از مقدار پارامتر پیش فرض را نشان می دهد.\n",
    "\n",
    "اگر تابع را بدون آرگومان فراخوانی کنیم، از مقدار پیش فرض استفاده می کند:\n",
    "\n",
    "</section>"
   ]
  },
  {
   "cell_type": "code",
   "execution_count": 14,
   "metadata": {},
   "outputs": [
    {
     "name": "stdout",
     "output_type": "stream",
     "text": [
      "i am from Canada\n",
      "i am from India\n",
      "i am from iran\n",
      "i am from Brazil\n"
     ]
    }
   ],
   "source": [
    "def my_function(country=\"iran\"):\n",
    "    print(\"i am from \" + country)\n",
    "\n",
    "\n",
    "my_function(\"Canada\")\n",
    "my_function(\"India\")\n",
    "my_function()\n",
    "my_function(\"Brazil\")"
   ]
  },
  {
   "cell_type": "markdown",
   "metadata": {},
   "source": [
    "<section style=\"direction: rtl; text-align: justify; margin: 30px;\">\n",
    "\n",
    "شما می توانید هر نوع داده ای از آرگومان را به یک تابع ارسال کنید (رشته، شماره، ایندکس، دیکشنری و غیره)، و به عنوان همان نوع داده در داخل تابع در نظر گرفته می شود.\n",
    "\n",
    "</section>"
   ]
  },
  {
   "cell_type": "code",
   "execution_count": 15,
   "metadata": {},
   "outputs": [
    {
     "name": "stdout",
     "output_type": "stream",
     "text": [
      "apple\n",
      "banana\n",
      "cherry\n"
     ]
    }
   ],
   "source": [
    "def my_function(food):\n",
    "    for x in food:\n",
    "        print(x)\n",
    "\n",
    "\n",
    "fruits = [\"apple\", \"banana\", \"cherry\"]\n",
    "\n",
    "my_function(fruits)"
   ]
  },
  {
   "cell_type": "markdown",
   "metadata": {},
   "source": [
    "<section style=\"direction: rtl; text-align: justify; margin: 30px;\">\n",
    "\n",
    "برای اینکه یک تابع مقداری را برگرداند، از عبارت return استفاده کنید:\n",
    "\n",
    "</section>"
   ]
  },
  {
   "cell_type": "code",
   "execution_count": 16,
   "metadata": {},
   "outputs": [
    {
     "data": {
      "text/plain": [
       "100"
      ]
     },
     "execution_count": 16,
     "metadata": {},
     "output_type": "execute_result"
    }
   ],
   "source": [
    "def my_function(num):\n",
    "    return num ** 2\n",
    "\n",
    "\n",
    "my_function(10)"
   ]
  },
  {
   "cell_type": "markdown",
   "metadata": {},
   "source": [
    "<section style=\"direction: rtl; text-align: justify; margin: 30px;\">\n",
    "\n",
    "تعاریف تابع نمی تواند خالی باشد، اما اگر به دلایلی یک تعریف تابع بدون محتوا دارید، برای جلوگیری از دریافت خطا، عبارت pass را قرار دهید.\n",
    "\n",
    "</section>"
   ]
  },
  {
   "cell_type": "code",
   "execution_count": 8,
   "metadata": {},
   "outputs": [],
   "source": [
    "def myFunc4():\n",
    "    pass"
   ]
  },
  {
   "cell_type": "markdown",
   "metadata": {},
   "source": [
    "<section style=\"direction: rtl; text-align: justify; margin: 30px;\">\n",
    "\n",
    "پایتون همچنین بازگشت تابع را می پذیرد، به این معنی که یک تابع تعریف شده می تواند خود را فراخوانی کند.\n",
    "\n",
    "بازگشت یک مفهوم رایج ریاضی و برنامه نویسی است. یعنی یک تابع خودش را فراخوانی می کند. مزیت آن این است که می توانید داده ها را برای رسیدن به نتیجه حلقه بزنید.\n",
    "\n",
    "توسعه‌دهنده باید در مورد بازگشت بسیار مراقب باشد، زیرا می‌تواند به آسانی وارد نوشتن تابعی شود که هرگز پایان نمی‌یابد، یا تابعی که از مقادیر اضافی حافظه یا قدرت پردازنده استفاده می‌کند. با این حال، زمانی که به درستی نوشته شود، بازگشت می تواند یک رویکرد بسیار کارآمد و از نظر ریاضی بسیار ظریف برای برنامه نویسی باشد.\n",
    "\n",
    "در این مثال، tri_recursion() تابعی است که ما تعریف کرده‌ایم تا خود را (\"recurse\") بنامد. ما از متغیر k به عنوان داده استفاده می کنیم که هر بار که تکرار می کنیم (-1) کاهش می یابد. بازگشت زمانی به پایان می رسد که شرط از 0 بیشتر نباشد (یعنی زمانی که 0 باشد).\n",
    "\n",
    "برای یک توسعه‌دهنده جدید می‌تواند مدتی طول بکشد تا بفهمد این دقیقا چگونه کار می‌کند، بهترین راه برای فهمیدن این است که آن را آزمایش و اصلاح کنید.\n",
    "\n",
    "</section>"
   ]
  },
  {
   "cell_type": "code",
   "execution_count": 29,
   "metadata": {},
   "outputs": [
    {
     "name": "stdout",
     "output_type": "stream",
     "text": [
      "\n",
      "Recursion Example Results\n",
      "1\n",
      "3\n",
      "6\n",
      "10\n",
      "15\n",
      "21\n",
      "28\n",
      "36\n"
     ]
    },
    {
     "data": {
      "text/plain": [
       "36"
      ]
     },
     "execution_count": 29,
     "metadata": {},
     "output_type": "execute_result"
    }
   ],
   "source": [
    "def tri_recursion(k):\n",
    "    if (k > 0):\n",
    "        result = k + tri_recursion(k - 1)\n",
    "        print(result)\n",
    "    else:\n",
    "        result = 0\n",
    "    return result\n",
    "\n",
    "\n",
    "print(\"\\nRecursion Example Results\")\n",
    "tri_recursion(8)"
   ]
  }
 ],
 "metadata": {
  "kernelspec": {
   "display_name": "My Environment",
   "language": "python",
   "name": "myenv"
  },
  "language_info": {
   "codemirror_mode": {
    "name": "ipython",
    "version": 3
   },
   "file_extension": ".py",
   "mimetype": "text/x-python",
   "name": "python",
   "nbconvert_exporter": "python",
   "pygments_lexer": "ipython3",
   "version": "3.11.4"
  },
  "orig_nbformat": 4
 },
 "nbformat": 4,
 "nbformat_minor": 2
}
