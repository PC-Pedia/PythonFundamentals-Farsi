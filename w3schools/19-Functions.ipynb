{
 "cells": [
  {
   "cell_type": "markdown",
   "metadata": {},
   "source": [
    "Python Functions\n",
    "\n",
    "<section style=\"direction: rtl; text-align: justify; margin: 30px;\">\n",
    "\n",
    "## **توابع پایتون**\n",
    "\n",
    "تابع یک بلوک از کد است که فقط زمانی اجرا می شود که فراخوانی شود.\n",
    "\n",
    "شما می توانید داده ها را که به عنوان پارامتر شناخته می شوند، به یک تابع منتقل کنید.\n",
    "\n",
    "یک تابع می تواند در نتیجه داده ها را برگرداند.\n",
    "\n",
    "در پایتون یک تابع با استفاده از کلمه کلیدی def تعریف می شود:\n",
    "\n",
    "</section>"
   ]
  },
  {
   "cell_type": "code",
   "execution_count": null,
   "metadata": {},
   "outputs": [],
   "source": [
    "def my_function():\n",
    "    print(\"Hello from a function\")"
   ]
  },
  {
   "cell_type": "markdown",
   "metadata": {},
   "source": [
    "<section style=\"direction: rtl; text-align: justify; margin: 30px;\">\n",
    "\n",
    "برای فراخوانی یک تابع، از نام تابع به دنبال پرانتز استفاده کنید:\n",
    "\n",
    "</section>"
   ]
  },
  {
   "cell_type": "code",
   "execution_count": null,
   "metadata": {},
   "outputs": [],
   "source": [
    "my_function()"
   ]
  },
  {
   "cell_type": "markdown",
   "metadata": {},
   "source": [
    "<section style=\"direction: rtl; text-align: justify; margin: 30px;\">\n",
    "\n",
    "برای فراخوانی یک تابع، از نام تابع به دنبال پرانتز استفاده کنید:\n",
    "\n",
    "آرگومان ها بعد از نام تابع در داخل پرانتز مشخص می شوند. می توانید هر تعداد آرگومان که می خواهید اضافه کنید، فقط آنها را با کاما جدا کنید.\n",
    "\n",
    "مثال زیر تابعی با یک آرگومان (fname) دارد. هنگامی که تابع فراخوانی می شود، یک نام را به همراه می فرستیم که در داخل تابع برای چاپ نام کامل استفاده می شود:\n",
    "\n",
    "</section>"
   ]
  },
  {
   "cell_type": "code",
   "execution_count": null,
   "metadata": {},
   "outputs": [],
   "source": [
    "def my_function(fname):\n",
    "    print(fname + \" Refsens\")\n",
    "\n",
    "\n",
    "my_function(\"Saleh\")\n",
    "my_function(\"Ali\")\n",
    "my_function(\"Hossein\")"
   ]
  },
  {
   "cell_type": "markdown",
   "metadata": {},
   "source": [
    "<section style=\"direction: rtl; text-align: justify; margin: 30px;\">\n",
    "\n",
    "آرگومان ها اغلب به args در اسناد پایتون خلاصه می شوند.\n",
    "\n",
    "اصطلاحات پارامتر و آرگومان را می توان برای یک چیز استفاده کرد: اطلاعاتی که به یک تابع منتقل می شوند.\n",
    "\n",
    "از دیدگاه یک تابع:\n",
    "- یک پارامتر متغیری است که در داخل پرانتز در تعریف تابع فهرست شده است.\n",
    "- آرگومان مقداری است که هنگام فراخوانی تابع به آن ارسال می شود.\n",
    "\n",
    "به طور پیش فرض، یک تابع باید با تعداد آرگومان های صحیح فراخوانی شود. به این معنی که اگر تابع شما 2 آرگومان انتظار دارد، باید تابع را با 2 آرگومان فراخوانی کنید، نه بیشتر و نه کمتر.\n",
    "\n",
    "</section>"
   ]
  },
  {
   "cell_type": "code",
   "execution_count": null,
   "metadata": {},
   "outputs": [],
   "source": [
    "def my_function(fname, lname):\n",
    "    print(fname + \" \" + lname)\n",
    "\n",
    "\n",
    "my_function(\"Saleh\", \"Abedinezhad\")"
   ]
  },
  {
   "cell_type": "markdown",
   "metadata": {},
   "source": [
    "<section style=\"direction: rtl; text-align: justify; margin: 30px;\">\n",
    "\n",
    "اگر بخواهید تابع را با 1 یا 3 آرگومان فراخوانی کنید، با یک خطا مواجه خواهید شد:\n",
    "\n",
    "</section>"
   ]
  },
  {
   "cell_type": "code",
   "execution_count": null,
   "metadata": {},
   "outputs": [],
   "source": [
    "def my_function(fname, lname):\n",
    "    print(fname + \" \" + lname)\n",
    "\n",
    "\n",
    "my_function(\"Emil\")"
   ]
  },
  {
   "cell_type": "markdown",
   "metadata": {},
   "source": [
    "<section style=\"direction: rtl; text-align: justify; margin: 30px;\">\n",
    "\n",
    "اگر نمی دانید چند آرگومان به تابع شما ارسال می شود، قبل از نام پارامتر در تعریف تابع یک * اضافه کنید.\n",
    "\n",
    "</section>"
   ]
  },
  {
   "cell_type": "code",
   "execution_count": null,
   "metadata": {},
   "outputs": [],
   "source": [
    "def my_function(*kids):\n",
    "    print(\"The youngest child is \" + kids[2])\n",
    "\n",
    "\n",
    "my_function(\"Saleh\", \"Hossein\", \"Ali\")"
   ]
  },
  {
   "cell_type": "markdown",
   "metadata": {},
   "source": [
    "<section style=\"direction: rtl; text-align: justify; margin: 30px;\">\n",
    "\n",
    "آرگومان های دلخواه اغلب به *args در اسناد پایتون کوتاه می شوند.\n",
    "\n",
    "همچنین می توانید آرگومان ها را با دستور key = value ارسال کنید.\n",
    "\n",
    "به این ترتیب ترتیب استدلال ها مهم نیست.\n",
    "\n",
    "</section>"
   ]
  },
  {
   "cell_type": "code",
   "execution_count": null,
   "metadata": {},
   "outputs": [],
   "source": [
    "def myFunc(child3, child1, child2):\n",
    "    print('The youngest child is ' + child3)\n",
    "\n",
    "\n",
    "myFunc(child1='Saleh', child2='Ali', child3='Hossein')"
   ]
  },
  {
   "cell_type": "markdown",
   "metadata": {},
   "source": [
    "<section style=\"direction: rtl; text-align: justify; margin: 30px;\">\n",
    "\n",
    "اگر نمی دانید چند آرگومان کلمه کلیدی به تابع شما ارسال می شود، دو ستاره اضافه کنید: ** قبل از نام پارامتر در تعریف تابع.\n",
    "\n",
    "به این ترتیب تابع یک دیکشنری از آرگومان ها را دریافت می کند و می تواند به موارد زیر دسترسی داشته باشد:\n",
    "\n",
    "</section>"
   ]
  },
  {
   "cell_type": "code",
   "execution_count": null,
   "metadata": {},
   "outputs": [],
   "source": [
    "def my_function(**kid):\n",
    "    print(\"His last name is \" + kid[\"lname\"])\n",
    "\n",
    "\n",
    "my_function(fname=\"Saleh\", lname=\"Abedinezhad\")"
   ]
  },
  {
   "cell_type": "markdown",
   "metadata": {},
   "source": [
    "<section style=\"direction: rtl; text-align: justify; margin: 30px;\">\n",
    "\n",
    "آرگومان های Kword دلخواه اغلب در اسناد پایتون به **kwargs کوتاه می شوند.\n",
    "\n",
    "مثال زیر نحوه استفاده از مقدار پارامتر پیش فرض را نشان می دهد.\n",
    "\n",
    "اگر تابع را بدون آرگومان فراخوانی کنیم، از مقدار پیش فرض استفاده می کند:\n",
    "\n",
    "</section>"
   ]
  },
  {
   "cell_type": "code",
   "execution_count": null,
   "metadata": {},
   "outputs": [],
   "source": [
    "def my_function(country=\"iran\"):\n",
    "    print(\"i am from \" + country)\n",
    "\n",
    "\n",
    "my_function(\"Canada\")\n",
    "my_function(\"India\")\n",
    "my_function()\n",
    "my_function(\"Brazil\")"
   ]
  },
  {
   "cell_type": "markdown",
   "metadata": {},
   "source": [
    "<section style=\"direction: rtl; text-align: justify; margin: 30px;\">\n",
    "\n",
    "شما می توانید هر نوع داده ای از آرگومان را به یک تابع ارسال کنید (رشته، شماره، ایندکس، دیکشنری و غیره)، و به عنوان همان نوع داده در داخل تابع در نظر گرفته می شود.\n",
    "\n",
    "</section>"
   ]
  },
  {
   "cell_type": "code",
   "execution_count": null,
   "metadata": {},
   "outputs": [],
   "source": [
    "def my_function(food):\n",
    "    for x in food:\n",
    "        print(x)\n",
    "\n",
    "\n",
    "fruits = [\"apple\", \"banana\", \"cherry\"]\n",
    "\n",
    "my_function(fruits)"
   ]
  },
  {
   "cell_type": "markdown",
   "metadata": {},
   "source": [
    "<section style=\"direction: rtl; text-align: justify; margin: 30px;\">\n",
    "\n",
    "برای اینکه یک تابع مقداری را برگرداند، از عبارت return استفاده کنید:\n",
    "\n",
    "</section>"
   ]
  },
  {
   "cell_type": "code",
   "execution_count": null,
   "metadata": {},
   "outputs": [],
   "source": [
    "def my_function(num):\n",
    "    return num ** 2\n",
    "\n",
    "\n",
    "my_function(10)"
   ]
  },
  {
   "cell_type": "markdown",
   "metadata": {},
   "source": [
    "<section style=\"direction: rtl; text-align: justify; margin: 30px;\">\n",
    "\n",
    "تعاریف تابع نمی تواند خالی باشد، اما اگر به دلایلی یک تعریف تابع بدون محتوا دارید، برای جلوگیری از دریافت خطا، عبارت pass را قرار دهید.\n",
    "\n",
    "</section>"
   ]
  },
  {
   "cell_type": "code",
   "execution_count": null,
   "metadata": {},
   "outputs": [],
   "source": [
    "def myFunc4():\n",
    "    pass"
   ]
  },
  {
   "cell_type": "markdown",
   "metadata": {},
   "source": [
    "<section style=\"direction: rtl; text-align: justify; margin: 30px;\">\n",
    "\n",
    "پایتون همچنین بازگشت تابع را می پذیرد، به این معنی که یک تابع تعریف شده می تواند خود را فراخوانی کند.\n",
    "\n",
    "بازگشت یک مفهوم رایج ریاضی و برنامه نویسی است. یعنی یک تابع خودش را فراخوانی می کند. مزیت آن این است که می توانید داده ها را برای رسیدن به نتیجه حلقه بزنید.\n",
    "\n",
    "توسعه‌دهنده باید در مورد بازگشت بسیار مراقب باشد، زیرا می‌تواند به آسانی وارد نوشتن تابعی شود که هرگز پایان نمی‌یابد، یا تابعی که از مقادیر اضافی حافظه یا قدرت پردازنده استفاده می‌کند. با این حال، زمانی که به درستی نوشته شود، بازگشت می تواند یک رویکرد بسیار کارآمد و از نظر ریاضی بسیار ظریف برای برنامه نویسی باشد.\n",
    "\n",
    "در این مثال، tri_recursion() تابعی است که ما تعریف کرده‌ایم تا خود را (\"recurse\") بنامد. ما از متغیر k به عنوان داده استفاده می کنیم که هر بار که تکرار می کنیم (-1) کاهش می یابد. بازگشت زمانی به پایان می رسد که شرط از 0 بیشتر نباشد (یعنی زمانی که 0 باشد).\n",
    "\n",
    "برای یک توسعه‌دهنده جدید می‌تواند مدتی طول بکشد تا بفهمد این دقیقا چگونه کار می‌کند، بهترین راه برای فهمیدن این است که آن را آزمایش و اصلاح کنید.\n",
    "\n",
    "</section>"
   ]
  },
  {
   "cell_type": "code",
   "execution_count": null,
   "metadata": {},
   "outputs": [],
   "source": [
    "def tri_recursion(k):\n",
    "    if (k > 0):\n",
    "        result = k + tri_recursion(k - 1)\n",
    "        print(result)\n",
    "    else:\n",
    "        result = 0\n",
    "    return result\n",
    "\n",
    "\n",
    "print(\"\\nRecursion Example Results\")\n",
    "tri_recursion(8)"
   ]
  },
  {
   "cell_type": "markdown",
   "metadata": {},
   "source": [
    "___\n",
    "<section style=\"direction: rtl; text-align: justify; margin: 30px;\">\n",
    "\n",
    "### **تمرین**\n",
    "\n",
    "1- یک تابع به نام my_function ایجاد کنید:\n",
    "\n",
    "</section>"
   ]
  },
  {
   "cell_type": "code",
   "execution_count": null,
   "metadata": {},
   "outputs": [],
   "source": [
    "...\n",
    "    print(\"Hello from a function\")"
   ]
  },
  {
   "cell_type": "markdown",
   "metadata": {},
   "source": [
    "<section style=\"direction: rtl; text-align: justify; margin: 30px;\">\n",
    "\n",
    "2- تابعی به نام my_function را اجرا کنید:\n",
    "\n",
    "</section>"
   ]
  },
  {
   "cell_type": "code",
   "execution_count": null,
   "metadata": {},
   "outputs": [],
   "source": [
    "def my_function():\n",
    "    print(\"Hello from a function\")\n",
    "\n",
    "\n",
    "..."
   ]
  },
  {
   "cell_type": "markdown",
   "metadata": {},
   "source": [
    "<section style=\"direction: rtl; text-align: justify; margin: 30px;\">\n",
    "\n",
    "3- در داخل یک تابع با دو پارامتر، پارامتر اول را چاپ کنید.\n",
    "\n",
    "\n",
    "</section>"
   ]
  },
  {
   "cell_type": "code",
   "execution_count": null,
   "metadata": {},
   "outputs": [],
   "source": [
    "def my_function(fname, lname):\n",
    "    print(...)"
   ]
  },
  {
   "cell_type": "markdown",
   "metadata": {},
   "source": [
    "<section style=\"direction: rtl; text-align: justify; margin: 30px;\">\n",
    "\n",
    "4- اجازه دهید تابع پارامتر x + 5 را برگرداند:\n",
    "\n",
    "</section>"
   ]
  },
  {
   "cell_type": "code",
   "execution_count": null,
   "metadata": {},
   "outputs": [],
   "source": [
    "def my_function(x):\n",
    "    ..."
   ]
  },
  {
   "cell_type": "markdown",
   "metadata": {},
   "source": [
    "<section style=\"direction: rtl; text-align: justify; margin: 30px;\">\n",
    "\n",
    "5- اگر تعداد آرگومان هایی که به تابع شما ارسال می شود را نمی دانید، یک پیشوند وجود دارد که می توانید در تعریف تابع اضافه کنید، کدام پیشوند؟\n",
    "\n",
    "</section>"
   ]
  },
  {
   "cell_type": "code",
   "execution_count": null,
   "metadata": {},
   "outputs": [],
   "source": [
    "def my_function(...kids):\n",
    "    print(\"The youngest child is \" + kids[2])"
   ]
  },
  {
   "cell_type": "markdown",
   "metadata": {},
   "source": [
    "<section style=\"direction: rtl; text-align: justify; margin: 30px;\">\n",
    "\n",
    "6- اگر تعداد آرگومان های کلمه کلیدی که به تابع شما ارسال می شود را نمی دانید، پیشوندی وجود دارد که می توانید در تعریف تابع اضافه کنید، کدام پیشوند؟\n",
    "\n",
    "</section>"
   ]
  },
  {
   "cell_type": "code",
   "execution_count": null,
   "metadata": {},
   "outputs": [],
   "source": [
    "def my_function(...kids):\n",
    "    print(\"His last name is \" + kid[\"lname\"])"
   ]
  }
 ],
 "metadata": {
  "kernelspec": {
   "display_name": "My Environment",
   "language": "python",
   "name": "myenv"
  },
  "language_info": {
   "codemirror_mode": {
    "name": "ipython",
    "version": 3
   },
   "file_extension": ".py",
   "mimetype": "text/x-python",
   "name": "python",
   "nbconvert_exporter": "python",
   "pygments_lexer": "ipython3",
   "version": "3.11.4"
  },
  "orig_nbformat": 4
 },
 "nbformat": 4,
 "nbformat_minor": 2
}
