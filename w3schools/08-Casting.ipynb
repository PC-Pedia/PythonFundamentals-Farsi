{
 "cells": [
  {
   "cell_type": "markdown",
   "metadata": {},
   "source": [
    "Python Casting\n",
    "\n",
    "<section style=\"direction: rtl; text-align: justify; margin: 30px;\">\n",
    "\n",
    "## **تعیین نوع داده**\n",
    "\n",
    "ممکن است مواقعی پیش بیاید که بخواهید یک نوع بر روی یک متغیر مشخص کنید. این را می توان با casting انجام داد. پایتون یک زبان شی گرا است و به همین دلیل از کلاس ها برای تعریف انواع داده ها از جمله انواع اولیه آن استفاده می کند.\n",
    "\n",
    "بنابراین casting در پایتون با استفاده از توابع سازنده انجام می شود:\n",
    "\n",
    "\n",
    "- int() - یک عدد صحیح از یک لفظ صحیح، یک حرف شناور (با حذف تمام اعشار)، یا یک رشته حرفی (به شرط اینکه رشته یک عدد کامل را نشان دهد) می سازد.\n",
    "- float() - یک عدد شناور از یک عدد صحیح واقعی، یک float literal یا یک رشته واقعی (به شرط اینکه رشته نشان دهنده یک شناور یا یک عدد صحیح باشد) می سازد.\n",
    "- str() - رشته ای را از طیف گسترده ای از انواع داده ها، از جمله رشته ها، حرف های اعداد صحیح و حرف های شناور می سازد.\n",
    "\n",
    "</section>"
   ]
  },
  {
   "cell_type": "code",
   "execution_count": 1,
   "metadata": {},
   "outputs": [],
   "source": [
    "# Integers:\n",
    "\n",
    "x = int(1)  # x will be 1\n",
    "y = int(2.8)  # y will be 2\n",
    "z = int(\"3\")  # z will be 3"
   ]
  },
  {
   "cell_type": "code",
   "execution_count": 2,
   "metadata": {},
   "outputs": [],
   "source": [
    "# Floats:\n",
    "\n",
    "x = float(1)  # x will be 1.0\n",
    "y = float(2.8)  # y will be 2.8\n",
    "z = float(\"3\")  # z will be 3.0\n",
    "z = float(\"4.2\")  # z will be 4.2"
   ]
  },
  {
   "cell_type": "code",
   "execution_count": 3,
   "metadata": {},
   "outputs": [],
   "source": [
    "# Strings:\n",
    "\n",
    "x = str(\"s1\")  # x will be 's1'\n",
    "y = str(2)  # y will be '2'\n",
    "z = str(3.0)  # z will be '3.0'"
   ]
  }
 ],
 "metadata": {
  "kernelspec": {
   "display_name": "Python 3",
   "language": "python",
   "name": "python3"
  },
  "language_info": {
   "codemirror_mode": {
    "name": "ipython",
    "version": 3
   },
   "file_extension": ".py",
   "mimetype": "text/x-python",
   "name": "python",
   "nbconvert_exporter": "python",
   "pygments_lexer": "ipython3",
   "version": "3.11.4"
  }
 },
 "nbformat": 4,
 "nbformat_minor": 2
}
