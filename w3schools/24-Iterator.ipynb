{
 "cells": [
  {
   "cell_type": "markdown",
   "metadata": {},
   "source": [
    "Python Iterators\n",
    "\n",
    "<section style=\"direction: rtl; text-align: justify; margin: 30px;\">\n",
    "\n",
    "## **تکرار کننده‌ها (Iterators) در پایتون**\n",
    "\n",
    "تکرار کننده یک شی است که دارای تعداد قابل شمارشی از مقادیر است.\n",
    "\n",
    "تکرار کننده یک شی است که می توان بر روی آن تکرار کرد، به این معنی که شما می توانید از تمام مقادیر عبور کنید.\n",
    "\n",
    "از نظر فنی، در پایتون، یک تکرارکننده، شی‌ای است که پروتکل تکرارکننده را پیاده‌سازی می‌کند که متشکل از متدهای __iter__() و __next__() است.\n",
    "\n",
    "فهرست‌ها، تاپل‌ها، دیکشنری‌ها و مجموعه‌ها همگی اشیایی قابل تکرار هستند. آنها ظروف قابل تکرار هستند که می توانید یک تکرار کننده از آنها تهیه کنید.\n",
    "\n",
    "همه این اشیاء دارای یک متد iter() هستند که برای بدست آوردن تکرار کننده استفاده می شود:\n",
    "\n",
    "</section>"
   ]
  },
  {
   "cell_type": "code",
   "execution_count": 1,
   "metadata": {},
   "outputs": [
    {
     "name": "stdout",
     "output_type": "stream",
     "text": [
      "saleh\n",
      "ali\n",
      "hossein\n"
     ]
    }
   ],
   "source": [
    "myTuple = (\"saleh\", \"ali\", \"hossein\")\n",
    "myit = iter(myTuple)\n",
    "\n",
    "print(next(myit))\n",
    "print(next(myit))\n",
    "print(next(myit))"
   ]
  },
  {
   "cell_type": "markdown",
   "metadata": {},
   "source": [
    "<section style=\"direction: rtl; text-align: justify; margin: 30px;\">\n",
    "\n",
    "حتی رشته ها اشیایی قابل تکرار هستند و می توانند تکرار کننده را برگردانند:\n",
    "\n",
    "</section>"
   ]
  },
  {
   "cell_type": "code",
   "execution_count": 3,
   "metadata": {},
   "outputs": [
    {
     "name": "stdout",
     "output_type": "stream",
     "text": [
      "s\n",
      "a\n",
      "l\n",
      "e\n",
      "h\n"
     ]
    }
   ],
   "source": [
    "myStr = \"saleh\"\n",
    "myit = iter(myStr)\n",
    "\n",
    "print(next(myit))\n",
    "print(next(myit))\n",
    "print(next(myit))\n",
    "print(next(myit))\n",
    "print(next(myit))"
   ]
  },
  {
   "cell_type": "markdown",
   "metadata": {},
   "source": [
    "<section style=\"direction: rtl; text-align: justify; margin: 30px;\">\n",
    "\n",
    "همچنین می توانیم از یک حلقه for برای تکرار از طریق یک شی تکرار شونده استفاده کنیم:\n",
    "\n",
    "</section>"
   ]
  },
  {
   "cell_type": "code",
   "execution_count": 4,
   "metadata": {},
   "outputs": [
    {
     "name": "stdout",
     "output_type": "stream",
     "text": [
      "apple\n",
      "baana\n",
      "cherry\n"
     ]
    }
   ],
   "source": [
    "mytuple = (\"apple\", \"baana\", \"cherry\")\n",
    "\n",
    "for x in mytuple:\n",
    "    print(x)"
   ]
  },
  {
   "cell_type": "code",
   "execution_count": 5,
   "metadata": {},
   "outputs": [
    {
     "name": "stdout",
     "output_type": "stream",
     "text": [
      "b\n",
      "a\n",
      "n\n",
      "a\n",
      "n\n",
      "a\n"
     ]
    }
   ],
   "source": [
    "mystr = \"banana\"\n",
    "\n",
    "for x in mystr:\n",
    "    print(x)"
   ]
  },
  {
   "cell_type": "markdown",
   "metadata": {},
   "source": [
    "<section style=\"direction: rtl; text-align: justify; margin: 30px;\">\n",
    "\n",
    "حلقه for در واقع یک شی iterator ایجاد می کند و متد ()next را برای هر حلقه اجرا می کند.\n",
    "\n",
    "\n",
    "برای ایجاد یک شی/کلاس به عنوان یک تکرار کننده، باید متدهای __iter__() و __next__() را در شیء خود پیاده سازی کنید.\n",
    "\n",
    "همانطور که در فصل Python Classes/Objects آموختید، همه کلاس‌ها تابعی به نام __init__() دارند که به شما اجازه می‌دهد هنگام ایجاد شی مقداری مقداردهی اولیه را انجام دهید.\n",
    "\n",
    "متد __iter__() مشابه عمل می‌کند، شما می‌توانید عملیات (initializing و غیره) را انجام دهید، اما همیشه باید خود شی iterator را برگردانید.\n",
    "\n",
    "متد __next__() همچنین به شما امکان انجام عملیات را می دهد و باید مورد بعدی را در دنباله برگردانید.\n",
    "\n",
    "\n",
    "### مثال:\n",
    "یک تکرار کننده ایجاد کنید که از عدد 1 شروع می‌شود و هر دنباله یک عدد افزایش می یابد (با برگرداندن 1،2،3،4،5 و غیره):\n",
    "\n",
    "</section>"
   ]
  },
  {
   "cell_type": "code",
   "execution_count": 25,
   "metadata": {},
   "outputs": [
    {
     "name": "stdout",
     "output_type": "stream",
     "text": [
      "1\n",
      "2\n",
      "3\n",
      "4\n",
      "5\n",
      "6\n"
     ]
    }
   ],
   "source": [
    "class myNumbers:\n",
    "    def __iter__(self):\n",
    "        self.a = 1\n",
    "        return self\n",
    "\n",
    "    def __next__(self):\n",
    "        x = self.a\n",
    "        self.a += 1\n",
    "        return x\n",
    "\n",
    "\n",
    "myClass = myNumbers()\n",
    "myIter = iter(myClass)\n",
    "\n",
    "print(next(myIter))\n",
    "print(next(myIter))\n",
    "print(next(myIter))\n",
    "print(next(myIter))\n",
    "print(next(myIter))\n",
    "print(next(myIter))"
   ]
  },
  {
   "cell_type": "markdown",
   "metadata": {},
   "source": [
    "<section style=\"direction: rtl; text-align: justify; margin: 30px;\">\n",
    "\n",
    "مثال بالا برای همیشه ادامه خواهد داشت اگر به اندازه کافی عبارات next() داشته باشید، یا اگر در یک حلقه for استفاده شده باشد.\n",
    "\n",
    "برای جلوگیری از ادامه تکرار برای همیشه، می توانیم از دستور StopIteration استفاده کنیم.\n",
    "\n",
    "در متد __next__() می‌توانیم یک شرط پایان‌دهنده برای ایجاد خطا در صورتی که تکرار چند بار مشخص انجام شود اضافه کنیم:\n",
    "\n",
    "</section>"
   ]
  },
  {
   "cell_type": "code",
   "execution_count": 10,
   "metadata": {},
   "outputs": [
    {
     "name": "stdout",
     "output_type": "stream",
     "text": [
      "1\n",
      "2\n",
      "3\n",
      "4\n",
      "5\n",
      "6\n",
      "7\n",
      "8\n",
      "9\n",
      "10\n",
      "11\n",
      "12\n",
      "13\n",
      "14\n",
      "15\n",
      "16\n",
      "17\n",
      "18\n",
      "19\n",
      "20\n"
     ]
    }
   ],
   "source": [
    "class myNumbers:\n",
    "    def __iter__(self):\n",
    "        self.a = 1\n",
    "        return self\n",
    "\n",
    "    def __next__(self):\n",
    "        if self.a <= 20:\n",
    "            x = self.a\n",
    "            self.a += 1\n",
    "            return x\n",
    "        else:\n",
    "            raise StopIteration\n",
    "\n",
    "\n",
    "myClass = myNumbers()\n",
    "myIter = iter(myClass)\n",
    "\n",
    "for x in myIter:\n",
    "    print(x)"
   ]
  }
 ],
 "metadata": {
  "kernelspec": {
   "display_name": "My Environment",
   "language": "python",
   "name": "myenv"
  },
  "language_info": {
   "codemirror_mode": {
    "name": "ipython",
    "version": 3
   },
   "file_extension": ".py",
   "mimetype": "text/x-python",
   "name": "python",
   "nbconvert_exporter": "python",
   "pygments_lexer": "ipython3",
   "version": "3.11.4"
  },
  "orig_nbformat": 4
 },
 "nbformat": 4,
 "nbformat_minor": 2
}
