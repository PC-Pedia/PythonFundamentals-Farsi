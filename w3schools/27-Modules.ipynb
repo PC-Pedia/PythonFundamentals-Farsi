{
 "cells": [
  {
   "cell_type": "markdown",
   "metadata": {},
   "source": [
    "Python Modules\n",
    "\n",
    "<section style=\"direction: rtl; text-align: justify; margin: 30px;\">\n",
    "\n",
    "## **ماژول‌ها در پایتون**\n",
    "\n",
    "یک ماژول را مانند کتابخانه کد در نظر بگیرید.\n",
    "\n",
    "فایلی حاوی مجموعه ای از توابع که می خواهید در برنامه خود بگنجانید.\n",
    "\n",
    "برای ایجاد یک ماژول فقط کد مورد نظر خود را در یک فایل با پسوند فایل .py ذخیره کنید:\n",
    "\n",
    "این فایل داخل پوشه همین درس قرار گرفته است\n",
    "\n",
    "</section>"
   ]
  },
  {
   "cell_type": "code",
   "execution_count": 31,
   "metadata": {},
   "outputs": [],
   "source": [
    "def greeting(name):\n",
    "    print(\"hello, \", name)"
   ]
  },
  {
   "cell_type": "markdown",
   "metadata": {},
   "source": [
    "<section style=\"direction: rtl; text-align: justify; margin: 30px;\">\n",
    "\n",
    "اکنون می توانیم با استفاده از عبارت import از ماژولی که ایجاد کردیم استفاده کنیم:\n",
    "\n",
    "</section>"
   ]
  },
  {
   "cell_type": "code",
   "execution_count": 16,
   "metadata": {},
   "outputs": [
    {
     "name": "stdout",
     "output_type": "stream",
     "text": [
      "hello,  Saleh\n"
     ]
    }
   ],
   "source": [
    "import myModule\n",
    "\n",
    "myModule.greeting(\"Saleh\")"
   ]
  },
  {
   "cell_type": "markdown",
   "metadata": {},
   "source": [
    "<section style=\"direction: rtl; text-align: justify; margin: 30px;\">\n",
    "\n",
    "توجه: هنگام استفاده از تابعی از یک ماژول، از نحو استفاده کنید: module_name.function_name.\n",
    "\n",
    "ماژول می تواند دارای توابع باشد، همانطور که قبلاً توضیح داده شد، اما همچنین متغیرهایی از همه نوع (آرایه ها، دیکشنری ها، اشیاء و غیره):\n",
    "\n",
    "</section>"
   ]
  },
  {
   "cell_type": "code",
   "execution_count": null,
   "metadata": {},
   "outputs": [],
   "source": [
    "import myModule\n",
    "\n",
    "a = myModule.person1[\"age\"]\n",
    "print(a)"
   ]
  },
  {
   "cell_type": "markdown",
   "metadata": {},
   "source": [
    "<section style=\"direction: rtl; text-align: justify; margin: 30px;\">\n",
    "\n",
    "شما می توانید فایل ماژول را هر چه دوست دارید نامگذاری کنید، اما باید پسوند فایل .py را داشته باشد\n",
    "\n",
    "هنگام وارد کردن یک ماژول، می توانید با استفاده از کلمه کلیدی as، نام مستعار ایجاد کنید:\n",
    "\n",
    "</section>"
   ]
  },
  {
   "cell_type": "code",
   "execution_count": null,
   "metadata": {},
   "outputs": [],
   "source": [
    "import myModule as md\n",
    "\n",
    "a = md.person1[\"age\"]\n",
    "print(a)"
   ]
  },
  {
   "cell_type": "markdown",
   "metadata": {},
   "source": [
    "<section style=\"direction: rtl; text-align: justify; margin: 30px;\">\n",
    "\n",
    "چندین ماژول داخلی در پایتون وجود دارد که هر زمان که بخواهید می توانید آنها را وارد کنید.\n",
    "\n",
    "</section>"
   ]
  },
  {
   "cell_type": "code",
   "execution_count": 24,
   "metadata": {},
   "outputs": [
    {
     "name": "stdout",
     "output_type": "stream",
     "text": [
      "Windows\n"
     ]
    }
   ],
   "source": [
    "import platform\n",
    "\n",
    "x = platform.system()\n",
    "print(x)"
   ]
  },
  {
   "cell_type": "markdown",
   "metadata": {},
   "source": [
    "<section style=\"direction: rtl; text-align: justify; margin: 30px;\">\n",
    "\n",
    "یک تابع داخلی برای فهرست کردن همه نام‌های تابع (یا نام متغیرها) در یک ماژول وجود دارد. تابع dir() :\n",
    "\n",
    "</section>"
   ]
  },
  {
   "cell_type": "code",
   "execution_count": null,
   "metadata": {},
   "outputs": [],
   "source": [
    "import platform\n",
    "\n",
    "x = dir(platform)\n",
    "print(x)"
   ]
  },
  {
   "cell_type": "markdown",
   "metadata": {},
   "source": [
    "<section style=\"direction: rtl; text-align: justify; margin: 30px;\">\n",
    "\n",
    "توجه: تابع dir() را می توان در همه ماژول ها استفاده کرد، همچنین ماژول هایی که خودتان ایجاد می کنید.\n",
    "\n",
    "شما می توانید با استفاده از کلمه کلیدی from، فقط قطعات را از یک ماژول وارد کنید.\n",
    "\n",
    "</section>"
   ]
  },
  {
   "cell_type": "code",
   "execution_count": 32,
   "metadata": {},
   "outputs": [],
   "source": [
    "def greeting(name):\n",
    "    print(\"hello, \", name)\n",
    "\n",
    "\n",
    "person1 = {\n",
    "    \"name\": \"Saleh\",\n",
    "    \"age\": 36,\n",
    "    \"country\": \"Iran\"\n",
    "}"
   ]
  },
  {
   "cell_type": "code",
   "execution_count": null,
   "metadata": {},
   "outputs": [],
   "source": [
    "from myModule import person1\n",
    "\n",
    "print(person1[\"age\"])"
   ]
  },
  {
   "cell_type": "markdown",
   "metadata": {},
   "source": [
    "<section style=\"direction: rtl; text-align: justify; margin: 30px;\">\n",
    "\n",
    "توجه: هنگام وارد کردن با استفاده از کلمه کلیدی from، از نام ماژول هنگام ارجاع به عناصر موجود در ماژول استفاده نکنید. مثال: \n",
    "\n",
    "</section>\n",
    "\n",
    "person1[\"age\"], not mymodule.person1[\"age\"]"
   ]
  }
 ],
 "metadata": {
  "kernelspec": {
   "display_name": "My Environment",
   "language": "python",
   "name": "myenv"
  },
  "language_info": {
   "codemirror_mode": {
    "name": "ipython",
    "version": 3
   },
   "file_extension": ".py",
   "mimetype": "text/x-python",
   "name": "python",
   "nbconvert_exporter": "python",
   "pygments_lexer": "ipython3",
   "version": "3.11.4"
  },
  "orig_nbformat": 4
 },
 "nbformat": 4,
 "nbformat_minor": 2
}
