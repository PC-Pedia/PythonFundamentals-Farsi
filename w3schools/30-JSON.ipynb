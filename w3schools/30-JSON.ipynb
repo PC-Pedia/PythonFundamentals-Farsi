{
 "cells": [
  {
   "cell_type": "markdown",
   "metadata": {},
   "source": [
    "Python JSON\n",
    "\n",
    "<section style=\"direction: rtl; text-align: justify; margin: 30px;\">\n",
    "\n",
    "## **JSON در پایتون**\n",
    "\n",
    "JSON مخفف \"JavaScript Object Notation\" است و یک فرمت متنی است که برای تبادل داده بین سیستم‌ها استفاده می‌شود. این فرمت خواندنی و ساده بوده و به عنوان یک استاندارد در تبادل داده‌های ماشین به ماشین (M2M) وبسرویس‌ها مورد استفاده قرار می‌گیرد.\n",
    "\n",
    "JSON یک روش برای ذخیره و تبادل داده ها است. پایتون یک بسته داخلی به نام json دارد که می‌توان از آن برای کار با داده‌های JSON استفاده کرد.\n",
    "\n",
    "\n",
    "</section>"
   ]
  },
  {
   "cell_type": "code",
   "execution_count": 1,
   "metadata": {},
   "outputs": [
    {
     "name": "stdout",
     "output_type": "stream",
     "text": [
      "<class 'dict'>\n",
      "35\n"
     ]
    }
   ],
   "source": [
    "import json\n",
    "\n",
    "# some JSON:\n",
    "x = '{\"Name\": \"Saleh\", \"Age\": \"Abedinezhad\", \"Age\": 35, \"City\": \"Tehran\"}'\n",
    "\n",
    "# parse x:\n",
    "y = json.loads(x)\n",
    "\n",
    "print(type(y))\n",
    "print(y[\"Age\"])"
   ]
  },
  {
   "cell_type": "markdown",
   "metadata": {},
   "source": [
    "<section style=\"direction: rtl; text-align: justify; margin: 30px;\">\n",
    "\n",
    "اگر یک شی پایتون دارید، می توانید با استفاده از متد json.dumps () آن را به یک رشته JSON تبدیل کنید.\n",
    "\n",
    "</section>"
   ]
  },
  {
   "cell_type": "code",
   "execution_count": 2,
   "metadata": {},
   "outputs": [
    {
     "name": "stdout",
     "output_type": "stream",
     "text": [
      "{\"Name\": \"Saleh\", \"Family\": \"Abedinezhad\", \"Age\": 35, \"City\": \"New Yourk\"}\n"
     ]
    }
   ],
   "source": [
    "import json\n",
    "\n",
    "# a Python object (dict):\n",
    "x = {\n",
    "    \"Name\": \"Saleh\",\n",
    "    \"Family\": \"Abedinezhad\",\n",
    "    \"Age\": 35,\n",
    "    \"City\": \"New Yourk\"\n",
    "}\n",
    "\n",
    "# convert into JSON:\n",
    "y = json.dumps(x)\n",
    "\n",
    "# the result is a JSON string:\n",
    "print(y)"
   ]
  },
  {
   "cell_type": "code",
   "execution_count": 5,
   "metadata": {},
   "outputs": [
    {
     "name": "stdout",
     "output_type": "stream",
     "text": [
      "{\"Name\": \"saleh\", \"Age\": 35}\n",
      "[\"apple\", \"bananas\"]\n",
      "[\"apple\", \"bananas\"]\n",
      "\"hello\"\n",
      "35\n",
      "35.6\n",
      "true\n",
      "false\n",
      "null\n"
     ]
    }
   ],
   "source": [
    "import json\n",
    "\n",
    "print(json.dumps({\"Name\": \"saleh\", \"Age\": 35}))\n",
    "print(json.dumps([\"apple\", \"bananas\"]))\n",
    "print(json.dumps((\"apple\", \"bananas\")))\n",
    "print(json.dumps(\"hello\"))\n",
    "print(json.dumps(35))\n",
    "print(json.dumps(35.6))\n",
    "print(json.dumps(True))\n",
    "print(json.dumps(False))\n",
    "print(json.dumps(None))"
   ]
  },
  {
   "cell_type": "markdown",
   "metadata": {},
   "source": [
    "<section style=\"direction: rtl; text-align: justify; margin: 30px;\">\n",
    "\n",
    "وقتی از پایتون به JSON تبدیل می کنید، اشیاء پایتون به معادل JSON (جاوا اسکریپت) تبدیل می شوند:\n",
    "\n",
    "</section>\n",
    "\n",
    "| Python | JSON |\n",
    "| ------|------|\n",
    "| dict | Object |\n",
    "| list | Array |\n",
    "| tuple | Array |\n",
    "| str | String |\n",
    "| int | Number |\n",
    "| float | Number |\n",
    "| True | true |\n",
    "| False | false |\n",
    "| None | null |"
   ]
  },
  {
   "cell_type": "code",
   "execution_count": null,
   "metadata": {},
   "outputs": [],
   "source": [
    "import json\n",
    "\n",
    "x = {\n",
    "    \"Name\": \"Saleh\",\n",
    "    \"Age\": 35,\n",
    "    \"Married\": True,\n",
    "    \"Discovered\": False,\n",
    "    \"Children\": (\"Ghazal\", \"Pooya\"),\n",
    "    \"Pets\": None,\n",
    "    \"Cars\": [\n",
    "        {\"Model\": \"bmw 230\", \"mpg\": 27.5},\n",
    "        {\"Model\": \"ford Edge\", \"mpg\": 24.1}\n",
    "    ]\n",
    "}\n",
    "\n",
    "print(json.dumps(x))"
   ]
  },
  {
   "cell_type": "markdown",
   "metadata": {},
   "source": [
    "<section style=\"direction: rtl; text-align: justify; margin: 30px;\">\n",
    "\n",
    "مثال بالا یک رشته JSON را چاپ می کند، اما خواندن آن خیلی آسان نیست، بدون تورفتگی و شکستگی خط.\n",
    "\n",
    "متد json.dumps() دارای پارامترهایی است که خواندن نتیجه را آسان تر می کند:\n",
    "\n",
    "</section>"
   ]
  },
  {
   "cell_type": "code",
   "execution_count": null,
   "metadata": {},
   "outputs": [],
   "source": [
    "json.dumps(x, indent=4)"
   ]
  },
  {
   "cell_type": "markdown",
   "metadata": {},
   "source": [
    "<section style=\"direction: rtl; text-align: justify; margin: 30px;\">\n",
    "\n",
    "همچنین می‌توانید جداکننده‌ها را تعریف کنید، مقدار پیش‌فرض (\"، \":\") است، به این معنی که از یک کاما و یک فاصله برای جدا کردن هر شی و یک دونقطه و یک فاصله برای جدا کردن کلیدها از مقادیر استفاده کنید:\n",
    "\n",
    "</section>"
   ]
  },
  {
   "cell_type": "code",
   "execution_count": null,
   "metadata": {},
   "outputs": [],
   "source": [
    "json.dumps(x, indent=4, separators=(\". \", \" = \"))"
   ]
  },
  {
   "cell_type": "markdown",
   "metadata": {},
   "source": [
    "<section style=\"direction: rtl; text-align: justify; margin: 30px;\">\n",
    "\n",
    "همچنین می‌توانید جداکننده‌ها را تعریف کنید، مقدار پیش‌فرض (\"، \":\") است، به این معنی که از یک کاما و یک فاصله برای جدا کردن هر شی و یک دونقطه و یک فاصله برای جدا کردن کلیدها از مقادیر استفاده کنید:\n",
    "\n",
    "</section>"
   ]
  },
  {
   "cell_type": "code",
   "execution_count": null,
   "metadata": {},
   "outputs": [],
   "source": [
    "json.dumps(x, indent=4, sort_keys=True)"
   ]
  }
 ],
 "metadata": {
  "kernelspec": {
   "display_name": "My Environment",
   "language": "python",
   "name": "myenv"
  },
  "language_info": {
   "codemirror_mode": {
    "name": "ipython",
    "version": 3
   },
   "file_extension": ".py",
   "mimetype": "text/x-python",
   "name": "python",
   "nbconvert_exporter": "python",
   "pygments_lexer": "ipython3",
   "version": "3.11.4"
  },
  "orig_nbformat": 4
 },
 "nbformat": 4,
 "nbformat_minor": 2
}
