{
 "cells": [
  {
   "cell_type": "code",
   "execution_count": 1,
   "metadata": {},
   "outputs": [
    {
     "name": "stdout",
     "output_type": "stream",
     "text": [
      "<class 'dict'>\n",
      "35\n"
     ]
    }
   ],
   "source": [
    "import json\n",
    "\n",
    "# some JSON:\n",
    "x = '{\"Name\": \"Saleh\", \"Age\": \"Abedinezhad\", \"Age\": 35, \"City\": \"Tehran\"}'\n",
    "\n",
    "# parse x:\n",
    "y = json.loads(x)\n",
    "\n",
    "print(type(y))\n",
    "print(y[\"Age\"])"
   ]
  },
  {
   "cell_type": "code",
   "execution_count": 2,
   "metadata": {},
   "outputs": [
    {
     "name": "stdout",
     "output_type": "stream",
     "text": [
      "{\"Name\": \"Saleh\", \"Family\": \"Abedinezhad\", \"Age\": 35, \"City\": \"New Yourk\"}\n"
     ]
    }
   ],
   "source": [
    "import json\n",
    "\n",
    "# a Python object (dict):\n",
    "x = {\n",
    "    \"Name\": \"Saleh\",\n",
    "    \"Family\": \"Abedinezhad\",\n",
    "    \"Age\": 35,\n",
    "    \"City\": \"New Yourk\"\n",
    "}\n",
    "\n",
    "# convert into JSON:\n",
    "y = json.dumps(x)\n",
    "\n",
    "# the result is a JSON string:\n",
    "print(y)"
   ]
  },
  {
   "cell_type": "code",
   "execution_count": 5,
   "metadata": {},
   "outputs": [
    {
     "name": "stdout",
     "output_type": "stream",
     "text": [
      "{\"Name\": \"saleh\", \"Age\": 35}\n",
      "[\"apple\", \"bananas\"]\n",
      "[\"apple\", \"bananas\"]\n",
      "\"hello\"\n",
      "35\n",
      "35.6\n",
      "true\n",
      "false\n",
      "null\n"
     ]
    }
   ],
   "source": [
    "import json\n",
    "\n",
    "print(json.dumps({\"Name\": \"saleh\", \"Age\": 35}))\n",
    "print(json.dumps([\"apple\", \"bananas\"]))\n",
    "print(json.dumps((\"apple\", \"bananas\")))\n",
    "print(json.dumps(\"hello\"))\n",
    "print(json.dumps(35))\n",
    "print(json.dumps(35.6))\n",
    "print(json.dumps(True))\n",
    "print(json.dumps(False))\n",
    "print(json.dumps(None))"
   ]
  },
  {
   "cell_type": "code",
   "execution_count": 10,
   "metadata": {},
   "outputs": [
    {
     "name": "stdout",
     "output_type": "stream",
     "text": [
      "{\"Name\": \"Saleh\", \"Age\": 35, \"Married\": true, \"Discovered\": false, \"Children\": [\"Ghazal\", \"Pooya\"], \"Pets\": null, \"Cars\": [{\"Model\": \"bmw 230\", \"mpg\": 27.5}, {\"Model\": \"ford Edge\", \"mpg\": 24.1}]}\n"
     ]
    }
   ],
   "source": [
    "import json\n",
    "\n",
    "x = {\n",
    "    \"Name\": \"Saleh\",\n",
    "    \"Age\": 35,\n",
    "    \"Married\": True,\n",
    "    \"Discovered\": False,\n",
    "    \"Children\": (\"Ghazal\", \"Pooya\"),\n",
    "    \"Pets\": None,\n",
    "    \"Cars\": [\n",
    "        {\"Model\": \"bmw 230\", \"mpg\": 27.5},\n",
    "        {\"Model\": \"ford Edge\", \"mpg\": 24.1}\n",
    "        ]\n",
    "}\n",
    "\n",
    "print(json.dumps(x))"
   ]
  },
  {
   "cell_type": "code",
   "execution_count": 11,
   "metadata": {},
   "outputs": [
    {
     "name": "stdout",
     "output_type": "stream",
     "text": [
      "{\n",
      "    \"Name\": \"Saleh\",\n",
      "    \"Age\": 35,\n",
      "    \"Married\": true,\n",
      "    \"Discovered\": false,\n",
      "    \"Children\": [\n",
      "        \"Ghazal\",\n",
      "        \"Pooya\"\n",
      "    ],\n",
      "    \"Pets\": null,\n",
      "    \"Cars\": [\n",
      "        {\n",
      "            \"Model\": \"bmw 230\",\n",
      "            \"mpg\": 27.5\n",
      "        },\n",
      "        {\n",
      "            \"Model\": \"ford Edge\",\n",
      "            \"mpg\": 24.1\n",
      "        }\n",
      "    ]\n",
      "}\n"
     ]
    }
   ],
   "source": [
    "print(json.dumps(x, indent=4))"
   ]
  },
  {
   "cell_type": "code",
   "execution_count": 12,
   "metadata": {},
   "outputs": [
    {
     "name": "stdout",
     "output_type": "stream",
     "text": [
      "{\n",
      "    \"Name\" = \"Saleh\". \n",
      "    \"Age\" = 35. \n",
      "    \"Married\" = true. \n",
      "    \"Discovered\" = false. \n",
      "    \"Children\" = [\n",
      "        \"Ghazal\". \n",
      "        \"Pooya\"\n",
      "    ]. \n",
      "    \"Pets\" = null. \n",
      "    \"Cars\" = [\n",
      "        {\n",
      "            \"Model\" = \"bmw 230\". \n",
      "            \"mpg\" = 27.5\n",
      "        }. \n",
      "        {\n",
      "            \"Model\" = \"ford Edge\". \n",
      "            \"mpg\" = 24.1\n",
      "        }\n",
      "    ]\n",
      "}\n"
     ]
    }
   ],
   "source": [
    "print(json.dumps(x, indent=4 , separators=(\". \", \" = \")))"
   ]
  },
  {
   "cell_type": "code",
   "execution_count": 13,
   "metadata": {},
   "outputs": [
    {
     "name": "stdout",
     "output_type": "stream",
     "text": [
      "{\n",
      "    \"Age\": 35,\n",
      "    \"Cars\": [\n",
      "        {\n",
      "            \"Model\": \"bmw 230\",\n",
      "            \"mpg\": 27.5\n",
      "        },\n",
      "        {\n",
      "            \"Model\": \"ford Edge\",\n",
      "            \"mpg\": 24.1\n",
      "        }\n",
      "    ],\n",
      "    \"Children\": [\n",
      "        \"Ghazal\",\n",
      "        \"Pooya\"\n",
      "    ],\n",
      "    \"Discovered\": false,\n",
      "    \"Married\": true,\n",
      "    \"Name\": \"Saleh\",\n",
      "    \"Pets\": null\n",
      "}\n"
     ]
    }
   ],
   "source": [
    "print(json.dumps(x, indent=4, sort_keys=True))"
   ]
  }
 ],
 "metadata": {
  "kernelspec": {
   "display_name": "Python 3",
   "language": "python",
   "name": "python3"
  },
  "language_info": {
   "codemirror_mode": {
    "name": "ipython",
    "version": 3
   },
   "file_extension": ".py",
   "mimetype": "text/x-python",
   "name": "python",
   "nbconvert_exporter": "python",
   "pygments_lexer": "ipython3",
   "version": "3.10.12"
  },
  "orig_nbformat": 4
 },
 "nbformat": 4,
 "nbformat_minor": 2
}
