{
 "cells": [
  {
   "cell_type": "markdown",
   "metadata": {},
   "source": [
    "Python Strings\n",
    "\n",
    "<section style=\"direction: rtl; text-align: justify; margin: 30px;\">\n",
    "\n",
    "## **داده‌های رشته‌ای**\n",
    "\n",
    "رشته‌ها در پایتون توسط یک علامت نقل قول یا دو علامت نقل قول احاطه شده‌اند.\n",
    "\n",
    "شما می توانید با تابع print() یک رشته را به صورت واقعی نمایش دهید:\n",
    "\n",
    "</section>\n",
    "\n",
    "> 'hello' is the same as \"hello\"."
   ]
  },
  {
   "cell_type": "code",
   "execution_count": 2,
   "metadata": {},
   "outputs": [
    {
     "name": "stdout",
     "output_type": "stream",
     "text": [
      "Hello\n",
      "Hello\n"
     ]
    }
   ],
   "source": [
    "print(\"Hello\")\n",
    "print('Hello')"
   ]
  },
  {
   "cell_type": "markdown",
   "metadata": {},
   "source": [
    "<section style=\"direction: rtl; text-align: justify; margin: 30px;\">\n",
    "\n",
    "### اختصاص یک رشته به یک متغیر\n",
    "\n",
    "تخصیص یک رشته به یک متغیر با نام متغیر و به دنبال آن علامت مساوی و رشته انجام می شود:\n",
    "\n",
    "</section>"
   ]
  },
  {
   "cell_type": "code",
   "execution_count": 3,
   "metadata": {},
   "outputs": [
    {
     "name": "stdout",
     "output_type": "stream",
     "text": [
      "Hello\n"
     ]
    }
   ],
   "source": [
    "a = \"Hello\"\n",
    "print(a)"
   ]
  },
  {
   "cell_type": "markdown",
   "metadata": {},
   "source": [
    "<section style=\"direction: rtl; text-align: justify; margin: 30px;\">\n",
    "\n",
    "### رشته‌های چند خطی\n",
    "\n",
    "با استفاده از سه نقل قول می توانید یک رشته چند خطی را به یک متغیر اختصاص دهید:\n",
    "\n",
    "</section>"
   ]
  },
  {
   "cell_type": "code",
   "execution_count": 9,
   "metadata": {},
   "outputs": [
    {
     "name": "stdout",
     "output_type": "stream",
     "text": [
      "Hello! I'm saleh abedinezhad,\n",
      "a passionate data analyst with a love\n",
      "for uncovering insights from complex datasets.\n",
      "   \n"
     ]
    }
   ],
   "source": [
    "a = \"\"\"Hello! I'm saleh abedinezhad,\n",
    "a passionate data analyst with a love\n",
    "for uncovering insights from complex datasets.\n",
    "   \"\"\"\n",
    "\n",
    "print(a)"
   ]
  },
  {
   "cell_type": "markdown",
   "metadata": {},
   "source": [
    "<section style=\"direction: rtl; text-align: justify; margin: 30px;\">\n",
    "\n",
    "یا سه نقل قول تکی:\n",
    "\n",
    "</section>"
   ]
  },
  {
   "cell_type": "code",
   "execution_count": 10,
   "metadata": {},
   "outputs": [
    {
     "name": "stdout",
     "output_type": "stream",
     "text": [
      "Hello! I'm saleh abedinezhad,\n",
      "a passionate data analyst with a love\n",
      "for uncovering insights from complex datasets.\n"
     ]
    }
   ],
   "source": [
    "a = '''Hello! I'm saleh abedinezhad,\n",
    "a passionate data analyst with a love\n",
    "for uncovering insights from complex datasets.'''\n",
    "\n",
    "print(a)"
   ]
  },
  {
   "cell_type": "markdown",
   "metadata": {},
   "source": [
    "<section style=\"direction: rtl; text-align: justify; margin: 30px;\">\n",
    "\n",
    "### رشته ها آرایه هستند\n",
    "\n",
    "مانند بسیاری از زبان های برنامه نویسی محبوب دیگر، رشته ها در پایتون آرایه هایی از بایت ها هستند که کاراکترهای یونیکد را نشان می دهند.\n",
    "\n",
    "با این حال، پایتون نوع داده کاراکتری ندارد، یک کاراکتر به سادگی یک رشته با طول 1 است.\n",
    "\n",
    "از براکت های مربع می توان برای دسترسی به عناصر رشته استفاده کرد.\n",
    "\n",
    "\n",
    "</section>"
   ]
  },
  {
   "cell_type": "code",
   "execution_count": 11,
   "metadata": {},
   "outputs": [
    {
     "name": "stdout",
     "output_type": "stream",
     "text": [
      "a\n"
     ]
    }
   ],
   "source": [
    "a = \"Saleh Abedinezhad\"\n",
    "\n",
    "print(a[1])"
   ]
  },
  {
   "cell_type": "markdown",
   "metadata": {},
   "source": [
    "<section style=\"direction: rtl; text-align: justify; margin: 30px;\">\n",
    "\n",
    "### حلقه زدن از طریق یک رشته\n",
    "\n",
    "از آنجایی که رشته ها آرایه هستند، می توانیم از طریق کاراکترهای یک رشته، با یک حلقه for، حلقه بزنیم.\n",
    "\n",
    "</section>"
   ]
  },
  {
   "cell_type": "code",
   "execution_count": 12,
   "metadata": {},
   "outputs": [
    {
     "name": "stdout",
     "output_type": "stream",
     "text": [
      "b\n",
      "a\n",
      "n\n",
      "a\n",
      "n\n",
      "a\n"
     ]
    }
   ],
   "source": [
    "for x in \"banana\":\n",
    "    print(x)"
   ]
  },
  {
   "cell_type": "markdown",
   "metadata": {},
   "source": [
    "<section style=\"direction: rtl; text-align: justify; margin: 30px;\">\n",
    "\n",
    "### طول یک رشته\n",
    "\n",
    "برای بدست آوردن طول یک رشته، از تابع len() استفاده کنید.\n",
    "\n",
    "\n",
    "</section>"
   ]
  },
  {
   "cell_type": "code",
   "execution_count": 13,
   "metadata": {},
   "outputs": [
    {
     "name": "stdout",
     "output_type": "stream",
     "text": [
      "17\n"
     ]
    }
   ],
   "source": [
    "a = \"Saleh Abedinezhad\"\n",
    "print(len(a))"
   ]
  },
  {
   "cell_type": "markdown",
   "metadata": {},
   "source": [
    "<section style=\"direction: rtl; text-align: justify; margin: 30px;\">\n",
    "\n",
    "### بررسی یک رشته\n",
    "\n",
    "برای بررسی اینکه آیا یک عبارت یا کاراکتر خاص در یک رشته وجود دارد، می‌توانیم از کلمه کلیدی in استفاده کنیم.\n",
    "\n",
    "</section>"
   ]
  },
  {
   "cell_type": "code",
   "execution_count": 16,
   "metadata": {},
   "outputs": [
    {
     "name": "stdout",
     "output_type": "stream",
     "text": [
      "True\n"
     ]
    }
   ],
   "source": [
    "txt = '''Hello! I'm saleh abedinezhad,\n",
    "a passionate data analyst with a love\n",
    "for uncovering insights from complex datasets.'''\n",
    "\n",
    "print(\"saleh\" in txt)"
   ]
  },
  {
   "cell_type": "markdown",
   "metadata": {},
   "source": [
    "<section style=\"direction: rtl; text-align: justify; margin: 30px;\">\n",
    "\n",
    "از دستور شرطی if استفاده کنید:\n",
    "\n",
    "</section>"
   ]
  },
  {
   "cell_type": "code",
   "execution_count": 19,
   "metadata": {},
   "outputs": [
    {
     "name": "stdout",
     "output_type": "stream",
     "text": [
      "Yes, 'saleh' is present.\n"
     ]
    }
   ],
   "source": [
    "txt = '''Hello! I'm saleh abedinezhad,\n",
    "a passionate data analyst with a love\n",
    "for uncovering insights from complex datasets.'''\n",
    "\n",
    "if \"saleh\" in txt:\n",
    "    print(\"Yes, 'saleh' is present.\")"
   ]
  },
  {
   "cell_type": "markdown",
   "metadata": {},
   "source": [
    "<section style=\"direction: rtl; text-align: justify; margin: 30px;\">\n",
    "\n",
    "### دستور بررسی نبودن مقدار مورد نظر:\n",
    "\n",
    "برای بررسی اینکه آیا یک عبارت یا کاراکتر خاص در یک رشته وجود ندارد، می توانیم از کلمه کلیدی not in استفاده کنیم.\n",
    "\n",
    "\n",
    "</section>"
   ]
  },
  {
   "cell_type": "code",
   "execution_count": 20,
   "metadata": {},
   "outputs": [
    {
     "name": "stdout",
     "output_type": "stream",
     "text": [
      "True\n"
     ]
    }
   ],
   "source": [
    "txt = '''Hello! I'm saleh abedinezhad,\n",
    "a passionate data analyst with a love\n",
    "for uncovering insights from complex datasets.'''\n",
    "\n",
    "print(\"ali\" not in txt)"
   ]
  },
  {
   "cell_type": "markdown",
   "metadata": {},
   "source": [
    "<section style=\"direction: rtl; text-align: justify; margin: 30px;\">\n",
    "\n",
    "از دستور شرطی if استفاده کنید:\n",
    "\n",
    "</section>"
   ]
  },
  {
   "cell_type": "code",
   "execution_count": 22,
   "metadata": {},
   "outputs": [
    {
     "name": "stdout",
     "output_type": "stream",
     "text": [
      "No, 'ali' is NOT present.\n"
     ]
    }
   ],
   "source": [
    "txt = '''Hello! I'm saleh abedinezhad,\n",
    "a passionate data analyst with a love\n",
    "for uncovering insights from complex datasets.'''\n",
    "\n",
    "if \"ali\" not in txt:\n",
    "    print(\"No, 'ali' is NOT present.\")"
   ]
  },
  {
   "cell_type": "markdown",
   "metadata": {},
   "source": [
    "___\n",
    "Python - Slicing Strings\n",
    "\n",
    "<section style=\"direction: rtl; text-align: justify; margin: 30px;\">\n",
    "\n",
    "## **برش رشته‌ها**\n",
    "\n",
    "با استفاده از نحو slice می توانید طیف وسیعی از کاراکترها را برگردانید.\n",
    "\n",
    "برای برگرداندن بخشی از رشته، شاخص شروع و اندیس پایان را که با یک دو نقطه از هم جدا شده اند، مشخص کنید.\n",
    "\n",
    "</section>"
   ]
  },
  {
   "cell_type": "code",
   "execution_count": 1,
   "metadata": {},
   "outputs": [
    {
     "name": "stdout",
     "output_type": "stream",
     "text": [
      "llo\n"
     ]
    }
   ],
   "source": [
    "b = \"Hello, Saleh\"\n",
    "print(b[2:5])"
   ]
  },
  {
   "cell_type": "markdown",
   "metadata": {},
   "source": [
    "<section style=\"direction: rtl; text-align: justify; margin: 30px;\">\n",
    "\n",
    "### برش از ابتدا\n",
    "\n",
    "با کنار گذاشتن شاخص شروع، محدوده از اولین کاراکتر شروع می شود:\n",
    "\n",
    "</section>"
   ]
  },
  {
   "cell_type": "code",
   "execution_count": 2,
   "metadata": {},
   "outputs": [
    {
     "name": "stdout",
     "output_type": "stream",
     "text": [
      "Hello\n"
     ]
    }
   ],
   "source": [
    "b = \"Hello, Saleh\"\n",
    "print(b[:5])"
   ]
  },
  {
   "cell_type": "markdown",
   "metadata": {},
   "source": [
    "<section style=\"direction: rtl; text-align: justify; margin: 30px;\">\n",
    "\n",
    "### برش تا انتها\n",
    "\n",
    "با کنار گذاشتن شاخص پایانی، محدوده به انتها می‌رود:\n",
    "\n",
    "</section>"
   ]
  },
  {
   "cell_type": "code",
   "execution_count": 3,
   "metadata": {},
   "outputs": [
    {
     "name": "stdout",
     "output_type": "stream",
     "text": [
      "llo, Saleh\n"
     ]
    }
   ],
   "source": [
    "b = \"Hello, Saleh\"\n",
    "print(b[2:])"
   ]
  },
  {
   "cell_type": "markdown",
   "metadata": {},
   "source": [
    "<section style=\"direction: rtl; text-align: justify; margin: 30px;\">\n",
    "\n",
    "### نمایه سازی منفی (شروع از انتها)\n",
    "\n",
    "برای شروع برش از انتهای رشته، از شاخص های منفی استفاده کنید:\n",
    "\n",
    "</section>"
   ]
  },
  {
   "cell_type": "code",
   "execution_count": 4,
   "metadata": {},
   "outputs": [
    {
     "name": "stdout",
     "output_type": "stream",
     "text": [
      "Sal\n"
     ]
    }
   ],
   "source": [
    "b = \"Hello, Saleh\"\n",
    "print(b[-5:-2])"
   ]
  },
  {
   "cell_type": "markdown",
   "metadata": {},
   "source": [
    "___\n",
    "Python - Modify Strings\n",
    "\n",
    "<section style=\"direction: rtl; text-align: justify; margin: 30px;\">\n",
    "\n",
    "## **ویرایش رشته‌ها**\n",
    "\n",
    "پایتون مجموعه ای از متدهای داخلی دارد که می توانید روی رشته ها استفاده کنید.\n",
    "\n",
    "### حروف بزرگ\n",
    "\n",
    "متد upper() رشته را با حروف بزرگ برمی گرداند:\n",
    "\n",
    "</section>"
   ]
  },
  {
   "cell_type": "code",
   "execution_count": 5,
   "metadata": {},
   "outputs": [
    {
     "name": "stdout",
     "output_type": "stream",
     "text": [
      "HELLO, SALEH\n"
     ]
    }
   ],
   "source": [
    "b = \"Hello, Saleh\"\n",
    "print(b.upper())"
   ]
  },
  {
   "cell_type": "markdown",
   "metadata": {},
   "source": [
    "<section style=\"direction: rtl; text-align: justify; margin: 30px;\">\n",
    "\n",
    "### حروف کوچک\n",
    "\n",
    "متد low () رشته را با حروف کوچک برمی گرداند:\n",
    "\n",
    "</section>"
   ]
  },
  {
   "cell_type": "code",
   "execution_count": 6,
   "metadata": {},
   "outputs": [
    {
     "name": "stdout",
     "output_type": "stream",
     "text": [
      "hello, saleh\n"
     ]
    }
   ],
   "source": [
    "b = \"Hello, Saleh\"\n",
    "print(b.lower())"
   ]
  },
  {
   "cell_type": "markdown",
   "metadata": {},
   "source": [
    "<section style=\"direction: rtl; text-align: justify; margin: 30px;\">\n",
    "\n",
    "### حذف فضای خالی\n",
    "\n",
    "فضای خالی فضای قبل و/یا بعد از متن واقعی است، و اغلب شما می خواهید این فاصله را حذف کنید.\n",
    "\n",
    "</section>"
   ]
  },
  {
   "cell_type": "code",
   "execution_count": 7,
   "metadata": {},
   "outputs": [
    {
     "name": "stdout",
     "output_type": "stream",
     "text": [
      "Hello, Saleh\n"
     ]
    }
   ],
   "source": [
    "a = \" Hello, Saleh \"\n",
    "print(a.strip())"
   ]
  },
  {
   "cell_type": "markdown",
   "metadata": {},
   "source": [
    "<section style=\"direction: rtl; text-align: justify; margin: 30px;\">\n",
    "\n",
    "### جایگزینی رشته\n",
    "\n",
    "متد ()replace یک رشته را با رشته دیگری جایگزین می کند:\n",
    "\n",
    "</section>"
   ]
  },
  {
   "cell_type": "code",
   "execution_count": 8,
   "metadata": {},
   "outputs": [
    {
     "name": "stdout",
     "output_type": "stream",
     "text": [
      "Mello, Saleh\n"
     ]
    }
   ],
   "source": [
    "a = \"Hello, Saleh\"\n",
    "print(a.replace(\"H\", \"M\"))"
   ]
  },
  {
   "cell_type": "markdown",
   "metadata": {},
   "source": [
    "<section style=\"direction: rtl; text-align: justify; margin: 30px;\">\n",
    "\n",
    "### جداسازی رشته\n",
    "\n",
    "متد split() لیستی را برمی گرداند که در آن متن بین جداکننده مشخص شده به آیتم های لیست تبدیل می شود.\n",
    "\n",
    "متد split() اگر نمونه هایی از جداکننده را پیدا کند رشته را به زیر رشته ها تقسیم می کند:\n",
    "\n",
    "</section>"
   ]
  },
  {
   "cell_type": "code",
   "execution_count": 9,
   "metadata": {},
   "outputs": [
    {
     "name": "stdout",
     "output_type": "stream",
     "text": [
      "['Hello', ' Saleh']\n"
     ]
    }
   ],
   "source": [
    "a = \"Hello, Saleh\"\n",
    "print(a.split(\",\"))"
   ]
  },
  {
   "cell_type": "markdown",
   "metadata": {},
   "source": [
    "___\n",
    "Python - String Concatenation\n",
    "\n",
    "<section style=\"direction: rtl; text-align: justify; margin: 30px;\">\n",
    "\n",
    "## **الحاق رشته‌ها**\n",
    "\n",
    "برای به هم پیوستن یا ترکیب دو رشته می توانید از عملگر + استفاده کنید.\n",
    "\n",
    "</section>"
   ]
  },
  {
   "cell_type": "code",
   "execution_count": 10,
   "metadata": {},
   "outputs": [
    {
     "name": "stdout",
     "output_type": "stream",
     "text": [
      "HelloSaleh\n"
     ]
    }
   ],
   "source": [
    "a = \"Hello\"\n",
    "b = \"Saleh\"\n",
    "c = a + b\n",
    "\n",
    "print(c)"
   ]
  },
  {
   "cell_type": "markdown",
   "metadata": {},
   "source": [
    "<section style=\"direction: rtl; text-align: justify; margin: 30px;\">\n",
    "\n",
    "برای افزودن فاصله بین آنها، یک \" \" اضافه کنید:\n",
    "\n",
    "</section>"
   ]
  },
  {
   "cell_type": "code",
   "execution_count": 11,
   "metadata": {},
   "outputs": [
    {
     "name": "stdout",
     "output_type": "stream",
     "text": [
      "Hello Saleh\n"
     ]
    }
   ],
   "source": [
    "a = \"Hello\"\n",
    "b = \"Saleh\"\n",
    "c = a + \" \" + b\n",
    "\n",
    "print(c)"
   ]
  },
  {
   "cell_type": "markdown",
   "metadata": {},
   "source": [
    "___\n",
    "Python - Format - Strings\n",
    "\n",
    "<section style=\"direction: rtl; text-align: justify; margin: 30px;\">\n",
    "\n",
    "## **چهارچوب رشته‌ها**\n",
    "\n",
    "همانطور که در فصل متغیرهای پایتون آموختیم، نمی‌توانیم رشته‌ها و اعداد را مانند این ترکیب کنیم:\n",
    "\n",
    "</section>"
   ]
  },
  {
   "cell_type": "code",
   "execution_count": 12,
   "metadata": {},
   "outputs": [
    {
     "ename": "TypeError",
     "evalue": "can only concatenate str (not \"int\") to str",
     "output_type": "error",
     "traceback": [
      "\u001b[1;31m---------------------------------------------------------------------------\u001b[0m",
      "\u001b[1;31mTypeError\u001b[0m                                 Traceback (most recent call last)",
      "\u001b[1;32mc:\\Users\\Saleh\\OneDrive\\My Projects\\PythonFundamentals-Farsi\\w3schools\\09-Strings.ipynb Cell 46\u001b[0m line \u001b[0;36m2\n\u001b[0;32m      <a href='vscode-notebook-cell:/c%3A/Users/Saleh/OneDrive/My%20Projects/PythonFundamentals-Farsi/w3schools/09-Strings.ipynb#X64sZmlsZQ%3D%3D?line=0'>1</a>\u001b[0m age \u001b[39m=\u001b[39m \u001b[39m36\u001b[39m\n\u001b[1;32m----> <a href='vscode-notebook-cell:/c%3A/Users/Saleh/OneDrive/My%20Projects/PythonFundamentals-Farsi/w3schools/09-Strings.ipynb#X64sZmlsZQ%3D%3D?line=1'>2</a>\u001b[0m txt \u001b[39m=\u001b[39m \u001b[39m\"\u001b[39;49m\u001b[39mMy Name is Saleh, I am \u001b[39;49m\u001b[39m\"\u001b[39;49m \u001b[39m+\u001b[39;49m age\n\u001b[0;32m      <a href='vscode-notebook-cell:/c%3A/Users/Saleh/OneDrive/My%20Projects/PythonFundamentals-Farsi/w3schools/09-Strings.ipynb#X64sZmlsZQ%3D%3D?line=2'>3</a>\u001b[0m \u001b[39mprint\u001b[39m(txt)\n",
      "\u001b[1;31mTypeError\u001b[0m: can only concatenate str (not \"int\") to str"
     ]
    }
   ],
   "source": [
    "age = 36\n",
    "txt = \"My Name is Saleh, I am \" + age\n",
    "print(txt)"
   ]
  },
  {
   "cell_type": "markdown",
   "metadata": {},
   "source": [
    "<section style=\"direction: rtl; text-align: justify; margin: 30px;\">\n",
    "\n",
    "اما می توانیم رشته ها و اعداد را با استفاده از متد ()format ترکیب کنیم!\n",
    "\n",
    "متد format() آرگومان‌های ارسال شده را می‌گیرد، آنها را قالب‌بندی می‌کند و آنها را در رشته‌ای قرار می‌دهد که جای‌بان‌های {} در آن قرار دارند:\n",
    "\n",
    "</section>"
   ]
  },
  {
   "cell_type": "code",
   "execution_count": 14,
   "metadata": {},
   "outputs": [
    {
     "name": "stdout",
     "output_type": "stream",
     "text": [
      "My Name is Saleh, and I am 36 years old!\n"
     ]
    }
   ],
   "source": [
    "age = 36\n",
    "txt = \"My Name is Saleh, and I am {} years old!\"\n",
    "print(txt.format(age))"
   ]
  },
  {
   "cell_type": "markdown",
   "metadata": {},
   "source": [
    "<section style=\"direction: rtl; text-align: justify; margin: 30px;\">\n",
    "\n",
    "متد ()format تعداد نامحدودی از آرگومان ها را می گیرد و در مکان های نگهدارنده مربوطه قرار می گیرد:\n",
    "\n",
    "</section>"
   ]
  },
  {
   "cell_type": "code",
   "execution_count": 17,
   "metadata": {},
   "outputs": [
    {
     "name": "stdout",
     "output_type": "stream",
     "text": [
      "I want 3 pieces of item 567 for 49.95 dollars.\n"
     ]
    }
   ],
   "source": [
    "quantity = 3\n",
    "itemno = 567\n",
    "price = 49.95\n",
    "\n",
    "myorder = \"I want {} pieces of item {} for {} dollars.\"\n",
    "print(myorder.format(quantity, itemno, price))"
   ]
  },
  {
   "cell_type": "markdown",
   "metadata": {},
   "source": [
    "<section style=\"direction: rtl; text-align: justify; margin: 30px;\">\n",
    "\n",
    "می‌توانید از اعداد نمایه {0} استفاده کنید تا مطمئن شوید که آرگومان‌ها در جای‌بان‌های صحیح قرار گرفته‌اند:\n",
    "\n",
    "</section>"
   ]
  },
  {
   "cell_type": "code",
   "execution_count": 18,
   "metadata": {},
   "outputs": [
    {
     "name": "stdout",
     "output_type": "stream",
     "text": [
      "I want to pay 49.95 dollers for 3 pieces of item 567\n"
     ]
    }
   ],
   "source": [
    "quantity = 3\n",
    "itemno = 567\n",
    "price = 49.95\n",
    "\n",
    "myorder = \"I want to pay {2} dollers for {0} pieces of item {1}\"\n",
    "print(myorder.format(quantity, itemno, price))"
   ]
  },
  {
   "cell_type": "markdown",
   "metadata": {},
   "source": [
    "___\n",
    "Python - Escape Characters\n",
    "\n",
    "<section style=\"direction: rtl; text-align: justify; margin: 30px;\">\n",
    "\n",
    "### **نادیده گرفتن کاراکترها**\n",
    "\n",
    "برای درج کاراکترهایی که غیرقانونی هستند در یک رشته، از یک کاراکتر فرار استفاده می‌کنیم.\n",
    "\n",
    "یک کاراکتر escape یک علامت بک اسلش \\ به دنبال آن کاراکتری است که می خواهید وارد کنید.\n",
    "\n",
    "نمونه ای از یک کاراکتر غیرقانونی، یک نقل قول دوگانه در داخل یک رشته است که توسط دو نقل قول احاطه شده است:\n",
    "\n",
    "اگر در داخل رشته ای که با کوتیشن های دوتایی احاطه شده است از دو گیومه استفاده کنید، با خطا مواجه خواهید شد:\n",
    "\n",
    "</section>"
   ]
  },
  {
   "cell_type": "code",
   "execution_count": 19,
   "metadata": {},
   "outputs": [
    {
     "ename": "SyntaxError",
     "evalue": "invalid syntax (7934146.py, line 1)",
     "output_type": "error",
     "traceback": [
      "\u001b[1;36m  Cell \u001b[1;32mIn[19], line 1\u001b[1;36m\u001b[0m\n\u001b[1;33m    txt = \"We are the so-called \"Vikings\" from the north.\"\u001b[0m\n\u001b[1;37m                                 ^\u001b[0m\n\u001b[1;31mSyntaxError\u001b[0m\u001b[1;31m:\u001b[0m invalid syntax\n"
     ]
    }
   ],
   "source": [
    "txt = \"We are the so-called \"Vikings\" from the north.\""
   ]
  },
  {
   "cell_type": "markdown",
   "metadata": {},
   "source": [
    "<section style=\"direction: rtl; text-align: justify; margin: 30px;\">\n",
    "\n",
    "برای رفع این مشکل، از کاراکتر escape   \\\"\\   استفاده کنید:\n",
    "\n",
    "</section>"
   ]
  },
  {
   "cell_type": "code",
   "execution_count": 47,
   "metadata": {},
   "outputs": [],
   "source": [
    "txt1 = \"We are the so-called \\\"Vikings\\\" from the north.\"  # Double Quote"
   ]
  },
  {
   "cell_type": "markdown",
   "metadata": {},
   "source": [
    "<section style=\"direction: rtl; text-align: justify; margin: 30px;\">\n",
    "\n",
    "سایر کاراکترهای فرار\n",
    "</section>"
   ]
  },
  {
   "cell_type": "code",
   "execution_count": 52,
   "metadata": {},
   "outputs": [
    {
     "name": "stdout",
     "output_type": "stream",
     "text": [
      "We are the so-called \\Vikings\\ from the north.\n"
     ]
    }
   ],
   "source": [
    "txt2 = \"We are the so-called \\'Vikings\\' from the north.\"  # Single Quote\n",
    "txt3 = \"We are the so-called \\\\Vikings\\\\ from the north.\"  # Backslash\n",
    "txt4 = \"We are\\n the so-called Vikings from the north.\"  # New line\n",
    "txt5 = \"We are\\r the so-called Vikings from the north.\"  # Carriage Return\n",
    "txt6 = \"We are\\t the so-called Vikings from the north.\"  # Tab\n",
    "txt7 = \"We are \\bthe so-called Vikings from the north.\"  # Backspace\n",
    "txt8 = \"We are\\f the so-called Vikings from the north.\"  # Form feed\n",
    "txt9 = \"\\110\\145\\154\\154\\157\"  # Octal value\n",
    "txt10 = \"\\x48\\x65\\x6c\\x6c\\x6f\"  # Hex value\n",
    "\n",
    "print(txt3)"
   ]
  },
  {
   "cell_type": "markdown",
   "metadata": {},
   "source": [
    "<section style=\"direction: rtl; text-align: justify; margin: 30px;\">\n",
    "\n",
    "### متدهای رشته\n",
    "\n",
    "- capitalize() = اولین کاراکتر را به حروف بزرگ تبدیل می کند\n",
    "- casefold() = رشته را به حروف کوچک تبدیل می کند\n",
    "- center() = یک رشته در مرکز را برمی گرداند\n",
    "- count() = تعداد دفعاتی که یک مقدار مشخص شده در یک رشته اتفاق می افتد را برمی گرداند\n",
    "- encode() = یک نسخه کدگذاری شده از رشته را برمی گرداند\n",
    "- endswith() = اگر رشته با مقدار مشخص شده به پایان برسد، مقدار true را برمی گرداند\n",
    "- expandtabs() = اندازه زبانه رشته را تنظیم می کند\n",
    "- find() = رشته را برای یک مقدار مشخص جستجو می کند و موقعیت جایی که پیدا شده را برمی گرداند\n",
    "- format() = مقادیر مشخص شده در یک رشته را قالب بندی می کند\n",
    "- format_map() = مقادیر مشخص شده در یک رشته را قالب بندی می کند\n",
    "- index() = رشته را برای یک مقدار مشخص جستجو می کند و موقعیت جایی که پیدا شده را برمی گرداند\n",
    "- isalnum() = اگر همه کاراکترهای رشته حروف عددی باشند، True را برمی‌گرداند\n",
    "- isalpha() = اگر همه کاراکترهای رشته در الفبا باشند، True را برمی‌گرداند\n",
    "- isascii() = اگر همه کاراکترهای رشته کاراکترهای ascii باشند، True را برمی‌گرداند\n",
    "- isdecimal() = اگر همه کاراکترهای رشته اعشاری باشند، True را برمی‌گرداند\n",
    "- isdigit() = اگر همه کاراکترهای رشته رقم باشند، True را برمی‌گرداند\n",
    "- isidentifier() = اگر رشته یک شناسه باشد، True را برمی‌گرداند\n",
    "- islower() = اگر همه کاراکترهای رشته کوچک باشند، True را برمی‌گرداند\n",
    "- isnumeric() = اگر همه کاراکترهای رشته عددی باشند، True را برمی‌گرداند\n",
    "- isprintable() = اگر همه کاراکترهای رشته قابل چاپ باشند، True را برمی گرداند\n",
    "- isspace() = اگر همه کاراکترهای رشته خالی باشند، True را برمی‌گرداند\n",
    "- istitle() = اگر رشته از قوانین عنوان پیروی کند، True را برمی‌گرداند\n",
    "- isupper() = اگر همه کاراکترهای رشته با حروف بزرگ باشند، True را برمی‌گرداند\n",
    "- join() = عناصر یک تکرار شونده را به انتهای رشته متصل می کند\n",
    "- ljust() = یک نسخه از تراز چپ متن را برمیگرداند\n",
    "- lower() = یک رشته را به حروف کوچک تبدیل می کند\n",
    "- lstrip() = یک نسخه برش سمت چپ رشته را برمی‌گرداند\n",
    "- maketrans() = یک جدول ترجمه را برای جایگذاری در متن برمی‌گرداند\n",
    "- partition() = یک تاپل را برمی‌گرداند که در آن رشته به سه قسمت تقسیم شده است\n",
    "- replace() = رشته‌ای را برمی‌گرداند که در آن یک مقدار مشخص با یک مقدار مشخص جایگزین می‌شود\n",
    "- rfind() = رشته را برای یک مقدار مشخص جستجو می کند و آخرین موقعیت جایی که پیدا شده را برمی گرداند\n",
    "- rindex() = رشته را برای یک مقدار مشخص جستجو می کند و آخرین موقعیت جایی که پیدا شده را برمی گرداند\n",
    "- rjust() = یک نسخه توجیه شده راست رشته را برمی گرداند\n",
    "- rpartition() = یک تاپل را برمی‌گرداند که در آن رشته به سه قسمت تقسیم شده است\n",
    "- rsplit() = رشته را در جداکننده مشخص شده تقسیم می کند و لیستی را برمی گرداند\n",
    "- rstrip() = یک نسخه برش راست رشته را برمی‌گرداند\n",
    "- split() = رشته را در جداکننده مشخص شده تقسیم می کند و لیستی را برمی گرداند\n",
    "- splitlines() = یک رشته را در تعدادی خط میشکند و لیستی را برمیگرداند.\n",
    "- startswith() = اگر رشته با مقدار مشخص شده شروع شود مقدار true را برمی گرداند\n",
    "- strip() = نسخه کوتاه شده رشته را برمی گرداند\n",
    "- swapcase() = حروف کوچک می شود حروف بزرگ و بالعکس\n",
    "- title() = اولین کاراکتر هر کلمه را به حروف بزرگ تبدیل می کند\n",
    "- translate() = یک رشته ترجمه شده را برمی گرداند\n",
    "- upper() = یک رشته را به حروف بزرگ تبدیل می کند\n",
    "- zfill() = رشته را با تعداد مشخصی از 0 مقدار در ابتدا پر می کند\n",
    "\n",
    "</section>"
   ]
  },
  {
   "cell_type": "code",
   "execution_count": 17,
   "metadata": {},
   "outputs": [
    {
     "name": "stdout",
     "output_type": "stream",
     "text": [
      "Hello! I'm saleh abedinezhad, a passionate data analyst with a love for uncovering insights from complex datasets.\n"
     ]
    }
   ],
   "source": [
    "txt = \"Hello! I'm saleh abedinezhad, a passionate data analyst with a love for uncovering insights from complex datasets.\"\n",
    "\n",
    "padded_string = txt.ljust(10)\n",
    "print(padded_string)"
   ]
  },
  {
   "cell_type": "code",
   "execution_count": 21,
   "metadata": {},
   "outputs": [
    {
     "name": "stdout",
     "output_type": "stream",
     "text": [
      "th3s 3s 1 s1mpl2 t2xt\n"
     ]
    }
   ],
   "source": [
    "translation_table = str.maketrans(\"aeiou\", \"12345\")\n",
    "\n",
    "txt = \"this is a sample text\"\n",
    "translate_text = txt.translate(translation_table)\n",
    "\n",
    "print(translate_text)"
   ]
  },
  {
   "cell_type": "markdown",
   "metadata": {},
   "source": [
    "___\n",
    "Python - String Exercises\n",
    "\n",
    "<section style=\"direction: rtl; text-align: justify; margin: 30px;\">\n",
    "\n",
    "### **تمرین**\n",
    "\n",
    "1. از روش len برای چاپ طول رشته استفاده کنید:\n",
    "\n",
    "</section>"
   ]
  },
  {
   "cell_type": "code",
   "execution_count": null,
   "metadata": {},
   "outputs": [],
   "source": [
    "x = \"hello saleh\"\n",
    "print(...)"
   ]
  },
  {
   "cell_type": "markdown",
   "metadata": {},
   "source": [
    "<section style=\"direction: rtl; text-align: justify; margin: 30px;\">\n",
    "\n",
    "2. اولین کاراکتر رشته txt را دریافت کنید:\n",
    "\n",
    "</section>"
   ]
  },
  {
   "cell_type": "code",
   "execution_count": 1,
   "metadata": {},
   "outputs": [],
   "source": [
    "txt = \"hello saleh\"\n",
    "x = ..."
   ]
  },
  {
   "cell_type": "markdown",
   "metadata": {},
   "source": [
    "<section style=\"direction: rtl; text-align: justify; margin: 30px;\">\n",
    "\n",
    "3. کاراکترها را از نمایه 2 تا نمایه 4 دریافت کنید:\n",
    "\n",
    "</section>"
   ]
  },
  {
   "cell_type": "code",
   "execution_count": null,
   "metadata": {},
   "outputs": [],
   "source": [
    "txt = \"hello saleh\"\n",
    "x = ..."
   ]
  },
  {
   "cell_type": "markdown",
   "metadata": {},
   "source": [
    "<section style=\"direction: rtl; text-align: justify; margin: 30px;\">\n",
    "\n",
    "4. رشته را بدون هیچ فضای خالی در ابتدا یا انتهای آن برگردانید:\n",
    "\n",
    "</section>"
   ]
  },
  {
   "cell_type": "code",
   "execution_count": null,
   "metadata": {},
   "outputs": [],
   "source": [
    "txt = \"   hello saleh    \"\n",
    "x = ..."
   ]
  },
  {
   "cell_type": "markdown",
   "metadata": {},
   "source": [
    "<section style=\"direction: rtl; text-align: justify; margin: 30px;\">\n",
    "\n",
    "5. مقدار txt را به حروف بزرگ تبدیل کنید:\n",
    "\n",
    "</section>"
   ]
  },
  {
   "cell_type": "code",
   "execution_count": null,
   "metadata": {},
   "outputs": [],
   "source": [
    "txt = \"Hello Saleh\"\n",
    "txt = ..."
   ]
  },
  {
   "cell_type": "markdown",
   "metadata": {},
   "source": [
    "<section style=\"direction: rtl; text-align: justify; margin: 30px;\">\n",
    "\n",
    "6. مقدار txt را به حروف کوچک تبدیل کنید:\n",
    "\n",
    "</section>"
   ]
  },
  {
   "cell_type": "code",
   "execution_count": null,
   "metadata": {},
   "outputs": [],
   "source": [
    "txt = \"Hello Saleh\"\n",
    "txt = ..."
   ]
  },
  {
   "cell_type": "markdown",
   "metadata": {},
   "source": [
    "<section style=\"direction: rtl; text-align: justify; margin: 30px;\">\n",
    "\n",
    "7. کاراکتر H را با J جایگزین کنید.\n",
    "\n",
    "</section>"
   ]
  },
  {
   "cell_type": "code",
   "execution_count": null,
   "metadata": {},
   "outputs": [],
   "source": [
    "txt = \"Hello Saleh\"\n",
    "txt = ..."
   ]
  },
  {
   "cell_type": "markdown",
   "metadata": {},
   "source": [
    "<section style=\"direction: rtl; text-align: justify; margin: 30px;\">\n",
    "\n",
    "8. برای افزودن مکان نگهدار برای پارامتر سن، نحو صحیح را وارد کنید.\n",
    "\n",
    "</section>"
   ]
  },
  {
   "cell_type": "code",
   "execution_count": null,
   "metadata": {},
   "outputs": [],
   "source": [
    "age = 36\n",
    "txt = \"My name is John, and I am ... \"\n",
    "print(txt.format(age))"
   ]
  }
 ],
 "metadata": {
  "kernelspec": {
   "display_name": "Python 3",
   "language": "python",
   "name": "python3"
  },
  "language_info": {
   "codemirror_mode": {
    "name": "ipython",
    "version": 3
   },
   "file_extension": ".py",
   "mimetype": "text/x-python",
   "name": "python",
   "nbconvert_exporter": "python",
   "pygments_lexer": "ipython3",
   "version": "3.11.6"
  }
 },
 "nbformat": 4,
 "nbformat_minor": 2
}
