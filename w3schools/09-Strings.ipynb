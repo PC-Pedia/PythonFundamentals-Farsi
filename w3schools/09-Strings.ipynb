{
 "cells": [
  {
   "cell_type": "markdown",
   "metadata": {},
   "source": [
    "Python Strings\n",
    "\n",
    "<section style=\"direction: rtl; text-align: justify; margin: 30px;\">\n",
    "\n",
    "## **داده‌های رشته‌ای**\n",
    "\n",
    "رشته‌ها در پایتون توسط یک علامت نقل قول یا دو علامت نقل قول احاطه شده‌اند.\n",
    "\n",
    "شما می توانید با تابع print() یک رشته را به صورت واقعی نمایش دهید:\n",
    "\n",
    "</section>\n",
    "\n",
    "> 'hello' is the same as \"hello\"."
   ]
  },
  {
   "cell_type": "code",
   "execution_count": 2,
   "metadata": {},
   "outputs": [
    {
     "name": "stdout",
     "output_type": "stream",
     "text": [
      "Hello\n",
      "Hello\n"
     ]
    }
   ],
   "source": [
    "print(\"Hello\")\n",
    "print('Hello')"
   ]
  },
  {
   "cell_type": "markdown",
   "metadata": {},
   "source": [
    "<section style=\"direction: rtl; text-align: justify; margin: 30px;\">\n",
    "\n",
    "### اختصاص یک رشته به یک متغیر\n",
    "\n",
    "تخصیص یک رشته به یک متغیر با نام متغیر و به دنبال آن علامت مساوی و رشته انجام می شود:\n",
    "\n",
    "</section>"
   ]
  },
  {
   "cell_type": "code",
   "execution_count": 3,
   "metadata": {},
   "outputs": [
    {
     "name": "stdout",
     "output_type": "stream",
     "text": [
      "Hello\n"
     ]
    }
   ],
   "source": [
    "a = \"Hello\"\n",
    "print(a)"
   ]
  },
  {
   "cell_type": "markdown",
   "metadata": {},
   "source": [
    "<section style=\"direction: rtl; text-align: justify; margin: 30px;\">\n",
    "\n",
    "### رشته‌های چند خطی\n",
    "\n",
    "با استفاده از سه نقل قول می توانید یک رشته چند خطی را به یک متغیر اختصاص دهید:\n",
    "\n",
    "</section>"
   ]
  },
  {
   "cell_type": "code",
   "execution_count": 9,
   "metadata": {},
   "outputs": [
    {
     "name": "stdout",
     "output_type": "stream",
     "text": [
      "Hello! I'm saleh abedinezhad,\n",
      "a passionate data analyst with a love\n",
      "for uncovering insights from complex datasets.\n",
      "   \n"
     ]
    }
   ],
   "source": [
    "a = \"\"\"Hello! I'm saleh abedinezhad,\n",
    "a passionate data analyst with a love\n",
    "for uncovering insights from complex datasets.\n",
    "   \"\"\"\n",
    "\n",
    "print(a)"
   ]
  },
  {
   "cell_type": "markdown",
   "metadata": {},
   "source": [
    "<section style=\"direction: rtl; text-align: justify; margin: 30px;\">\n",
    "\n",
    "یا سه نقل قول تکی:\n",
    "\n",
    "</section>"
   ]
  },
  {
   "cell_type": "code",
   "execution_count": 10,
   "metadata": {},
   "outputs": [
    {
     "name": "stdout",
     "output_type": "stream",
     "text": [
      "Hello! I'm saleh abedinezhad,\n",
      "a passionate data analyst with a love\n",
      "for uncovering insights from complex datasets.\n"
     ]
    }
   ],
   "source": [
    "a = '''Hello! I'm saleh abedinezhad,\n",
    "a passionate data analyst with a love\n",
    "for uncovering insights from complex datasets.'''\n",
    "\n",
    "print(a)"
   ]
  },
  {
   "cell_type": "markdown",
   "metadata": {},
   "source": [
    "<section style=\"direction: rtl; text-align: justify; margin: 30px;\">\n",
    "\n",
    "### رشته ها آرایه هستند\n",
    "\n",
    "مانند بسیاری از زبان های برنامه نویسی محبوب دیگر، رشته ها در پایتون آرایه هایی از بایت ها هستند که کاراکترهای یونیکد را نشان می دهند.\n",
    "\n",
    "با این حال، پایتون نوع داده کاراکتری ندارد، یک کاراکتر به سادگی یک رشته با طول 1 است.\n",
    "\n",
    "از براکت های مربع می توان برای دسترسی به عناصر رشته استفاده کرد.\n",
    "\n",
    "\n",
    "</section>"
   ]
  },
  {
   "cell_type": "code",
   "execution_count": 11,
   "metadata": {},
   "outputs": [
    {
     "name": "stdout",
     "output_type": "stream",
     "text": [
      "a\n"
     ]
    }
   ],
   "source": [
    "a = \"Saleh Abedinezhad\"\n",
    "\n",
    "print(a[1])"
   ]
  },
  {
   "cell_type": "markdown",
   "metadata": {},
   "source": [
    "<section style=\"direction: rtl; text-align: justify; margin: 30px;\">\n",
    "\n",
    "### حلقه زدن از طریق یک رشته\n",
    "\n",
    "از آنجایی که رشته ها آرایه هستند، می توانیم از طریق کاراکترهای یک رشته، با یک حلقه for، حلقه بزنیم.\n",
    "\n",
    "</section>"
   ]
  },
  {
   "cell_type": "code",
   "execution_count": 12,
   "metadata": {},
   "outputs": [
    {
     "name": "stdout",
     "output_type": "stream",
     "text": [
      "b\n",
      "a\n",
      "n\n",
      "a\n",
      "n\n",
      "a\n"
     ]
    }
   ],
   "source": [
    "for x in \"banana\":\n",
    "    print(x)"
   ]
  },
  {
   "cell_type": "markdown",
   "metadata": {},
   "source": [
    "<section style=\"direction: rtl; text-align: justify; margin: 30px;\">\n",
    "\n",
    "### طول یک رشته\n",
    "\n",
    "برای بدست آوردن طول یک رشته، از تابع len() استفاده کنید.\n",
    "\n",
    "\n",
    "</section>"
   ]
  },
  {
   "cell_type": "code",
   "execution_count": 13,
   "metadata": {},
   "outputs": [
    {
     "name": "stdout",
     "output_type": "stream",
     "text": [
      "17\n"
     ]
    }
   ],
   "source": [
    "a = \"Saleh Abedinezhad\"\n",
    "print(len(a))"
   ]
  },
  {
   "cell_type": "markdown",
   "metadata": {},
   "source": [
    "<section style=\"direction: rtl; text-align: justify; margin: 30px;\">\n",
    "\n",
    "### بررسی یک رشته\n",
    "\n",
    "برای بررسی اینکه آیا یک عبارت یا کاراکتر خاص در یک رشته وجود دارد، می‌توانیم از کلمه کلیدی in استفاده کنیم.\n",
    "\n",
    "</section>"
   ]
  },
  {
   "cell_type": "code",
   "execution_count": 16,
   "metadata": {},
   "outputs": [
    {
     "name": "stdout",
     "output_type": "stream",
     "text": [
      "True\n"
     ]
    }
   ],
   "source": [
    "txt = '''Hello! I'm saleh abedinezhad,\n",
    "a passionate data analyst with a love\n",
    "for uncovering insights from complex datasets.'''\n",
    "\n",
    "print(\"saleh\" in txt)"
   ]
  },
  {
   "cell_type": "markdown",
   "metadata": {},
   "source": [
    "<section style=\"direction: rtl; text-align: justify; margin: 30px;\">\n",
    "\n",
    "از دستور شرطی if استفاده کنید:\n",
    "\n",
    "</section>"
   ]
  },
  {
   "cell_type": "code",
   "execution_count": 19,
   "metadata": {},
   "outputs": [
    {
     "name": "stdout",
     "output_type": "stream",
     "text": [
      "Yes, 'saleh' is present.\n"
     ]
    }
   ],
   "source": [
    "txt = '''Hello! I'm saleh abedinezhad,\n",
    "a passionate data analyst with a love\n",
    "for uncovering insights from complex datasets.'''\n",
    "\n",
    "if \"saleh\" in txt:\n",
    "    print(\"Yes, 'saleh' is present.\")"
   ]
  },
  {
   "cell_type": "markdown",
   "metadata": {},
   "source": [
    "<section style=\"direction: rtl; text-align: justify; margin: 30px;\">\n",
    "\n",
    "### دستور بررسی نبودن مقدار مورد نظر:\n",
    "\n",
    "برای بررسی اینکه آیا یک عبارت یا کاراکتر خاص در یک رشته وجود ندارد، می توانیم از کلمه کلیدی not in استفاده کنیم.\n",
    "\n",
    "\n",
    "</section>"
   ]
  },
  {
   "cell_type": "code",
   "execution_count": 20,
   "metadata": {},
   "outputs": [
    {
     "name": "stdout",
     "output_type": "stream",
     "text": [
      "True\n"
     ]
    }
   ],
   "source": [
    "txt = '''Hello! I'm saleh abedinezhad,\n",
    "a passionate data analyst with a love\n",
    "for uncovering insights from complex datasets.'''\n",
    "\n",
    "print(\"ali\" not in txt)"
   ]
  },
  {
   "cell_type": "markdown",
   "metadata": {},
   "source": [
    "<section style=\"direction: rtl; text-align: justify; margin: 30px;\">\n",
    "\n",
    "از دستور شرطی if استفاده کنید:\n",
    "\n",
    "</section>"
   ]
  },
  {
   "cell_type": "code",
   "execution_count": 22,
   "metadata": {},
   "outputs": [
    {
     "name": "stdout",
     "output_type": "stream",
     "text": [
      "No, 'ali' is NOT present.\n"
     ]
    }
   ],
   "source": [
    "txt = '''Hello! I'm saleh abedinezhad,\n",
    "a passionate data analyst with a love\n",
    "for uncovering insights from complex datasets.'''\n",
    "\n",
    "if \"ali\" not in txt:\n",
    "    print(\"No, 'ali' is NOT present.\")"
   ]
  }
 ],
 "metadata": {
  "kernelspec": {
   "display_name": "Python 3",
   "language": "python",
   "name": "python3"
  },
  "language_info": {
   "codemirror_mode": {
    "name": "ipython",
    "version": 3
   },
   "file_extension": ".py",
   "mimetype": "text/x-python",
   "name": "python",
   "nbconvert_exporter": "python",
   "pygments_lexer": "ipython3",
   "version": "3.11.4"
  }
 },
 "nbformat": 4,
 "nbformat_minor": 2
}
