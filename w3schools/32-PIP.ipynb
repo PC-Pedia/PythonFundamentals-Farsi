{
 "cells": [
  {
   "cell_type": "markdown",
   "metadata": {},
   "source": [
    "Python PIP\n",
    "\n",
    "<section style=\"direction: rtl; text-align: justify; margin: 30px;\">\n",
    "\n",
    "## **PIP در پایتون**\n",
    "\n",
    "PIP یک مدیر بسته برای بسته های پایتون یا ماژول ها در صورت تمایل است.\n",
    "\n",
    "توجه: اگر پایتون نسخه 3.4 یا بالاتر را دارید، PIP به طور پیش فرض گنجانده شده است.\n",
    "\n",
    "یک بسته شامل تمام فایل‌هایی است که برای یک ماژول نیاز دارید.\n",
    "\n",
    "ماژول ها کتابخانه های کد پایتون هستند که می توانید در پروژه خود بگنجانید.\n",
    "\n",
    "خط فرمان خود را به محل دایرکتوری اسکریپت پایتون منتقل کنید و موارد زیر را تایپ کنید:\n",
    "\n",
    "</section>\n",
    "\n",
    "<section style=\"margin: 30px\">\n",
    "\n",
    "> C:\\Users\\Your Name\\AppData\\Local\\Programs\\Python\\Python36-32\\Scripts>pip --version\n",
    "\n",
    "</section>\n",
    "\n",
    "<section style=\"direction: rtl; text-align: justify; margin: 30px;\">\n",
    "\n",
    "دانلود یک بسته بسیار آسان است.\n",
    "\n",
    "رابط خط فرمان را باز کنید و به PIP بگویید بسته مورد نظر شما را دانلود کند.\n",
    "\n",
    "خط فرمان خود را به محل دایرکتوری اسکریپت پایتون بروید و عبارت زیر را تایپ کنید:\n",
    "\n",
    "</section>\n",
    "\n",
    "<section style=\"margin: 30px\">\n",
    "\n",
    "> C:\\Users\\Your Name\\AppData\\Local\\Programs\\Python\\Python36-32\\Scripts>pip install camelcase\n",
    "\n",
    "</section>"
   ]
  },
  {
   "cell_type": "code",
   "execution_count": 1,
   "metadata": {},
   "outputs": [
    {
     "name": "stdout",
     "output_type": "stream",
     "text": [
      "Saleh Abedinezhad\n"
     ]
    }
   ],
   "source": [
    "import camelcase\n",
    "\n",
    "c = camelcase.CamelCase()\n",
    "\n",
    "txt = \"saleh abedinezhad\"\n",
    "\n",
    "print(c.hump(txt))"
   ]
  }
 ],
 "metadata": {
  "kernelspec": {
   "display_name": "My Environment",
   "language": "python",
   "name": "myenv"
  },
  "language_info": {
   "codemirror_mode": {
    "name": "ipython",
    "version": 3
   },
   "file_extension": ".py",
   "mimetype": "text/x-python",
   "name": "python",
   "nbconvert_exporter": "python",
   "pygments_lexer": "ipython3",
   "version": "3.11.4"
  },
  "orig_nbformat": 4
 },
 "nbformat": 4,
 "nbformat_minor": 2
}
