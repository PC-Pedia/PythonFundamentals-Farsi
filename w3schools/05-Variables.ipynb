{
 "cells": [
  {
   "cell_type": "markdown",
   "metadata": {},
   "source": [
    "Python Variables\n",
    "\n",
    "<section style=\"direction: rtl; text-align: justify; margin: 30px;\">\n",
    "\n",
    "## **متغیرها در پایتون**\n",
    "\n",
    "متغیرها محفظه‌هایی برای ذخیره مقادیر هستند\n",
    "\n",
    "- پایتون هیچ فرمانی برای اعلان متغیر ندارد.\n",
    "- یک متغیر در لحظه ای ایجاد می شود که برای اولین بار یک مقدار به آن اختصاص می دهید.\n",
    "\n",
    "</section>"
   ]
  },
  {
   "cell_type": "code",
   "execution_count": 3,
   "metadata": {},
   "outputs": [
    {
     "name": "stdout",
     "output_type": "stream",
     "text": [
      "5\n",
      "saleh\n"
     ]
    }
   ],
   "source": [
    "x = 5\n",
    "y = \"saleh\"\n",
    "print(x)\n",
    "print(y)"
   ]
  },
  {
   "cell_type": "markdown",
   "metadata": {},
   "source": [
    "<section style=\"direction: rtl; text-align: justify; margin: 30px;\">\n",
    "\n",
    "متغیرها نیازی به اعلان با نوع خاصی ندارند و حتی بعد از تنظیم می توانند نوع خود را تغییر دهند.\n",
    "\n",
    "</section>"
   ]
  },
  {
   "cell_type": "code",
   "execution_count": 4,
   "metadata": {},
   "outputs": [
    {
     "name": "stdout",
     "output_type": "stream",
     "text": [
      "saleh\n"
     ]
    }
   ],
   "source": [
    "x = 4  # x is of type int\n",
    "x = \"saleh\"  # x is now of type str\n",
    "print(x)"
   ]
  },
  {
   "cell_type": "markdown",
   "metadata": {},
   "source": [
    "<section style=\"direction: rtl; text-align: justify; margin: 30px;\">\n",
    "\n",
    "اگر می خواهید نوع داده یک متغیر را مشخص کنید، این کار را می توان با ریخته گری (تغییر شکل) انجام داد.\n",
    "\n",
    "</section>"
   ]
  },
  {
   "cell_type": "code",
   "execution_count": 6,
   "metadata": {},
   "outputs": [
    {
     "name": "stdout",
     "output_type": "stream",
     "text": [
      "3 3 3.0\n"
     ]
    }
   ],
   "source": [
    "x = str(3)  # x will be '3'\n",
    "y = int(3)  # y will be 3\n",
    "z = float(3)  # z will be 3.0"
   ]
  },
  {
   "cell_type": "markdown",
   "metadata": {},
   "source": [
    "<section style=\"direction: rtl; text-align: justify; margin: 30px;\">\n",
    "\n",
    "### دریافت نوع داده\n",
    "\n",
    "می توانید نوع داده یک متغیر را با تابع type() دریافت کنید.\n",
    "\n",
    "</section>"
   ]
  },
  {
   "cell_type": "code",
   "execution_count": 7,
   "metadata": {},
   "outputs": [
    {
     "name": "stdout",
     "output_type": "stream",
     "text": [
      "<class 'int'>\n",
      "<class 'str'>\n"
     ]
    }
   ],
   "source": [
    "x = 5\n",
    "y = \"saleh\"\n",
    "\n",
    "print(type(x))\n",
    "print(type(y))"
   ]
  },
  {
   "cell_type": "markdown",
   "metadata": {},
   "source": [
    "<section style=\"direction: rtl; text-align: justify; margin: 30px;\">\n",
    "\n",
    "### کوتیشن تکی یا دوتایی\n",
    "\n",
    "متغیرهای رشته ای را می توان با استفاده از نقل قول های تکی یا دوگانه اعلام کرد:\n",
    "\n",
    "</section>"
   ]
  },
  {
   "cell_type": "code",
   "execution_count": 8,
   "metadata": {},
   "outputs": [],
   "source": [
    "x = \"Saleh\"\n",
    "# is the same as\n",
    "x = 'Saleh'"
   ]
  },
  {
   "cell_type": "markdown",
   "metadata": {},
   "source": [
    "<section style=\"direction: rtl; text-align: justify; margin: 30px;\">\n",
    "\n",
    "### حساسیت به حروف بزرگ و کوچک\n",
    "\n",
    "نام متغیرها به حروف بزرگ و کوچک حساس است. به مثال زیر دقت کنید:\n",
    "</section>"
   ]
  },
  {
   "cell_type": "code",
   "execution_count": 9,
   "metadata": {},
   "outputs": [],
   "source": [
    "a = 4\n",
    "A = \"Saleh\"\n",
    "# A will not overwrite a"
   ]
  },
  {
   "cell_type": "markdown",
   "metadata": {},
   "source": [
    "___\n",
    "Python - Variable Names\n",
    "\n",
    "<section style=\"direction: rtl; text-align: justify; margin: 30px;\">\n",
    "\n",
    "## **نام متغیرها**\n",
    "\n",
    "یک متغیر می تواند یک نام کوتاه (مانند x و y) یا یک نام توصیفی تر (سن، نام کار، کل_حجم) داشته باشد. قوانین برای متغیرهای پایتون:\n",
    "\n",
    "- نام متغیر باید با یک حرف یا کاراکتر زیرخط شروع شود\n",
    "- نام متغیر نمی تواند با یک عدد شروع شود\n",
    "- نام متغیر فقط می‌تواند شامل نویسه‌های عددی و زیرخط باشد (A-z، 0-9 و _ )\n",
    "- نام متغیرها به حروف بزرگ و کوچک حساس هستند (سن، سن و AGE سه متغیر متفاوت هستند)\n",
    "- نام متغیر نمی تواند هیچ یک از کلمات کلیدی پایتون باشد.\n",
    "\n",
    "</section>"
   ]
  },
  {
   "cell_type": "code",
   "execution_count": null,
   "metadata": {},
   "outputs": [],
   "source": [
    "myvar = \"Saleh\"\n",
    "my_var = \"Saleh\"\n",
    "_my_var = \"Saleh\"\n",
    "myVar = \"Saleh\"\n",
    "MYVAR = \"Saleh\"\n",
    "myvar2 = \"Saleh\""
   ]
  },
  {
   "cell_type": "markdown",
   "metadata": {},
   "source": [
    "<section style=\"direction: rtl; text-align: justify; margin: 30px;\">\n",
    "\n",
    "نام متغیرهای غیرقانونی:\n",
    "\n",
    "</section>"
   ]
  },
  {
   "cell_type": "code",
   "execution_count": null,
   "metadata": {},
   "outputs": [],
   "source": [
    "2myvar = \"Saleh\"\n",
    "my-var = \"Saleh\"\n",
    "my var = \"Saleh\""
   ]
  },
  {
   "cell_type": "markdown",
   "metadata": {},
   "source": [
    "<section style=\"direction: rtl; text-align: justify; margin: 30px;\">\n",
    "\n",
    "### **نام های متغیر چند کلمه ای**\n",
    "\n",
    "نام های متغیر با بیش از یک کلمه ممکن است به سختی خوانده شوند.\n",
    "\n",
    "چندین تکنیک وجود دارد که می توانید برای خوانایی بیشتر آنها استفاده کنید:\n",
    "\n",
    "### Camel Case:\n",
    "- هر کلمه، به جز کلمه اول، با یک حرف بزرگ شروع می شود:\n",
    "\n",
    "### Pascal Case:\n",
    "- تمام کلمات با حروف بزرگ شروع می‌شود\n",
    "\n",
    "### Snake Case:\n",
    "- هر کلمه با یک کاراکتر زیر خط جدا می شود\n",
    "\n",
    "</section>"
   ]
  },
  {
   "cell_type": "code",
   "execution_count": null,
   "metadata": {},
   "outputs": [],
   "source": [
    "myVariableName = \"John\"  # Camel Case\n",
    "MyVariableName = \"John\"  # Pascal Case\n",
    "my_variable_name = \"John\"  # Snake Case"
   ]
  },
  {
   "cell_type": "code",
   "execution_count": null,
   "metadata": {},
   "outputs": [
    {
     "name": "stdout",
     "output_type": "stream",
     "text": [
      "Orange\n",
      "Banana\n",
      "Cherry\n"
     ]
    }
   ],
   "source": [
    "x, y, z = \"Orange\", \"Banana\", \"Cherry\"\n",
    "print(x)\n",
    "print(y)\n",
    "print(z)"
   ]
  },
  {
   "cell_type": "markdown",
   "metadata": {},
   "source": [
    "<section style=\"direction: rtl; text-align: justify; margin: 30px;\">\n",
    "\n",
    "### **یک مقدار برای چندین متغیر**\n",
    "\n",
    "می توانید یک مقدار را به چندین متغیر در یک خط اختصاص دهید:\n",
    "\n",
    "</section>"
   ]
  },
  {
   "cell_type": "code",
   "execution_count": null,
   "metadata": {},
   "outputs": [
    {
     "name": "stdout",
     "output_type": "stream",
     "text": [
      "Orange\n",
      "Orange\n",
      "Orange\n"
     ]
    }
   ],
   "source": [
    "x = y = z = \"Orange\"\n",
    "print(x)\n",
    "print(y)\n",
    "print(z)"
   ]
  },
  {
   "cell_type": "markdown",
   "metadata": {},
   "source": [
    "___\n",
    "Python - Output Variables\n",
    "\n",
    "<section style=\"direction: rtl; text-align: justify; margin: 30px;\">\n",
    "\n",
    "## **خروجی متغیرها**\n",
    "\n",
    "تابع print() اغلب برای خروجی متغیرها استفاده می شود.\n",
    "\n",
    "</section>"
   ]
  },
  {
   "cell_type": "code",
   "execution_count": 1,
   "metadata": {},
   "outputs": [
    {
     "name": "stdout",
     "output_type": "stream",
     "text": [
      "Saleh Abedinezhad\n"
     ]
    }
   ],
   "source": [
    "x = \"Saleh Abedinezhad\"\n",
    "print(x)"
   ]
  },
  {
   "cell_type": "markdown",
   "metadata": {},
   "source": [
    "<section style=\"direction: rtl; text-align: justify; margin: 30px;\">\n",
    "\n",
    "در تابع print() شما چندین متغیر را که با کاما از هم جدا شده اند، به خروجی می دهید:\n",
    "\n",
    "</section>"
   ]
  },
  {
   "cell_type": "code",
   "execution_count": 3,
   "metadata": {},
   "outputs": [
    {
     "name": "stdout",
     "output_type": "stream",
     "text": [
      "Saleh Abedinezhad From Iran\n"
     ]
    }
   ],
   "source": [
    "x = \"Saleh\"\n",
    "y = \"Abedinezhad\"\n",
    "z = \"From Iran\"\n",
    "print(x, y, z)"
   ]
  },
  {
   "cell_type": "markdown",
   "metadata": {},
   "source": [
    "<section style=\"direction: rtl; text-align: justify; margin: 30px;\">\n",
    "\n",
    "همچنین می توانید از عملگر + برای خروجی چندین متغیر استفاده کنید:\n",
    "\n",
    "</section>"
   ]
  },
  {
   "cell_type": "code",
   "execution_count": 4,
   "metadata": {},
   "outputs": [
    {
     "name": "stdout",
     "output_type": "stream",
     "text": [
      "Saleh Abedinezhad From Iran\n"
     ]
    }
   ],
   "source": [
    "x = \"Saleh \"\n",
    "y = \"Abedinezhad \"\n",
    "z = \"From Iran\"\n",
    "print(x + y + z)"
   ]
  },
  {
   "cell_type": "markdown",
   "metadata": {},
   "source": [
    "<section style=\"direction: rtl; text-align: justify; margin: 30px;\">\n",
    "\n",
    "به کاراکتر Space بعد از \"Python\" و \"is\" توجه کنید، بدون آنها نتیجه \"SalehAbedinezhadFromIran\" خواهد بود.\n",
    "\n",
    "</section>"
   ]
  },
  {
   "cell_type": "markdown",
   "metadata": {},
   "source": [
    "<section style=\"direction: rtl; text-align: justify; margin: 30px;\">\n",
    "\n",
    "برای اعداد، کاراکتر + به عنوان یک عملگر ریاضی عمل می کند:\n",
    "\n",
    "</section>"
   ]
  },
  {
   "cell_type": "code",
   "execution_count": 5,
   "metadata": {},
   "outputs": [
    {
     "name": "stdout",
     "output_type": "stream",
     "text": [
      "15\n"
     ]
    }
   ],
   "source": [
    "x = 5\n",
    "y = 10\n",
    "print(x + y)"
   ]
  },
  {
   "cell_type": "markdown",
   "metadata": {},
   "source": [
    "<section style=\"direction: rtl; text-align: justify; margin: 30px;\">\n",
    "\n",
    "در تابع print() وقتی می خواهید یک رشته و یک عدد را با عملگر + ترکیب کنید، پایتون به شما یک خطا می دهد:\n",
    "\n",
    "</section>"
   ]
  },
  {
   "cell_type": "code",
   "execution_count": 6,
   "metadata": {},
   "outputs": [
    {
     "ename": "TypeError",
     "evalue": "unsupported operand type(s) for +: 'int' and 'str'",
     "output_type": "error",
     "traceback": [
      "\u001b[1;31m---------------------------------------------------------------------------\u001b[0m",
      "\u001b[1;31mTypeError\u001b[0m                                 Traceback (most recent call last)",
      "\u001b[1;32mc:\\Users\\Saleh\\OneDrive\\My Projects\\PythonFundamentals-Farsi\\w3schools\\05-Variables.ipynb Cell 32\u001b[0m line \u001b[0;36m3\n\u001b[0;32m      <a href='vscode-notebook-cell:/c%3A/Users/Saleh/OneDrive/My%20Projects/PythonFundamentals-Farsi/w3schools/05-Variables.ipynb#X46sZmlsZQ%3D%3D?line=0'>1</a>\u001b[0m x \u001b[39m=\u001b[39m \u001b[39m5\u001b[39m\n\u001b[0;32m      <a href='vscode-notebook-cell:/c%3A/Users/Saleh/OneDrive/My%20Projects/PythonFundamentals-Farsi/w3schools/05-Variables.ipynb#X46sZmlsZQ%3D%3D?line=1'>2</a>\u001b[0m y \u001b[39m=\u001b[39m \u001b[39m\"\u001b[39m\u001b[39mSaleh\u001b[39m\u001b[39m\"\u001b[39m\n\u001b[1;32m----> <a href='vscode-notebook-cell:/c%3A/Users/Saleh/OneDrive/My%20Projects/PythonFundamentals-Farsi/w3schools/05-Variables.ipynb#X46sZmlsZQ%3D%3D?line=2'>3</a>\u001b[0m \u001b[39mprint\u001b[39m(x \u001b[39m+\u001b[39;49m y)\n",
      "\u001b[1;31mTypeError\u001b[0m: unsupported operand type(s) for +: 'int' and 'str'"
     ]
    }
   ],
   "source": [
    "x = 5\n",
    "y = \"Saleh\"\n",
    "print(x + y)"
   ]
  },
  {
   "cell_type": "markdown",
   "metadata": {},
   "source": [
    "<section style=\"direction: rtl; text-align: justify; margin: 30px;\">\n",
    "\n",
    "بهترین راه برای خروجی چندین متغیر در تابع print() جدا کردن آنها با کاما است که حتی از انواع داده های مختلف پشتیبانی می کند:\n",
    "\n",
    "</section>"
   ]
  },
  {
   "cell_type": "code",
   "execution_count": 7,
   "metadata": {},
   "outputs": [
    {
     "name": "stdout",
     "output_type": "stream",
     "text": [
      "5 Saleh\n"
     ]
    }
   ],
   "source": [
    "x = 5\n",
    "y = \"Saleh\"\n",
    "print(x, y)"
   ]
  },
  {
   "cell_type": "markdown",
   "metadata": {},
   "source": [
    "___\n",
    "Python - Global Variables\n",
    "\n",
    "<section style=\"direction: rtl; text-align: justify; margin: 30px;\">\n",
    "\n",
    "## **متغیرهای جهانی (عمومی)**\n",
    "\n",
    "متغیرهایی که خارج از یک تابع ایجاد می شوند (مانند همه مثال های بالا) به عنوان متغیرهای سراسری شناخته می شوند.\n",
    "\n",
    "متغیرهای سراسری می توانند برای همه استفاده شوند، چه در داخل توابع و چه در خارج.\n",
    "\n",
    "\n",
    "</section>"
   ]
  },
  {
   "cell_type": "code",
   "execution_count": 9,
   "metadata": {},
   "outputs": [
    {
     "name": "stdout",
     "output_type": "stream",
     "text": [
      "Saleh Abedinezhad From Iran\n"
     ]
    }
   ],
   "source": [
    "# Create a variable outside of a function, and use it inside the function\n",
    "\n",
    "x = \"From Iran\"\n",
    "\n",
    "\n",
    "def myfunc():\n",
    "    print(\"Saleh Abedinezhad \" + x)\n",
    "\n",
    "\n",
    "myfunc()"
   ]
  },
  {
   "cell_type": "markdown",
   "metadata": {},
   "source": [
    "<section style=\"direction: rtl; text-align: justify; margin: 30px;\">\n",
    "\n",
    "اگر متغیری با همین نام در داخل یک تابع ایجاد کنید، این متغیر محلی خواهد بود و فقط در داخل تابع قابل استفاده است. متغیر جهانی با همان نام به همان شکلی که بود، جهانی و با مقدار اصلی باقی می ماند.\n",
    "\n",
    "</section>"
   ]
  }
 ],
 "metadata": {
  "kernelspec": {
   "display_name": "Python 3",
   "language": "python",
   "name": "python3"
  },
  "language_info": {
   "codemirror_mode": {
    "name": "ipython",
    "version": 3
   },
   "file_extension": ".py",
   "mimetype": "text/x-python",
   "name": "python",
   "nbconvert_exporter": "python",
   "pygments_lexer": "ipython3",
   "version": "3.11.4"
  }
 },
 "nbformat": 4,
 "nbformat_minor": 2
}
