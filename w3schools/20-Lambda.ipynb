{
 "cells": [
  {
   "cell_type": "markdown",
   "metadata": {},
   "source": [
    "Python Lambda\n",
    "\n",
    "<section style=\"direction: rtl; text-align: justify; margin: 30px;\">\n",
    "\n",
    "## **توابع لامبدا در پایتون**\n",
    "\n",
    "تابع لامبدا یک تابع ناشناس کوچک است.\n",
    "\n",
    "یک تابع لامبدا می تواند هر تعداد آرگومان را بگیرد، اما فقط می تواند یک عبارت داشته باشد.\n",
    "\n",
    "\n",
    "</section>"
   ]
  },
  {
   "cell_type": "code",
   "execution_count": null,
   "metadata": {},
   "outputs": [],
   "source": [
    "x = lambda a : a + 10\n",
    "print(x(10))"
   ]
  },
  {
   "cell_type": "markdown",
   "metadata": {},
   "source": [
    "<section style=\"direction: rtl; text-align: justify; margin: 30px;\">\n",
    "\n",
    "توابع لامبدا می توانند هر تعداد آرگومان را دریافت کنند:\n",
    "\n",
    "</section>"
   ]
  },
  {
   "cell_type": "code",
   "execution_count": null,
   "metadata": {},
   "outputs": [],
   "source": [
    "x = lambda a, b: a * b\n",
    "print(x(10, 10))"
   ]
  },
  {
   "cell_type": "code",
   "execution_count": null,
   "metadata": {},
   "outputs": [],
   "source": [
    "x = lambda a, b, c : a + b + c\n",
    "\n",
    "print(x(5, 6, 2))"
   ]
  },
  {
   "cell_type": "markdown",
   "metadata": {},
   "source": [
    "<section style=\"direction: rtl; text-align: justify; margin: 30px;\">\n",
    "\n",
    "قدرت لامبدا زمانی بهتر نشان داده می شود که از آنها به عنوان یک تابع ناشناس در یک تابع دیگر استفاده کنید.\n",
    "\n",
    "فرض کنید یک تعریف تابع دارید که یک آرگومان می گیرد و آن آرگومان با یک عدد مجهول ضرب می شود:\n",
    "\n",
    "</section>"
   ]
  },
  {
   "cell_type": "code",
   "execution_count": null,
   "metadata": {},
   "outputs": [],
   "source": [
    "def myfunc(n):\n",
    "    return lambda a : a * n"
   ]
  },
  {
   "cell_type": "markdown",
   "metadata": {},
   "source": [
    "<section style=\"direction: rtl; text-align: justify; margin: 30px;\">\n",
    "\n",
    "از این تعریف تابع برای ایجاد تابعی استفاده کنید که همیشه عددی را که ارسال می‌کنید دو برابر می‌کند:\n",
    "\n",
    "</section>"
   ]
  },
  {
   "cell_type": "code",
   "execution_count": null,
   "metadata": {},
   "outputs": [],
   "source": [
    "def myFunc(n):\n",
    "    return lambda a: a * n\n",
    "\n",
    "myDoubler = myFunc(2)\n",
    "\n",
    "print(myDoubler(11))"
   ]
  },
  {
   "cell_type": "markdown",
   "metadata": {},
   "source": [
    "<section style=\"direction: rtl; text-align: justify; margin: 30px;\">\n",
    "\n",
    "یا از همان تعریف تابع برای ایجاد تابعی استفاده کنید که همیشه عددی را که ارسال می‌کنید سه برابر می‌کند:\n",
    "\n",
    "</section>"
   ]
  },
  {
   "cell_type": "code",
   "execution_count": null,
   "metadata": {},
   "outputs": [],
   "source": [
    "def myFunc(n):\n",
    "    return lambda a : a * n\n",
    "\n",
    "myDoubler = myFunc(2)\n",
    "myTripler = myFunc(3)\n",
    "\n",
    "print(myDoubler(11))\n",
    "print(myTripler(11))"
   ]
  },
  {
   "cell_type": "markdown",
   "metadata": {},
   "source": [
    "<section style=\"direction: rtl; text-align: justify; margin: 30px;\">\n",
    "\n",
    "هنگامی که یک تابع ناشناس برای مدت کوتاهی مورد نیاز است از توابع لامبدا استفاده می‌کنیم.\n",
    "\n",
    "___\n",
    "\n",
    "### **تمرین**\n",
    "\n",
    "1- یک تابع لامبدا ایجاد کنید که یک پارامتر (a) را بگیرد و آن را برگرداند.\n",
    "\n",
    "</section>"
   ]
  },
  {
   "cell_type": "code",
   "execution_count": null,
   "metadata": {},
   "outputs": [],
   "source": [
    "x = ..."
   ]
  }
 ],
 "metadata": {
  "kernelspec": {
   "display_name": "My Environment",
   "language": "python",
   "name": "myenv"
  },
  "language_info": {
   "codemirror_mode": {
    "name": "ipython",
    "version": 3
   },
   "file_extension": ".py",
   "mimetype": "text/x-python",
   "name": "python",
   "nbconvert_exporter": "python",
   "pygments_lexer": "ipython3",
   "version": "3.11.4"
  },
  "orig_nbformat": 4
 },
 "nbformat": 4,
 "nbformat_minor": 2
}
