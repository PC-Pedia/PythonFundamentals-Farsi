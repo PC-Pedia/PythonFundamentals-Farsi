{
 "cells": [
  {
   "cell_type": "markdown",
   "metadata": {},
   "source": [
    "Python RegEx\n",
    "\n",
    "<section style=\"direction: rtl; text-align: justify; margin: 30px;\">\n",
    "\n",
    "## **Regex در پایتون**\n",
    "\n",
    "سلام! عبارت \"regex\" مخفف عبارت‌های منظم (Regular Expressions) است و یک ابزار قوی برای جستجو، تطبیق و تغییر رشته‌ها در پایتون می‌باشد. این ابزار به شما امکان می‌دهد الگوهای مشخصی را در یک رشته پیدا کنید یا تغییرات مورد نظر را در رشته‌ها اعمال کنید.\n",
    "\n",
    "RegEx یا بیان منظم، دنباله ای از کاراکترها است که یک الگوی جستجو را تشکیل می دهد.\n",
    "\n",
    "از RegEx می توان برای بررسی اینکه آیا یک رشته دارای الگوی جستجوی مشخص شده است یا خیر، استفاده کرد.\n",
    "\n",
    "پایتون یک بسته داخلی به نام re دارد که می‌توان از آن برای کار با عبارات منظم استفاده کرد.\n",
    "\n",
    "هنگامی که ماژول re را وارد کردید، می توانید شروع به استفاده از عبارات منظم کنید:\n",
    "\n",
    "</section>"
   ]
  },
  {
   "cell_type": "code",
   "execution_count": 3,
   "metadata": {},
   "outputs": [],
   "source": [
    "import re\n",
    "\n",
    "txt = \"My name is saleh abedinezhad!\"\n",
    "x = re.search(\"^My.*saleh$\", txt)"
   ]
  },
  {
   "cell_type": "markdown",
   "metadata": {},
   "source": [
    "<section style=\"direction: rtl; text-align: justify; margin: 30px;\">\n",
    "\n",
    "ماژول re مجموعه ای از توابع را ارائه می دهد که به ما امکان می دهد یک رشته را برای یک مسابقه جستجو کنیم:\n",
    "\n",
    "</section>\n",
    "\n",
    "<section style = \"margin: 30px\">\n",
    "\n",
    "| Function | Description |\n",
    "| --------| ------------- |\n",
    "| findall | فهرستی حاوی همه موارد منطبق را برمی‌گرداند |\n",
    "|search | در صورت وجود تطابق در هر نقطه ای از رشته، یک شیء Match را برمی گرداند |\n",
    "| split | فهرستی را برمی‌گرداند که در آن رشته در هر قسمت تقسیم شده است |\n",
    "| sub | یک یا چند قسمت را با یک رشته جایگزین می کند |\n",
    "\n",
    "</section>\n",
    "\n",
    "<section style=\"direction: rtl; text-align: justify; margin: 30px;\">\n",
    "\n",
    "### **متاکاراکترها**\n",
    "\n",
    "متاکاراکترها شخصیت هایی با معنای خاص هستند:\n",
    "\n",
    "</section>\n",
    "\n",
    "<section style= \"margin: 30px\">\n",
    "\n",
    "| Character | Desctiption | Example |\n",
    "| --------- | ----------- | ------- |\n",
    "| [ ] | مجموعه‌ای از کاراکترها | \"[a-m]\" |\n",
    "| \\ | سیگنال یک دنباله خاص (همچنین می تواند برای فرار از کاراکترهای خاص استفاده شود) | \"\\d\" |\n",
    "| . | هر کاراکتری (به جز کاراکترهای خط جدید) | \"he..o\" |\n",
    "| ^ | شروع می‌شود با | \"^hello\" |\n",
    "| $ | پایان می‌یابد با | \"planets$\" |\n",
    "| * | صفر یا بیشتر | \"he.*o\" |\n",
    "| + | یک یا چند مورد | \"he.+o\" |\n",
    "| ? | صفر یا یک اتفاق | \"he.?o\" |\n",
    "| { } | دقیقا به تعداد مشخص شده | \"he.{2}o\" |\n",
    "| \\\\| | یا | \"falls\\\\|stays\" |\n",
    "| ( ) | گروه | -- |\n",
    "\n",
    "</section>\n",
    "\n",
    "<section style=\"direction: rtl; text-align: justify; margin: 30px;\">\n",
    "\n",
    "یک دنباله خاص یک \\ به دنبال یکی از کاراکترهای لیست زیر است و معنای خاصی دارد:\n",
    "\n",
    "</section>\n",
    "\n",
    "<section style = \"margin : 30px\">\n",
    "\n",
    "| Character | Desctiption | Example |\n",
    "| --------- | ----------- | ------- |\n",
    "| \\A | اگر کاراکترهای مشخص شده در ابتدای رشته باشند، یک تطابق را برمی‌گرداند | \"\\AThe\" |\n",
    "| \\b | تطابقی را برمی‌گرداند که در آن نویسه‌های مشخص شده در ابتدا یا انتهای یک کلمه هستند (\"r\" در ابتدا اطمینان حاصل می کند که رشته به عنوان یک \"رشته خام\" در نظر گرفته می شود) | r\"\\bain\"  r\"ain\\b\" |\n",
    "| \\B | تطابقی را برمی‌گرداند که در آن نویسه‌های مشخص شده وجود دارند، اما نه در ابتدا (یا در انتهای) یک کلمه (\"r\" در ابتدا اطمینان حاصل می کند که رشته به عنوان یک \"رشته خام\" در نظر گرفته می شود) | r\"\\Bain\" r\"ain\\B\" |\n",
    "| \\d | تطابقی را برمی‌گرداند که در آن رشته دارای ارقام باشد (اعداد 0-9) | \"\\d\" |\n",
    "| \\D | تطابقی را برمی‌گرداند که در آن رشته شامل اعداد نباشد | \"\\D\" |\n",
    "| \\s | تطابقی را برمی‌گرداند که در آن رشته دارای یک کاراکتر فاصله سفید است | \"\\s\" |\n",
    "| \\S | تطابقی را برمی‌گرداند که در آن رشته دارای کاراکتر فاصله سفید نباشد | \"\\S\" |\n",
    "| \\w | تطابقی را برمی‌گرداند که در آن رشته شامل هر کاراکتر کلمه‌ای باشد (نویسه‌های a تا Z، ارقام 0-9 و نویسه زیرخط _) | \"\\w\" |\n",
    "| \\W | تطابقی را برمی‌گرداند که در آن رشته حاوی هیچ کاراکتر کلمه‌ای نباشد | \"\\W\" |\n",
    "| \\Z | اگر کاراکترهای مشخص شده در انتهای رشته قرار داشته باشند، یک تطابق را برمی‌گرداند | \"Spain\\Z\" |\n",
    "\n",
    "</section>\n",
    "\n",
    "<section style=\"direction: rtl; text-align: justify; margin: 30px;\">\n",
    "\n",
    "Set مجموعه ای از کاراکترها در داخل یک جفت کروشه [ ] با معنای خاص است:\n",
    "\n",
    "\n",
    "| Set | توضیحات | \n",
    "| --------- | ----------- |\n",
    "| [arn] | تطبیقی ​​را برمی‌گرداند که در آن یکی از نویسه‌های مشخص شده (a، r یا n) وجود دارد |\n",
    "| [a-n] | برای هر نویسه کوچک، به ترتیب حروف الفبا بین a و n مطابقت را برمی‌گرداند |\n",
    "| [^arn] | یک مطابقت برای هر کاراکتری به جز a، r و n برمی‌گرداند |\n",
    "| [0123] | تطابقی را برمی‌گرداند که در آن هر یک از ارقام مشخص شده (0، 1، 2 یا 3) وجود داشته باشد.|\n",
    "| [0-9] | برای هر رقمی بین 0 و 9 مطابقت را برمی‌گرداند |\n",
    "| [0-5][0-9] | برای هر عدد دو رقمی از 00 و 59 مطابقت را برمی‌گرداند |\n",
    "| [a-zA-Z] | برای هر کاراکتری مطابق با حروف الفبا بین a و z، کوچک یا بزرگ |\n",
    "| [+] | در مجموعه‌ها، +، *، .، \\\\|، ()، $،{} معنای خاصی ندارد، بنابراین [+] به معنای: برگرداندن یک مطابقت برای هر کاراکتر + در رشته |\n",
    "\n",
    "تابع ()finall لیستی را برمی‌گرداند که شامل همه موارد منطبق است.\n",
    "\n",
    "</section>"
   ]
  },
  {
   "cell_type": "code",
   "execution_count": 2,
   "metadata": {},
   "outputs": [
    {
     "name": "stdout",
     "output_type": "stream",
     "text": [
      "['ir']\n"
     ]
    }
   ],
   "source": [
    "import re\n",
    "\n",
    "txt = \"Im saleh abedinezhad from iran\"\n",
    "\n",
    "x = re.findall(\"ir\", txt)\n",
    "\n",
    "print(x)"
   ]
  },
  {
   "cell_type": "markdown",
   "metadata": {},
   "source": [
    "<section style=\"direction: rtl; text-align: justify; margin: 30px;\">\n",
    "\n",
    "فهرست شامل موارد منطبق به ترتیب یافتن آنهاست.\n",
    "\n",
    "اگر هیچ منطبقی پیدا نشد، یک لیست خالی برگردانده می شود:\n",
    "\n",
    "</section>"
   ]
  },
  {
   "cell_type": "code",
   "execution_count": 4,
   "metadata": {},
   "outputs": [
    {
     "name": "stdout",
     "output_type": "stream",
     "text": [
      "[]\n"
     ]
    }
   ],
   "source": [
    "import re\n",
    "\n",
    "txt = \"Im saleh abedinezhad from iran\"\n",
    "\n",
    "x = re.findall(\"canada\", txt)\n",
    "\n",
    "print(x)"
   ]
  },
  {
   "cell_type": "markdown",
   "metadata": {},
   "source": [
    "<section style=\"direction: rtl; text-align: justify; margin: 30px;\">\n",
    "\n",
    "تابع search() رشته را برای یک تطابق جستجو می‌کند و در صورت وجود تطابق، شیء Match را برمی‌گرداند.\n",
    "\n",
    "اگر بیش از یک مسابقه وجود داشته باشد، فقط اولین مورد بازی برگشت داده می شود:\n",
    "\n",
    "</section>"
   ]
  },
  {
   "cell_type": "code",
   "execution_count": 2,
   "metadata": {},
   "outputs": [
    {
     "name": "stdout",
     "output_type": "stream",
     "text": [
      "The first white-space character is located in position: 3\n"
     ]
    }
   ],
   "source": [
    "import re\n",
    "\n",
    "txt = \"The rain in Spain\"\n",
    "\n",
    "x = re.search(\"\\s\", txt)\n",
    "\n",
    "\n",
    "print(\"The first white-space character is located in position:\",\n",
    "      x.start())"
   ]
  },
  {
   "cell_type": "markdown",
   "metadata": {},
   "source": [
    "<section style=\"direction: rtl; text-align: justify; margin: 30px;\">\n",
    "\n",
    "اگر هیچ منطبقی یافت نشد، مقدار None برگردانده می شود:\n",
    "\n",
    "</section>"
   ]
  },
  {
   "cell_type": "code",
   "execution_count": 3,
   "metadata": {},
   "outputs": [
    {
     "name": "stdout",
     "output_type": "stream",
     "text": [
      "None\n"
     ]
    }
   ],
   "source": [
    "import re\n",
    "\n",
    "txt = \"The rain in stpain\"\n",
    "x = re.search(\"Portugal\", txt)\n",
    "print(x)"
   ]
  },
  {
   "cell_type": "markdown",
   "metadata": {},
   "source": [
    "<section style=\"direction: rtl; text-align: justify; margin: 30px;\">\n",
    "\n",
    "تابع split() لیستی را برمی گرداند که در آن رشته در هر مسابقه تقسیم شده است:\n",
    "\n",
    "</section>"
   ]
  },
  {
   "cell_type": "code",
   "execution_count": 4,
   "metadata": {},
   "outputs": [
    {
     "name": "stdout",
     "output_type": "stream",
     "text": [
      "['My', 'name', 'is', 'saleh', 'abedienzhad']\n"
     ]
    }
   ],
   "source": [
    "import re\n",
    "\n",
    "txt = \"My name is saleh abedienzhad\"\n",
    "x = re.split(\"\\s\", txt)\n",
    "\n",
    "print(x)\n",
    "\n",
    "# print(\"What's my name? \", x[3])"
   ]
  },
  {
   "cell_type": "markdown",
   "metadata": {},
   "source": [
    "<section style=\"direction: rtl; text-align: justify; margin: 30px;\">\n",
    "\n",
    "با تعیین پارامتر maxsplit می توانید تعداد رخدادها را کنترل کنید:\n",
    "\n",
    "</section>"
   ]
  },
  {
   "cell_type": "code",
   "execution_count": 5,
   "metadata": {},
   "outputs": [
    {
     "name": "stdout",
     "output_type": "stream",
     "text": [
      "My|name is saleh abedinezhad\n"
     ]
    }
   ],
   "source": [
    "import re\n",
    "\n",
    "txt = \"My name is saleh abedinezhad\"\n",
    "x = re.sub(\"\\s\", \"|\", txt, 1)\n",
    "print(x)"
   ]
  },
  {
   "cell_type": "markdown",
   "metadata": {},
   "source": [
    "<section style=\"direction: rtl; text-align: justify; margin: 30px;\">\n",
    "\n",
    "تابع sub() مطابق با متن انتخابی شما جایگزین می شود:\n",
    "\n",
    "</section>"
   ]
  },
  {
   "cell_type": "code",
   "execution_count": 6,
   "metadata": {},
   "outputs": [
    {
     "name": "stdout",
     "output_type": "stream",
     "text": [
      "The9rain9in9Spain\n"
     ]
    }
   ],
   "source": [
    "import re\n",
    "\n",
    "txt = \"The rain in Spain\"\n",
    "x = re.sub(\"\\s\", \"9\", txt)\n",
    "print(x)"
   ]
  },
  {
   "cell_type": "markdown",
   "metadata": {},
   "source": [
    "<section style=\"direction: rtl; text-align: justify; margin: 30px;\">\n",
    "\n",
    "با تعیین پارامتر شمارش (count) می توانید تعداد تعویض ها را کنترل کنید:\n",
    "\n",
    "</section>"
   ]
  },
  {
   "cell_type": "code",
   "execution_count": 7,
   "metadata": {},
   "outputs": [
    {
     "name": "stdout",
     "output_type": "stream",
     "text": [
      "The9rain9in Spain\n"
     ]
    }
   ],
   "source": [
    "import re\n",
    "\n",
    "txt = \"The rain in Spain\"\n",
    "x = re.sub(\"\\s\", \"9\", txt, 2)\n",
    "print(x)"
   ]
  },
  {
   "cell_type": "markdown",
   "metadata": {},
   "source": [
    "<section style=\"direction: rtl; text-align: justify; margin: 30px;\">\n",
    "\n",
    "Match Object یک شی است که حاوی اطلاعاتی در مورد جستجو و نتیجه است.\n",
    "\n",
    "توجه: اگر مطابقت وجود نداشته باشد، به جای Match Object، مقدار None برگردانده می شود.\n",
    "\n",
    "</section>"
   ]
  },
  {
   "cell_type": "code",
   "execution_count": 1,
   "metadata": {},
   "outputs": [
    {
     "name": "stdout",
     "output_type": "stream",
     "text": [
      "<re.Match object; span=(5, 7), match='ai'>\n"
     ]
    }
   ],
   "source": [
    "import re\n",
    "\n",
    "txt = \"The rain in Spain\"\n",
    "x = re.search(\"ai\", txt)\n",
    "print(x)  # this will print an object"
   ]
  },
  {
   "cell_type": "markdown",
   "metadata": {},
   "source": [
    "<section style=\"direction: rtl; text-align: justify; margin: 30px;\">\n",
    "\n",
    "شی Match دارای ویژگی ها و روش هایی است که برای بازیابی اطلاعات مربوط به جستجو و نتیجه استفاده می شود:\n",
    "\n",
    ".span() یک تاپل حاوی موقعیت های شروع و پایان مسابقه را برمی گرداند.\n",
    "\n",
    ".string رشته ارسال شده به تابع را برمی گرداند\n",
    "\n",
    ".group() بخشی از رشته را که در آن تطابق وجود داشت برمی گرداند\n",
    "\n",
    "</section>"
   ]
  },
  {
   "cell_type": "code",
   "execution_count": 7,
   "metadata": {},
   "outputs": [
    {
     "name": "stdout",
     "output_type": "stream",
     "text": [
      "(12, 17)\n"
     ]
    }
   ],
   "source": [
    "import re\n",
    "\n",
    "txt = \"The rain in Spain\"\n",
    "x = re.search(r\"\\bS\\w+\", txt)\n",
    "print(x.span())"
   ]
  },
  {
   "cell_type": "code",
   "execution_count": 8,
   "metadata": {},
   "outputs": [
    {
     "name": "stdout",
     "output_type": "stream",
     "text": [
      "The rain in Spain\n"
     ]
    }
   ],
   "source": [
    "import re\n",
    "\n",
    "txt = \"The rain in Spain\"\n",
    "x = re.search(r\"\\bS\\w+\", txt)\n",
    "print(x.string)"
   ]
  },
  {
   "cell_type": "code",
   "execution_count": 9,
   "metadata": {},
   "outputs": [
    {
     "name": "stdout",
     "output_type": "stream",
     "text": [
      "Spain\n"
     ]
    }
   ],
   "source": [
    "import re\n",
    "\n",
    "txt = \"The rain in Spain\"\n",
    "x = re.search(r\"\\bS\\w+\", txt)\n",
    "print(x.group())"
   ]
  },
  {
   "cell_type": "markdown",
   "metadata": {},
   "source": [
    "<section style=\"direction: rtl; text-align: justify; margin: 30px;\">\n",
    "\n",
    "توجه: اگر مطابقت وجود نداشته باشد، به جای Match Object، مقدار None برگردانده می شود.\n",
    "\n",
    "</section>"
   ]
  },
  {
   "cell_type": "markdown",
   "metadata": {},
   "source": [
    "<section style= \"text-align: center\">\n",
    "<a href=\"https://www.w3schools.com/python/python_regex.asp\" > لینک این صفحه در سایت 💁🏽 </a>\n",
    "</section>"
   ]
  }
 ],
 "metadata": {
  "kernelspec": {
   "display_name": "My Environment",
   "language": "python",
   "name": "myenv"
  },
  "language_info": {
   "codemirror_mode": {
    "name": "ipython",
    "version": 3
   },
   "file_extension": ".py",
   "mimetype": "text/x-python",
   "name": "python",
   "nbconvert_exporter": "python",
   "pygments_lexer": "ipython3",
   "version": "3.11.4"
  },
  "orig_nbformat": 4
 },
 "nbformat": 4,
 "nbformat_minor": 2
}
