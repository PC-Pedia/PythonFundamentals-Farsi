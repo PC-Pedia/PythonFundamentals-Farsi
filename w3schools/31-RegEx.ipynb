{
 "cells": [
  {
   "cell_type": "markdown",
   "metadata": {},
   "source": [
    "Python RegEx\n",
    "\n",
    "<section style=\"direction: rtl; text-align: justify; margin: 30px;\">\n",
    "\n",
    "## **Regex در پایتون**\n",
    "\n",
    "سلام! عبارت \"regex\" مخفف عبارت‌های منظم (Regular Expressions) است و یک ابزار قوی برای جستجو، تطبیق و تغییر رشته‌ها در پایتون می‌باشد. این ابزار به شما امکان می‌دهد الگوهای مشخصی را در یک رشته پیدا کنید یا تغییرات مورد نظر را در رشته‌ها اعمال کنید.\n",
    "\n",
    "RegEx یا بیان منظم، دنباله ای از کاراکترها است که یک الگوی جستجو را تشکیل می دهد.\n",
    "\n",
    "از RegEx می توان برای بررسی اینکه آیا یک رشته دارای الگوی جستجوی مشخص شده است یا خیر، استفاده کرد.\n",
    "\n",
    "پایتون یک بسته داخلی به نام re دارد که می‌توان از آن برای کار با عبارات منظم استفاده کرد.\n",
    "\n",
    "هنگامی که ماژول re را وارد کردید، می توانید شروع به استفاده از عبارات منظم کنید:\n",
    "\n",
    "</section>"
   ]
  },
  {
   "cell_type": "code",
   "execution_count": 3,
   "metadata": {},
   "outputs": [],
   "source": [
    "import re\n",
    "\n",
    "txt = \"My name is saleh abedinezhad!\"\n",
    "x = re.search(\"^My.*saleh$\", txt)"
   ]
  },
  {
   "cell_type": "markdown",
   "metadata": {},
   "source": [
    "<section style=\"direction: rtl; text-align: justify; margin: 30px;\">\n",
    "\n",
    "ماژول re مجموعه ای از توابع را ارائه می دهد که به ما امکان می دهد یک رشته را برای یک مسابقه جستجو کنیم:\n",
    "\n",
    "</section>\n",
    "\n",
    "<section style = \"margin: 30px\">\n",
    "\n",
    "| Function | Description |\n",
    "| --------| ------------- |\n",
    "| findall | فهرستی حاوی همه موارد منطبق را برمی‌گرداند |\n",
    "|search | در صورت وجود تطابق در هر نقطه ای از رشته، یک شیء Match را برمی گرداند |\n",
    "| split | فهرستی را برمی‌گرداند که در آن رشته در هر قسمت تقسیم شده است |\n",
    "| sub | یک یا چند قسمت را با یک رشته جایگزین می کند |\n",
    "\n",
    "</section>\n",
    "\n",
    "<section style=\"direction: rtl; text-align: justify; margin: 30px;\">\n",
    "\n",
    "### **متاکاراکترها**\n",
    "\n",
    "متاکاراکترها شخصیت هایی با معنای خاص هستند:\n",
    "\n",
    "</section>\n",
    "\n",
    "<section style= \"margin: 30px\">\n",
    "\n",
    "| Character | Desctiption | Example |\n",
    "| --------- | ----------- | ------- |\n",
    "| [ ] | مجموعه‌ای از کاراکترها | \"[a-m]\" |\n",
    "| \\ | سیگنال یک دنباله خاص (همچنین می تواند برای فرار از کاراکترهای خاص استفاده شود) | \"\\d\" |\n",
    "| . | هر کاراکتری (به جز کاراکترهای خط جدید) | \"he..o\" |\n",
    "| ^ | شروع می‌شود با | \"^hello\" |\n",
    "| $ | پایان می‌یابد با | \"planets$\" |\n",
    "| * | صفر یا بیشتر | \"he.*o\" |\n",
    "| + | یک یا چند مورد | \"he.+o\" |\n",
    "| ? | صفر یا یک اتفاق | \"he.?o\" |\n",
    "| { } | دقیقا به تعداد مشخص شده | \"he.{2}o\" |\n",
    "| \\\\| | یا | \"falls\\\\|stays\" |\n",
    "| ( ) | گروه | -- |\n",
    "\n",
    "</section>\n",
    "\n",
    "<section style=\"direction: rtl; text-align: justify; margin: 30px;\">\n",
    "\n",
    "یک دنباله خاص یک \\ به دنبال یکی از کاراکترهای لیست زیر است و معنای خاصی دارد:\n",
    "\n",
    "</section>\n",
    "\n",
    "<section style = \"margin : 30px\">\n",
    "\n",
    "| Character | Desctiption | Example |\n",
    "| --------- | ----------- | ------- |\n",
    "| \\A | اگر کاراکترهای مشخص شده در ابتدای رشته باشند، یک تطابق را برمی‌گرداند | \"\\AThe\" |\n",
    "\n",
    "</section>"
   ]
  },
  {
   "cell_type": "code",
   "execution_count": 6,
   "metadata": {},
   "outputs": [
    {
     "name": "stdout",
     "output_type": "stream",
     "text": [
      "['ai', 'ai']\n"
     ]
    }
   ],
   "source": [
    "txt = \"The rain in Spain\"\n",
    "x = re.findall(\"ai\", txt)\n",
    "print(x)"
   ]
  },
  {
   "cell_type": "code",
   "execution_count": 7,
   "metadata": {},
   "outputs": [
    {
     "name": "stdout",
     "output_type": "stream",
     "text": [
      "[]\n"
     ]
    }
   ],
   "source": [
    "txt = \"The rain in Spain\"\n",
    "x = re.findall(\"Portugal\", txt)\n",
    "print(x)"
   ]
  },
  {
   "cell_type": "code",
   "execution_count": 8,
   "metadata": {},
   "outputs": [
    {
     "name": "stdout",
     "output_type": "stream",
     "text": [
      "The first white-space character is located in position: 3\n"
     ]
    }
   ],
   "source": [
    "txt = \"The rain in Spain\"\n",
    "x = re.search(\"\\s\", txt)\n",
    "\n",
    "print(\"The first white-space character is located in position:\", x.start())"
   ]
  },
  {
   "cell_type": "code",
   "execution_count": 7,
   "metadata": {},
   "outputs": [
    {
     "name": "stdout",
     "output_type": "stream",
     "text": [
      "['My', 'name', 'is', 'saleh', 'abedienzhad']\n",
      "What's my name?  saleh\n"
     ]
    }
   ],
   "source": [
    "import re\n",
    "\n",
    "txt = \"My name is saleh abedienzhad\"\n",
    "x = re.split(\"\\s\", txt)\n",
    "\n",
    "print(x)\n",
    "print(\"What's my name? \", x[3])"
   ]
  },
  {
   "cell_type": "code",
   "execution_count": 11,
   "metadata": {},
   "outputs": [
    {
     "name": "stdout",
     "output_type": "stream",
     "text": [
      "My|name|is|saleh abedinezhad\n"
     ]
    }
   ],
   "source": [
    "import re\n",
    "\n",
    "txt = \"My name is saleh abedinezhad\"\n",
    "x = re.sub(\"\\s\", \"|\", txt, 3)\n",
    "print(x)"
   ]
  }
 ],
 "metadata": {
  "kernelspec": {
   "display_name": "My Environment",
   "language": "python",
   "name": "myenv"
  },
  "language_info": {
   "codemirror_mode": {
    "name": "ipython",
    "version": 3
   },
   "file_extension": ".py",
   "mimetype": "text/x-python",
   "name": "python",
   "nbconvert_exporter": "python",
   "pygments_lexer": "ipython3",
   "version": "3.11.4"
  },
  "orig_nbformat": 4
 },
 "nbformat": 4,
 "nbformat_minor": 2
}
