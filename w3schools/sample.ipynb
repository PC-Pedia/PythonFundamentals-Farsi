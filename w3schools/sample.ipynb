{
 "cells": [
  {
   "cell_type": "code",
   "execution_count": 5,
   "metadata": {},
   "outputs": [
    {
     "ename": "ImportError",
     "evalue": "libodbc.so.2: cannot open shared object file: No such file or directory",
     "output_type": "error",
     "traceback": [
      "\u001b[0;31m---------------------------------------------------------------------------\u001b[0m",
      "\u001b[0;31mImportError\u001b[0m                               Traceback (most recent call last)",
      "Cell \u001b[0;32mIn[5], line 1\u001b[0m\n\u001b[0;32m----> 1\u001b[0m \u001b[38;5;28;01mimport\u001b[39;00m \u001b[38;5;21;01mpyodbc\u001b[39;00m\n\u001b[1;32m      3\u001b[0m server \u001b[38;5;241m=\u001b[39m \u001b[38;5;124m'\u001b[39m\u001b[38;5;124mIMSALIONE-PC\u001b[39m\u001b[38;5;124m\\\u001b[39m\u001b[38;5;124mIMSALIONEDB\u001b[39m\u001b[38;5;124m'\u001b[39m\n\u001b[1;32m      4\u001b[0m database \u001b[38;5;241m=\u001b[39m \u001b[38;5;124m'\u001b[39m\u001b[38;5;124mshop\u001b[39m\u001b[38;5;124m'\u001b[39m\n",
      "\u001b[0;31mImportError\u001b[0m: libodbc.so.2: cannot open shared object file: No such file or directory"
     ]
    }
   ],
   "source": [
    "import pyodbc\n",
    "\n",
    "server = 'IMSALIONE-PC\\IMSALIONEDB'\n",
    "database = 'shop'\n",
    "username = '.'\n",
    "password = '.'\n",
    "\n",
    "cnxn = pyodbc.connect('DRIVER={ODBC Driver 17 for SQL Server};\\\n",
    "                      SERVER='+server+';\\\n",
    "                      DATABASE='+database+';\\\n",
    "                      UID='+username+';\\\n",
    "                      PWD=' + password)\n",
    "\n",
    "cursor = cnxn.cursor()"
   ]
  }
 ],
 "metadata": {
  "kernelspec": {
   "display_name": "Python 3",
   "language": "python",
   "name": "python3"
  },
  "language_info": {
   "codemirror_mode": {
    "name": "ipython",
    "version": 3
   },
   "file_extension": ".py",
   "mimetype": "text/x-python",
   "name": "python",
   "nbconvert_exporter": "python",
   "pygments_lexer": "ipython3",
   "version": "3.10.12"
  }
 },
 "nbformat": 4,
 "nbformat_minor": 2
}
