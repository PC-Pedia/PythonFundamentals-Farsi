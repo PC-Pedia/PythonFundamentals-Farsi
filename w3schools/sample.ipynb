{
 "cells": [
  {
   "cell_type": "code",
   "execution_count": 34,
   "metadata": {},
   "outputs": [
    {
     "name": "stdout",
     "output_type": "stream",
     "text": [
      "<mysql.connector.connection_cext.CMySQLConnection object at 0x7f831e4c9e70>\n"
     ]
    }
   ],
   "source": [
    "import mysql.connector as mysql\n",
    "\n",
    "db = mysql.connect(\n",
    "    host = \"localhost\",\n",
    "    port = \"3306\",\n",
    "    user = \"root\",\n",
    "    passwd = \"1234\",\n",
    "    database = \"shop\"\n",
    ")\n",
    "\n",
    "print(db)"
   ]
  },
  {
   "cell_type": "code",
   "execution_count": 1,
   "metadata": {},
   "outputs": [
    {
     "name": "stdout",
     "output_type": "stream",
     "text": [
      "x = 'saleh'\n",
      "y = 36\n"
     ]
    }
   ],
   "source": [
    "x = 'saleh'\n",
    "y = 36\n",
    "\n",
    "print(f\"{x = }\")\n",
    "print(f'{y = }')"
   ]
  },
  {
   "cell_type": "code",
   "execution_count": 6,
   "metadata": {},
   "outputs": [
    {
     "name": "stdout",
     "output_type": "stream",
     "text": [
      "('saleh', 36)\n"
     ]
    }
   ],
   "source": [
    "class Person:\n",
    "    def __init__(self, name, age):\n",
    "        self.name = name\n",
    "        self.age = age\n",
    "        \n",
    "person1 = Person(\"saleh\", 36)\n",
    "\n",
    "print(f\"{person1.name, person1.age}\")"
   ]
  },
  {
   "cell_type": "code",
   "execution_count": 3,
   "metadata": {},
   "outputs": [
    {
     "name": "stdout",
     "output_type": "stream",
     "text": [
      "value error\n"
     ]
    }
   ],
   "source": [
    "import datetime\n",
    "\n",
    "def calc_age(birthday):\n",
    "    now = datetime.datetime.now()\n",
    "    current_year = now.year\n",
    "    age = current_year - birthday\n",
    "    print(f\"Your age is: {age}\")\n",
    "\n",
    "try:\n",
    "    calc_age(int(input(\"Enter your age: \")))\n",
    "except:\n",
    "    print(\"value error\")"
   ]
  },
  {
   "cell_type": "code",
   "execution_count": 2,
   "metadata": {},
   "outputs": [
    {
     "name": "stdout",
     "output_type": "stream",
     "text": [
      "elements are overlapping\n"
     ]
    }
   ],
   "source": [
    "list1 = [100, 20, 30, 40]\n",
    "list2 = [10, 50, 60, 90, 20]\n",
    "\n",
    "if list1[1] in list2:\n",
    "    print(\"elements are overlapping\")\n",
    "else:\n",
    "    print(\"elements are not overlapping\")"
   ]
  }
 ],
 "metadata": {
  "kernelspec": {
   "display_name": "Python 3",
   "language": "python",
   "name": "python3"
  },
  "language_info": {
   "codemirror_mode": {
    "name": "ipython",
    "version": 3
   },
   "file_extension": ".py",
   "mimetype": "text/x-python",
   "name": "python",
   "nbconvert_exporter": "python",
   "pygments_lexer": "ipython3",
   "version": "3.10.12"
  }
 },
 "nbformat": 4,
 "nbformat_minor": 2
}
