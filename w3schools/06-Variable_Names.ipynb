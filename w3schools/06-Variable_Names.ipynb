{
 "cells": [
  {
   "cell_type": "markdown",
   "metadata": {},
   "source": [
    "Python - Variable Names\n",
    "\n",
    "<section style=\"direction: rtl; text-align: justify; margin: 30px;\">\n",
    "\n",
    "## **نام متغیرها**\n",
    "\n",
    "یک متغیر می تواند یک نام کوتاه (مانند x و y) یا یک نام توصیفی تر (سن، نام کار، کل_حجم) داشته باشد. قوانین برای متغیرهای پایتون:\n",
    "\n",
    "- نام متغیر باید با یک حرف یا کاراکتر زیرخط شروع شود\n",
    "- نام متغیر نمی تواند با یک عدد شروع شود\n",
    "- نام متغیر فقط می‌تواند شامل نویسه‌های عددی و زیرخط باشد (A-z، 0-9 و _ )\n",
    "- نام متغیرها به حروف بزرگ و کوچک حساس هستند (سن، سن و AGE سه متغیر متفاوت هستند)\n",
    "- نام متغیر نمی تواند هیچ یک از کلمات کلیدی پایتون باشد.\n",
    "\n",
    "</section>"
   ]
  },
  {
   "cell_type": "code",
   "execution_count": null,
   "metadata": {},
   "outputs": [],
   "source": [
    "myvar = \"Saleh\"\n",
    "my_var = \"Saleh\"\n",
    "_my_var = \"Saleh\"\n",
    "myVar = \"Saleh\"\n",
    "MYVAR = \"Saleh\"\n",
    "myvar2 = \"Saleh\""
   ]
  },
  {
   "cell_type": "markdown",
   "metadata": {},
   "source": [
    "<section style=\"direction: rtl; text-align: justify; margin: 30px;\">\n",
    "\n",
    "نام متغیرهای غیرقانونی:\n",
    "\n",
    "</section>"
   ]
  },
  {
   "cell_type": "code",
   "execution_count": null,
   "metadata": {},
   "outputs": [],
   "source": [
    "2myvar = \"Saleh\"\n",
    "my-var = \"Saleh\"\n",
    "my var = \"Saleh\""
   ]
  },
  {
   "cell_type": "markdown",
   "metadata": {},
   "source": [
    "<section style=\"direction: rtl; text-align: justify; margin: 30px;\">\n",
    "\n",
    "### **نام های متغیر چند کلمه ای**\n",
    "\n",
    "نام های متغیر با بیش از یک کلمه ممکن است به سختی خوانده شوند.\n",
    "\n",
    "چندین تکنیک وجود دارد که می توانید برای خوانایی بیشتر آنها استفاده کنید:\n",
    "\n",
    "### Camel Case:\n",
    "- هر کلمه، به جز کلمه اول، با یک حرف بزرگ شروع می شود:\n",
    "\n",
    "### Pascal Case:\n",
    "- تمام کلمات با حروف بزرگ شروع می‌شود\n",
    "\n",
    "### Snake Case:\n",
    "- هر کلمه با یک کاراکتر زیر خط جدا می شود\n",
    "\n",
    "</section>"
   ]
  },
  {
   "cell_type": "code",
   "execution_count": 1,
   "metadata": {},
   "outputs": [],
   "source": [
    "myVariableName = \"John\"  # Camel Case\n",
    "MyVariableName = \"John\"  # Pascal Case\n",
    "my_variable_name = \"John\"  # Snake Case"
   ]
  }
 ],
 "metadata": {
  "kernelspec": {
   "display_name": "Python 3",
   "language": "python",
   "name": "python3"
  },
  "language_info": {
   "codemirror_mode": {
    "name": "ipython",
    "version": 3
   },
   "file_extension": ".py",
   "mimetype": "text/x-python",
   "name": "python",
   "nbconvert_exporter": "python",
   "pygments_lexer": "ipython3",
   "version": "3.11.4"
  }
 },
 "nbformat": 4,
 "nbformat_minor": 2
}
