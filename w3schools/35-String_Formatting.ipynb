{
 "cells": [
  {
   "cell_type": "markdown",
   "metadata": {},
   "source": [
    "Python String Formatting\n",
    "\n",
    "<section style=\"direction: rtl; text-align: justify; margin: 30px;\">\n",
    "\n",
    "## **قالب‌بندی رشته در پایتون**\n",
    "\n",
    "برای اطمینان از نمایش یک رشته همانطور که انتظار می رود، می توانیم نتیجه را با متد ()format قالب بندی کنیم.\n",
    "\n",
    "متد ()format به شما امکان می دهد بخش های انتخابی یک رشته را قالب بندی کنید.\n",
    "\n",
    "گاهی اوقات قسمت هایی از متن وجود دارد که شما آنها را کنترل نمی کنید، شاید آنها از یک پایگاه داده یا ورودی کاربر آمده باشند؟\n",
    "\n",
    "برای کنترل چنین مقادیری، متغیرهایی (پرانتزهای مجعد {}) را در متن اضافه کنید و مقادیر را از طریق متد ()format اجرا کنید:\n",
    "\n",
    "</section>"
   ]
  },
  {
   "cell_type": "code",
   "execution_count": 6,
   "metadata": {},
   "outputs": [
    {
     "name": "stdout",
     "output_type": "stream",
     "text": [
      "The price is 49 dollars\n"
     ]
    }
   ],
   "source": [
    "price = 49\n",
    "txt = \"The price is {} dollars\"\n",
    "print(txt.format(price))"
   ]
  },
  {
   "cell_type": "markdown",
   "metadata": {},
   "source": [
    "<section style=\"direction: rtl; text-align: justify; margin: 30px;\">\n",
    "\n",
    "می توانید پارامترهایی را در داخل براکت های فرفری اضافه کنید تا نحوه تبدیل مقدار را مشخص کنید:\n",
    "\n",
    "</section>"
   ]
  },
  {
   "cell_type": "code",
   "execution_count": 2,
   "metadata": {},
   "outputs": [
    {
     "name": "stdout",
     "output_type": "stream",
     "text": [
      "The price is 49.00 dollars\n"
     ]
    }
   ],
   "source": [
    "price = 49\n",
    "# format the price to be displayed as a number with two decimals:\n",
    "txt = \"The price is {:.2f} dollars\"\n",
    "print(txt.format(price))"
   ]
  },
  {
   "cell_type": "markdown",
   "metadata": {},
   "source": [
    "<section style=\"direction: rtl; text-align: justify; margin: 30px;\">\n",
    "\n",
    "اگر می خواهید از مقادیر بیشتری استفاده کنید، این مقادیر را به متد ()format اضافه کنید:\n",
    "\n",
    "</section>"
   ]
  },
  {
   "cell_type": "code",
   "execution_count": 10,
   "metadata": {},
   "outputs": [
    {
     "name": "stdout",
     "output_type": "stream",
     "text": [
      "I want 3 prices of item number 547 for 49.00 dollars.\n"
     ]
    }
   ],
   "source": [
    "quantity = 3\n",
    "itemno = 547\n",
    "price = 49\n",
    "myOrder = \"I want {} prices of item number {} for {:.2f} dollars.\"\n",
    "print(myOrder.format(quantity, itemno, price))"
   ]
  },
  {
   "cell_type": "markdown",
   "metadata": {},
   "source": [
    "<section style=\"direction: rtl; text-align: justify; margin: 30px;\">\n",
    "\n",
    "می‌توانید از ایندکس (عددی در داخل پرانتزهای مجعد {0}) استفاده کنید تا مطمئن شوید که مقادیر در جای‌بان‌های صحیح قرار می‌گیرند:\n",
    "\n",
    "</section>"
   ]
  },
  {
   "cell_type": "code",
   "execution_count": 11,
   "metadata": {},
   "outputs": [
    {
     "name": "stdout",
     "output_type": "stream",
     "text": [
      "I want 3 prices of item number 547 for 49.00 dollars.\n"
     ]
    }
   ],
   "source": [
    "quantity = 3\n",
    "itemno = 547\n",
    "price = 49\n",
    "myOrder = \"I want {0} prices of item number {1} for {2:.2f} dollars.\"\n",
    "print(myOrder.format(quantity, itemno, price))"
   ]
  },
  {
   "cell_type": "markdown",
   "metadata": {},
   "source": [
    "<section style=\"direction: rtl; text-align: justify; margin: 30px;\">\n",
    "\n",
    "همچنین، اگر می خواهید به یک مقدار بیش از یک بار اشاره کنید، از شماره شاخص استفاده کنید:\n",
    "\n",
    "</section>"
   ]
  },
  {
   "cell_type": "code",
   "execution_count": 12,
   "metadata": {},
   "outputs": [
    {
     "name": "stdout",
     "output_type": "stream",
     "text": [
      "His name is saleh, saleh is 35 years old\n"
     ]
    }
   ],
   "source": [
    "age = 35\n",
    "name = \"saleh\"\n",
    "txt = \"His name is {1}, {1} is {0} years old\"\n",
    "print(txt.format(age, name))"
   ]
  },
  {
   "cell_type": "markdown",
   "metadata": {},
   "source": [
    "<section style=\"direction: rtl; text-align: justify; margin: 30px;\">\n",
    "\n",
    "همچنین می‌توانید با وارد کردن یک نام در داخل براکت‌های فرفری {carname} از نمایه‌های نام‌گذاری شده استفاده کنید، اما پس از ارسال مقادیر پارامتر txt.format(carname = \"Ford\") باید از نام‌ها استفاده کنید.\n",
    "\n",
    "</section>"
   ]
  },
  {
   "cell_type": "code",
   "execution_count": 13,
   "metadata": {},
   "outputs": [
    {
     "name": "stdout",
     "output_type": "stream",
     "text": [
      "I have a Pride, it is a 141\n"
     ]
    }
   ],
   "source": [
    "myOrder = \"I have a {carname}, it is a {model}\"\n",
    "print(myOrder.format(carname=\"Tiba\", model=\"2\"))"
   ]
  }
 ],
 "metadata": {
  "kernelspec": {
   "display_name": "My Environment",
   "language": "python",
   "name": "myenv"
  },
  "language_info": {
   "codemirror_mode": {
    "name": "ipython",
    "version": 3
   },
   "file_extension": ".py",
   "mimetype": "text/x-python",
   "name": "python",
   "nbconvert_exporter": "python",
   "pygments_lexer": "ipython3",
   "version": "3.11.4"
  },
  "orig_nbformat": 4
 },
 "nbformat": 4,
 "nbformat_minor": 2
}
