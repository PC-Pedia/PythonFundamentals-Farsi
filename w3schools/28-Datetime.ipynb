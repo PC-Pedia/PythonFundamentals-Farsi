{
 "cells": [
  {
   "cell_type": "markdown",
   "metadata": {},
   "source": [
    "Python Datetime\n",
    "\n",
    "<section style=\"direction: rtl; text-align: justify; margin: 30px;\">\n",
    "\n",
    "## **تاریخ در پایتون**\n",
    "\n",
    "تاریخ در پایتون یک نوع داده به خودی خود نیست، اما ما می‌توانیم یک ماژول به نام datetime را برای کار با تاریخ‌ها به عنوان آبجکت‌های تاریخ وارد کنیم.\n",
    "\n",
    "</section>"
   ]
  },
  {
   "cell_type": "code",
   "execution_count": 1,
   "metadata": {},
   "outputs": [
    {
     "name": "stdout",
     "output_type": "stream",
     "text": [
      "2023-12-25 21:48:23.319822\n"
     ]
    }
   ],
   "source": [
    "import datetime\n",
    "\n",
    "x = datetime.datetime.now()\n",
    "print(x)"
   ]
  },
  {
   "cell_type": "markdown",
   "metadata": {},
   "source": [
    "<section style=\"direction: rtl; text-align: justify; margin: 30px;\">\n",
    "\n",
    "تاریخ شامل سال، ماه، روز، ساعت، دقیقه، ثانیه و میکروثانیه است.\n",
    "\n",
    "ماژول datetime روش های زیادی برای برگرداندن اطلاعات مربوط به شی date دارد.\n",
    "\n",
    "در اینجا چند نمونه آورده شده است که در ادامه این فصل در مورد آنها بیشتر خواهید آموخت:\n",
    "\n",
    "</section>"
   ]
  },
  {
   "cell_type": "code",
   "execution_count": 6,
   "metadata": {},
   "outputs": [
    {
     "name": "stdout",
     "output_type": "stream",
     "text": [
      "2023 12 25\n",
      "12\n",
      "25\n",
      "Monday\n"
     ]
    }
   ],
   "source": [
    "import datetime\n",
    "\n",
    "x = datetime.datetime.now()\n",
    "\n",
    "print(x.year, x.month, x.day)\n",
    "print(x.month)\n",
    "print(x.day)\n",
    "print(x.strftime(\"%A\"))"
   ]
  },
  {
   "cell_type": "markdown",
   "metadata": {},
   "source": [
    "<section style=\"direction: rtl; text-align: justify; margin: 30px;\">\n",
    "\n",
    "برای ایجاد تاریخ، می‌توانیم از کلاس datetime() (سازنده) ماژول datetime استفاده کنیم.\n",
    "\n",
    "کلاس datetime() برای ایجاد تاریخ به سه پارامتر نیاز دارد: سال، ماه، روز.\n",
    "\n",
    "</section>"
   ]
  },
  {
   "cell_type": "code",
   "execution_count": 38,
   "metadata": {},
   "outputs": [
    {
     "name": "stdout",
     "output_type": "stream",
     "text": [
      "2\n"
     ]
    }
   ],
   "source": [
    "x = datetime.datetime(1988, 2, 25)\n",
    "print(x.month)"
   ]
  },
  {
   "cell_type": "markdown",
   "metadata": {},
   "source": [
    "<section style=\"direction: rtl; text-align: justify; margin: 30px;\">\n",
    "\n",
    "کلاس datetime() همچنین پارامترهایی را برای زمان و منطقه زمانی (ساعت، دقیقه، ثانیه، میکروثانیه، tzone) می گیرد، اما آنها اختیاری هستند و دارای مقدار پیش فرض 0 هستند (هیچ برای منطقه زمانی).\n",
    "\n",
    "شی datetime روشی برای قالب بندی اشیاء تاریخ به رشته های قابل خواندن دارد.\n",
    "\n",
    "این متد strftime() نامیده می شود و برای تعیین فرمت رشته برگشتی، یک پارامتر به نام فرمت می گیرد:\n",
    "\n",
    "</section>"
   ]
  },
  {
   "cell_type": "code",
   "execution_count": 15,
   "metadata": {},
   "outputs": [
    {
     "name": "stdout",
     "output_type": "stream",
     "text": [
      "February\n"
     ]
    }
   ],
   "source": [
    "x = datetime.datetime(1988, 2, 25)\n",
    "\n",
    "print(x.strftime(\"%B\"))"
   ]
  },
  {
   "cell_type": "markdown",
   "metadata": {},
   "source": [
    "<section style=\"direction: rtl; text-align: center; margin: 30px;\">\n",
    "\n",
    "<a href=\"https://www.w3schools.com/python/python_datetime.asp\"> مرجع همه کدهای مربوط به تاریخ 💁🏽 </a>\n",
    "\n",
    "</section>\n",
    "\n"
   ]
  }
 ],
 "metadata": {
  "kernelspec": {
   "display_name": "My Environment",
   "language": "python",
   "name": "myenv"
  },
  "language_info": {
   "codemirror_mode": {
    "name": "ipython",
    "version": 3
   },
   "file_extension": ".py",
   "mimetype": "text/x-python",
   "name": "python",
   "nbconvert_exporter": "python",
   "pygments_lexer": "ipython3",
   "version": "3.11.4"
  },
  "orig_nbformat": 4
 },
 "nbformat": 4,
 "nbformat_minor": 2
}
