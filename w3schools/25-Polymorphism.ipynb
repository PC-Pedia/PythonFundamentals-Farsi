{
 "cells": [
  {
   "cell_type": "markdown",
   "metadata": {},
   "source": [
    "Python Polymorphism\n",
    "\n",
    "<section style=\"direction: rtl; text-align: justify; margin: 30px;\">\n",
    "\n",
    "## **چندریختی‌ها**\n",
    "\n",
    "کلمه \"polymorphism\" به معنای \"شکل های متعدد\" است و در برنامه نویسی به متدها / توابع / عملگرهایی با همین نام اطلاق می شود که می توانند روی بسیاری از اشیاء یا کلاس ها اجرا شوند.\n",
    "\n",
    "یک مثال از یک تابع پایتون که می تواند روی اشیاء مختلف استفاده شود، تابع len () است.\n",
    "\n",
    "برای رشته ها len() تعداد کاراکترها را برمی گرداند:\n",
    "\n",
    "</section>"
   ]
  },
  {
   "cell_type": "code",
   "execution_count": 1,
   "metadata": {},
   "outputs": [
    {
     "name": "stdout",
     "output_type": "stream",
     "text": [
      "11\n"
     ]
    }
   ],
   "source": [
    "x = \"Hello Saleh\"\n",
    "\n",
    "print(len(x))"
   ]
  },
  {
   "cell_type": "markdown",
   "metadata": {},
   "source": [
    "<section style=\"direction: rtl; text-align: justify; margin: 30px;\">\n",
    "\n",
    "برای tuples len() تعداد آیتم های تاپل را برمی گرداند:\n",
    "\n",
    "</section>"
   ]
  },
  {
   "cell_type": "code",
   "execution_count": 2,
   "metadata": {},
   "outputs": [
    {
     "name": "stdout",
     "output_type": "stream",
     "text": [
      "3\n"
     ]
    }
   ],
   "source": [
    "myTuple = (\"saleh\", \"ali\", \"reza\")\n",
    "\n",
    "print(len(myTuple))"
   ]
  },
  {
   "cell_type": "markdown",
   "metadata": {},
   "source": [
    "<section style=\"direction: rtl; text-align: justify; margin: 30px;\">\n",
    "\n",
    "برای دیکشنری ها، len() تعداد جفت های کلید/مقدار را در دیکشنری برمی گرداند:\n",
    "\n",
    "</section>"
   ]
  },
  {
   "cell_type": "code",
   "execution_count": 1,
   "metadata": {},
   "outputs": [
    {
     "name": "stdout",
     "output_type": "stream",
     "text": [
      "3\n"
     ]
    }
   ],
   "source": [
    "thisDict = {\n",
    "    \"name\": \"Saleh\",\n",
    "    \"family\": \"Abedinezhad\",\n",
    "    \"birthday\": 1988\n",
    "}\n",
    "\n",
    "print(len(thisDict))"
   ]
  },
  {
   "cell_type": "markdown",
   "metadata": {},
   "source": [
    "<section style=\"direction: rtl; text-align: justify; margin: 30px;\">\n",
    "\n",
    "Polymorphism اغلب در متدهای Class استفاده می شود، جایی که می توانیم چندین کلاس با نام متد یکسان داشته باشیم.\n",
    "\n",
    "</section>"
   ]
  },
  {
   "cell_type": "code",
   "execution_count": 3,
   "metadata": {},
   "outputs": [
    {
     "name": "stdout",
     "output_type": "stream",
     "text": [
      "Drive!\n",
      "Sail!\n",
      "Fly!\n"
     ]
    }
   ],
   "source": [
    "class Car:\n",
    "    def __init__(self, brand, model):\n",
    "        self.brand = brand\n",
    "        self.model = model\n",
    "\n",
    "    def move(self):\n",
    "        print(\"Drive!\")\n",
    "\n",
    "\n",
    "class Boat:\n",
    "    def __init__(self, brand, model):\n",
    "        self.brand = brand\n",
    "        self.model = model\n",
    "\n",
    "    def move(self):\n",
    "        print(\"Sail!\")\n",
    "\n",
    "\n",
    "class Plane:\n",
    "    def __init__(self, brand, model):\n",
    "        self.brand = brand\n",
    "        self.model = model\n",
    "\n",
    "    def move(self):\n",
    "        print(\"Fly!\")\n",
    "\n",
    "\n",
    "car1 = Car(\"Ford\", \"Mustang\")\n",
    "boat1 = Boat(\"Ibiza\", \"Touring 20\")\n",
    "plane1 = Plane(\"Boeing\", \"747\")\n",
    "\n",
    "for x in (car1, boat1, plane1):\n",
    "    x.move()"
   ]
  },
  {
   "cell_type": "markdown",
   "metadata": {},
   "source": [
    "<section style=\"direction: rtl; text-align: justify; margin: 30px;\">\n",
    "\n",
    "در پایان به حلقه for نگاه کنید. به دلیل Polymorphism می توانیم برای هر سه کلاس یک روش را اجرا کنیم.\n",
    "\n",
    "در مورد کلاس هایی با کلاس های کودک با همین نام چطور؟ آیا می توانیم از Polymorphism در آنجا استفاده کنیم؟\n",
    "\n",
    "آره. اگر از مثال بالا استفاده کنیم و یک کلاس والد به نام Vehicle بسازیم و کلاس های فرزند Car, Boat, Plane از Vehicle را بسازیم، کلاس های فرزند متدهای Vehicle را به ارث می برند، اما می توانند آنها را لغو کنند:\n",
    "\n",
    "\n",
    "</section>"
   ]
  },
  {
   "cell_type": "code",
   "execution_count": 5,
   "metadata": {},
   "outputs": [
    {
     "name": "stdout",
     "output_type": "stream",
     "text": [
      "Ford\n",
      "Mustang\n",
      "Move!\n",
      "------------\n",
      "Ibiza\n",
      "Touring 20\n",
      "Sail!\n",
      "------------\n",
      "Boeing\n",
      "747\n",
      "Fly!\n",
      "------------\n"
     ]
    }
   ],
   "source": [
    "class Vehicle:\n",
    "    def __init__(self, brand, model):\n",
    "        self.brand = brand\n",
    "        self.model = model\n",
    "\n",
    "    def move(self):\n",
    "        print(\"Move!\")\n",
    "\n",
    "\n",
    "class Car(Vehicle):\n",
    "    pass\n",
    "\n",
    "\n",
    "class Boat(Vehicle):\n",
    "    def move(self):\n",
    "        print(\"Sail!\")\n",
    "\n",
    "\n",
    "class Plane(Vehicle):\n",
    "    def move(self):\n",
    "        print(\"Fly!\")\n",
    "\n",
    "\n",
    "car1 = Car(\"Ford\", \"Mustang\")  # Create a Car object\n",
    "boat1 = Boat(\"Ibiza\", \"Touring 20\")  # Create a Boat object\n",
    "plane1 = Plane(\"Boeing\", \"747\")  # Create a Plane object\n",
    "\n",
    "for x in (car1, boat1, plane1):\n",
    "    print(x.brand)\n",
    "    print(x.model)\n",
    "    x.move()\n",
    "    print(\"------------\")"
   ]
  },
  {
   "cell_type": "markdown",
   "metadata": {},
   "source": [
    "<section style=\"direction: rtl; text-align: justify; margin: 30px;\">\n",
    "\n",
    "کلاسهای Child خصوصیات و متدها را از کلاس والد به ارث می برند.\n",
    "\n",
    "در مثال بالا می بینید که کلاس Car خالی است، اما برند، مدل و () move را از Vehicle به ارث می برد.\n",
    "\n",
    "کلاس‌های Boat و Plane نیز برند، مدل و () move را از Vehicle به ارث می‌برند، اما هر دو متد ()move را لغو می‌کنند.\n",
    "\n",
    "به دلیل چندشکلی می توانیم برای همه کلاس ها یک روش را اجرا کنیم.\n",
    "\n",
    "</section>"
   ]
  }
 ],
 "metadata": {
  "kernelspec": {
   "display_name": "My Environment",
   "language": "python",
   "name": "myenv"
  },
  "language_info": {
   "codemirror_mode": {
    "name": "ipython",
    "version": 3
   },
   "file_extension": ".py",
   "mimetype": "text/x-python",
   "name": "python",
   "nbconvert_exporter": "python",
   "pygments_lexer": "ipython3",
   "version": "3.11.4"
  },
  "orig_nbformat": 4
 },
 "nbformat": 4,
 "nbformat_minor": 2
}
