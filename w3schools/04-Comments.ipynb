{
 "cells": [
  {
   "cell_type": "markdown",
   "metadata": {},
   "source": [
    "Python Comments\n",
    "\n",
    "<section style=\"direction: rtl; text-align: justify; margin: 30px;\">\n",
    "\n",
    "## **توضیحات در پایتون**\n",
    "\n",
    "- از نظرات می توان برای توضیح کد پایتون استفاده کرد.\n",
    "- ما برای خوانایی بیشتر از نظرات در کدها استفاده می‌کنیم\n",
    "- همچنین از نظرات می‌توان برای جلوگیری از اجرای کد در هنگام اجرا استفاده کرد\n",
    "- نظرات با # شروع می شود و پایتون آنها را نادیده می گیرد:\n",
    "</section>"
   ]
  },
  {
   "cell_type": "code",
   "execution_count": 2,
   "metadata": {},
   "outputs": [
    {
     "name": "stdout",
     "output_type": "stream",
     "text": [
      "Hello Saleh\n"
     ]
    }
   ],
   "source": [
    "# This is a comment\n",
    "print(\"Hello Saleh\")"
   ]
  },
  {
   "cell_type": "markdown",
   "metadata": {},
   "source": [
    "<section style=\"direction: rtl; text-align: justify; margin: 30px;\">\n",
    "\n",
    "نظرات را می توان در انتهای یک خط قرار داد و پایتون بقیه خط را نادیده می گیرد:\n",
    "\n",
    "</section>"
   ]
  },
  {
   "cell_type": "code",
   "execution_count": 3,
   "metadata": {},
   "outputs": [
    {
     "name": "stdout",
     "output_type": "stream",
     "text": [
      "Hello Saleh\n"
     ]
    }
   ],
   "source": [
    "print(\"Hello Saleh\")  # This is a comment"
   ]
  },
  {
   "cell_type": "markdown",
   "metadata": {},
   "source": [
    "<section style=\"direction: rtl; text-align: justify; margin: 30px;\">\n",
    "\n",
    "همچنین برای اجرای کد نیز می‌توان از قابلیت کامنت استفاده کرد\n",
    "\n",
    "</section>"
   ]
  },
  {
   "cell_type": "code",
   "execution_count": 4,
   "metadata": {},
   "outputs": [
    {
     "name": "stdout",
     "output_type": "stream",
     "text": [
      "Sello Saleh\n"
     ]
    }
   ],
   "source": [
    "# print(\"Sello Saleh\")\n",
    "print(\"Sello Saleh\")"
   ]
  },
  {
   "cell_type": "markdown",
   "metadata": {},
   "source": [
    "<section style=\"direction: rtl; text-align: justify; margin: 30px;\">\n",
    "\n",
    "### نظرات چند خطی\n",
    "\n",
    "- همچنین برای اجرای کد نیز می‌توان از قابلیت کامنت استفاده کرد\n",
    "- برای افزودن یک نظر چند خطی می توانید برای هر خط یک # درج کنید:\n",
    "\n",
    "</section>"
   ]
  },
  {
   "cell_type": "code",
   "execution_count": 6,
   "metadata": {},
   "outputs": [
    {
     "name": "stdout",
     "output_type": "stream",
     "text": [
      "Hello, Saleh!\n"
     ]
    }
   ],
   "source": [
    "# This is a comment\n",
    "# written in\n",
    "# more than just one line\n",
    "print(\"Hello, Saleh!\")"
   ]
  },
  {
   "cell_type": "markdown",
   "metadata": {},
   "source": [
    "<section style=\"direction: rtl; text-align: justify; margin: 30px;\">\n",
    "\n",
    "از آنجایی که پایتون لفظ های رشته ای را که به یک متغیر اختصاص داده نمی شوند نادیده می گیرد، می توانید یک رشته چند خطی (نقل قول های سه گانه) را در کد خود اضافه کنید و نظر خود را در آن قرار دهید:\n",
    "\n",
    "</section>"
   ]
  },
  {
   "cell_type": "code",
   "execution_count": 9,
   "metadata": {},
   "outputs": [
    {
     "name": "stdout",
     "output_type": "stream",
     "text": [
      "Hello, Saleh!\n"
     ]
    }
   ],
   "source": [
    "\"\"\"\n",
    "This is a comment\n",
    "written in\n",
    "more than just one line\n",
    "\"\"\"\n",
    "print(\"Hello, Saleh!\")"
   ]
  },
  {
   "cell_type": "markdown",
   "metadata": {},
   "source": [
    "<section style=\"direction: rtl; text-align: justify; margin: 30px;\">\n",
    "\n",
    "تا زمانی که رشته به متغیری اختصاص داده نشده باشد، پایتون کد را می خواند، اما سپس آن را نادیده می گیرد و شما یک نظر چند خطی داده اید.\n",
    "\n",
    "</section>"
   ]
  }
 ],
 "metadata": {
  "kernelspec": {
   "display_name": "Python 3",
   "language": "python",
   "name": "python3"
  },
  "language_info": {
   "codemirror_mode": {
    "name": "ipython",
    "version": 3
   },
   "file_extension": ".py",
   "mimetype": "text/x-python",
   "name": "python",
   "nbconvert_exporter": "python",
   "pygments_lexer": "ipython3",
   "version": "3.10.12"
  }
 },
 "nbformat": 4,
 "nbformat_minor": 2
}
