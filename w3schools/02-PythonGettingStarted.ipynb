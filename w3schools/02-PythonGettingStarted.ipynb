{
 "cells": [
  {
   "cell_type": "markdown",
   "metadata": {},
   "source": [
    "## **Python Getting Started**\n",
    "***\n",
    "\n",
    "<section style=\"direction: rtl; text-align: justify; margin: 30px;\">\n",
    "\n",
    "### **نصب پایتون**\n",
    "در بسیاری از کامپیوترها و مک‌ها پایتون از قبل نصب می‌باشد. برای بررسی نصب بودن پایتون در کامپیوتر ویندوزی خود، در نوار شروع به دنبال \"Python\" بگردید یا دستور زیر را در خط فرمان (cmd.exe) اجرا کنید:\n",
    "</section>\n",
    "\n",
    "> C:\\Users\\Your Name>python --version\n",
    "\n",
    "<section style=\"direction: rtl; text-align: justify; margin: 30px;\">\n",
    "\n",
    "برای بررسی نصب بودن پایتون در لینوکس یا مک، در لینوکس دستورهای زیر را در خط فرمان و در مک ترمینال اجرا کنید:\n",
    "\n",
    "</section>\n",
    "\n",
    "> python --version\n",
    "\n",
    "<section style=\"direction: rtl; text-align: justify; margin: 30px;\">\n",
    "\n",
    "اگر متوجه شدید که پایتون روی کامپیوتر شما نصب نیست، می‌توانید آن را از وب‌سایت زیر به صورت رایگان دانلود کنید: https://www.python.org/\n",
    "\n",
    "### **شروع سریع با پایتون**\n",
    "پایتون یک زبان برنامه‌نویسی تفسیری است، این بدان معناست که به عنوان یک توسعه‌دهنده شما فایل‌های پایتون (.py) را در یک ویرایشگر متنی می‌نویسید و سپس این فایل‌ها را در تفسیر پایتون اجرا می‌کنید.\n",
    "\n",
    "راه اجرای یک فایل پایتون به این صورت است:\n",
    "</section>\n",
    "\n",
    "> C:\\Users\\Your Name>python helloworld.py\n",
    "\n",
    "<section style=\"direction: rtl; text-align: justify; margin: 30px;\">\n",
    "که \"helloworld.py\" نام فایل پایتون شماست.\n",
    "\n",
    "\n",
    "بیایید اولین فایل پایتون خود را بسازیم، که با هر ویرایشگر متنی می‌توان انجام داد."
   ]
  },
  {
   "cell_type": "code",
   "execution_count": 1,
   "metadata": {},
   "outputs": [
    {
     "name": "stdout",
     "output_type": "stream",
     "text": [
      "Hello, saleh!\n"
     ]
    }
   ],
   "source": [
    "print(\"Hello, saleh!\")"
   ]
  },
  {
   "cell_type": "markdown",
   "metadata": {},
   "source": [
    "<section style=\"direction: rtl; text-align: justify; margin: 30px;\">\n",
    "\n",
    "بسیار ساده. فایل خود را ذخیره کنید. خط فرمان را باز کنید، به پوشه‌ای که فایل را ذخیره کرده‌اید بروید و دستور زیر را اجرا کنید:\n",
    "</section>\n",
    "\n",
    "> C:\\Users\\Your Name>python helloworld.py\n",
    "\n",
    "<section style=\"direction: rtl; text-align: justify; margin: 30px;\">\n",
    "خروجی باید به این شکل باشد:\n",
    "</section>\n",
    "\n",
    ">> Hello world!\n",
    "\n",
    "<section style=\"direction: rtl; text-align: justify; margin: 30px;\">\n",
    "تبریک می‌گویم، شما اولین برنامه پایتون خود را نوشته و اجرا کرده‌اید.\n",
    "\n",
    "خط فرمان پایتون\n",
    "برای تست یک مقدار کد کوتاه در پایتون، گاهی اوقات سریع‌تر و آسان‌تر است که کد را در یک فایل نوشته نشود. این امکان از آن جهت وجود دارد که پایتون به عنوان یک خط فرمان نیز قابل اجراست.\n",
    "\n",
    "دستور زیر را در خط فرمان ویندوز، مک یا لینوکس تایپ کنید:\n",
    "</section>\n",
    "\n",
    "> C:\\Users\\Your Name>python\n",
    "\n",
    "<section style=\"direction: rtl; text-align: justify; margin: 30px;\">\n",
    "یا، اگر دستور \"python\" کار نکرد، می‌توانید \"py\" را امتحان کنید:\n",
    "</section>\n",
    "\n",
    "> C:\\Users\\Your Name>py\n",
    "\n",
    "<section style=\"direction: rtl; text-align: justify; margin: 30px;\">\n",
    "سپس می‌توانید هر کدی را در پایتون بنویسید، از جمله مثال \"سلام، دنیا\" ما از آموزش قبلی:\n",
    "</section>\n",
    "\n",
    "> \n",
    "\n",
    "<pre>\n",
    "$ C:\\Users\\Your Name>python\n",
    "$ Python 3.6.4 (v3.6.4:d48eceb, Dec 19 2017, 06:04:45) [MSC v.1900 32 bit (Intel)] on win32\n",
    "$ Type \"help\", \"copyright\", \"credits\" or \"license\" for more information.\n",
    ">>> Hello, World!\n",
    "</pre>\n",
    "\n",
    "<section style=\"direction: rtl; text-align: justify; margin: 30px;\">\n",
    "که \"Hello, World!\" را در خط فرمان نوشته و نمایش می‌دهد.\n",
    "\n",
    "هر زمان که از خط فرمان پایتون خارج می‌شوید، می‌توانید به سادگی دستور زیر را بنویسید تا از رابط خط فرمان پایتون خارج شوید:\n",
    "\n",
    "</section>\n",
    "\n",
    "> exit()"
   ]
  }
 ],
 "metadata": {
  "kernelspec": {
   "display_name": "Python 3",
   "language": "python",
   "name": "python3"
  },
  "language_info": {
   "codemirror_mode": {
    "name": "ipython",
    "version": 3
   },
   "file_extension": ".py",
   "mimetype": "text/x-python",
   "name": "python",
   "nbconvert_exporter": "python",
   "pygments_lexer": "ipython3",
   "version": "3.10.12"
  },
  "orig_nbformat": 4
 },
 "nbformat": 4,
 "nbformat_minor": 2
}
