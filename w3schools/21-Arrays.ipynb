{
 "cells": [
  {
   "cell_type": "markdown",
   "metadata": {},
   "source": [
    "Python Arrays\n",
    "\n",
    "<section style=\"direction: rtl; text-align: justify; margin: 30px;\">\n",
    "\n",
    "## **آرایه‌ها در پایتون**\n",
    "\n",
    "توجه: پایتون از آرایه ها پشتیبانی داخلی ندارد، اما به جای آن می توان از لیست‌های پایتون استفاده کرد.\n",
    "\n",
    "توجه: این صفحه به شما نشان می دهد که چگونه از LISTS به عنوان آرایه استفاده کنید، اما برای کار با آرایه ها در پایتون باید یک کتابخانه مانند کتابخانه NumPy وارد کنید.\n",
    "\n",
    "از آرایه ها برای ذخیره چندین مقدار در یک متغیر استفاده می شود:\n",
    "\n",
    "</section>"
   ]
  },
  {
   "cell_type": "code",
   "execution_count": null,
   "metadata": {},
   "outputs": [],
   "source": [
    "cars = [\"Ford\", \"Volvo\", \"BMW\"]"
   ]
  },
  {
   "cell_type": "markdown",
   "metadata": {},
   "source": [
    "<section style=\"direction: rtl; text-align: justify; margin: 30px;\">\n",
    "\n",
    "آرایه یک متغیر خاص است که می تواند بیش از یک مقدار را در یک زمان نگه دارد.\n",
    "\n",
    "اگر لیستی از موارد دارید (مثلاً لیستی از نام خودروها)، ذخیره خودروها در متغیرهای منفرد می‌تواند به شکل زیر باشد:\n",
    "\n",
    "\n",
    "</section>"
   ]
  },
  {
   "cell_type": "code",
   "execution_count": null,
   "metadata": {},
   "outputs": [],
   "source": [
    "car1 = \"Ford\"\n",
    "car2 = \"Volvo\"\n",
    "car3 = \"BMW\""
   ]
  },
  {
   "cell_type": "markdown",
   "metadata": {},
   "source": [
    "<section style=\"direction: rtl; text-align: justify; margin: 30px;\">\n",
    "\n",
    "با این حال، اگر بخواهید ماشین‌ها را حلقه بزنید و یک مورد خاص پیدا کنید، چه؟ و اگر شما نه 3 ماشین، بلکه 300 ماشین داشتید چه؟\n",
    "\n",
    "راه حل یک آرایه است!\n",
    "\n",
    "یک آرایه می تواند مقادیر زیادی را تحت یک نام نگه دارد و شما می توانید با مراجعه به یک عدد شاخص به مقادیر دسترسی پیدا کنید.\n",
    "\n",
    "شما با ارجاع به شماره شاخص (ایندکس) به یک عنصر آرایه اشاره می کنید.\n",
    "\n",
    "</section>"
   ]
  },
  {
   "cell_type": "code",
   "execution_count": null,
   "metadata": {},
   "outputs": [],
   "source": [
    "x = cars[0]"
   ]
  },
  {
   "cell_type": "markdown",
   "metadata": {},
   "source": [
    "<section style=\"direction: rtl; text-align: justify; margin: 30px;\">\n",
    "\n",
    "به وسیله شماره شاخص (ایندکس) می‌توان عنصر مورد نظر را تغییر داد:\n",
    "\n",
    "</section>"
   ]
  },
  {
   "cell_type": "code",
   "execution_count": null,
   "metadata": {},
   "outputs": [],
   "source": [
    "cars[0] = \"Toyota\""
   ]
  },
  {
   "cell_type": "markdown",
   "metadata": {},
   "source": [
    "<section style=\"direction: rtl; text-align: justify; margin: 30px;\">\n",
    "\n",
    "از متد len() برای برگرداندن طول یک آرایه (تعداد عناصر یک آرایه) استفاده کنید.\n",
    "\n",
    "</section>"
   ]
  },
  {
   "cell_type": "code",
   "execution_count": null,
   "metadata": {},
   "outputs": [],
   "source": [
    "x = len(cars)\n",
    "\n",
    "print(x)"
   ]
  },
  {
   "cell_type": "markdown",
   "metadata": {},
   "source": [
    "<section style=\"direction: rtl; text-align: justify; margin: 30px;\">\n",
    "\n",
    "نکته: طول یک آرایه همیشه یک واحد بیشتر از بالاترین شاخص آرایه است.\n",
    "\n",
    "\n",
    "می توانید از حلقه for در حلقه برای حلقه زدن تمام عناصر یک آرایه استفاده کنید:\n",
    "\n",
    "</section>"
   ]
  },
  {
   "cell_type": "code",
   "execution_count": null,
   "metadata": {},
   "outputs": [],
   "source": [
    "for x in cars:\n",
    "    print(x)"
   ]
  },
  {
   "cell_type": "markdown",
   "metadata": {},
   "source": [
    "<section style=\"direction: rtl; text-align: justify; margin: 30px;\">\n",
    "\n",
    "می توانید از متد append() برای اضافه کردن یک عنصر به آرایه استفاده کنید.\n",
    "\n",
    "</section>"
   ]
  },
  {
   "cell_type": "code",
   "execution_count": null,
   "metadata": {},
   "outputs": [],
   "source": [
    "cars.append(\"Honda\")\n",
    "\n",
    "print(cars)"
   ]
  },
  {
   "cell_type": "markdown",
   "metadata": {},
   "source": [
    "<section style=\"direction: rtl; text-align: justify; margin: 30px;\">\n",
    "\n",
    "برای حذف یک عنصر از آرایه می توانید از متد pop() استفاده کنید.\n",
    "\n",
    "</section>"
   ]
  },
  {
   "cell_type": "code",
   "execution_count": null,
   "metadata": {},
   "outputs": [],
   "source": [
    "cars.pop(0)\n",
    "\n",
    "print(cars)"
   ]
  },
  {
   "cell_type": "markdown",
   "metadata": {},
   "source": [
    "<section style=\"direction: rtl; text-align: justify; margin: 30px;\">\n",
    "\n",
    "همچنین می توانید از متد remove() برای حذف یک عنصر از آرایه استفاده کنید.\n",
    "\n",
    "</section>"
   ]
  },
  {
   "cell_type": "code",
   "execution_count": null,
   "metadata": {},
   "outputs": [],
   "source": [
    "cars.remove(\"BMW\")"
   ]
  },
  {
   "cell_type": "markdown",
   "metadata": {},
   "source": [
    "<section style=\"direction: rtl; text-align: justify; margin: 30px;\">\n",
    "\n",
    "توجه: متد remove() لیست فقط اولین رخداد مقدار مشخص شده را حذف می کند.\n",
    "\n",
    "</section>"
   ]
  },
  {
   "cell_type": "markdown",
   "metadata": {},
   "source": [
    "___\n",
    "<section style=\"direction: rtl; text-align: justify; margin: 30px;\">\n",
    "\n",
    "### **متدها**\n",
    "\n",
    "- append() = یک عنصر در انتهای لیست اضافه می کند\n",
    "- clear() = تمام عناصر را از لیست حذف می کند\n",
    "- copy() = یک کپی از لیست را برمی گرداند\n",
    "- count() = تعداد عناصر را با مقدار مشخص شده برمی گرداند\n",
    "- extend() = عناصر یک لیست (یا هر قابل تکرار) را به انتهای لیست فعلی اضافه کنید\n",
    "- index() = شاخص اولین عنصر را با مقدار مشخص شده برمی گرداند\n",
    "- insert() = یک عنصر را در موقعیت مشخص شده اضافه می کند\n",
    "- pop() = عنصر را در موقعیت مشخص شده حذف می کند\n",
    "- remove() = اولین مورد را با مقدار مشخص شده حذف می کند\n",
    "- revese() ترتیب لیست را معکوس می کند\n",
    "- sort() = لیست را مرتب می‌کند \n",
    "\n",
    "\n",
    "نکته پایانی: پایتون از آرایه ها پشتیبانی داخلی ندارد، اما به جای آن می توان از لیست‌های پایتون استفاده کرد.\n",
    "\n",
    "</section>"
   ]
  }
 ],
 "metadata": {
  "kernelspec": {
   "display_name": "My Environment",
   "language": "python",
   "name": "myenv"
  },
  "language_info": {
   "codemirror_mode": {
    "name": "ipython",
    "version": 3
   },
   "file_extension": ".py",
   "mimetype": "text/x-python",
   "name": "python",
   "nbconvert_exporter": "python",
   "pygments_lexer": "ipython3",
   "version": "3.11.4"
  }
 },
 "nbformat": 4,
 "nbformat_minor": 2
}
