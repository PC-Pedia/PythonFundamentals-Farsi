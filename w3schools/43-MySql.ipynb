{
 "cells": [
  {
   "cell_type": "markdown",
   "metadata": {},
   "source": [
    "Python MySQL\n",
    "\n",
    "<section style=\"direction: rtl; text-align: justify; margin: 30px;\">\n",
    "\n",
    "## **MySQL در پایتون**\n",
    "\n",
    "🧠 MySQL یکی از محبوب‌ترین سیستم‌های مدیریت پایگاه داده است که با استفاده از آن می‌توانید داده‌های خود را ذخیره و مدیریت کنید. در پایتون، شما می‌توانید از کتابخانه mysql-connector-python برای برقراری ارتباط و اجرای عملیات بر روی یک پایگاه داده MySQL استفاده کنید.\n",
    "\n",
    "در ابتدا، باید این کتابخانه را نصب کنید. می‌توانید از این دستور را در خط فرمان وارد کنید:\n",
    "\n",
    "</section>\n",
    "\n",
    "> pip install mysql-connector-python\n",
    "\n",
    "<section style=\"direction: rtl; text-align: justify; margin: 30px;\">\n",
    "\n",
    "حالا بیایید یک اتصال به پایگاه داده MySQL برقرار کنیم:\n",
    "\n",
    "</section>"
   ]
  },
  {
   "cell_type": "code",
   "execution_count": 1,
   "metadata": {},
   "outputs": [
    {
     "name": "stdout",
     "output_type": "stream",
     "text": [
      "<mysql.connector.connection_cext.CMySQLConnection object at 0x7facdcf5fdf0>\n"
     ]
    }
   ],
   "source": [
    "import mysql.connector\n",
    "\n",
    "global mycursor\n",
    "\n",
    "# برقراری اتصال\n",
    "mydb = mysql.connector.connect(\n",
    "    host=\"localhost\",  # میزبان پایگاه داده\n",
    "    user=\"root\",  # نام کاربری\n",
    "    password=\"1234\",  # رمز عبور\n",
    ")\n",
    "\n",
    "print(mydb)"
   ]
  },
  {
   "cell_type": "markdown",
   "metadata": {},
   "source": [
    "<section style=\"direction: rtl; text-align: justify; margin: 30px;\">\n",
    "\n",
    "سپس می‌توانید عملیات‌های مختلفی مانند اجرای کوئری‌ها یا درج، به‌روزرسانی و حذف داده‌ها را انجام دهید. به عنوان مثال:\n",
    "\n",
    "</section>"
   ]
  },
  {
   "cell_type": "code",
   "execution_count": 2,
   "metadata": {},
   "outputs": [
    {
     "name": "stdout",
     "output_type": "stream",
     "text": [
      "('information_schema',)\n",
      "('mysql',)\n",
      "('performance_schema',)\n",
      "('shop',)\n",
      "('sys',)\n"
     ]
    }
   ],
   "source": [
    "mycursor = mydb.cursor()\n",
    "\n",
    "mycursor.execute(\"SHOW DATABASES\")\n",
    "\n",
    "for x in mycursor:\n",
    "    print(x)"
   ]
  },
  {
   "cell_type": "markdown",
   "metadata": {},
   "source": [
    "<section style=\"direction: rtl; text-align: justify; margin: 30px;\">\n",
    "\n",
    "برای ایجاد یک پایگاه داده در MySQL، از عبارت \"CREATE DATABASE\" استفاده کنید:\n",
    "\n",
    "</section>"
   ]
  },
  {
   "cell_type": "code",
   "execution_count": null,
   "metadata": {},
   "outputs": [],
   "source": [
    "import mysql.connector\n",
    "\n",
    "mydb = mysql.connector.connect(\n",
    "    host=\"127.0.0.1\",\n",
    "    port=\"3306\",\n",
    "    user=\"root\",\n",
    "    password=\"1234\"\n",
    ")\n",
    "\n",
    "mycursor = mydb.cursor()\n",
    "\n",
    "mycursor.execute(\"CREATE DATABASE shop\")"
   ]
  },
  {
   "cell_type": "markdown",
   "metadata": {},
   "source": [
    "<section style=\"direction: rtl; text-align: justify; margin: 30px;\">\n",
    "\n",
    "اگر کد بالا بدون خطا اجرا شد، شما با موفقیت یک پایگاه داده ایجاد کرده اید.\n",
    "\n",
    "<div style=\"border-top: 1px solid #ccc; margin: 10px 0; opacity: 0.4\"></div>\n",
    "\n",
    "### بررسی کنید که آیا پایگاه داده وجود دارد\n",
    "\n",
    "شما می توانید بررسی کنید که آیا یک پایگاه داده وجود دارد با لیست تمام پایگاه های داده در سیستم خود را با استفاده از \"نمایش پایگاه داده\" بیانیه:\n",
    "\n",
    "</section>"
   ]
  },
  {
   "cell_type": "code",
   "execution_count": 17,
   "metadata": {},
   "outputs": [
    {
     "name": "stdout",
     "output_type": "stream",
     "text": [
      "('information_schema',)\n",
      "('mysql',)\n",
      "('performance_schema',)\n",
      "('shop',)\n",
      "('sys',)\n"
     ]
    }
   ],
   "source": [
    "import mysql.connector\n",
    "\n",
    "mydb = mysql.connector.connect(\n",
    "    host=\"localhost\",\n",
    "    user=\"root\",\n",
    "    password=\"1234\"\n",
    ")\n",
    "\n",
    "mycursor = mydb.cursor()\n",
    "\n",
    "mycursor.execute(\"SHOW DATABASES\")\n",
    "\n",
    "for x in mycursor:\n",
    "    print(x)"
   ]
  },
  {
   "cell_type": "markdown",
   "metadata": {},
   "source": [
    "<section style=\"direction: rtl; text-align: justify; margin: 30px;\">\n",
    "\n",
    "یا می‌توانید در هنگام ساخت اتصال بررسی کنید که آیا یک یتابیس وجود دارد یا خیر:\n",
    "\n",
    "</section>"
   ]
  },
  {
   "cell_type": "code",
   "execution_count": 7,
   "metadata": {},
   "outputs": [],
   "source": [
    "import mysql.connector\n",
    "\n",
    "mydb = mysql.connector.connect(\n",
    "    host=\"localhost\",\n",
    "    user=\"root\",\n",
    "    password=\"1234\",\n",
    "    database=\"shop\"\n",
    ")"
   ]
  },
  {
   "cell_type": "markdown",
   "metadata": {},
   "source": [
    "<section style=\"direction: rtl; text-align: justify; margin: 30px;\">\n",
    "\n",
    "اگر پایگاه داده وجود نداشته باشد، شما یک خطا دریافت خواهید کرد.\n",
    "\n",
    "</section>"
   ]
  },
  {
   "cell_type": "markdown",
   "metadata": {},
   "source": [
    "<div style=\"border-top: 1px solid #ccc; margin: 10px 0; opacity: 0.4\"></div>\n",
    "\n",
    "Python MySQL Create Table\n",
    "\n",
    "<section style=\"direction: rtl; text-align: justify; margin: 30px;\">\n",
    "\n",
    "## **ساخت جدول**\n",
    "\n",
    "برای ایجاد یک جدول در MySQL، از عبارت \"CREATE DATABASE\" استفاده کنید.\n",
    "\n",
    "اطمینان حاصل کنید که هنگام ایجاد اتصال، نام پایگاه داده را تعریف می کنید\n",
    "\n",
    "</section>"
   ]
  },
  {
   "cell_type": "code",
   "execution_count": null,
   "metadata": {},
   "outputs": [],
   "source": [
    "import mysql.connector\n",
    "\n",
    "mydb = mysql.connector.connect(\n",
    "    host=\"localhost\",\n",
    "    port=\"3306\",\n",
    "    user=\"root\",\n",
    "    password=\"1234\",\n",
    "    database=\"shop\"\n",
    ")\n",
    "\n",
    "mycursor = mydb.cursor()\n",
    "\n",
    "mycursor.execute(\n",
    "    \"CREATE TABLE custommers (name VARCHAR(255), address VARCHAR(255))\")"
   ]
  },
  {
   "cell_type": "markdown",
   "metadata": {},
   "source": [
    "<section style=\"direction: rtl; text-align: justify; margin: 30px;\">\n",
    "\n",
    "اگر کد بالا بدون خطا اجرا شد، اکنون با موفقیت یک جدول ایجاد کرده اید.\n",
    "\n",
    "</section>"
   ]
  },
  {
   "cell_type": "markdown",
   "metadata": {},
   "source": [
    "<section style=\"direction: rtl; text-align: justify; margin: 30px;\">\n",
    "\n",
    "<div style=\"border-top: 1px solid #ccc; margin: 10px 0; opacity: 0.4\"></div>\n",
    "\n",
    "### بررسی کنید که آیا جدول وجود دارد یا خیر\n",
    "\n",
    "با دستور \"SHOW TABLES\" می‌توانید بررسی کنید که آیا جدول مورد نظر وجود دارد یا خیر:\n",
    "\n",
    "</section>"
   ]
  },
  {
   "cell_type": "code",
   "execution_count": 8,
   "metadata": {},
   "outputs": [
    {
     "name": "stdout",
     "output_type": "stream",
     "text": [
      "('customers',)\n"
     ]
    }
   ],
   "source": [
    "import mysql.connector\n",
    "\n",
    "mydb = mysql.connector.connect(\n",
    "    host=\"localhost\",\n",
    "    user=\"root\",\n",
    "    password=\"1234\",\n",
    "    database=\"shop\"\n",
    ")\n",
    "\n",
    "mycursor = mydb.cursor()\n",
    "\n",
    "mycursor.execute(\"SHOW TABLES\")\n",
    "\n",
    "for x in mycursor:\n",
    "    print(x)"
   ]
  },
  {
   "cell_type": "markdown",
   "metadata": {},
   "source": [
    "<section style=\"direction: rtl; text-align: justify; margin: 30px;\">\n",
    "\n",
    "<div style=\"border-top: 1px solid #ccc; margin: 10px 0; opacity: 0.4\"></div>\n",
    "<div style=\"border-top: 1px solid #ccc; margin: 10px 0; opacity: 0.4\"></div>\n",
    "\n",
    "\n",
    "### کلید اصلی (Primary Key)\n",
    "\n",
    "هنگام ایجاد یک جدول، شما همچنین باید یک ستون با یک کلید منحصر به فرد برای هر رکورد ایجاد کنید.\n",
    "\n",
    "این کار را میتوان با تعریف یک کلید اولیه انجام داد.\n",
    "\n",
    "ما از عبارت \"INT AUTO_INTCREEMENT PRIME KEY\" استفاده می کنیم که یک شماره منحصر به فرد برای هر رکورد وارد می کند. از 1 شروع می شود و برای هر رکورد یک واحد افزایش می یابد.\n",
    "\n",
    "</section>"
   ]
  },
  {
   "cell_type": "code",
   "execution_count": 13,
   "metadata": {},
   "outputs": [],
   "source": [
    "import mysql.connector\n",
    "\n",
    "mydb = mysql.connector.connect(\n",
    "    host=\"localhost\",\n",
    "    user=\"root\",\n",
    "    password=\"1234\",\n",
    "    database=\"shop\"\n",
    ")\n",
    "\n",
    "mycursor = mydb.cursor()\n",
    "\n",
    "mycursor.execute(\n",
    "    \"CREATE TABLE customers (id INT AUTO_INCREMENT PRIMARY KEY, name VARCHAR(255), address VARCHAR(255))\")"
   ]
  },
  {
   "cell_type": "markdown",
   "metadata": {},
   "source": [
    "<section style=\"direction: rtl; text-align: justify; margin: 30px;\">\n",
    "\n",
    "اگر جدول در حال حاضر وجود دارد، از کلمه کلیدی ALTER TABLE استفاده کنید:\n",
    "\n",
    "</section>"
   ]
  },
  {
   "cell_type": "code",
   "execution_count": null,
   "metadata": {},
   "outputs": [],
   "source": [
    "import mysql.connector\n",
    "\n",
    "mydb = mysql.connector.connect(\n",
    "    host=\"localhost\",\n",
    "    user=\"root\",\n",
    "    password=\"1234\",\n",
    "    database=\"shop\"\n",
    ")\n",
    "\n",
    "mycursor = mydb.cursor()\n",
    "\n",
    "mycursor.execute(\n",
    "    \"ALTER TABLE customers ADD COLUMN id INT AUTO_INCREMENT PRIMARY KEY\")"
   ]
  },
  {
   "cell_type": "markdown",
   "metadata": {},
   "source": [
    "---\n",
    "\n",
    "Python MySQL Insert Into Table\n",
    "\n",
    "<section style=\"direction: rtl; text-align: justify; margin: 30px;\">\n",
    "\n",
    "برای پر کردن داده‌های یک جدول در MySQL، از عبارت \"INSERT INTO\" استفاده کنید.\n",
    "\n",
    "</section>"
   ]
  },
  {
   "cell_type": "code",
   "execution_count": 15,
   "metadata": {},
   "outputs": [
    {
     "name": "stdout",
     "output_type": "stream",
     "text": [
      "1 record inserted.\n"
     ]
    }
   ],
   "source": [
    "import mysql.connector\n",
    "\n",
    "mydb = mysql.connector.connect(\n",
    "    host=\"127.0.0.1\",\n",
    "    user=\"root\",\n",
    "    port=\"3306\",\n",
    "    password=\"1234\",\n",
    "    database=\"shop\"\n",
    ")\n",
    "\n",
    "mycursor = mydb.cursor()\n",
    "\n",
    "sql = \"INSERT INTO customers (name, address) VALUES (%s, %s)\"\n",
    "val = (\"saleh\", \"tehran\")\n",
    "mycursor.execute(sql, val)\n",
    "\n",
    "mydb.commit()\n",
    "\n",
    "print(mycursor.rowcount, \"record inserted.\")"
   ]
  },
  {
   "cell_type": "markdown",
   "metadata": {},
   "source": [
    "<section style=\"direction: rtl; text-align: justify; margin: 30px;\">\n",
    "\n",
    "⚠️ مهم!: توجه به بیانیه: mydb.commit(). لازم است که تغییرات انجام شود، در غیر این صورت هیچ تغییری در جدول ایجاد نمیشود.\n",
    "\n",
    "<div style=\"border-top: 1px solid #ccc; margin: 10px 0; opacity: 0.4\"></div>\n",
    "\n",
    "ردیف های چندگانه را وارد کنید  \n",
    "\n",
    "برای قرار دادن چندین ردیف در یک جدول، از روش executemany() استفاده کنید.\n",
    "\n",
    "پارامتر دوم روش executemany() لیستی از تاپل ها است که حاوی داده هایی است که می خواهید وارد کنید:\n",
    "\n",
    "</section>"
   ]
  },
  {
   "cell_type": "code",
   "execution_count": 1,
   "metadata": {},
   "outputs": [
    {
     "name": "stdout",
     "output_type": "stream",
     "text": [
      "13 was inserted.\n"
     ]
    }
   ],
   "source": [
    "import mysql.connector\n",
    "\n",
    "mydb = mysql.connector.connect(\n",
    "    host=\"localhost\",\n",
    "    user=\"root\",\n",
    "    password=\"1234\",\n",
    "    database=\"shop\"\n",
    ")\n",
    "\n",
    "mycursor = mydb.cursor()\n",
    "\n",
    "sql = \"INSERT INTO customers (name, address) VALUES (%s, %s)\"\n",
    "val = [\n",
    "    ('Peter', 'Lowstreet 4'),\n",
    "    ('Amy', 'Apple st 652'),\n",
    "    ('Hannah', 'Mountain 21'),\n",
    "    ('Michael', 'Valley 345'),\n",
    "    ('Sandy', 'Ocean blvd 2'),\n",
    "    ('Betty', 'Green Grass 1'),\n",
    "    ('Richard', 'Sky st 331'),\n",
    "    ('Susan', 'One way 98'),\n",
    "    ('Vicky', 'Yellow Garden 2'),\n",
    "    ('Ben', 'Park Lane 38'),\n",
    "    ('William', 'Central st 954'),\n",
    "    ('Chuck', 'Main Road 989'),\n",
    "    ('Viola', 'Sideway 1633')\n",
    "]\n",
    "\n",
    "mycursor.executemany(sql, val)\n",
    "\n",
    "mydb.commit()\n",
    "\n",
    "print(mycursor.rowcount, \"was inserted.\")"
   ]
  },
  {
   "cell_type": "markdown",
   "metadata": {},
   "source": [
    "<div style=\"border-top: 1px solid #ccc; margin: 10px 0; opacity: 0.4\"></div>\n",
    "<div style=\"border-top: 1px solid #ccc; margin: 10px 0; opacity: 0.4\"></div>\n",
    "\n",
    "<section style=\"direction: rtl; text-align: justify; margin: 30px;\">\n",
    "\n",
    "شما می توانید شناسه ردیف را که فقط با درخواست شیء مکان نما وارد کرده اید دریافت کنید.\n",
    "\n",
    "⚠️ توجه: اگر بیش از یک ردیف را وارد کنید، شناسه آخرین ردیف وارد شده بازگردانده می شود.\n",
    "\n",
    "</section>"
   ]
  },
  {
   "cell_type": "code",
   "execution_count": 17,
   "metadata": {},
   "outputs": [
    {
     "name": "stdout",
     "output_type": "stream",
     "text": [
      "1 record inserted, ID: 25\n"
     ]
    }
   ],
   "source": [
    "import mysql.connector\n",
    "\n",
    "mydb = mysql.connector.connect(\n",
    "    host=\"localhost\",\n",
    "    user=\"root\",\n",
    "    password=\"1234\",\n",
    "    database=\"shop\"\n",
    ")\n",
    "\n",
    "mycursor = mydb.cursor()\n",
    "\n",
    "sql = \"INSERT INTO customers (name, address) VALUES (%s, %s)\"\n",
    "val = (\"saleh\", \"tehran\")\n",
    "mycursor.execute(sql, val)\n",
    "\n",
    "mydb.commit()\n",
    "\n",
    "print(\"1 record inserted, ID:\", mycursor.lastrowid)"
   ]
  },
  {
   "cell_type": "markdown",
   "metadata": {},
   "source": [
    "<div style=\"border-top: 1px solid #ccc; margin: 10px 0; opacity: 0.4\"></div>\n",
    "\n",
    "Python MySQL Select From\n",
    "\n",
    "<section style=\"direction: rtl; text-align: justify; margin: 30px;\">\n",
    "\n",
    "## **انتخاب یک عبارت**\n",
    "\n",
    "برای انتخاب از یک جدول در MySQL، از عبارت \"SELECT\" استفاده کنید:\n",
    "\n",
    "</section>"
   ]
  },
  {
   "cell_type": "code",
   "execution_count": 16,
   "metadata": {},
   "outputs": [
    {
     "name": "stdout",
     "output_type": "stream",
     "text": [
      "(9, 'Peter', 'Lowstreet 4')\n",
      "(10, 'Amy', 'Apple st 652')\n",
      "(11, 'Hannah', 'Mountain 21')\n",
      "(12, 'Michael', 'Valley 345')\n",
      "(13, 'Sandy', 'Ocean blvd 2')\n",
      "(14, 'Betty', 'Green Grass 1')\n",
      "(15, 'Richard', 'Sky st 331')\n",
      "(16, 'Susan', 'One way 98')\n",
      "(17, 'Vicky', 'Yellow Garden 2')\n",
      "(18, 'Ben', 'Park Lane 38')\n",
      "(19, 'William', 'Central st 954')\n",
      "(20, 'Chuck', 'Main Road 989')\n",
      "(21, 'Viola', 'Sideway 1633')\n"
     ]
    }
   ],
   "source": [
    "import mysql.connector\n",
    "\n",
    "mydb = mysql.connector.connect(\n",
    "    host=\"localhost\",\n",
    "    user=\"root\",\n",
    "    password=\"1234\",\n",
    "    database=\"shop\"\n",
    ")\n",
    "\n",
    "mycursor = mydb.cursor()\n",
    "\n",
    "mycursor.execute(\"SELECT * FROM customers\")\n",
    "\n",
    "myresult = mycursor.fetchall()\n",
    "\n",
    "for x in myresult:\n",
    "    print(x)"
   ]
  },
  {
   "cell_type": "markdown",
   "metadata": {},
   "source": [
    "<div style=\"border-top: 1px solid #ccc; margin: 10px 0; opacity: 0.4\"></div>\n",
    "<div style=\"border-top: 1px solid #ccc; margin: 10px 0; opacity: 0.4\"></div>\n",
    "\n",
    "Using the fetchone() Method\n",
    "\n",
    "<section style=\"direction: rtl; text-align: justify; margin: 30px;\">\n",
    "\n",
    "### **استفاده از متد fetchone()**\n",
    "\n",
    "برای انتخاب یک ردیف از اطلاعات می‌توان از متد fetchone() استفاده کرد.\n",
    "\n",
    "روش ()fetchone اولین ردیف نتیجه را برمی گرداند:\n",
    "\n",
    "</section>"
   ]
  },
  {
   "cell_type": "code",
   "execution_count": 18,
   "metadata": {},
   "outputs": [
    {
     "name": "stdout",
     "output_type": "stream",
     "text": [
      "(9, 'Peter', 'Lowstreet 4')\n"
     ]
    }
   ],
   "source": [
    "import mysql.connector\n",
    "\n",
    "mydb = mysql.connector.connect(\n",
    "    host=\"localhost\",\n",
    "    user=\"root\",\n",
    "    password=\"1234\",\n",
    "    database=\"shop\"\n",
    ")\n",
    "\n",
    "mycursor = mydb.cursor()\n",
    "\n",
    "mycursor.execute(\"SELECT * FROM customers\")\n",
    "\n",
    "myresult = mycursor.fetchone()\n",
    "\n",
    "print(myresult)"
   ]
  },
  {
   "cell_type": "markdown",
   "metadata": {},
   "source": [
    "<div style=\"border-top: 1px solid #ccc; margin: 10px 0; opacity: 0.4\"></div>\n",
    "\n",
    "Python MySQL Where\n",
    "\n",
    "<section style=\"direction: rtl; text-align: justify; margin: 30px;\">\n",
    "\n",
    "## **جستجوی یک عبارت**\n",
    "\n",
    "هنگام انتخاب رکوردها از یک جدول، می توانید انتخاب را با استفاده از عبارت \"WHERE\" فیلتر کنید:\n",
    "\n",
    "</section>"
   ]
  },
  {
   "cell_type": "code",
   "execution_count": 20,
   "metadata": {},
   "outputs": [
    {
     "name": "stdout",
     "output_type": "stream",
     "text": [
      "(25, 'saleh', 'tehran')\n"
     ]
    }
   ],
   "source": [
    "import mysql.connector\n",
    "\n",
    "mydb = mysql.connector.connect(\n",
    "    host=\"localhost\",\n",
    "    user=\"root\",\n",
    "    password=\"1234\",\n",
    "    database=\"shop\"\n",
    ")\n",
    "\n",
    "mycursor = mydb.cursor()\n",
    "\n",
    "sql = \"SELECT * FROM customers WHERE name = 'saleh'\"\n",
    "\n",
    "mycursor.execute(sql)\n",
    "\n",
    "myresult = mycursor.fetchall()\n",
    "\n",
    "for x in myresult:\n",
    "    print(x)"
   ]
  },
  {
   "cell_type": "markdown",
   "metadata": {},
   "source": [
    "<section style=\"direction: rtl; text-align: justify; margin: 30px;\">\n",
    "\n",
    "<div style=\"border-top: 1px solid #ccc; margin: 10px 0; opacity: 0.4\"></div>\n",
    "\n",
    "### **کاراکترهای Wildcard**\n",
    "\n",
    "همچنین می‌توانید رکوردهایی را انتخاب کنید که با یک حرف یا عبارت مشخص شروع، شامل یا پایان می‌شوند.\n",
    "\n",
    "از %  برای نمایش کاراکترهای wildcard استفاده کنید:\n",
    "\n",
    "</section>"
   ]
  },
  {
   "cell_type": "code",
   "execution_count": 22,
   "metadata": {},
   "outputs": [
    {
     "name": "stdout",
     "output_type": "stream",
     "text": [
      "(16, 'Susan', 'One way 98')\n",
      "(21, 'Viola', 'Sideway 1633')\n"
     ]
    }
   ],
   "source": [
    "import mysql.connector\n",
    "\n",
    "mydb = mysql.connector.connect(\n",
    "    host=\"localhost\",\n",
    "    user=\"root\",\n",
    "    password=\"1234\",\n",
    "    database=\"shop\"\n",
    ")\n",
    "\n",
    "mycursor = mydb.cursor()\n",
    "\n",
    "sql = \"SELECT * FROM customers WHERE address LIKE '%way%'\"\n",
    "\n",
    "mycursor.execute(sql)\n",
    "\n",
    "myresult = mycursor.fetchall()\n",
    "\n",
    "for x in myresult:\n",
    "    print(x)"
   ]
  },
  {
   "cell_type": "markdown",
   "metadata": {},
   "source": [
    "<section style=\"direction: rtl; text-align: justify; margin: 30px;\">\n",
    "\n",
    "<div style=\"border-top: 1px solid #ccc; margin: 10px 0; opacity: 0.4\"></div>\n",
    "<div style=\"border-top: 1px solid #ccc; margin: 10px 0; opacity: 0.4\"></div>\n",
    "\n",
    "### **جلوگیری از تزریق SQL**\n",
    "\n",
    "هنگامی که مقادیر پرس و جو توسط کاربر ارائه می شود، باید مقادیر را escape کرد.\n",
    "\n",
    "این برای جلوگیری از تزریق SQL است، که یک تکنیک رایج هک وب برای از بین بردن یا سوء استفاده از پایگاه داده شما است.\n",
    "\n",
    "ماژول mysql.connector روش هایی برای فرار از مقادیر پرس و جو دارد:\n",
    "\n",
    "</section>"
   ]
  },
  {
   "cell_type": "code",
   "execution_count": 23,
   "metadata": {},
   "outputs": [
    {
     "name": "stdout",
     "output_type": "stream",
     "text": [
      "(17, 'Vicky', 'Yellow Garden 2')\n"
     ]
    }
   ],
   "source": [
    "import mysql.connector\n",
    "\n",
    "mydb = mysql.connector.connect(\n",
    "    host=\"localhost\",\n",
    "    user=\"root\",\n",
    "    password=\"1234\",\n",
    "    database=\"shop\"\n",
    ")\n",
    "\n",
    "mycursor = mydb.cursor()\n",
    "\n",
    "sql = \"SELECT * FROM customers WHERE address = %s\"\n",
    "adr = (\"Yellow Garden 2\", )\n",
    "\n",
    "mycursor.execute(sql, adr)\n",
    "\n",
    "myresult = mycursor.fetchall()\n",
    "\n",
    "for x in myresult:\n",
    "    print(x)"
   ]
  },
  {
   "cell_type": "markdown",
   "metadata": {},
   "source": [
    "<div style=\"border-top: 1px solid #ccc; margin: 10px 0; opacity: 0.4\"></div>\n",
    "\n",
    "Python MySQL Order By\n",
    "\n",
    "<section style=\"direction: rtl; text-align: justify; margin: 30px;\">\n",
    "\n",
    "## **مرتب کردن نتایج**\n",
    "\n",
    "از دستور ORDER BY برای مرتب کردن نتیجه به ترتیب صعودی یا نزولی استفاده کنید.\n",
    "\n",
    "کلمه کلیدی ORDER BY نتیجه را بصورت صعودی مرتب می کند. برای مرتب کردن نتیجه به ترتیب نزولی، از کلمه کلیدی DESC استفاده کنید.\n",
    "\n",
    "</section>"
   ]
  },
  {
   "cell_type": "code",
   "execution_count": 24,
   "metadata": {},
   "outputs": [
    {
     "name": "stdout",
     "output_type": "stream",
     "text": [
      "(10, 'Amy', 'Apple st 652')\n",
      "(18, 'Ben', 'Park Lane 38')\n",
      "(14, 'Betty', 'Green Grass 1')\n",
      "(20, 'Chuck', 'Main Road 989')\n",
      "(11, 'Hannah', 'Mountain 21')\n",
      "(12, 'Michael', 'Valley 345')\n",
      "(9, 'Peter', 'Lowstreet 4')\n",
      "(15, 'Richard', 'Sky st 331')\n",
      "(25, 'saleh', 'tehran')\n",
      "(13, 'Sandy', 'Ocean blvd 2')\n",
      "(16, 'Susan', 'One way 98')\n",
      "(17, 'Vicky', 'Yellow Garden 2')\n",
      "(21, 'Viola', 'Sideway 1633')\n",
      "(19, 'William', 'Central st 954')\n"
     ]
    }
   ],
   "source": [
    "import mysql.connector\n",
    "\n",
    "mydb = mysql.connector.connect(\n",
    "    host=\"localhost\",\n",
    "    user=\"root\",\n",
    "    password=\"1234\",\n",
    "    database=\"shop\"\n",
    ")\n",
    "\n",
    "mycursor = mydb.cursor()\n",
    "\n",
    "sql = \"SELECT * FROM customers ORDER BY name\"\n",
    "\n",
    "mycursor.execute(sql)\n",
    "\n",
    "myresult = mycursor.fetchall()\n",
    "\n",
    "for x in myresult:\n",
    "    print(x)"
   ]
  },
  {
   "cell_type": "markdown",
   "metadata": {},
   "source": [
    "<section style=\"direction: rtl; text-align: justify; margin: 30px;\">\n",
    "\n",
    "<div style=\"border-top: 1px solid #ccc; margin: 10px 0; opacity: 0.4\"></div>\n",
    "\n",
    "### **مرتب کردن نزولی**\n",
    "\n",
    "از کلمه کلیدی DESC برای مرتب کردن نتایج به ترتیب نزولی استفاده کنید.\n",
    "\n",
    "</section>"
   ]
  },
  {
   "cell_type": "code",
   "execution_count": 1,
   "metadata": {},
   "outputs": [
    {
     "name": "stdout",
     "output_type": "stream",
     "text": [
      "(19, 'William', 'Central st 954')\n",
      "(21, 'Viola', 'Sideway 1633')\n",
      "(17, 'Vicky', 'Yellow Garden 2')\n",
      "(16, 'Susan', 'One way 98')\n",
      "(13, 'Sandy', 'Ocean blvd 2')\n",
      "(25, 'saleh', 'tehran')\n",
      "(15, 'Richard', 'Sky st 331')\n",
      "(9, 'Peter', 'Lowstreet 4')\n",
      "(12, 'Michael', 'Valley 345')\n",
      "(11, 'Hannah', 'Mountain 21')\n",
      "(20, 'Chuck', 'Main Road 989')\n",
      "(14, 'Betty', 'Green Grass 1')\n",
      "(18, 'Ben', 'Park Lane 38')\n",
      "(10, 'Amy', 'Apple st 652')\n"
     ]
    }
   ],
   "source": [
    "import mysql.connector\n",
    "\n",
    "mydb = mysql.connector.connect(\n",
    "    host=\"localhost\",\n",
    "    user=\"root\",\n",
    "    password=\"1234\",\n",
    "    database=\"shop\"\n",
    ")\n",
    "\n",
    "mycursor = mydb.cursor()\n",
    "\n",
    "sql = \"SELECT * FROM customers ORDER BY name DESC\"\n",
    "\n",
    "mycursor.execute(sql)\n",
    "\n",
    "myresult = mycursor.fetchall()\n",
    "\n",
    "for x in myresult:\n",
    "    print(x)"
   ]
  },
  {
   "cell_type": "markdown",
   "metadata": {},
   "source": [
    "<div style=\"border-top: 1px solid #ccc; margin: 10px 0; opacity: 0.4\"></div>\n",
    "\n",
    "Python MySQL Delete From By\n",
    "\n",
    "<section style=\"direction: rtl; text-align: justify; margin: 30px;\">\n",
    "\n",
    "## **حذف کردن نتایج**\n",
    "\n",
    "با استفاده از عبارت \"DELETE FROM\" می توانید رکوردها را از یک جدول موجود حذف کنید:\n",
    "\n",
    "</section>"
   ]
  },
  {
   "cell_type": "code",
   "execution_count": 3,
   "metadata": {},
   "outputs": [
    {
     "name": "stdout",
     "output_type": "stream",
     "text": [
      "1 record(s) deleted\n"
     ]
    }
   ],
   "source": [
    "import mysql.connector\n",
    "\n",
    "mydb = mysql.connector.connect(\n",
    "    host=\"localhost\",\n",
    "    port=\"3306\",\n",
    "    user=\"root\",\n",
    "    password=\"1234\",\n",
    "    database=\"shop\"\n",
    ")\n",
    "\n",
    "mycursor = mydb.cursor()\n",
    "\n",
    "sql = \"DELETE FROM customers WHERE address = 'Mountain 21'\"\n",
    "\n",
    "mycursor.execute(sql)\n",
    "\n",
    "mydb.commit()\n",
    "\n",
    "print(mycursor.rowcount, \"record(s) deleted\")"
   ]
  },
  {
   "cell_type": "markdown",
   "metadata": {},
   "source": [
    "<section style=\"direction: rtl; text-align: justify; margin: 30px;\">\n",
    "\n",
    "⚠️ مهم!: به عبارت mydb.commit توجه کنید. انجام تغییرات الزامی است، در غیر این صورت هیچ تغییری در جدول ایجاد نمی شود.\n",
    "\n",
    "⚠️ به عبارت WHERE در نحو DELETE توجه کنید: عبارت WHERE مشخص می کند که کدام رکورد(ها) باید حذف شوند. اگر بند WHERE را حذف کنید، تمام رکوردها حذف خواهند شد!\n",
    "\n",
    "\n",
    "<div style=\"border-top: 1px solid #ccc; margin: 10px 0; opacity: 0.4\"></div>\n",
    "<div style=\"border-top: 1px solid #ccc; margin: 10px 0; opacity: 0.4\"></div>\n",
    "\n",
    "### **(SQL Injection) جلوگیری از تزریق SQL**\n",
    "\n",
    "فرار از مقادیر هر پرس و جو، همچنین در دستورات حذف، یک روش خوب در نظر گرفته می شود.\n",
    "\n",
    "این برای جلوگیری از تزریق SQL است، که یک تکنیک رایج هک وب برای از بین بردن یا سوء استفاده از پایگاه داده شما است.\n",
    "\n",
    "ماژول mysql.connector از مکان نگهدار %s برای فرار از مقادیر در عبارت delete استفاده می کند:\n",
    "\n",
    "</section>"
   ]
  },
  {
   "cell_type": "code",
   "execution_count": 7,
   "metadata": {},
   "outputs": [
    {
     "name": "stdout",
     "output_type": "stream",
     "text": [
      "1 record(s) deleted\n"
     ]
    }
   ],
   "source": [
    "import mysql.connector\n",
    "\n",
    "mydb = mysql.connector.connect(\n",
    "    host=\"localhost\",\n",
    "    user=\"root\",\n",
    "    password=\"1234\",\n",
    "    database=\"shop\"\n",
    ")\n",
    "\n",
    "mycursor = mydb.cursor()\n",
    "\n",
    "sql = \"DELETE FROM customers WHERE address = %s\"\n",
    "adr = (\"Yellow Garden 2\", )\n",
    "\n",
    "mycursor.execute(sql, adr)\n",
    "\n",
    "mydb.commit()\n",
    "\n",
    "print(mycursor.rowcount, \"record(s) deleted\")"
   ]
  },
  {
   "cell_type": "markdown",
   "metadata": {},
   "source": [
    "<div style=\"border-top: 1px solid #ccc; margin: 10px 0; opacity: 0.4\"></div>\n",
    "\n",
    "Python MySQL Drop Table\n",
    "\n",
    "<section style=\"direction: rtl; text-align: justify; margin: 30px;\">\n",
    "\n",
    "## **حذف یک جدول**\n",
    "\n",
    "با استفاده از عبارت \"DROP TABLE\" می توانید یک جدول موجود را حذف کنید:\n",
    "\n",
    "</section>"
   ]
  },
  {
   "cell_type": "code",
   "execution_count": null,
   "metadata": {},
   "outputs": [],
   "source": [
    "import mysql.connector\n",
    "\n",
    "mydb = mysql.connector.connect(\n",
    "    host=\"localhost\",\n",
    "    user=\"root\",\n",
    "    password=\"1234\",\n",
    "    database=\"shop\"\n",
    ")\n",
    "\n",
    "mycursor = mydb.cursor()\n",
    "\n",
    "sql = \"DROP TABLE customers\"\n",
    "\n",
    "mycursor.execute(sql)"
   ]
  },
  {
   "cell_type": "markdown",
   "metadata": {},
   "source": [
    "<section style=\"direction: rtl; text-align: justify; margin: 30px;\">\n",
    "\n",
    "<div style=\"border-top: 1px solid #ccc; margin: 10px 0; opacity: 0.4\"></div>\n",
    "\n",
    "اگر جدولی که می خواهید حذف کنید قبلاً حذف شده است یا به هر دلیل دیگری وجود ندارد، می توانید از کلمه کلیدی IF EXISTS برای جلوگیری از خطا استفاده کنید.\n",
    "\n",
    "</section>"
   ]
  },
  {
   "cell_type": "code",
   "execution_count": 2,
   "metadata": {},
   "outputs": [],
   "source": [
    "import mysql.connector\n",
    "\n",
    "mydb = mysql.connector.connect(\n",
    "    host=\"localhost\",\n",
    "    user=\"root\",\n",
    "    password=\"1234\",\n",
    "    database=\"shop\"\n",
    ")\n",
    "\n",
    "mycursor = mydb.cursor()\n",
    "\n",
    "sql = \"DROP TABLE IF EXISTS customers\"\n",
    "\n",
    "mycursor.execute(sql)"
   ]
  },
  {
   "cell_type": "markdown",
   "metadata": {},
   "source": [
    "<div style=\"border-top: 1px solid #ccc; margin: 10px 0; opacity: 0.4\"></div>\n",
    "\n",
    "Python MySQL Update Table\n",
    "\n",
    "<section style=\"direction: rtl; text-align: justify; margin: 30px;\">\n",
    "\n",
    "## **بروزرسانی یک جدول**\n",
    "\n",
    "با استفاده از عبارت \"UPDATE\" می توانید رکوردهای موجود در جدول را به روز کنید:\n",
    "\n",
    "</section>"
   ]
  },
  {
   "cell_type": "code",
   "execution_count": 20,
   "metadata": {},
   "outputs": [
    {
     "name": "stdout",
     "output_type": "stream",
     "text": [
      "1 record(s) affected\n",
      "-----------------------\n",
      "\n",
      "(1, 'Peter', 'Lowstreet 4')\n",
      "(2, 'Amy', 'Apple st 652')\n",
      "(3, 'Hannah', 'Mountain 21')\n",
      "(4, 'Michael', 'Canyon 123')\n",
      "(5, 'Sandy', 'Ocean blvd 2')\n",
      "(6, 'Betty', 'Green Grass 1')\n",
      "(7, 'Richard', 'Sky st 331')\n",
      "(8, 'Susan', 'One way 98')\n",
      "(9, 'Vicky', 'Yellow Garden 2')\n",
      "(10, 'Ben', 'Park Lane 38')\n",
      "(11, 'William', 'Central st 954')\n",
      "(12, 'Chuck', 'Main Road 989')\n",
      "(13, 'Viola', 'Sideway 1633')\n",
      "(14, 'saleh', 'tehran')\n"
     ]
    }
   ],
   "source": [
    "import mysql.connector\n",
    "\n",
    "mydb = mysql.connector.connect(\n",
    "    host=\"localhost\",\n",
    "    user=\"root\",\n",
    "    password=\"1234\",\n",
    "    database=\"shop\"\n",
    ")\n",
    "\n",
    "mycursor = mydb.cursor()\n",
    "\n",
    "sql = \"UPDATE customers SET address = 'Canyon 123' WHERE address = 'Valley 345'\"\n",
    "\n",
    "mycursor.execute(sql)\n",
    "\n",
    "mydb.commit()\n",
    "\n",
    "print(mycursor.rowcount, \"record(s) affected\")\n",
    "\n",
    "print(\"-----------------------\\n\")\n",
    "\n",
    "sql = \"SELECT * FROM customers\"\n",
    "\n",
    "mycursor.execute(sql)\n",
    "\n",
    "myresult = mycursor.fetchall()\n",
    "\n",
    "for x in myresult:\n",
    "    print(x)"
   ]
  },
  {
   "cell_type": "markdown",
   "metadata": {},
   "source": [
    "<section style=\"direction: rtl; text-align: justify; margin: 30px;\">\n",
    "\n",
    "⚠️ مهم!: به عبارت mydb.commit توجه کنید. انجام تغییرات الزامی است، در غیر این صورت هیچ تغییری در جدول ایجاد نمی شود.\n",
    "\n",
    "به عبارت WHERE در نحو UPDATE توجه کنید: عبارت WHERE مشخص می کند که کدام رکورد یا رکوردهایی که باید به روز شوند. اگر بند WHERE را حذف کنید، تمام رکوردها به روز می شوند!\n",
    "\n",
    "<div style=\"border-top: 1px solid #ccc; margin: 10px 0; opacity: 0.4\"></div>\n",
    "<div style=\"border-top: 1px solid #ccc; margin: 10px 0; opacity: 0.4\"></div>\n",
    "\n",
    "### **SQL Injection (جلوگیری از تزریق SQL)**\n",
    "\n",
    "فرار از مقادیر هر پرس و جو، همچنین در بیانیه های به روز رسانی، عمل خوبی در نظر گرفته می شود.\n",
    "\n",
    "این برای جلوگیری از تزریق SQL است، که یک تکنیک رایج هک وب برای از بین بردن یا سوء استفاده از پایگاه داده شما است.\n",
    "\n",
    "ماژول mysql.connector از مکان نگهدار %s برای فرار از مقادیر در عبارت delete استفاده می کند:\n",
    "\n",
    "</section>"
   ]
  },
  {
   "cell_type": "code",
   "execution_count": 22,
   "metadata": {},
   "outputs": [
    {
     "name": "stdout",
     "output_type": "stream",
     "text": [
      "0 record(s) affected\n",
      "------------------------\n",
      "\n",
      "(1, 'Peter', 'Lowstreet 4')\n",
      "(2, 'Amy', 'Apple st 652')\n",
      "(3, 'Hannah', 'Mountain 21')\n",
      "(4, 'Michael', 'Valley 345')\n",
      "(5, 'Sandy', 'Ocean blvd 2')\n",
      "(6, 'Betty', 'Green Grass 1')\n",
      "(7, 'Richard', 'Sky st 331')\n",
      "(8, 'Susan', 'One way 98')\n",
      "(9, 'Vicky', 'Yellow Garden 2')\n",
      "(10, 'Ben', 'Park Lane 38')\n",
      "(11, 'William', 'Central st 954')\n",
      "(12, 'Chuck', 'Main Road 989')\n",
      "(13, 'Viola', 'Sideway 1633')\n",
      "(14, 'saleh', 'tehran')\n"
     ]
    }
   ],
   "source": [
    "import mysql.connector\n",
    "\n",
    "mydb = mysql.connector.connect(\n",
    "    host=\"localhost\",\n",
    "    user=\"root\",\n",
    "    password=\"1234\",\n",
    "    database=\"shop\"\n",
    ")\n",
    "\n",
    "mycursor = mydb.cursor()\n",
    "\n",
    "sql = \"UPDATE customers SET address = %s WHERE address = %s\"\n",
    "val = (\"Valley 345\", \"Canyon 123\")\n",
    "\n",
    "mycursor.execute(sql, val)\n",
    "\n",
    "mydb.commit()\n",
    "\n",
    "print(mycursor.rowcount, \"record(s) affected\")\n",
    "\n",
    "print(\"------------------------\\n\")\n",
    "\n",
    "sql = \"SELECT * FROM customers\"\n",
    "\n",
    "mycursor.execute(sql)\n",
    "\n",
    "myresult = mycursor.fetchall()\n",
    "\n",
    "for x in myresult:\n",
    "    print(x)"
   ]
  },
  {
   "cell_type": "markdown",
   "metadata": {},
   "source": [
    "<div style=\"border-top: 1px solid #ccc; margin: 10px 0; opacity: 0.4\"></div>\n",
    "\n",
    "Python MySQL Limit\n",
    "\n",
    "<section style=\"direction: rtl; text-align: justify; margin: 30px;\">\n",
    "\n",
    "## **محدوده پرس و جو**\n",
    "\n",
    "با استفاده از عبارت \"LIMIT\" می توانید تعداد رکوردهای برگشتی از پرس و جو را محدود کنید:\n",
    "\n",
    "</section>"
   ]
  },
  {
   "cell_type": "code",
   "execution_count": 25,
   "metadata": {},
   "outputs": [
    {
     "name": "stdout",
     "output_type": "stream",
     "text": [
      "(1, 'Peter', 'Lowstreet 4')\n",
      "(2, 'Amy', 'Apple st 652')\n",
      "(3, 'Hannah', 'Mountain 21')\n",
      "(4, 'Michael', 'Valley 345')\n",
      "(5, 'Sandy', 'Ocean blvd 2')\n"
     ]
    }
   ],
   "source": [
    "import mysql.connector\n",
    "\n",
    "mydb = mysql.connector.connect(\n",
    "    host=\"localhost\",\n",
    "    user=\"root\",\n",
    "    password=\"1234\",\n",
    "    database=\"shop\"\n",
    ")\n",
    "\n",
    "mycursor = mydb.cursor()\n",
    "\n",
    "sql = \"SELECT * FROM customers LIMIT 5\"\n",
    "\n",
    "mycursor.execute(sql)\n",
    "\n",
    "myresult = mycursor.fetchall()\n",
    "\n",
    "for x in myresult:\n",
    "    print(x)"
   ]
  },
  {
   "cell_type": "markdown",
   "metadata": {},
   "source": [
    "<div style=\"border-top: 1px solid #ccc; margin: 10px 0; opacity: 0.4\"></div>\n",
    "\n",
    "<section style=\"direction: rtl; text-align: justify; margin: 30px;\">\n",
    "\n",
    "اگر می خواهید پنج رکورد را برگردانید، با شروع از رکورد سوم، می توانید از کلمه کلیدی \"OFFSET\" استفاده کنید:\n",
    "\n",
    "</section>"
   ]
  },
  {
   "cell_type": "code",
   "execution_count": 26,
   "metadata": {},
   "outputs": [
    {
     "name": "stdout",
     "output_type": "stream",
     "text": [
      "(3, 'Hannah', 'Mountain 21')\n",
      "(4, 'Michael', 'Valley 345')\n",
      "(5, 'Sandy', 'Ocean blvd 2')\n",
      "(6, 'Betty', 'Green Grass 1')\n",
      "(7, 'Richard', 'Sky st 331')\n"
     ]
    }
   ],
   "source": [
    "import mysql.connector\n",
    "\n",
    "mydb = mysql.connector.connect(\n",
    "    host=\"localhost\",\n",
    "    user=\"root\",\n",
    "    password=\"1234\",\n",
    "    database=\"shop\"\n",
    ")\n",
    "\n",
    "mycursor = mydb.cursor()\n",
    "\n",
    "sql = \"SELECT * FROM customers LIMIT 5 OFFSET 2\"\n",
    "\n",
    "mycursor.execute(sql)\n",
    "\n",
    "myresult = mycursor.fetchall()\n",
    "\n",
    "for x in myresult:\n",
    "    print(x)"
   ]
  },
  {
   "cell_type": "markdown",
   "metadata": {},
   "source": [
    "<div style=\"border-top: 1px solid #ccc; margin: 10px 0; opacity: 0.4\"></div>\n",
    "\n",
    "Python MySQL Join\n",
    "\n",
    "<section style=\"direction: rtl; text-align: justify; margin: 30px;\">\n",
    "\n",
    "## **ترکیب جداول**\n",
    "\n",
    "با استفاده از عبارت JOIN می‌توانید ردیف‌های دو یا چند جدول را بر اساس ستون مرتبط بین آنها ترکیب کنید.\n",
    "\n",
    "در نظر بگیرید که یک جدول \"کاربران\" و یک جدول \"محصولات\" دارید:\n",
    "\n",
    "</section>"
   ]
  },
  {
   "cell_type": "code",
   "execution_count": 17,
   "metadata": {},
   "outputs": [
    {
     "ename": "InterfaceError",
     "evalue": "Failed executing the operation; Not enough parameters for the SQL statement",
     "output_type": "error",
     "traceback": [
      "\u001b[0;31m---------------------------------------------------------------------------\u001b[0m",
      "\u001b[0;31mInterfaceError\u001b[0m                            Traceback (most recent call last)",
      "Cell \u001b[0;32mIn[17], line 21\u001b[0m\n\u001b[1;32m     12\u001b[0m sql \u001b[38;5;241m=\u001b[39m \u001b[38;5;124m\"\u001b[39m\u001b[38;5;124mINSERT INTO users (id, name, fav) VALUES (\u001b[39m\u001b[38;5;132;01m%s\u001b[39;00m\u001b[38;5;124m, \u001b[39m\u001b[38;5;132;01m%s\u001b[39;00m\u001b[38;5;124m, \u001b[39m\u001b[38;5;132;01m%s\u001b[39;00m\u001b[38;5;124m)\u001b[39m\u001b[38;5;124m\"\u001b[39m\n\u001b[1;32m     13\u001b[0m val \u001b[38;5;241m=\u001b[39m [\n\u001b[1;32m     14\u001b[0m     ( \u001b[38;5;241m1\u001b[39m, \u001b[38;5;124m'\u001b[39m\u001b[38;5;124mJohn\u001b[39m\u001b[38;5;124m'\u001b[39m, \u001b[38;5;241m154\u001b[39m),\n\u001b[1;32m     15\u001b[0m     ( \u001b[38;5;241m2\u001b[39m, \u001b[38;5;124m'\u001b[39m\u001b[38;5;124mPeter\u001b[39m\u001b[38;5;124m'\u001b[39m, \u001b[38;5;241m154\u001b[39m),\n\u001b[0;32m   (...)\u001b[0m\n\u001b[1;32m     18\u001b[0m     ( \u001b[38;5;241m5\u001b[39m, \u001b[38;5;124m'\u001b[39m\u001b[38;5;124mMichael\u001b[39m\u001b[38;5;124m'\u001b[39m, )\n\u001b[1;32m     19\u001b[0m ]\n\u001b[0;32m---> 21\u001b[0m \u001b[43mmycursor\u001b[49m\u001b[38;5;241;43m.\u001b[39;49m\u001b[43mexecutemany\u001b[49m\u001b[43m(\u001b[49m\u001b[43msql\u001b[49m\u001b[43m,\u001b[49m\u001b[43m \u001b[49m\u001b[43mval\u001b[49m\u001b[43m)\u001b[49m\n\u001b[1;32m     23\u001b[0m mydb\u001b[38;5;241m.\u001b[39mcommit()\n\u001b[1;32m     25\u001b[0m \u001b[38;5;28mprint\u001b[39m(mycursor\u001b[38;5;241m.\u001b[39mrowcount, \u001b[38;5;124m\"\u001b[39m\u001b[38;5;124mwas inserted.\u001b[39m\u001b[38;5;124m\"\u001b[39m)\n",
      "File \u001b[0;32m~/.local/lib/python3.10/site-packages/mysql/connector/cursor_cext.py:498\u001b[0m, in \u001b[0;36mCMySQLCursor.executemany\u001b[0;34m(self, operation, seq_params)\u001b[0m\n\u001b[1;32m    496\u001b[0m     \u001b[38;5;28mself\u001b[39m\u001b[38;5;241m.\u001b[39m_rowcount \u001b[38;5;241m=\u001b[39m \u001b[38;5;241m0\u001b[39m\n\u001b[1;32m    497\u001b[0m     \u001b[38;5;28;01mreturn\u001b[39;00m \u001b[38;5;28;01mNone\u001b[39;00m\n\u001b[0;32m--> 498\u001b[0m stmt \u001b[38;5;241m=\u001b[39m \u001b[38;5;28;43mself\u001b[39;49m\u001b[38;5;241;43m.\u001b[39;49m\u001b[43m_batch_insert\u001b[49m\u001b[43m(\u001b[49m\u001b[43moperation\u001b[49m\u001b[43m,\u001b[49m\u001b[43m \u001b[49m\u001b[43mseq_params\u001b[49m\u001b[43m)\u001b[49m\n\u001b[1;32m    499\u001b[0m \u001b[38;5;28;01mif\u001b[39;00m stmt \u001b[38;5;129;01mis\u001b[39;00m \u001b[38;5;129;01mnot\u001b[39;00m \u001b[38;5;28;01mNone\u001b[39;00m:\n\u001b[1;32m    500\u001b[0m     \u001b[38;5;28mself\u001b[39m\u001b[38;5;241m.\u001b[39m_executed \u001b[38;5;241m=\u001b[39m stmt\n",
      "File \u001b[0;32m~/.local/lib/python3.10/site-packages/mysql/connector/cursor_cext.py:452\u001b[0m, in \u001b[0;36mCMySQLCursor._batch_insert\u001b[0;34m(self, operation, seq_params)\u001b[0m\n\u001b[1;32m    450\u001b[0m     \u001b[38;5;28;01mraise\u001b[39;00m ProgrammingError(\u001b[38;5;28mstr\u001b[39m(err)) \u001b[38;5;28;01mfrom\u001b[39;00m \u001b[38;5;21;01merr\u001b[39;00m\n\u001b[1;32m    451\u001b[0m \u001b[38;5;28;01mexcept\u001b[39;00m \u001b[38;5;167;01mException\u001b[39;00m \u001b[38;5;28;01mas\u001b[39;00m err:\n\u001b[0;32m--> 452\u001b[0m     \u001b[38;5;28;01mraise\u001b[39;00m InterfaceError(\u001b[38;5;124mf\u001b[39m\u001b[38;5;124m\"\u001b[39m\u001b[38;5;124mFailed executing the operation; \u001b[39m\u001b[38;5;132;01m{\u001b[39;00merr\u001b[38;5;132;01m}\u001b[39;00m\u001b[38;5;124m\"\u001b[39m) \u001b[38;5;28;01mfrom\u001b[39;00m \u001b[38;5;28;01mNone\u001b[39;00m\n",
      "\u001b[0;31mInterfaceError\u001b[0m: Failed executing the operation; Not enough parameters for the SQL statement"
     ]
    }
   ],
   "source": [
    "import mysql.connector\n",
    "\n",
    "mydb = mysql.connector.connect(\n",
    "    host=\"localhost\",\n",
    "    user=\"root\",\n",
    "    password=\"1234\",\n",
    "    database=\"shop\"\n",
    ")\n",
    "\n",
    "mycursor = mydb.cursor()\n",
    "\n",
    "sql = \"INSERT INTO users (id, name, fav) VALUES (%s, %s, %s)\"\n",
    "val = [\n",
    "    (1, 'John', 154),\n",
    "    (2, 'Peter', 154),\n",
    "    (3, 'Amy', 155),\n",
    "    (4, 'Hannah', ),\n",
    "    (5, 'Michael', )\n",
    "]\n",
    "\n",
    "mycursor.executemany(sql, val)\n",
    "\n",
    "mydb.commit()\n",
    "\n",
    "print(mycursor.rowcount, \"was inserted.\")"
   ]
  }
 ],
 "metadata": {
  "kernelspec": {
   "display_name": "Python 3",
   "language": "python",
   "name": "python3"
  },
  "language_info": {
   "codemirror_mode": {
    "name": "ipython",
    "version": 3
   },
   "file_extension": ".py",
   "mimetype": "text/x-python",
   "name": "python",
   "nbconvert_exporter": "python",
   "pygments_lexer": "ipython3",
   "version": "3.10.12"
  }
 },
 "nbformat": 4,
 "nbformat_minor": 2
}
