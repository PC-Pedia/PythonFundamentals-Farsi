{
 "cells": [
  {
   "cell_type": "markdown",
   "metadata": {},
   "source": [
    "Python MySQL\n",
    "\n",
    "<section style=\"direction: rtl; text-align: justify; margin: 30px;\">\n",
    "\n",
    "## **MySQL در پایتون**\n",
    "\n",
    "🧠 MySQL یکی از محبوب‌ترین سیستم‌های مدیریت پایگاه داده است که با استفاده از آن می‌توانید داده‌های خود را ذخیره و مدیریت کنید. در پایتون، شما می‌توانید از کتابخانه mysql-connector-python برای برقراری ارتباط و اجرای عملیات بر روی یک پایگاه داده MySQL استفاده کنید.\n",
    "\n",
    "در ابتدا، باید این کتابخانه را نصب کنید. می‌توانید از این دستور را در خط فرمان وارد کنید:\n",
    "\n",
    "</section>\n",
    "\n",
    "> pip install mysql-connector-python\n",
    "\n",
    "<section style=\"direction: rtl; text-align: justify; margin: 30px;\">\n",
    "\n",
    "حالا بیایید یک اتصال به پایگاه داده MySQL برقرار کنیم:\n",
    "\n",
    "</section>"
   ]
  },
  {
   "cell_type": "code",
   "execution_count": 1,
   "metadata": {},
   "outputs": [
    {
     "name": "stdout",
     "output_type": "stream",
     "text": [
      "<mysql.connector.connection_cext.CMySQLConnection object at 0x7f8d2a44b2e0>\n"
     ]
    }
   ],
   "source": [
    "import mysql.connector\n",
    "\n",
    "global mycursor\n",
    "\n",
    "# برقراری اتصال\n",
    "mydb = mysql.connector.connect(\n",
    "    host=\"localhost\",  # میزبان پایگاه داده\n",
    "    user=\"root\",  # نام کاربری\n",
    "    password=\"1234\",  # رمز عبور\n",
    ")\n",
    "\n",
    "print(mydb)"
   ]
  },
  {
   "cell_type": "markdown",
   "metadata": {},
   "source": [
    "<section style=\"direction: rtl; text-align: justify; margin: 30px;\">\n",
    "\n",
    "یا می‌توانیم به شکل زیر نتیجه اتصال را در خروجی چاپ کنیم: \n",
    "\n",
    "</section>"
   ]
  },
  {
   "cell_type": "code",
   "execution_count": 2,
   "metadata": {},
   "outputs": [
    {
     "name": "stdout",
     "output_type": "stream",
     "text": [
      "Connected to MySQL Server version 8.0.37-0ubuntu0.22.04.3\n",
      "You're connected to database: shop\n",
      "MySQL connection closed\n"
     ]
    }
   ],
   "source": [
    "import mysql.connector\n",
    "from mysql.connector import Error\n",
    "\n",
    "def check_database_connection(): # دستورات ورود به بانک اطلاعاتی را به صورت یک تابع می‌نویسیم\n",
    "    try:\n",
    "        mydb = mysql.connector.connect(\n",
    "            host = '127.0.0.1',\n",
    "            port = '3306',\n",
    "            user = 'root', \n",
    "            password = '1234',\n",
    "            database = 'shop' # sample database\n",
    "        )\n",
    "        \n",
    "        if mydb.is_connected(): # بررسی اتصال\n",
    "            db_info = mydb.get_server_info()\n",
    "            print(f\"Connected to MySQL Server version {db_info}\")\n",
    "            cursor = mydb.cursor()\n",
    "            cursor.execute(\"select database();\")\n",
    "            record = cursor.fetchone()\n",
    "            print(f\"You're connected to database: {record[0]}\") \n",
    "            \n",
    "    except Error as e:\n",
    "        print(f\"Error while connectiong to MySQL: {e}\") # اگر اتصال برقرار نشود پیام روبرو در خروجی چاپ می‌شود\n",
    "        \n",
    "    finally:\n",
    "        if mydb.is_connected(): # بستن اتصال به پایگاه داده\n",
    "            cursor.close()\n",
    "            mydb.close()\n",
    "            print(\"MySQL connection closed\")\n",
    "            \n",
    "check_database_connection()"
   ]
  },
  {
   "cell_type": "markdown",
   "metadata": {},
   "source": [
    "<section style=\"direction: rtl; text-align: justify; margin: 30px;\">\n",
    "\n",
    "سپس می‌توانید عملیات‌های مختلفی مانند اجرای کوئری‌ها یا درج، به‌روزرسانی و حذف داده‌ها را انجام دهید. به عنوان مثال:\n",
    "\n",
    "</section>"
   ]
  },
  {
   "cell_type": "code",
   "execution_count": 3,
   "metadata": {},
   "outputs": [
    {
     "name": "stdout",
     "output_type": "stream",
     "text": [
      "('information_schema',)\n",
      "('mysql',)\n",
      "('performance_schema',)\n",
      "('shop',)\n",
      "('sys',)\n"
     ]
    }
   ],
   "source": [
    "import mysql.connector\n",
    "\n",
    "mydb = mysql.connector.connect(\n",
    "    host = '127.0.0.1',\n",
    "    port = '3306',\n",
    "    user = 'root',\n",
    "    password = '1234'\n",
    ")\n",
    "\n",
    "mycursor = mydb.cursor()\n",
    "\n",
    "mycursor.execute(\"SHOW DATABASES\") # نمایش دیتابیس‌های درون پایگاه داده\n",
    "\n",
    "for x in mycursor:\n",
    "    print(x)"
   ]
  },
  {
   "cell_type": "markdown",
   "metadata": {},
   "source": [
    "<section style=\"direction: rtl; text-align: justify; margin: 30px;\">\n",
    "\n",
    "برای ایجاد یک پایگاه داده در MySQL، از عبارت \"CREATE DATABASE\" استفاده کنید:\n",
    "\n",
    "</section>"
   ]
  },
  {
   "cell_type": "code",
   "execution_count": 12,
   "metadata": {},
   "outputs": [
    {
     "name": "stdout",
     "output_type": "stream",
     "text": [
      "failed to create database: 1007 (HY000): Can't create database 'shop'; database exists\n"
     ]
    }
   ],
   "source": [
    "import mysql.connector # فراخوانی کتابخانه\n",
    "from mysql.connector import Error\n",
    "\n",
    "def check_database_connection(): # تابع اتصال به پایگاه داده\n",
    "    try:\n",
    "        mydb = mysql.connector.connect(\n",
    "        host=\"127.0.0.1\",\n",
    "        port=\"3306\",\n",
    "        user=\"root\",\n",
    "        password=\"1234\"\n",
    "        )\n",
    "\n",
    "        mycursor = mydb.cursor()\n",
    "        mycursor.execute(\"CREATE DATABASE shop\") # ایجاد یک پایگاه داده\n",
    "        \n",
    "    except Error as e:\n",
    "        print(f\"failed to create database: {e}\") # چنانچه دستورات با هر مشکلی مواجه شود پیغام روبرو در خروجی چاپ می‌شود\n",
    "        \n",
    "check_database_connection() # اجرای تابع"
   ]
  },
  {
   "cell_type": "markdown",
   "metadata": {},
   "source": [
    "<section style=\"direction: rtl; text-align: justify; margin: 30px;\">\n",
    "\n",
    "اگر کد بالا بدون خطا اجرا شد، شما با موفقیت یک پایگاه داده ایجاد کرده اید.\n",
    "اگر با خطای failed to create database مواجه شدید یعنی به احتمال زیاد پایگاه داده از قبل موجود هست.\n",
    "\n",
    "<div style=\"border-top: 1px solid #ccc; margin: 10px 0; opacity: 0.4\"></div>\n",
    "\n",
    "### بررسی کنید که آیا پایگاه داده وجود دارد\n",
    "\n",
    "شما می‌توانید با استفاده از روش زیر لیست پایگاه‌داده‌های خود را بررسی کنید و مطمئن شوید که آیا دیتابیس مد نظر شما وجود دارد یا خیر:\n",
    "\n",
    "</section>"
   ]
  },
  {
   "cell_type": "code",
   "execution_count": 11,
   "metadata": {},
   "outputs": [
    {
     "name": "stdout",
     "output_type": "stream",
     "text": [
      "('information_schema',)\n",
      "('mysql',)\n",
      "('performance_schema',)\n",
      "('shop',)\n",
      "('sys',)\n"
     ]
    }
   ],
   "source": [
    "import mysql.connector\n",
    "\n",
    "mydb = mysql.connector.connect(\n",
    "    host=\"localhost\",\n",
    "    user=\"root\",\n",
    "    password=\"1234\"\n",
    ")\n",
    "\n",
    "mycursor = mydb.cursor()\n",
    "\n",
    "mycursor.execute(\"SHOW DATABASES\")\n",
    "\n",
    "for x in mycursor:\n",
    "    print(x)"
   ]
  },
  {
   "cell_type": "markdown",
   "metadata": {},
   "source": [
    "<section style=\"direction: rtl; text-align: justify; margin: 30px;\">\n",
    "\n",
    "یا می‌توانید در هنگام ساخت اتصال بررسی کنید که آیا یک یتابیس وجود دارد یا خیر:\n",
    "\n",
    "</section>"
   ]
  },
  {
   "cell_type": "code",
   "execution_count": 7,
   "metadata": {},
   "outputs": [
    {
     "name": "stdout",
     "output_type": "stream",
     "text": [
      "the database are exists.\n"
     ]
    }
   ],
   "source": [
    "import mysql.connector\n",
    "from mysql.connector import Error\n",
    "\n",
    "def check_database_connection():\n",
    "    try:\n",
    "        mydb = mysql.connector.connect(\n",
    "            host=\"localhost\",\n",
    "            user=\"root\",\n",
    "            password=\"1234\",\n",
    "            database=\"shop\" # choose database name\n",
    "        )\n",
    "        print(f\"the database are exists.\")\n",
    "    except Error as e:\n",
    "        print(f\"this database is not exeists... {e}\")\n",
    "              \n",
    "check_database_connection()"
   ]
  },
  {
   "cell_type": "markdown",
   "metadata": {},
   "source": [
    "<section style=\"direction: rtl; text-align: justify; margin: 30px;\">\n",
    "\n",
    "اگر پایگاه داده وجود نداشته باشد، شما با خطای this database is not exeists... مواجه خواهید شد.\n",
    "\n",
    "</section>"
   ]
  },
  {
   "cell_type": "markdown",
   "metadata": {},
   "source": [
    "<div style=\"border-top: 1px solid #ccc; margin: 10px 0; opacity: 0.4\"></div>\n",
    "\n",
    "Python MySQL Create Table\n",
    "\n",
    "<section style=\"direction: rtl; text-align: justify; margin: 30px;\">\n",
    "\n",
    "## **ساخت جدول**\n",
    "\n",
    "برای ایجاد یک جدول در MySQL، از عبارت \"CREATE DATABASE\" استفاده کنید.\n",
    "\n",
    "اطمینان حاصل کنید که هنگام ایجاد اتصال، نام پایگاه داده را تعریف می کنید\n",
    "\n",
    "</section>"
   ]
  },
  {
   "cell_type": "code",
   "execution_count": 41,
   "metadata": {},
   "outputs": [],
   "source": [
    "import mysql.connector\n",
    "from mysql.connector import Error\n",
    "\n",
    "def check_database_connection():\n",
    "    try:\n",
    "        mydb = mysql.connector.connect(\n",
    "            host=\"localhost\",\n",
    "            port=\"3306\",\n",
    "            user=\"root\",\n",
    "            password=\"1234\",\n",
    "            database=\"shop\"\n",
    "        )\n",
    "\n",
    "        mycursor = mydb.cursor()\n",
    "\n",
    "        mycursor.execute(\"CREATE TABLE customers (name VARCHAR(255), address VARCHAR(255))\")\n",
    "        \n",
    "    except Error as e:\n",
    "        print(f\"Tabel already exists: {e}\")\n",
    "        \n",
    "check_database_connection()"
   ]
  },
  {
   "cell_type": "markdown",
   "metadata": {},
   "source": [
    "<section style=\"direction: rtl; text-align: justify; margin: 30px;\">\n",
    "\n",
    "اگر کد بالا بدون خطا اجرا شد، اکنون با موفقیت یک جدول ایجاد کرده اید. در غیر این صورت با خطای Tabel already exists مواجه خواهید شد.\n",
    "\n",
    "</section>"
   ]
  },
  {
   "cell_type": "markdown",
   "metadata": {},
   "source": [
    "<section style=\"direction: rtl; text-align: justify; margin: 30px;\">\n",
    "\n",
    "<div style=\"border-top: 1px solid #ccc; margin: 10px 0; opacity: 0.4\"></div>\n",
    "\n",
    "### بررسی کنید که آیا جدول وجود دارد یا خیر\n",
    "\n",
    "با دستور \"SHOW TABLES\" می‌توانید بررسی کنید که آیا جدول مورد نظر وجود دارد یا خیر:\n",
    "\n",
    "</section>"
   ]
  },
  {
   "cell_type": "code",
   "execution_count": 28,
   "metadata": {},
   "outputs": [
    {
     "name": "stdout",
     "output_type": "stream",
     "text": [
      "('customers',)\n"
     ]
    }
   ],
   "source": [
    "import mysql.connector\n",
    "from mysql.connector import Error\n",
    "\n",
    "def check_database_connection():\n",
    "    try:\n",
    "        mydb = mysql.connector.connect(\n",
    "            host=\"localhost\",\n",
    "            user=\"root\",\n",
    "            password=\"1234\",\n",
    "            database=\"shop\"\n",
    "        )\n",
    "        \n",
    "        mycursor = mydb.cursor()\n",
    "        \n",
    "        mycursor.execute(\"SHOW TABLES\")\n",
    "        \n",
    "        for x in mycursor:\n",
    "            print(x)\n",
    "            \n",
    "    except Error as e:\n",
    "        print(f\"Does not exists any table...: {e}\")\n",
    "        \n",
    "check_database_connection()"
   ]
  },
  {
   "cell_type": "markdown",
   "metadata": {},
   "source": [
    "<section style=\"direction: rtl; text-align: justify; margin: 30px;\">\n",
    "\n",
    "<div style=\"border-top: 1px solid #ccc; margin: 10px 0; opacity: 0.4\"></div>\n",
    "<div style=\"border-top: 1px solid #ccc; margin: 10px 0; opacity: 0.4\"></div>\n",
    "\n",
    "\n",
    "### کلید اصلی (Primary Key)\n",
    "\n",
    "هنگام ایجاد یک جدول، شما همچنین باید یک ستون با یک کلید منحصر به فرد برای هر رکورد ایجاد کنید.\n",
    "\n",
    "این کار را میتوان با تعریف یک کلید اولیه انجام داد.\n",
    "\n",
    "ما از عبارت \"INT AUTO_INCREMENT PRIMARY KEY\" استفاده می کنیم که یک شماره منحصر به فرد برای هر رکورد وارد می کند. از 1 شروع می شود و برای هر رکورد یک واحد افزایش می یابد.\n",
    "\n",
    "</section>"
   ]
  },
  {
   "cell_type": "code",
   "execution_count": 44,
   "metadata": {},
   "outputs": [
    {
     "name": "stdout",
     "output_type": "stream",
     "text": [
      "Error: 1050 (42S01): Table 'customers' already exists\n"
     ]
    }
   ],
   "source": [
    "import mysql.connector\n",
    "from mysql.connector import Error\n",
    "\n",
    "def check_database_connection():\n",
    "    try:\n",
    "        mydb = mysql.connector.connect(\n",
    "            host=\"localhost\",\n",
    "            user=\"root\",\n",
    "            password=\"1234\",\n",
    "            database=\"shop\"\n",
    "        )\n",
    "\n",
    "        mycursor = mydb.cursor()\n",
    "        mycursor.execute(\"CREATE TABLE customers (id INT AUTO_INCREMENT PRIMARY KEY, name VARCHAR(255), address VARCHAR(255))\")\n",
    "        \n",
    "    except Error as e:\n",
    "        print(f\"Error: {e}\")\n",
    "        \n",
    "check_database_connection()"
   ]
  },
  {
   "cell_type": "markdown",
   "metadata": {},
   "source": [
    "<section style=\"direction: rtl; text-align: justify; margin: 30px;\">\n",
    "\n",
    "اگر جدول در حال حاضر وجود دارد، از کلمه کلیدی ALTER TABLE استفاده کنید:\n",
    "\n",
    "</section>"
   ]
  },
  {
   "cell_type": "code",
   "execution_count": 45,
   "metadata": {},
   "outputs": [
    {
     "name": "stdout",
     "output_type": "stream",
     "text": [
      "Error: 1060 (42S21): Duplicate column name 'id'\n"
     ]
    }
   ],
   "source": [
    "import mysql.connector\n",
    "from mysql.connector import Error\n",
    "\n",
    "def check_database_connection():\n",
    "    try:\n",
    "        mydb = mysql.connector.connect(\n",
    "            host=\"localhost\",\n",
    "            user=\"root\",\n",
    "            password=\"1234\",\n",
    "            database=\"shop\"\n",
    "        )\n",
    "\n",
    "        mycursor = mydb.cursor()\n",
    "        mycursor.execute(\"ALTER TABLE customers ADD COLUMN id INT AUTO_INCREMENT PRIMARY KEY\")\n",
    "        \n",
    "    except Error as e:\n",
    "        print(f\"Error: {e}\")\n",
    "        \n",
    "check_database_connection()"
   ]
  },
  {
   "cell_type": "markdown",
   "metadata": {},
   "source": [
    "---\n",
    "\n",
    "Python MySQL Insert Into Table\n",
    "\n",
    "<section style=\"direction: rtl; text-align: justify; margin: 30px;\">\n",
    "\n",
    "برای پر کردن داده‌های یک جدول در MySQL، از عبارت \"INSERT INTO\" استفاده کنید.\n",
    "\n",
    "</section>"
   ]
  },
  {
   "cell_type": "code",
   "execution_count": 21,
   "metadata": {},
   "outputs": [
    {
     "name": "stdout",
     "output_type": "stream",
     "text": [
      "1 record inserted.\n"
     ]
    }
   ],
   "source": [
    "import mysql.connector\n",
    "\n",
    "mydb = mysql.connector.connect(\n",
    "    host=\"127.0.0.1\",\n",
    "    user=\"root\",\n",
    "    port=\"3306\",\n",
    "    password=\"1234\",\n",
    "    database=\"shop\"\n",
    ")\n",
    "\n",
    "mycursor = mydb.cursor()\n",
    "\n",
    "sql = \"INSERT INTO customers (name, address) VALUES (%s, %s)\"\n",
    "val = (\"saleh\", \"tehran\")\n",
    "mycursor.execute(sql, val)\n",
    "\n",
    "mydb.commit()\n",
    "\n",
    "print(mycursor.rowcount, \"record inserted.\")"
   ]
  },
  {
   "cell_type": "markdown",
   "metadata": {},
   "source": [
    "<section style=\"direction: rtl; text-align: justify; margin: 30px;\">\n",
    "\n",
    "⚠️ مهم!: توجه به بیانیه: mydb.commit(). لازم است که تغییرات انجام شود، در غیر این صورت هیچ تغییری در جدول ایجاد نمیشود.\n",
    "\n",
    "<div style=\"border-top: 1px solid #ccc; margin: 10px 0; opacity: 0.4\"></div>\n",
    "\n",
    "ردیف های چندگانه را وارد کنید  \n",
    "\n",
    "برای قرار دادن چندین ردیف در یک جدول، از روش executemany() استفاده کنید.\n",
    "\n",
    "پارامتر دوم روش executemany() لیستی از تاپل ها است که حاوی داده هایی است که می خواهید وارد کنید:\n",
    "\n",
    "</section>"
   ]
  },
  {
   "cell_type": "code",
   "execution_count": 3,
   "metadata": {},
   "outputs": [
    {
     "name": "stdout",
     "output_type": "stream",
     "text": [
      "13 was inserted.\n"
     ]
    }
   ],
   "source": [
    "import mysql.connector\n",
    "\n",
    "mydb = mysql.connector.connect(\n",
    "    host=\"localhost\",\n",
    "    user=\"root\",\n",
    "    password=\"1234\",\n",
    "    database=\"shop\"\n",
    ")\n",
    "\n",
    "mycursor = mydb.cursor()\n",
    "\n",
    "sql = \"INSERT INTO customers (name, address) VALUES (%s, %s)\"\n",
    "val = [\n",
    "    ('Peter', 'Lowstreet 4'),\n",
    "    ('Amy', 'Apple st 652'),\n",
    "    ('Hannah', 'Mountain 21'),\n",
    "    ('Michael', 'Valley 345'),\n",
    "    ('Sandy', 'Ocean blvd 2'),\n",
    "    ('Betty', 'Green Grass 1'),\n",
    "    ('Richard', 'Sky st 331'),\n",
    "    ('Susan', 'One way 98'),\n",
    "    ('Vicky', 'Yellow Garden 2'),\n",
    "    ('Ben', 'Park Lane 38'),\n",
    "    ('William', 'Central st 954'),\n",
    "    ('Chuck', 'Main Road 989'),\n",
    "    ('Viola', 'Sideway 1633')\n",
    "]\n",
    "\n",
    "mycursor.executemany(sql, val)\n",
    "\n",
    "mydb.commit()\n",
    "\n",
    "print(mycursor.rowcount, \"was inserted.\")"
   ]
  },
  {
   "cell_type": "markdown",
   "metadata": {},
   "source": [
    "<div style=\"border-top: 1px solid #ccc; margin: 10px 0; opacity: 0.4\"></div>\n",
    "<div style=\"border-top: 1px solid #ccc; margin: 10px 0; opacity: 0.4\"></div>\n",
    "\n",
    "<section style=\"direction: rtl; text-align: justify; margin: 30px;\">\n",
    "\n",
    "شما می توانید شناسه ردیف را که فقط با درخواست شیء مکان نما وارد کرده اید دریافت کنید.\n",
    "\n",
    "⚠️ توجه: اگر بیش از یک ردیف را وارد کنید، شناسه آخرین ردیف وارد شده بازگردانده می شود.\n",
    "\n",
    "</section>"
   ]
  },
  {
   "cell_type": "code",
   "execution_count": 1,
   "metadata": {},
   "outputs": [
    {
     "name": "stdout",
     "output_type": "stream",
     "text": [
      "1 record inserted, ID: 1\n"
     ]
    }
   ],
   "source": [
    "import mysql.connector\n",
    "\n",
    "mydb = mysql.connector.connect(\n",
    "    host=\"localhost\",\n",
    "    user=\"root\",\n",
    "    password=\"1234\",\n",
    "    database=\"shop\"\n",
    ")\n",
    "\n",
    "mycursor = mydb.cursor()\n",
    "\n",
    "sql = \"INSERT INTO customers (name, address) VALUES (%s, %s)\"\n",
    "val = (\"saleh\", \"tehran\")\n",
    "mycursor.execute(sql, val)\n",
    "\n",
    "mydb.commit()\n",
    "\n",
    "print(\"1 record inserted, ID:\", mycursor.lastrowid)"
   ]
  },
  {
   "cell_type": "markdown",
   "metadata": {},
   "source": [
    "<div style=\"border-top: 1px solid #ccc; margin: 10px 0; opacity: 0.4\"></div>\n",
    "\n",
    "Python MySQL Select From\n",
    "\n",
    "<section style=\"direction: rtl; text-align: justify; margin: 30px;\">\n",
    "\n",
    "## **انتخاب یک عبارت**\n",
    "\n",
    "برای انتخاب از یک جدول در MySQL، از عبارت \"SELECT\" استفاده کنید:\n",
    "\n",
    "</section>"
   ]
  },
  {
   "cell_type": "code",
   "execution_count": 4,
   "metadata": {},
   "outputs": [
    {
     "name": "stdout",
     "output_type": "stream",
     "text": [
      "(1, 'saleh', 'tehran')\n",
      "(2, 'Peter', 'Lowstreet 4')\n",
      "(3, 'Amy', 'Apple st 652')\n",
      "(4, 'Hannah', 'Mountain 21')\n",
      "(5, 'Michael', 'Valley 345')\n",
      "(6, 'Sandy', 'Ocean blvd 2')\n",
      "(7, 'Betty', 'Green Grass 1')\n",
      "(8, 'Richard', 'Sky st 331')\n",
      "(9, 'Susan', 'One way 98')\n",
      "(10, 'Vicky', 'Yellow Garden 2')\n",
      "(11, 'Ben', 'Park Lane 38')\n",
      "(12, 'William', 'Central st 954')\n",
      "(13, 'Chuck', 'Main Road 989')\n",
      "(14, 'Viola', 'Sideway 1633')\n"
     ]
    }
   ],
   "source": [
    "import mysql.connector\n",
    "\n",
    "mydb = mysql.connector.connect(\n",
    "    host=\"localhost\",\n",
    "    user=\"root\",\n",
    "    password=\"1234\",\n",
    "    database=\"shop\"\n",
    ")\n",
    "\n",
    "mycursor = mydb.cursor()\n",
    "\n",
    "mycursor.execute(\"SELECT * FROM customers\")\n",
    "\n",
    "myresult = mycursor.fetchall()\n",
    "\n",
    "for x in myresult:\n",
    "    print(x)"
   ]
  },
  {
   "cell_type": "markdown",
   "metadata": {},
   "source": [
    "<div style=\"border-top: 1px solid #ccc; margin: 10px 0; opacity: 0.4\"></div>\n",
    "<div style=\"border-top: 1px solid #ccc; margin: 10px 0; opacity: 0.4\"></div>\n",
    "\n",
    "Using the fetchone() Method\n",
    "\n",
    "<section style=\"direction: rtl; text-align: justify; margin: 30px;\">\n",
    "\n",
    "### **استفاده از متد fetchone()**\n",
    "\n",
    "برای انتخاب یک ردیف از اطلاعات می‌توان از متد fetchone() استفاده کرد.\n",
    "\n",
    "روش ()fetchone اولین ردیف نتیجه را برمی گرداند:\n",
    "\n",
    "</section>"
   ]
  },
  {
   "cell_type": "code",
   "execution_count": 5,
   "metadata": {},
   "outputs": [
    {
     "name": "stdout",
     "output_type": "stream",
     "text": [
      "(1, 'saleh', 'tehran')\n"
     ]
    }
   ],
   "source": [
    "import mysql.connector\n",
    "\n",
    "mydb = mysql.connector.connect(\n",
    "    host=\"localhost\",\n",
    "    user=\"root\",\n",
    "    password=\"1234\",\n",
    "    database=\"shop\"\n",
    ")\n",
    "\n",
    "mycursor = mydb.cursor()\n",
    "\n",
    "mycursor.execute(\"SELECT * FROM customers\")\n",
    "\n",
    "myresult = mycursor.fetchone()\n",
    "\n",
    "print(myresult)"
   ]
  },
  {
   "cell_type": "markdown",
   "metadata": {},
   "source": [
    "<div style=\"border-top: 1px solid #ccc; margin: 10px 0; opacity: 0.4\"></div>\n",
    "\n",
    "Python MySQL Where\n",
    "\n",
    "<section style=\"direction: rtl; text-align: justify; margin: 30px;\">\n",
    "\n",
    "## **جستجوی یک عبارت**\n",
    "\n",
    "هنگام انتخاب رکوردها از یک جدول، می توانید انتخاب را با استفاده از عبارت \"WHERE\" فیلتر کنید:\n",
    "\n",
    "</section>"
   ]
  },
  {
   "cell_type": "code",
   "execution_count": 6,
   "metadata": {},
   "outputs": [
    {
     "name": "stdout",
     "output_type": "stream",
     "text": [
      "(7, 'Betty', 'Green Grass 1')\n"
     ]
    }
   ],
   "source": [
    "import mysql.connector\n",
    "\n",
    "mydb = mysql.connector.connect(\n",
    "    host=\"localhost\",\n",
    "    user=\"root\",\n",
    "    password=\"1234\",\n",
    "    database=\"shop\"\n",
    ")\n",
    "\n",
    "mycursor = mydb.cursor()\n",
    "\n",
    "sql = \"SELECT * FROM customers WHERE name = 'Betty'\"\n",
    "\n",
    "mycursor.execute(sql)\n",
    "\n",
    "myresult = mycursor.fetchall()\n",
    "\n",
    "for x in myresult:\n",
    "    print(x)"
   ]
  },
  {
   "cell_type": "markdown",
   "metadata": {},
   "source": [
    "<section style=\"direction: rtl; text-align: justify; margin: 30px;\">\n",
    "\n",
    "🧠 بازنویسی کد با استفاده Try/Except برای کنترل خطاهای احتمالی و جلوگیری از SQL Injection: \n",
    "\n",
    "</section>"
   ]
  },
  {
   "cell_type": "code",
   "execution_count": 16,
   "metadata": {},
   "outputs": [
    {
     "name": "stdout",
     "output_type": "stream",
     "text": [
      "(7, 'Betty', 'Green Grass 1')\n"
     ]
    }
   ],
   "source": [
    "import mysql.connector\n",
    "from mysql.connector import Error\n",
    "\n",
    "def check_database_connection():\n",
    "    try:        \n",
    "        with mysql.connector.connect(\n",
    "            host = '127.0.0.1',\n",
    "            user = 'root',\n",
    "            password = '1234',\n",
    "            database = 'shop'\n",
    "        ) as mydb:\n",
    "            with mydb.cursor() as mycursor:\n",
    "                sql = \"SELECT * FROM customers WHERE name = %s\"\n",
    "                mycursor.execute(sql, ('Betty',))\n",
    "                myresult = mycursor.fetchall()\n",
    "                for x in myresult:\n",
    "                    print(x)\n",
    "    except Error as e:\n",
    "        print(f\"Error: {e}\")\n",
    "        \n",
    "def main():\n",
    "    check_database_connection()\n",
    "    \n",
    "if __name__ == \"__main__\":\n",
    "    main()"
   ]
  },
  {
   "cell_type": "markdown",
   "metadata": {},
   "source": [
    "<section style=\"direction: rtl; text-align: justify; margin: 30px;\">\n",
    "\n",
    "<div style=\"border-top: 1px solid #ccc; margin: 10px 0; opacity: 0.4\"></div>\n",
    "\n",
    "### **کاراکترهای Wildcard**\n",
    "\n",
    "همچنین می‌توانید رکوردهایی را انتخاب کنید که با یک حرف یا عبارت مشخص شروع، شامل یا پایان می‌شوند.\n",
    "\n",
    "از %  برای نمایش کاراکترهای wildcard استفاده کنید:\n",
    "\n",
    "</section>"
   ]
  },
  {
   "cell_type": "code",
   "execution_count": 22,
   "metadata": {},
   "outputs": [
    {
     "name": "stdout",
     "output_type": "stream",
     "text": [
      "(16, 'Susan', 'One way 98')\n",
      "(21, 'Viola', 'Sideway 1633')\n"
     ]
    }
   ],
   "source": [
    "import mysql.connector\n",
    "\n",
    "mydb = mysql.connector.connect(\n",
    "    host=\"localhost\",\n",
    "    user=\"root\",\n",
    "    password=\"1234\",\n",
    "    database=\"shop\"\n",
    ")\n",
    "\n",
    "mycursor = mydb.cursor()\n",
    "\n",
    "sql = \"SELECT * FROM customers WHERE address LIKE '%way%'\"\n",
    "\n",
    "mycursor.execute(sql)\n",
    "\n",
    "myresult = mycursor.fetchall()\n",
    "\n",
    "for x in myresult:\n",
    "    print(x)"
   ]
  },
  {
   "cell_type": "markdown",
   "metadata": {},
   "source": [
    "<section style=\"direction: rtl; text-align: justify; margin: 30px;\">\n",
    "\n",
    "<div style=\"border-top: 1px solid #ccc; margin: 10px 0; opacity: 0.4\"></div>\n",
    "<div style=\"border-top: 1px solid #ccc; margin: 10px 0; opacity: 0.4\"></div>\n",
    "\n",
    "### **جلوگیری از تزریق SQL**\n",
    "\n",
    "هنگامی که مقادیر پرس و جو توسط کاربر ارائه می شود، باید مقادیر را escape کرد.\n",
    "\n",
    "این برای جلوگیری از تزریق SQL است، که یک تکنیک رایج هک وب برای از بین بردن یا سوء استفاده از پایگاه داده شما است.\n",
    "\n",
    "ماژول mysql.connector روش هایی برای فرار از مقادیر پرس و جو دارد:\n",
    "\n",
    "</section>"
   ]
  },
  {
   "cell_type": "code",
   "execution_count": 23,
   "metadata": {},
   "outputs": [
    {
     "name": "stdout",
     "output_type": "stream",
     "text": [
      "(17, 'Vicky', 'Yellow Garden 2')\n"
     ]
    }
   ],
   "source": [
    "import mysql.connector\n",
    "\n",
    "mydb = mysql.connector.connect(\n",
    "    host=\"localhost\",\n",
    "    user=\"root\",\n",
    "    password=\"1234\",\n",
    "    database=\"shop\"\n",
    ")\n",
    "\n",
    "mycursor = mydb.cursor()\n",
    "\n",
    "sql = \"SELECT * FROM customers WHERE address = %s\"\n",
    "adr = (\"Yellow Garden 2\", )\n",
    "\n",
    "mycursor.execute(sql, adr)\n",
    "\n",
    "myresult = mycursor.fetchall()\n",
    "\n",
    "for x in myresult:\n",
    "    print(x)"
   ]
  },
  {
   "cell_type": "markdown",
   "metadata": {},
   "source": [
    "<div style=\"border-top: 1px solid #ccc; margin: 10px 0; opacity: 0.4\"></div>\n",
    "\n",
    "Python MySQL Order By\n",
    "\n",
    "<section style=\"direction: rtl; text-align: justify; margin: 30px;\">\n",
    "\n",
    "## **مرتب کردن نتایج**\n",
    "\n",
    "از دستور ORDER BY برای مرتب کردن نتیجه به ترتیب صعودی یا نزولی استفاده کنید.\n",
    "\n",
    "کلمه کلیدی ORDER BY نتیجه را بصورت صعودی مرتب می کند. برای مرتب کردن نتیجه به ترتیب نزولی، از کلمه کلیدی DESC استفاده کنید.\n",
    "\n",
    "</section>"
   ]
  },
  {
   "cell_type": "code",
   "execution_count": 24,
   "metadata": {},
   "outputs": [
    {
     "name": "stdout",
     "output_type": "stream",
     "text": [
      "(10, 'Amy', 'Apple st 652')\n",
      "(18, 'Ben', 'Park Lane 38')\n",
      "(14, 'Betty', 'Green Grass 1')\n",
      "(20, 'Chuck', 'Main Road 989')\n",
      "(11, 'Hannah', 'Mountain 21')\n",
      "(12, 'Michael', 'Valley 345')\n",
      "(9, 'Peter', 'Lowstreet 4')\n",
      "(15, 'Richard', 'Sky st 331')\n",
      "(25, 'saleh', 'tehran')\n",
      "(13, 'Sandy', 'Ocean blvd 2')\n",
      "(16, 'Susan', 'One way 98')\n",
      "(17, 'Vicky', 'Yellow Garden 2')\n",
      "(21, 'Viola', 'Sideway 1633')\n",
      "(19, 'William', 'Central st 954')\n"
     ]
    }
   ],
   "source": [
    "import mysql.connector\n",
    "\n",
    "mydb = mysql.connector.connect(\n",
    "    host=\"localhost\",\n",
    "    user=\"root\",\n",
    "    password=\"1234\",\n",
    "    database=\"shop\"\n",
    ")\n",
    "\n",
    "mycursor = mydb.cursor()\n",
    "\n",
    "sql = \"SELECT * FROM customers ORDER BY name\"\n",
    "\n",
    "mycursor.execute(sql)\n",
    "\n",
    "myresult = mycursor.fetchall()\n",
    "\n",
    "for x in myresult:\n",
    "    print(x)"
   ]
  },
  {
   "cell_type": "markdown",
   "metadata": {},
   "source": [
    "<section style=\"direction: rtl; text-align: justify; margin: 30px;\">\n",
    "\n",
    "<div style=\"border-top: 1px solid #ccc; margin: 10px 0; opacity: 0.4\"></div>\n",
    "\n",
    "### **مرتب کردن نزولی**\n",
    "\n",
    "از کلمه کلیدی DESC برای مرتب کردن نتایج به ترتیب نزولی استفاده کنید.\n",
    "\n",
    "</section>"
   ]
  },
  {
   "cell_type": "code",
   "execution_count": 1,
   "metadata": {},
   "outputs": [
    {
     "name": "stdout",
     "output_type": "stream",
     "text": [
      "(19, 'William', 'Central st 954')\n",
      "(21, 'Viola', 'Sideway 1633')\n",
      "(17, 'Vicky', 'Yellow Garden 2')\n",
      "(16, 'Susan', 'One way 98')\n",
      "(13, 'Sandy', 'Ocean blvd 2')\n",
      "(25, 'saleh', 'tehran')\n",
      "(15, 'Richard', 'Sky st 331')\n",
      "(9, 'Peter', 'Lowstreet 4')\n",
      "(12, 'Michael', 'Valley 345')\n",
      "(11, 'Hannah', 'Mountain 21')\n",
      "(20, 'Chuck', 'Main Road 989')\n",
      "(14, 'Betty', 'Green Grass 1')\n",
      "(18, 'Ben', 'Park Lane 38')\n",
      "(10, 'Amy', 'Apple st 652')\n"
     ]
    }
   ],
   "source": [
    "import mysql.connector\n",
    "\n",
    "mydb = mysql.connector.connect(\n",
    "    host=\"localhost\",\n",
    "    user=\"root\",\n",
    "    password=\"1234\",\n",
    "    database=\"shop\"\n",
    ")\n",
    "\n",
    "mycursor = mydb.cursor()\n",
    "\n",
    "sql = \"SELECT * FROM customers ORDER BY name DESC\"\n",
    "\n",
    "mycursor.execute(sql)\n",
    "\n",
    "myresult = mycursor.fetchall()\n",
    "\n",
    "for x in myresult:\n",
    "    print(x)"
   ]
  },
  {
   "cell_type": "markdown",
   "metadata": {},
   "source": [
    "<div style=\"border-top: 1px solid #ccc; margin: 10px 0; opacity: 0.4\"></div>\n",
    "\n",
    "Python MySQL Delete From By\n",
    "\n",
    "<section style=\"direction: rtl; text-align: justify; margin: 30px;\">\n",
    "\n",
    "## **حذف کردن نتایج**\n",
    "\n",
    "با استفاده از عبارت \"DELETE FROM\" می توانید رکوردها را از یک جدول موجود حذف کنید:\n",
    "\n",
    "</section>"
   ]
  },
  {
   "cell_type": "code",
   "execution_count": 3,
   "metadata": {},
   "outputs": [
    {
     "name": "stdout",
     "output_type": "stream",
     "text": [
      "1 record(s) deleted\n"
     ]
    }
   ],
   "source": [
    "import mysql.connector\n",
    "\n",
    "mydb = mysql.connector.connect(\n",
    "    host=\"localhost\",\n",
    "    port=\"3306\",\n",
    "    user=\"root\",\n",
    "    password=\"1234\",\n",
    "    database=\"shop\"\n",
    ")\n",
    "\n",
    "mycursor = mydb.cursor()\n",
    "\n",
    "sql = \"DELETE FROM customers WHERE address = 'Mountain 21'\"\n",
    "\n",
    "mycursor.execute(sql)\n",
    "\n",
    "mydb.commit()\n",
    "\n",
    "print(mycursor.rowcount, \"record(s) deleted\")"
   ]
  },
  {
   "cell_type": "markdown",
   "metadata": {},
   "source": [
    "<section style=\"direction: rtl; text-align: justify; margin: 30px;\">\n",
    "\n",
    "⚠️ مهم!: به عبارت mydb.commit توجه کنید. انجام تغییرات الزامی است، در غیر این صورت هیچ تغییری در جدول ایجاد نمی شود.\n",
    "\n",
    "⚠️ به عبارت WHERE در نحو DELETE توجه کنید: عبارت WHERE مشخص می کند که کدام رکورد(ها) باید حذف شوند. اگر بند WHERE را حذف کنید، تمام رکوردها حذف خواهند شد!\n",
    "\n",
    "\n",
    "<div style=\"border-top: 1px solid #ccc; margin: 10px 0; opacity: 0.4\"></div>\n",
    "<div style=\"border-top: 1px solid #ccc; margin: 10px 0; opacity: 0.4\"></div>\n",
    "\n",
    "### **(SQL Injection) جلوگیری از تزریق SQL**\n",
    "\n",
    "فرار از مقادیر هر پرس و جو، همچنین در دستورات حذف، یک روش خوب در نظر گرفته می شود.\n",
    "\n",
    "این برای جلوگیری از تزریق SQL است، که یک تکنیک رایج هک وب برای از بین بردن یا سوء استفاده از پایگاه داده شما است.\n",
    "\n",
    "ماژول mysql.connector از مکان نگهدار %s برای فرار از مقادیر در عبارت delete استفاده می کند:\n",
    "\n",
    "</section>"
   ]
  },
  {
   "cell_type": "code",
   "execution_count": 7,
   "metadata": {},
   "outputs": [
    {
     "name": "stdout",
     "output_type": "stream",
     "text": [
      "1 record(s) deleted\n"
     ]
    }
   ],
   "source": [
    "import mysql.connector\n",
    "\n",
    "mydb = mysql.connector.connect(\n",
    "    host=\"localhost\",\n",
    "    user=\"root\",\n",
    "    password=\"1234\",\n",
    "    database=\"shop\"\n",
    ")\n",
    "\n",
    "mycursor = mydb.cursor()\n",
    "\n",
    "sql = \"DELETE FROM customers WHERE address = %s\"\n",
    "adr = (\"Yellow Garden 2\", )\n",
    "\n",
    "mycursor.execute(sql, adr)\n",
    "\n",
    "mydb.commit()\n",
    "\n",
    "print(mycursor.rowcount, \"record(s) deleted\")"
   ]
  },
  {
   "cell_type": "markdown",
   "metadata": {},
   "source": [
    "<div style=\"border-top: 1px solid #ccc; margin: 10px 0; opacity: 0.4\"></div>\n",
    "\n",
    "Python MySQL Drop Table\n",
    "\n",
    "<section style=\"direction: rtl; text-align: justify; margin: 30px;\">\n",
    "\n",
    "## **حذف یک جدول**\n",
    "\n",
    "با استفاده از عبارت \"DROP TABLE\" می توانید یک جدول موجود را حذف کنید:\n",
    "\n",
    "</section>"
   ]
  },
  {
   "cell_type": "code",
   "execution_count": null,
   "metadata": {},
   "outputs": [],
   "source": [
    "import mysql.connector\n",
    "\n",
    "mydb = mysql.connector.connect(\n",
    "    host=\"localhost\",\n",
    "    user=\"root\",\n",
    "    password=\"1234\",\n",
    "    database=\"shop\"\n",
    ")\n",
    "\n",
    "mycursor = mydb.cursor()\n",
    "\n",
    "sql = \"DROP TABLE customers\"\n",
    "\n",
    "mycursor.execute(sql)"
   ]
  },
  {
   "cell_type": "markdown",
   "metadata": {},
   "source": [
    "<section style=\"direction: rtl; text-align: justify; margin: 30px;\">\n",
    "\n",
    "<div style=\"border-top: 1px solid #ccc; margin: 10px 0; opacity: 0.4\"></div>\n",
    "\n",
    "اگر جدولی که می خواهید حذف کنید قبلاً حذف شده است یا به هر دلیل دیگری وجود ندارد، می توانید از کلمه کلیدی IF EXISTS برای جلوگیری از خطا استفاده کنید.\n",
    "\n",
    "</section>"
   ]
  },
  {
   "cell_type": "code",
   "execution_count": 2,
   "metadata": {},
   "outputs": [],
   "source": [
    "import mysql.connector\n",
    "\n",
    "mydb = mysql.connector.connect(\n",
    "    host=\"localhost\",\n",
    "    user=\"root\",\n",
    "    password=\"1234\",\n",
    "    database=\"shop\"\n",
    ")\n",
    "\n",
    "mycursor = mydb.cursor()\n",
    "\n",
    "sql = \"DROP TABLE IF EXISTS customers\"\n",
    "\n",
    "mycursor.execute(sql)"
   ]
  },
  {
   "cell_type": "markdown",
   "metadata": {},
   "source": [
    "<div style=\"border-top: 1px solid #ccc; margin: 10px 0; opacity: 0.4\"></div>\n",
    "\n",
    "Python MySQL Update Table\n",
    "\n",
    "<section style=\"direction: rtl; text-align: justify; margin: 30px;\">\n",
    "\n",
    "## **بروزرسانی یک جدول**\n",
    "\n",
    "با استفاده از عبارت \"UPDATE\" می توانید رکوردهای موجود در جدول را به روز کنید:\n",
    "\n",
    "</section>"
   ]
  },
  {
   "cell_type": "code",
   "execution_count": 20,
   "metadata": {},
   "outputs": [
    {
     "name": "stdout",
     "output_type": "stream",
     "text": [
      "1 record(s) affected\n",
      "-----------------------\n",
      "\n",
      "(1, 'Peter', 'Lowstreet 4')\n",
      "(2, 'Amy', 'Apple st 652')\n",
      "(3, 'Hannah', 'Mountain 21')\n",
      "(4, 'Michael', 'Canyon 123')\n",
      "(5, 'Sandy', 'Ocean blvd 2')\n",
      "(6, 'Betty', 'Green Grass 1')\n",
      "(7, 'Richard', 'Sky st 331')\n",
      "(8, 'Susan', 'One way 98')\n",
      "(9, 'Vicky', 'Yellow Garden 2')\n",
      "(10, 'Ben', 'Park Lane 38')\n",
      "(11, 'William', 'Central st 954')\n",
      "(12, 'Chuck', 'Main Road 989')\n",
      "(13, 'Viola', 'Sideway 1633')\n",
      "(14, 'saleh', 'tehran')\n"
     ]
    }
   ],
   "source": [
    "import mysql.connector\n",
    "\n",
    "mydb = mysql.connector.connect(\n",
    "    host=\"localhost\",\n",
    "    user=\"root\",\n",
    "    password=\"1234\",\n",
    "    database=\"shop\"\n",
    ")\n",
    "\n",
    "mycursor = mydb.cursor()\n",
    "\n",
    "sql = \"UPDATE customers SET address = 'Canyon 123' WHERE address = 'Valley 345'\"\n",
    "\n",
    "mycursor.execute(sql)\n",
    "\n",
    "mydb.commit()\n",
    "\n",
    "print(mycursor.rowcount, \"record(s) affected\")\n",
    "\n",
    "print(\"-----------------------\\n\")\n",
    "\n",
    "sql = \"SELECT * FROM customers\"\n",
    "\n",
    "mycursor.execute(sql)\n",
    "\n",
    "myresult = mycursor.fetchall()\n",
    "\n",
    "for x in myresult:\n",
    "    print(x)"
   ]
  },
  {
   "cell_type": "markdown",
   "metadata": {},
   "source": [
    "<section style=\"direction: rtl; text-align: justify; margin: 30px;\">\n",
    "\n",
    "⚠️ مهم!: به عبارت mydb.commit توجه کنید. انجام تغییرات الزامی است، در غیر این صورت هیچ تغییری در جدول ایجاد نمی شود.\n",
    "\n",
    "به عبارت WHERE در نحو UPDATE توجه کنید: عبارت WHERE مشخص می کند که کدام رکورد یا رکوردهایی که باید به روز شوند. اگر بند WHERE را حذف کنید، تمام رکوردها به روز می شوند!\n",
    "\n",
    "<div style=\"border-top: 1px solid #ccc; margin: 10px 0; opacity: 0.4\"></div>\n",
    "<div style=\"border-top: 1px solid #ccc; margin: 10px 0; opacity: 0.4\"></div>\n",
    "\n",
    "### **SQL Injection (جلوگیری از تزریق SQL)**\n",
    "\n",
    "فرار از مقادیر هر پرس و جو، همچنین در بیانیه های به روز رسانی، عمل خوبی در نظر گرفته می شود.\n",
    "\n",
    "این برای جلوگیری از تزریق SQL است، که یک تکنیک رایج هک وب برای از بین بردن یا سوء استفاده از پایگاه داده شما است.\n",
    "\n",
    "ماژول mysql.connector از مکان نگهدار %s برای فرار از مقادیر در عبارت delete استفاده می کند:\n",
    "\n",
    "</section>"
   ]
  },
  {
   "cell_type": "code",
   "execution_count": 22,
   "metadata": {},
   "outputs": [
    {
     "name": "stdout",
     "output_type": "stream",
     "text": [
      "0 record(s) affected\n",
      "------------------------\n",
      "\n",
      "(1, 'Peter', 'Lowstreet 4')\n",
      "(2, 'Amy', 'Apple st 652')\n",
      "(3, 'Hannah', 'Mountain 21')\n",
      "(4, 'Michael', 'Valley 345')\n",
      "(5, 'Sandy', 'Ocean blvd 2')\n",
      "(6, 'Betty', 'Green Grass 1')\n",
      "(7, 'Richard', 'Sky st 331')\n",
      "(8, 'Susan', 'One way 98')\n",
      "(9, 'Vicky', 'Yellow Garden 2')\n",
      "(10, 'Ben', 'Park Lane 38')\n",
      "(11, 'William', 'Central st 954')\n",
      "(12, 'Chuck', 'Main Road 989')\n",
      "(13, 'Viola', 'Sideway 1633')\n",
      "(14, 'saleh', 'tehran')\n"
     ]
    }
   ],
   "source": [
    "import mysql.connector\n",
    "\n",
    "mydb = mysql.connector.connect(\n",
    "    host=\"localhost\",\n",
    "    user=\"root\",\n",
    "    password=\"1234\",\n",
    "    database=\"shop\"\n",
    ")\n",
    "\n",
    "mycursor = mydb.cursor()\n",
    "\n",
    "sql = \"UPDATE customers SET address = %s WHERE address = %s\"\n",
    "val = (\"Valley 345\", \"Canyon 123\")\n",
    "\n",
    "mycursor.execute(sql, val)\n",
    "\n",
    "mydb.commit()\n",
    "\n",
    "print(mycursor.rowcount, \"record(s) affected\")\n",
    "\n",
    "print(\"------------------------\\n\")\n",
    "\n",
    "sql = \"SELECT * FROM customers\"\n",
    "\n",
    "mycursor.execute(sql)\n",
    "\n",
    "myresult = mycursor.fetchall()\n",
    "\n",
    "for x in myresult:\n",
    "    print(x)"
   ]
  },
  {
   "cell_type": "markdown",
   "metadata": {},
   "source": [
    "<div style=\"border-top: 1px solid #ccc; margin: 10px 0; opacity: 0.4\"></div>\n",
    "\n",
    "Python MySQL Limit\n",
    "\n",
    "<section style=\"direction: rtl; text-align: justify; margin: 30px;\">\n",
    "\n",
    "## **محدوده پرس و جو**\n",
    "\n",
    "با استفاده از عبارت \"LIMIT\" می توانید تعداد رکوردهای برگشتی از پرس و جو را محدود کنید:\n",
    "\n",
    "</section>"
   ]
  },
  {
   "cell_type": "code",
   "execution_count": 2,
   "metadata": {},
   "outputs": [],
   "source": [
    "import mysql.connector\n",
    "\n",
    "mydb = mysql.connector.connect(\n",
    "    host=\"localhost\",\n",
    "    user=\"root\",\n",
    "    password=\"1234\",\n",
    "    database=\"shop\"\n",
    ")\n",
    "\n",
    "mycursor = mydb.cursor()\n",
    "\n",
    "sql = \"SELECT * FROM customers LIMIT 5\"\n",
    "\n",
    "mycursor.execute(sql)\n",
    "\n",
    "myresult = mycursor.fetchall()\n",
    "\n",
    "for x in myresult:\n",
    "    print(x)"
   ]
  },
  {
   "cell_type": "markdown",
   "metadata": {},
   "source": [
    "<div style=\"border-top: 1px solid #ccc; margin: 10px 0; opacity: 0.4\"></div>\n",
    "\n",
    "<section style=\"direction: rtl; text-align: justify; margin: 30px;\">\n",
    "\n",
    "اگر می خواهید پنج رکورد را برگردانید، با شروع از رکورد سوم، می توانید از کلمه کلیدی \"OFFSET\" استفاده کنید:\n",
    "\n",
    "</section>"
   ]
  },
  {
   "cell_type": "code",
   "execution_count": 26,
   "metadata": {},
   "outputs": [
    {
     "name": "stdout",
     "output_type": "stream",
     "text": [
      "(3, 'Hannah', 'Mountain 21')\n",
      "(4, 'Michael', 'Valley 345')\n",
      "(5, 'Sandy', 'Ocean blvd 2')\n",
      "(6, 'Betty', 'Green Grass 1')\n",
      "(7, 'Richard', 'Sky st 331')\n"
     ]
    }
   ],
   "source": [
    "import mysql.connector\n",
    "\n",
    "mydb = mysql.connector.connect(\n",
    "    host=\"localhost\",\n",
    "    user=\"root\",\n",
    "    password=\"1234\",\n",
    "    database=\"shop\"\n",
    ")\n",
    "\n",
    "mycursor = mydb.cursor()\n",
    "\n",
    "sql = \"SELECT * FROM customers LIMIT 5 OFFSET 2\"\n",
    "\n",
    "mycursor.execute(sql)\n",
    "\n",
    "myresult = mycursor.fetchall()\n",
    "\n",
    "for x in myresult:\n",
    "    print(x)"
   ]
  },
  {
   "cell_type": "markdown",
   "metadata": {},
   "source": [
    "<div style=\"border-top: 1px solid #ccc; margin: 10px 0; opacity: 0.4\"></div>\n",
    "\n",
    "Python MySQL Join\n",
    "\n",
    "<section style=\"direction: rtl; text-align: justify; margin: 30px;\">\n",
    "\n",
    "## **ترکیب جداول**\n",
    "\n",
    "با استفاده از عبارت JOIN می‌توانید ردیف‌های دو یا چند جدول را بر اساس ستون مرتبط بین آنها ترکیب کنید.\n",
    "\n",
    "در نظر بگیرید که یک جدول \"کاربران\" و یک جدول \"محصولات\" دارید:\n",
    "\n",
    "</section>\n",
    "\n",
    "### users:\n",
    "```\n",
    "    { id: 1, name: 'John', fav: 154},\n",
    "    { id: 2, name: 'Peter', fav: 154},\n",
    "    { id: 3, name: 'Amy', fav: 155},\n",
    "    { id: 4, name: 'Hannah', fav:},\n",
    "    { id: 5, name: 'Michael', fav:}\n",
    "```\n",
    "\n",
    "### products:\n",
    "```\n",
    "    { id: 154, name: 'Chocolate Heaven' },\n",
    "    { id: 155, name: 'Tasty Lemons' },\n",
    "    { id: 156, name: 'Vanilla Dreams' }\n",
    "```\n",
    "<section style=\"direction: rtl; text-align: justify; margin: 30px;\">\n",
    "\n",
    "این دو جدول را می توان با استفاده از فیلد fav از user و فیلد id از products ترکیب کرد.\n",
    "\n",
    "🧠 ابتدا باید جدول users و products را در دیتابیس shop ایجاد کنیم:\n",
    "\n",
    "</section>"
   ]
  },
  {
   "cell_type": "code",
   "execution_count": 9,
   "metadata": {},
   "outputs": [],
   "source": [
    "import mysql.connector\n",
    "\n",
    "mydb = mysql.connector.connect(\n",
    "    host=\"localhost\",\n",
    "    port=\"3306\",\n",
    "    user=\"root\",\n",
    "    password=\"1234\",\n",
    "    database=\"shop\"\n",
    ")\n",
    "\n",
    "mycursor = mydb.cursor()\n",
    "\n",
    "# ایجاد جدول users:\n",
    "mycursor.execute(\n",
    "    \"CREATE TABLE users (id INT(10), name VARCHAR(255), fav INT(10))\")\n",
    "\n",
    "# ایجاد جدول products:\n",
    "mycursor.execute(\n",
    "    \"CREATE TABLE products (id INT(10), name VARCHAR(255), city VARCHAR(255))\")"
   ]
  },
  {
   "cell_type": "markdown",
   "metadata": {},
   "source": [
    "<section style=\"direction: rtl; text-align: justify; margin: 30px;\">\n",
    "\n",
    "سپس مقادیر هر کدام از جداول را داخل آن جدول وارد می‌کنیم:\n",
    "\n",
    "</section>"
   ]
  },
  {
   "cell_type": "code",
   "execution_count": 16,
   "metadata": {},
   "outputs": [],
   "source": [
    "# users data:\n",
    "\n",
    "sql = \"INSERT INTO users (name, fav) VALUES (%s, %s)\"\n",
    "users = [\n",
    "    {'id': 1, 'name': 'John', 'fav': 154},\n",
    "    {'id': 2, 'name': 'Peter', 'fav': 154},\n",
    "    {'id': 3, 'name': 'Amy', 'fav': 155},\n",
    "    {'id': 4, 'name': 'Hannah', 'fav': 155},\n",
    "    {'id': 5, 'name': 'Michael', 'fav': 154}\n",
    "]\n",
    "\n",
    "for user in users:\n",
    "    sql = \"INSERT INTO users (id, name, fav) VALUES (%s, %s, %s)\"\n",
    "    mycursor.execute(sql, (user['id'], user['name'], user['fav']))"
   ]
  },
  {
   "cell_type": "code",
   "execution_count": 14,
   "metadata": {},
   "outputs": [],
   "source": [
    "# products data:\n",
    "\n",
    "products = [\n",
    "    {'id': 154, 'name': 'Chocolate Heaven', 'city': 'tehran'},\n",
    "    {'id': 155, 'name': 'Tasty Lemons', 'city': 'tehran'},\n",
    "    {'id': 156, 'name': 'Vanilla Dreams', 'city': 'tehran'}\n",
    "]\n",
    "\n",
    "for product in products:\n",
    "    sql = \"INSERT INTO products (id, name, city) VALUES (%s, %s, %s)\"\n",
    "    mycursor.execute(sql, (product['id'], product['name'], product['city']))"
   ]
  },
  {
   "cell_type": "markdown",
   "metadata": {},
   "source": [
    "<section style=\"direction: rtl; text-align: justify; margin: 30px;\">\n",
    "\n",
    "در مرحله بعد این دو جدول را می توان با استفاده از فیلد fav از user و فیلد id از products ترکیب کرد.\n",
    "\n",
    "</section>"
   ]
  },
  {
   "cell_type": "code",
   "execution_count": 1,
   "metadata": {},
   "outputs": [],
   "source": [
    "import mysql.connector\n",
    "\n",
    "mydb = mysql.connector.connect(\n",
    "    host=\"localhost\",\n",
    "    user=\"root\",\n",
    "    password=\"1234\",\n",
    "    database=\"shop\"\n",
    ")\n",
    "\n",
    "mycursor = mydb.cursor()\n",
    "\n",
    "sql = \"SELECT \\\n",
    "  users.name AS user, \\\n",
    "  products.name AS favorite \\\n",
    "  FROM users \\\n",
    "  INNER JOIN products ON users.fav = products.id\"\n",
    "\n",
    "mycursor.execute(sql)\n",
    "\n",
    "myresult = mycursor.fetchall()\n",
    "\n",
    "for x in myresult:\n",
    "    print(x)"
   ]
  },
  {
   "cell_type": "markdown",
   "metadata": {},
   "source": [
    "\n",
    "<section style=\"direction: rtl; text-align: justify; margin: 30px;\">\n",
    "\n",
    "توجه: می توانید به جای JOIN داخلی از JOIN استفاده کنید. هر دو نتیجه یکسانی به شما خواهند داد.\n",
    "\n",
    "<div style=\"border-top: 1px solid #ccc; margin: 10px 0; opacity: 0.4\"></div>\n",
    "<div style=\"border-top: 1px solid #ccc; margin: 10px 0; opacity: 0.4\"></div>\n",
    "\n",
    "</section>\n",
    "\n",
    "### **LEFT JOIN**\n",
    "\n",
    "<section style=\"direction: rtl; text-align: justify; margin: 30px;\">\n",
    "\n",
    "در مثال بالا، هانا و مایکل از نتیجه حذف شدند، به این دلیل که JOIN داخلی فقط رکوردهایی را نشان می‌دهد که در آن تطابق وجود دارد.\n",
    "\n",
    "اگر می‌خواهید به همه کاربران نشان دهید، حتی اگر محصول مورد علاقه‌ای ندارند، از عبارت LEFT JOIN استفاده کنید:\n",
    "\n",
    "</section>"
   ]
  },
  {
   "cell_type": "code",
   "execution_count": 2,
   "metadata": {},
   "outputs": [],
   "source": [
    "sql = \"SELECT \\\n",
    "  users.name AS user, \\\n",
    "  products.name AS favorite \\\n",
    "  FROM users \\\n",
    "  LEFT JOIN products ON users.fav = products.id\""
   ]
  },
  {
   "cell_type": "markdown",
   "metadata": {},
   "source": [
    "<div style=\"border-top: 1px solid #ccc; margin: 10px 0; opacity: 0.4\"></div>\n",
    "\n",
    "### **RIGHT JOIN**\n",
    "\n",
    "<section style=\"direction: rtl; text-align: justify; margin: 30px;\">\n",
    "\n",
    "اگر می‌خواهید همه محصولات را برگردانید و کاربرانی که آنها را به عنوان مورد علاقه خود دارند، حتی اگر هیچ کاربری آنها را به عنوان مورد علاقه خود نداشته باشد، از عبارت RIGHT JOIN استفاده کنید:\n",
    "\n",
    "</section>"
   ]
  },
  {
   "cell_type": "code",
   "execution_count": 3,
   "metadata": {},
   "outputs": [],
   "source": [
    "sql = \"SELECT \\\n",
    "  users.name AS user, \\\n",
    "  products.name AS favorite \\\n",
    "  FROM users \\\n",
    "  RIGHT JOIN products ON users.fav = products.id\""
   ]
  },
  {
   "cell_type": "markdown",
   "metadata": {},
   "source": [
    "<section style=\"direction: rtl; text-align: justify; margin: 30px;\">\n",
    "\n",
    "توجه: هانا و مایکل که هیچ محصول مورد علاقه ای ندارند، در نتیجه گنجانده نشده اند.\n",
    "\n",
    "</section>"
   ]
  },
  {
   "cell_type": "markdown",
   "metadata": {},
   "source": [
    "___\n",
    "<section style=\"direction:rtl; text-align: center; margin: 30px;\">\n",
    "\n",
    "### **پایان بخش MySql**\n",
    "\n",
    "</section>"
   ]
  }
 ],
 "metadata": {
  "kernelspec": {
   "display_name": "Python 3",
   "language": "python",
   "name": "python3"
  },
  "language_info": {
   "codemirror_mode": {
    "name": "ipython",
    "version": 3
   },
   "file_extension": ".py",
   "mimetype": "text/x-python",
   "name": "python",
   "nbconvert_exporter": "python",
   "pygments_lexer": "ipython3",
   "version": "3.10.12"
  }
 },
 "nbformat": 4,
 "nbformat_minor": 2
}
