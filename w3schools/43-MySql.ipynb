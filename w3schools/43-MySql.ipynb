{
 "cells": [
  {
   "cell_type": "markdown",
   "metadata": {},
   "source": [
    "Python MySQL\n",
    "\n",
    "<section style=\"direction: rtl; text-align: justify; margin: 30px;\">\n",
    "\n",
    "## **MySQL در پایتون**\n",
    "\n",
    "🧠 MySQL یکی از محبوب‌ترین سیستم‌های مدیریت پایگاه داده است که با استفاده از آن می‌توانید داده‌های خود را ذخیره و مدیریت کنید. در پایتون، شما می‌توانید از کتابخانه mysql-connector-python برای برقراری ارتباط و اجرای عملیات بر روی یک پایگاه داده MySQL استفاده کنید.\n",
    "\n",
    "در ابتدا، باید این کتابخانه را نصب کنید. می‌توانید از این دستور را در خط فرمان وارد کنید:\n",
    "\n",
    "</section>\n",
    "\n",
    "> pip install mysql-connector-python\n",
    "\n",
    "<section style=\"direction: rtl; text-align: justify; margin: 30px;\">\n",
    "\n",
    "حالا بیایید یک اتصال به پایگاه داده MySQL برقرار کنیم:\n",
    "\n",
    "</section>"
   ]
  },
  {
   "cell_type": "code",
   "execution_count": 14,
   "metadata": {},
   "outputs": [
    {
     "name": "stdout",
     "output_type": "stream",
     "text": [
      "<mysql.connector.connection_cext.CMySQLConnection object at 0x7f52fb52ae00>\n"
     ]
    }
   ],
   "source": [
    "import mysql.connector\n",
    "\n",
    "global mycursor\n",
    "\n",
    "# برقراری اتصال\n",
    "mydb = mysql.connector.connect(\n",
    "    host=\"localhost\",  # میزبان پایگاه داده\n",
    "    user=\"root\",  # نام کاربری\n",
    "    password=\"s33008814A\",  # رمز عبور\n",
    ")\n",
    "\n",
    "print(mydb)"
   ]
  },
  {
   "cell_type": "markdown",
   "metadata": {},
   "source": [
    "<section style=\"direction: rtl; text-align: justify; margin: 30px;\">\n",
    "\n",
    "سپس می‌توانید عملیات‌های مختلفی مانند اجرای کوئری‌ها یا درج، به‌روزرسانی و حذف داده‌ها را انجام دهید. به عنوان مثال:\n",
    "\n",
    "</section>"
   ]
  },
  {
   "cell_type": "code",
   "execution_count": 15,
   "metadata": {},
   "outputs": [
    {
     "name": "stdout",
     "output_type": "stream",
     "text": [
      "('information_schema',)\n",
      "('mysql',)\n",
      "('performance_schema',)\n",
      "('shop',)\n",
      "('sys',)\n"
     ]
    }
   ],
   "source": [
    "mycursor = mydb.cursor()\n",
    "\n",
    "mycursor.execute(\"SHOW DATABASES\")\n",
    "\n",
    "for x in mycursor:\n",
    "    print(x)"
   ]
  },
  {
   "cell_type": "markdown",
   "metadata": {},
   "source": [
    "<section style=\"direction: rtl; text-align: justify; margin: 30px;\">\n",
    "\n",
    "برای ایجاد یک پایگاه داده در MySQL، از عبارت \"CREATE DATABASE\" استفاده کنید:\n",
    "\n",
    "</section>"
   ]
  },
  {
   "cell_type": "code",
   "execution_count": 33,
   "metadata": {},
   "outputs": [
    {
     "name": "stdout",
     "output_type": "stream",
     "text": [
      "اتصال برقرار شد\n",
      "اتصال برقرار نشد No result set to fetch from\n",
      "اتصال بسته شد\n"
     ]
    }
   ],
   "source": [
    "import mysql.connector\n",
    "from mysql.connector import Error\n",
    "\n",
    "host = 'localhost'\n",
    "user = 'root'\n",
    "password = 's33008814A'\n",
    "database = 'shop'\n",
    "\n",
    "try:\n",
    "    connection = mysql.connector.connect(\n",
    "        host=host,\n",
    "        user=user,\n",
    "        password=password,\n",
    "        database=database\n",
    "    )\n",
    "\n",
    "    cursor = connection.cursor()\n",
    "    if connection.is_connected():\n",
    "        print('اتصال برقرار شد')\n",
    "\n",
    "    database_exists = cursor.fetchone()\n",
    "\n",
    "    if database_exists:\n",
    "        print(\"پایگاه داده‌ای با نام {} وجود دارد\".format(database))\n",
    "\n",
    "except Exception as e:\n",
    "    print(f'اتصال برقرار نشد {e}')\n",
    "\n",
    "finally:\n",
    "    if 'connection' in locals():\n",
    "        connection.close()\n",
    "        print('اتصال بسته شد')"
   ]
  },
  {
   "cell_type": "code",
   "execution_count": null,
   "metadata": {},
   "outputs": [],
   "source": [
    "import mysql.connector\n",
    "from mysql.connector import Error\n",
    "\n",
    "# اطلاعات اتصال به پایگاه داده\n",
    "host = \"localhost\"\n",
    "user = \"yourusername\"\n",
    "password = \"yourpassword\"\n",
    "database = \"yourdatabase\"\n",
    "\n",
    "try:\n",
    "    # برقراری اتصال به پایگاه داده\n",
    "    connection = mysql.connector.connect(\n",
    "        host=host, user=user, password=password, database=database)\n",
    "\n",
    "    # ارسال دستور SQL برای بررسی وجود دیتابیس\n",
    "    cursor = connection.cursor()\n",
    "    cursor.execute(\"SHOW DATABASES LIKE '{}'\".format(database))\n",
    "\n",
    "    # بررسی نتیجه دستور SQL\n",
    "    database_exists = cursor.fetchone()\n",
    "\n",
    "    if database_exists:\n",
    "        print(\"پایگاه داده‌ای با نام '{}' وجود دارد.\".format(database))\n",
    "    else:\n",
    "        # ایجاد دیتابیس در صورت عدم وجود\n",
    "        cursor.execute(\"CREATE DATABASE {}\".format(database))\n",
    "        print(\"پایگاه داده '{}' با موفقیت ایجاد شد.\".format(database))\n",
    "\n",
    "except Error as e:\n",
    "    print(\"خطا در برقراری اتصال یا اجرای دستور SQL: \", e)\n",
    "\n",
    "finally:\n",
    "    # بستن اتصال\n",
    "    if (connection.is_connected()):\n",
    "        cursor.close()\n",
    "        connection.close()\n",
    "        print(\"اتصال به پایگاه داده بسته شد.\")"
   ]
  }
 ],
 "metadata": {
  "kernelspec": {
   "display_name": "Python 3",
   "language": "python",
   "name": "python3"
  },
  "language_info": {
   "codemirror_mode": {
    "name": "ipython",
    "version": 3
   },
   "file_extension": ".py",
   "mimetype": "text/x-python",
   "name": "python",
   "nbconvert_exporter": "python",
   "pygments_lexer": "ipython3",
   "version": "3.10.12"
  }
 },
 "nbformat": 4,
 "nbformat_minor": 2
}
