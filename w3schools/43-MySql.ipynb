{
 "cells": [
  {
   "cell_type": "markdown",
   "metadata": {},
   "source": [
    "Python MySQL\n",
    "\n",
    "<section style=\"direction: rtl; text-align: justify; margin: 30px;\">\n",
    "\n",
    "## **MySQL در پایتون**\n",
    "\n",
    "🧠 MySQL یکی از محبوب‌ترین سیستم‌های مدیریت پایگاه داده است که با استفاده از آن می‌توانید داده‌های خود را ذخیره و مدیریت کنید. در پایتون، شما می‌توانید از کتابخانه mysql-connector-python برای برقراری ارتباط و اجرای عملیات بر روی یک پایگاه داده MySQL استفاده کنید.\n",
    "\n",
    "در ابتدا، باید این کتابخانه را نصب کنید. می‌توانید از این دستور را در خط فرمان وارد کنید:\n",
    "\n",
    "</section>\n",
    "\n",
    "> pip install mysql-connector-python\n",
    "\n",
    "<section style=\"direction: rtl; text-align: justify; margin: 30px;\">\n",
    "\n",
    "حالا بیایید یک اتصال به پایگاه داده MySQL برقرار کنیم:\n",
    "\n",
    "</section>"
   ]
  },
  {
   "cell_type": "code",
   "execution_count": 14,
   "metadata": {},
   "outputs": [
    {
     "name": "stdout",
     "output_type": "stream",
     "text": [
      "<mysql.connector.connection_cext.CMySQLConnection object at 0x7f52fb52ae00>\n"
     ]
    }
   ],
   "source": [
    "import mysql.connector\n",
    "\n",
    "global mycursor\n",
    "\n",
    "# برقراری اتصال\n",
    "mydb = mysql.connector.connect(\n",
    "    host=\"localhost\",  # میزبان پایگاه داده\n",
    "    user=\"root\",  # نام کاربری\n",
    "    password=\"1234\",  # رمز عبور\n",
    ")\n",
    "\n",
    "print(mydb)"
   ]
  },
  {
   "cell_type": "markdown",
   "metadata": {},
   "source": [
    "<section style=\"direction: rtl; text-align: justify; margin: 30px;\">\n",
    "\n",
    "سپس می‌توانید عملیات‌های مختلفی مانند اجرای کوئری‌ها یا درج، به‌روزرسانی و حذف داده‌ها را انجام دهید. به عنوان مثال:\n",
    "\n",
    "</section>"
   ]
  },
  {
   "cell_type": "code",
   "execution_count": 15,
   "metadata": {},
   "outputs": [
    {
     "name": "stdout",
     "output_type": "stream",
     "text": [
      "('information_schema',)\n",
      "('mysql',)\n",
      "('performance_schema',)\n",
      "('shop',)\n",
      "('sys',)\n"
     ]
    }
   ],
   "source": [
    "mycursor = mydb.cursor()\n",
    "\n",
    "mycursor.execute(\"SHOW DATABASES\")\n",
    "\n",
    "for x in mycursor:\n",
    "    print(x)"
   ]
  },
  {
   "cell_type": "markdown",
   "metadata": {},
   "source": [
    "<section style=\"direction: rtl; text-align: justify; margin: 30px;\">\n",
    "\n",
    "برای ایجاد یک پایگاه داده در MySQL، از عبارت \"CREATE DATABASE\" استفاده کنید:\n",
    "\n",
    "</section>"
   ]
  },
  {
   "cell_type": "code",
   "execution_count": null,
   "metadata": {},
   "outputs": [],
   "source": [
    "import mysql.connector\n",
    "\n",
    "mydb = mysql.connector.connect(\n",
    "    host=\"127.0.0.1\",\n",
    "    port=\"3306\",\n",
    "    user=\"root\",\n",
    "    password=\"1234\"\n",
    ")\n",
    "\n",
    "mycursor = mydb.cursor()\n",
    "\n",
    "mycursor.execute(\"CREATE DATABASE shop\")"
   ]
  },
  {
   "cell_type": "markdown",
   "metadata": {},
   "source": [
    "<section style=\"direction: rtl; text-align: justify; margin: 30px;\">\n",
    "\n",
    "اگر کد بالا بدون خطا اجرا شد، شما با موفقیت یک پایگاه داده ایجاد کرده اید.\n",
    "\n",
    "<div style=\"border-top: 1px solid #ccc; margin: 10px 0; opacity: 0.4\"></div>\n",
    "\n",
    "### بررسی کنید که آیا پایگاه داده وجود دارد\n",
    "\n",
    "شما می توانید بررسی کنید که آیا یک پایگاه داده وجود دارد با لیست تمام پایگاه های داده در سیستم خود را با استفاده از \"نمایش پایگاه داده\" بیانیه:\n",
    "\n",
    "</section>"
   ]
  },
  {
   "cell_type": "code",
   "execution_count": 17,
   "metadata": {},
   "outputs": [
    {
     "name": "stdout",
     "output_type": "stream",
     "text": [
      "('information_schema',)\n",
      "('mysql',)\n",
      "('performance_schema',)\n",
      "('shop',)\n",
      "('sys',)\n"
     ]
    }
   ],
   "source": [
    "import mysql.connector\n",
    "\n",
    "mydb = mysql.connector.connect(\n",
    "    host=\"localhost\",\n",
    "    user=\"root\",\n",
    "    password=\"1234\"\n",
    ")\n",
    "\n",
    "mycursor = mydb.cursor()\n",
    "\n",
    "mycursor.execute(\"SHOW DATABASES\")\n",
    "\n",
    "for x in mycursor:\n",
    "    print(x)"
   ]
  },
  {
   "cell_type": "markdown",
   "metadata": {},
   "source": [
    "<section style=\"direction: rtl; text-align: justify; margin: 30px;\">\n",
    "\n",
    "یا می‌توانید در هنگام ساخت اتصال بررسی کنید که آیا یک یتابیس وجود دارد یا خیر:\n",
    "\n",
    "</section>"
   ]
  },
  {
   "cell_type": "code",
   "execution_count": 8,
   "metadata": {},
   "outputs": [],
   "source": [
    "import mysql.connector\n",
    "\n",
    "mydb = mysql.connector.connect(\n",
    "    host=\"localhost\",\n",
    "    user=\"root\",\n",
    "    password=\"1234\"\n",
    ")"
   ]
  },
  {
   "cell_type": "markdown",
   "metadata": {},
   "source": [
    "<section style=\"direction: rtl; text-align: justify; margin: 30px;\">\n",
    "\n",
    "اگر پایگاه داده وجود نداشته باشد، شما یک خطا دریافت خواهید کرد.\n",
    "\n",
    "</section>"
   ]
  },
  {
   "cell_type": "markdown",
   "metadata": {},
   "source": [
    "<div style=\"border-top: 1px solid #ccc; margin: 10px 0; opacity: 0.4\"></div>\n",
    "\n",
    "Python MySQL Create Table\n",
    "\n",
    "<section style=\"direction: rtl; text-align: justify; margin: 30px;\">\n",
    "\n",
    "## **ساخت جدول**\n",
    "\n",
    "برای ایجاد یک جدول در MySQL، از عبارت \"CREATE DATABASE\" استفاده کنید.\n",
    "\n",
    "اطمینان حاصل کنید که هنگام ایجاد اتصال، نام پایگاه داده را تعریف می کنید\n",
    "\n",
    "</section>"
   ]
  },
  {
   "cell_type": "code",
   "execution_count": null,
   "metadata": {},
   "outputs": [],
   "source": [
    "import mysql.connector\n",
    "\n",
    "mydb = mysql.connector.connect(\n",
    "    host=\"127.0.0.1\",\n",
    "    port=\"3306\",\n",
    "    user=\"root\",\n",
    "    password=\"1234\",\n",
    "    database=\"imsalione\"\n",
    ")\n",
    "\n",
    "mycursor = mydb.cursor()\n",
    "\n",
    "mycursor.execute(\n",
    "    \"CREATE TABLE custommers (name VARCHAR(255), address VARCHAR(255))\")"
   ]
  },
  {
   "cell_type": "markdown",
   "metadata": {},
   "source": [
    "<section style=\"direction: rtl; text-align: justify; margin: 30px;\">\n",
    "\n",
    "اگر کد بالا بدون خطا اجرا شد، اکنون با موفقیت یک جدول ایجاد کرده اید.\n",
    "\n",
    "</section>"
   ]
  },
  {
   "cell_type": "markdown",
   "metadata": {},
   "source": [
    "<section style=\"direction: rtl; text-align: justify; margin: 30px;\">\n",
    "\n",
    "<div style=\"border-top: 1px solid #ccc; margin: 10px 0; opacity: 0.4\"></div>\n",
    "\n",
    "### بررسی کنید که آیا جدول وجود دارد یا خیر\n",
    "\n",
    "با دستور \"SHOW TABLES\" می‌توانید بررسی کنید که آیا جدول مورد نظر وجود دارد یا خیر:\n",
    "\n",
    "</section>"
   ]
  },
  {
   "cell_type": "code",
   "execution_count": 8,
   "metadata": {},
   "outputs": [
    {
     "name": "stdout",
     "output_type": "stream",
     "text": [
      "('customers',)\n"
     ]
    }
   ],
   "source": [
    "import mysql.connector\n",
    "\n",
    "mydb = mysql.connector.connect(\n",
    "    host=\"localhost\",\n",
    "    user=\"root\",\n",
    "    password=\"1234\",\n",
    "    database=\"shop\"\n",
    ")\n",
    "\n",
    "mycursor = mydb.cursor()\n",
    "\n",
    "mycursor.execute(\"SHOW TABLES\")\n",
    "\n",
    "for x in mycursor:\n",
    "    print(x)"
   ]
  },
  {
   "cell_type": "markdown",
   "metadata": {},
   "source": [
    "<section style=\"direction: rtl; text-align: justify; margin: 30px;\">\n",
    "\n",
    "<div style=\"border-top: 1px solid #ccc; margin: 10px 0; opacity: 0.4\"></div>\n",
    "<div style=\"border-top: 1px solid #ccc; margin: 10px 0; opacity: 0.4\"></div>\n",
    "\n",
    "\n",
    "### کلید اصلی (Primary Key)\n",
    "\n",
    "هنگام ایجاد یک جدول، شما همچنین باید یک ستون با یک کلید منحصر به فرد برای هر رکورد ایجاد کنید.\n",
    "\n",
    "این کار را میتوان با تعریف یک کلید اولیه انجام داد.\n",
    "\n",
    "ما از عبارت \"INT AUTO_INTCREEMENT PRIME KEY\" استفاده می کنیم که یک شماره منحصر به فرد برای هر رکورد وارد می کند. از 1 شروع می شود و برای هر رکورد یک واحد افزایش می یابد.\n",
    "\n",
    "</section>"
   ]
  },
  {
   "cell_type": "code",
   "execution_count": 17,
   "metadata": {},
   "outputs": [],
   "source": [
    "import mysql.connector\n",
    "\n",
    "mydb = mysql.connector.connect(\n",
    "    host=\"localhost\",\n",
    "    user=\"root\",\n",
    "    password=\"1234\",\n",
    "    database=\"shop\"\n",
    ")\n",
    "\n",
    "mycursor = mydb.cursor()\n",
    "\n",
    "mycursor.execute(\n",
    "    \"CREATE TABLE customers (id INT AUTO_INCREMENT PRIMARY KEY, name VARCHAR(255), address VARCHAR(255))\")"
   ]
  },
  {
   "cell_type": "markdown",
   "metadata": {},
   "source": [
    "<section style=\"direction: rtl; text-align: justify; margin: 30px;\">\n",
    "\n",
    "اگر جدول در حال حاضر وجود دارد، از کلمه کلیدی ALTER TABLE استفاده کنید:\n",
    "\n",
    "</section>"
   ]
  },
  {
   "cell_type": "code",
   "execution_count": null,
   "metadata": {},
   "outputs": [],
   "source": [
    "import mysql.connector\n",
    "\n",
    "mydb = mysql.connector.connect(\n",
    "    host=\"localhost\",\n",
    "    user=\"root\",\n",
    "    password=\"1234\",\n",
    "    database=\"shop\"\n",
    ")\n",
    "\n",
    "mycursor = mydb.cursor()\n",
    "\n",
    "mycursor.execute(\n",
    "    \"ALTER TABLE customers ADD COLUMN id INT AUTO_INCREMENT PRIMARY KEY\")"
   ]
  },
  {
   "cell_type": "markdown",
   "metadata": {},
   "source": [
    "---\n",
    "\n",
    "Python MySQL Insert Into Table\n",
    "\n",
    "<section style=\"direction: rtl; text-align: justify; margin: 30px;\">\n",
    "\n",
    "برای پر کردن داده‌های یک جدول در MySQL، از عبارت \"INSERT INTO\" استفاده کنید.\n",
    "\n",
    "</section>"
   ]
  },
  {
   "cell_type": "code",
   "execution_count": 23,
   "metadata": {},
   "outputs": [
    {
     "name": "stdout",
     "output_type": "stream",
     "text": [
      "1 record inserted.\n"
     ]
    }
   ],
   "source": [
    "import mysql.connector\n",
    "\n",
    "mydb = mysql.connector.connect(\n",
    "    host=\"127.0.0.1\",\n",
    "    user=\"root\",\n",
    "    port=\"3306\",\n",
    "    password=\"1234\",\n",
    "    database=\"shop\"\n",
    ")\n",
    "\n",
    "mycursor = mydb.cursor()\n",
    "\n",
    "sql = \"INSERT INTO customers (name, address) VALUES (%s, %s)\"\n",
    "val = (\"saleh\", \"tehran\")\n",
    "mycursor.execute(sql, val)\n",
    "\n",
    "mydb.commit()\n",
    "\n",
    "print(mycursor.rowcount, \"record inserted.\")"
   ]
  },
  {
   "cell_type": "markdown",
   "metadata": {},
   "source": [
    "<section style=\"direction: rtl; text-align: justify; margin: 30px;\">\n",
    "\n",
    "⚠️ مهم!: توجه به بیانیه: mydb.commit(). لازم است که تغییرات انجام شود، در غیر این صورت هیچ تغییری در جدول ایجاد نمیشود.\n",
    "\n",
    "<div style=\"border-top: 1px solid #ccc; margin: 10px 0; opacity: 0.4\"></div>\n",
    "\n",
    "ردیف های چندگانه را وارد کنید  \n",
    "\n",
    "برای قرار دادن چندین ردیف در یک جدول، از روش executemany() استفاده کنید.\n",
    "\n",
    "پارامتر دوم روش executemany() لیستی از تاپل ها است که حاوی داده هایی است که می خواهید وارد کنید:\n",
    "\n",
    "</section>"
   ]
  }
 ],
 "metadata": {
  "kernelspec": {
   "display_name": "Python 3",
   "language": "python",
   "name": "python3"
  },
  "language_info": {
   "codemirror_mode": {
    "name": "ipython",
    "version": 3
   },
   "file_extension": ".py",
   "mimetype": "text/x-python",
   "name": "python",
   "nbconvert_exporter": "python",
   "pygments_lexer": "ipython3",
   "version": "3.10.12"
  }
 },
 "nbformat": 4,
 "nbformat_minor": 2
}
