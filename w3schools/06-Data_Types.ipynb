{
 "cells": [
  {
   "cell_type": "markdown",
   "metadata": {},
   "source": [
    "Python Data Types\n",
    "\n",
    "<section style=\"direction: rtl; text-align: justify; margin: 30px;\">\n",
    "\n",
    "## **انواع داده‌ها در پایتون**\n",
    "\n",
    "در برنامه نویسی، نوع داده یک مفهوم مهم است.\n",
    "\n",
    "متغیرها می توانند داده های مختلف را ذخیره کنند و انواع مختلف می توانند کارهای متفاوتی انجام دهند.\n",
    "\n",
    "پایتون انواع داده های زیر را به طور پیش فرض در این دسته بندی ها داخلی دارد:\n",
    "\n",
    "- داده متنی = str\n",
    "- داده عددی = int, float, complex\n",
    "- داده توالی = list, tuple, range\n",
    "- دیکشنری = dict\n",
    "- تنظیم داده = set, frozenset\n",
    "- نوع بولی = bool\n",
    "- داده باینری = bytes, bytearray, memoryview\n",
    "- داده ناشناخته = NoneType\n",
    "\n",
    "\n",
    "</section>"
   ]
  },
  {
   "cell_type": "markdown",
   "metadata": {},
   "source": [
    "<section style=\"direction: rtl; text-align: justify; margin: 30px;\">\n",
    "\n",
    "### **بدست آوردن نوع داده**\n",
    "\n",
    "با استفاده از تابع type() می توانید نوع داده هر شی را بدست آورید:\n",
    "\n",
    "</section>"
   ]
  },
  {
   "cell_type": "code",
   "execution_count": 1,
   "metadata": {},
   "outputs": [
    {
     "name": "stdout",
     "output_type": "stream",
     "text": [
      "<class 'int'>\n"
     ]
    }
   ],
   "source": [
    "x = 5\n",
    "print(type(x))"
   ]
  },
  {
   "cell_type": "markdown",
   "metadata": {},
   "source": [
    "<section style=\"direction: rtl; text-align: justify; margin: 30px;\">\n",
    "\n",
    "### **تنظیم نوع داده**\n",
    "\n",
    "در پایتون، زمانی که مقداری را به یک متغیر اختصاص می دهید، نوع داده تنظیم می شود:\n",
    "\n",
    "</section>"
   ]
  },
  {
   "cell_type": "code",
   "execution_count": 5,
   "metadata": {},
   "outputs": [],
   "source": [
    "my_str = \"Hello Saleh\"  # str\n",
    "my_int = 20  # int\n",
    "my_float = 20.5  # float\n",
    "my_complex = 1j  # complex\n",
    "my_list = [\"apple\", \"banana\", \"cherry\"]  # list\n",
    "my_tuple = (\"apple\", \"banana\", \"cherry\")  # tuple\n",
    "my_range = range(6)  # range\n",
    "my_dict = {\"name\": \"Saleh\", \"age\": 36}  # dictionary\n",
    "my_set = {\"apple\", \"banana\", \"cherry\"}  # set\n",
    "my_frozenset = ({\"apple\", \"banana\", \"cherry\"})  # frozenset\n",
    "my_bool = True  # boolean\n",
    "my_byte = b\"Saleh\"  # bytes\n",
    "my_bytearray = bytearray(5)  # bytearray\n",
    "my_memoryview = memoryview(bytes(5))  # memoryview\n",
    "my_none = None  # NoneType"
   ]
  },
  {
   "cell_type": "markdown",
   "metadata": {},
   "source": [
    "<section style=\"direction: rtl; text-align: justify; margin: 30px;\">\n",
    "\n",
    "### **تنظیم نوع داده خاص**\n",
    "\n",
    "اگر می خواهید نوع داده را مشخص کنید، می توانید از توابع سازنده زیر استفاده کنید:\n",
    "\n",
    "</section>"
   ]
  },
  {
   "cell_type": "code",
   "execution_count": 6,
   "metadata": {},
   "outputs": [],
   "source": [
    "my_str = str(\"Hello Saleh\")  # str\n",
    "my_int = int(20)  # int\n",
    "my_float = float(20.5)  # float\n",
    "my_complex = complex(1j)  # complex\n",
    "my_list = list((\"apple\", \"banana\", \"cherry\"))  # list\n",
    "my_tuple = tuple((\"apple\", \"banana\", \"cherry\"))  # tuple\n",
    "my_range = range(6)  # range\n",
    "my_dict = dict(name=\"Saleh\", age=36)  # dictionary\n",
    "my_set = set((\"apple\", \"banana\", \"cherry\"))  # set\n",
    "my_frozenset = frozenset((\"apple\", \"banana\", \"cherry\"))  # frozenset\n",
    "my_bool = bool(5)  # boolean\n",
    "my_byte = bytes(5)  # bytes\n",
    "my_bytearray = bytearray(5)  # bytearray\n",
    "my_memoryview = memoryview(bytes(5))  # memoryview"
   ]
  }
 ],
 "metadata": {
  "kernelspec": {
   "display_name": "Python 3",
   "language": "python",
   "name": "python3"
  },
  "language_info": {
   "codemirror_mode": {
    "name": "ipython",
    "version": 3
   },
   "file_extension": ".py",
   "mimetype": "text/x-python",
   "name": "python",
   "nbconvert_exporter": "python",
   "pygments_lexer": "ipython3",
   "version": "3.11.4"
  }
 },
 "nbformat": 4,
 "nbformat_minor": 2
}
