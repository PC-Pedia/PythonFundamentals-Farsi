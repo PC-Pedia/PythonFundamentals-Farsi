{
 "cells": [
  {
   "cell_type": "markdown",
   "metadata": {},
   "source": [
    "Python Classes and Objects\n",
    "\n",
    "<section style=\"direction: rtl; text-align: justify; margin: 30px;\">\n",
    "\n",
    "## **کلاس‌ها و اشیاء در پایتون**\n",
    "\n",
    "پایتون یک زبان برنامه نویسی شی گرا است.\n",
    "\n",
    "تقریباً همه چیز در پایتون یک شی است، با خواص و متدهای آن.\n",
    "\n",
    "یک کلاس مانند یک سازنده شی یا یک \"طرح\" برای ایجاد اشیا است.\n",
    "\n",
    "برای ایجاد یک کلاس، از کلمه کلیدی class استفاده کنید:\n",
    "\n",
    "</section>"
   ]
  },
  {
   "cell_type": "code",
   "execution_count": 1,
   "metadata": {},
   "outputs": [],
   "source": [
    "class MyClass:\n",
    "    x = 5"
   ]
  },
  {
   "cell_type": "code",
   "execution_count": 3,
   "metadata": {},
   "outputs": [
    {
     "name": "stdout",
     "output_type": "stream",
     "text": [
      "Saleh abedinezhad\n"
     ]
    }
   ],
   "source": [
    "class Person:\n",
    "    def __init__(self, name, family):\n",
    "        self.name = name\n",
    "        self.family = family\n",
    "\n",
    "\n",
    "p1 = Person(\"Saleh\", \"abedinezhad\")\n",
    "\n",
    "print(p1.name, p1.family)"
   ]
  },
  {
   "cell_type": "code",
   "execution_count": 14,
   "metadata": {},
   "outputs": [
    {
     "name": "stdout",
     "output_type": "stream",
     "text": [
      "saleh(35)\n"
     ]
    }
   ],
   "source": [
    "class Person:\n",
    "    def __init__(self, name, age):\n",
    "        self.name = name\n",
    "        self.age = age\n",
    "\n",
    "    def __str__(self):\n",
    "        return f\"{self.name}({self.age})\"\n",
    "\n",
    "\n",
    "p1 = Person(\"saleh\", 35)\n",
    "\n",
    "print(p1)"
   ]
  }
 ],
 "metadata": {
  "kernelspec": {
   "display_name": "My Environment",
   "language": "python",
   "name": "myenv"
  },
  "language_info": {
   "codemirror_mode": {
    "name": "ipython",
    "version": 3
   },
   "file_extension": ".py",
   "mimetype": "text/x-python",
   "name": "python",
   "nbconvert_exporter": "python",
   "pygments_lexer": "ipython3",
   "version": "3.11.4"
  },
  "orig_nbformat": 4
 },
 "nbformat": 4,
 "nbformat_minor": 2
}
