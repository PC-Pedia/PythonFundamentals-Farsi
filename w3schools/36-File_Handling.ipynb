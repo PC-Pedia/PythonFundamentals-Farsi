{
 "cells": [
  {
   "cell_type": "markdown",
   "metadata": {},
   "source": [
    "Python File Hangling\n",
    "\n",
    "<section style=\"direction: rtl; text-align: justify; margin: 30px;\">\n",
    "\n",
    "## **مدیریت فایل در پایتون**\n",
    "\n",
    "مدیریت فایل بخش مهمی از هر برنامه وب است.\n",
    "\n",
    "پایتون چندین توابع برای ایجاد، خواندن، به روز رسانی و حذف فایل ها دارد.\n",
    "\n",
    "تابع کلیدی برای کار با فایل ها در پایتون تابع open() است.\n",
    "\n",
    "تابع open() دو پارامتر دارد. نام فایل و حالت\n",
    "\n",
    "چهار روش (حالت) مختلف برای باز کردن یک فایل وجود دارد:\n",
    "\n",
    "- \"r\" - خواندن - مقدار پیش‌فرض. فایلی را برای خواندن باز می کند، اگر فایل وجود نداشته باشد خطا می کند\n",
    "\n",
    "- \"a\" - اضافه کردن - فایلی را برای الحاق باز می کند، در صورت عدم وجود فایل را ایجاد می کند\n",
    "\n",
    "- \"w\" - نوشتن - فایلی را برای نوشتن باز می کند، در صورت عدم وجود فایل را ایجاد می کند\n",
    "\n",
    "- \"x\" - ایجاد کردن - فایل مشخص شده را ایجاد می کند، در صورت وجود فایل، خطا را برمی گرداند\n",
    "\n",
    "علاوه بر این، می توانید تعیین کنید که آیا فایل باید به صورت باینری یا متنی مدیریت شود\n",
    "\n",
    "- \"t\" - متن - مقدار پیش‌فرض. حالت متنی\n",
    "\n",
    "- \"b\" - باینری - حالت باینری (مثلاً تصاویر)\n",
    "\n",
    "برای باز کردن یک فایل برای خواندن کافی است نام فایل را مشخص کنید:\n",
    "\n",
    "</section>"
   ]
  },
  {
   "cell_type": "code",
   "execution_count": 5,
   "metadata": {},
   "outputs": [],
   "source": [
    "f = open(\"demofile.txt\")"
   ]
  },
  {
   "cell_type": "markdown",
   "metadata": {},
   "source": [
    "<section style=\"direction: rtl; text-align: justify; margin: 30px;\">\n",
    "\n",
    "کد بالا مشابه این کد است:\n",
    "\n",
    "</section>"
   ]
  },
  {
   "cell_type": "code",
   "execution_count": 4,
   "metadata": {},
   "outputs": [
    {
     "name": "stdout",
     "output_type": "stream",
     "text": [
      "hi, my name is saleh abediezhad :)\n"
     ]
    }
   ],
   "source": [
    "f = open(\"demofile.txt\", \"r\")\n",
    "print(f.read())"
   ]
  },
  {
   "cell_type": "markdown",
   "metadata": {},
   "source": [
    "<section style=\"direction: rtl; text-align: justify; margin: 30px;\">\n",
    "\n",
    "از آنجا که \"r\" برای خواندن، و \"t\" برای متن مقادیر پیش‌فرض هستند، نیازی به تعیین آنها ندارید.\n",
    "\n",
    "توجه: مطمئن شوید که فایل موجود است، در غیر این صورت با خطا مواجه خواهید شد.\n",
    "\n",
    "</section>\n",
    "\n",
    "___"
   ]
  },
  {
   "cell_type": "markdown",
   "metadata": {},
   "source": [
    "Python File Open\n",
    "\n",
    "<section style=\"direction: rtl; text-align: justify; margin: 30px;\">\n",
    "\n",
    "## **باز کردن فایل در پایتون**\n",
    "\n",
    "فرض کنید فایل زیر را داریم که در همان پوشه پایتون قرار دارد:\n",
    "\n",
    "</section>\n",
    "\n",
    "demofile.txt\n",
    "> Hello! Welcome to demofile.txt\n",
    "> This file is for testing purposes.\n",
    "> Good Luck!"
   ]
  },
  {
   "cell_type": "markdown",
   "metadata": {},
   "source": [
    "<section style=\"direction: rtl; text-align: justify; margin: 30px;\">\n",
    "\n",
    "برای باز کردن فایل، از تابع داخلی open() استفاده کنید.\n",
    "\n",
    "تابع open() یک شی فایل را برمی گرداند که دارای یک متد read() برای خواندن محتوای فایل است:\n",
    "\n",
    "</section>"
   ]
  },
  {
   "cell_type": "code",
   "execution_count": 7,
   "metadata": {},
   "outputs": [
    {
     "name": "stdout",
     "output_type": "stream",
     "text": [
      "Hello! Welcome to demofile.txt\n",
      "This file is for testing purposes.\n",
      "Good Luck!\n"
     ]
    }
   ],
   "source": [
    "f = open(\"demofile.txt\", \"r\")\n",
    "print(f.read())"
   ]
  },
  {
   "cell_type": "markdown",
   "metadata": {},
   "source": [
    "<section style=\"direction: rtl; text-align: justify; margin: 30px;\">\n",
    "\n",
    "اگر فایل در مکان دیگری قرار دارد، باید مسیر فایل را مانند زیر مشخص کنید:\n",
    "\n",
    "</section>"
   ]
  },
  {
   "cell_type": "code",
   "execution_count": null,
   "metadata": {},
   "outputs": [],
   "source": [
    "f = open(\"D:\\\\myfiles\\welcome.txt\", \"r\")\n",
    "print(f.read())"
   ]
  },
  {
   "cell_type": "markdown",
   "metadata": {},
   "source": [
    "<section style=\"direction: rtl; text-align: justify; margin: 30px;\">\n",
    "\n",
    "به‌طور پیش‌فرض، متد read() کل متن را برمی‌گرداند، اما همچنین می‌توانید تعیین کنید که چه تعداد کاراکتر می‌خواهید برگردانید:\n",
    "\n",
    "</section>"
   ]
  },
  {
   "cell_type": "code",
   "execution_count": 10,
   "metadata": {},
   "outputs": [
    {
     "name": "stdout",
     "output_type": "stream",
     "text": [
      "Hello\n"
     ]
    }
   ],
   "source": [
    "f = open(\"demofile.txt\", \"r\")\n",
    "print(f.read(5))"
   ]
  },
  {
   "cell_type": "markdown",
   "metadata": {},
   "source": [
    "<section style=\"direction: rtl; text-align: justify; margin: 30px;\">\n",
    "\n",
    "با استفاده از متد readline() می توانید یک خط را برگردانید:\n",
    "\n",
    "</section>"
   ]
  },
  {
   "cell_type": "code",
   "execution_count": 11,
   "metadata": {},
   "outputs": [
    {
     "name": "stdout",
     "output_type": "stream",
     "text": [
      "Hello! Welcome to demofile.txt\n",
      "\n"
     ]
    }
   ],
   "source": [
    "f = open(\"demofile.txt\", \"r\")\n",
    "print(f.readline())"
   ]
  },
  {
   "cell_type": "markdown",
   "metadata": {},
   "source": [
    "<section style=\"direction: rtl; text-align: justify; margin: 30px;\">\n",
    "\n",
    "با دو بار فراخوانی readline() می توانید دو خط اول را بخوانید:\n",
    "\n",
    "</section>"
   ]
  },
  {
   "cell_type": "code",
   "execution_count": 7,
   "metadata": {},
   "outputs": [
    {
     "name": "stdout",
     "output_type": "stream",
     "text": [
      "Hello! Welcome to demofile.txt\n",
      "\n",
      "This file is for testing purposes.\n",
      "\n"
     ]
    }
   ],
   "source": [
    "f = open(\"demofile.txt\")\n",
    "print(f.readline())\n",
    "print(f.readline())"
   ]
  },
  {
   "cell_type": "markdown",
   "metadata": {},
   "source": [
    "<section style=\"direction: rtl; text-align: justify; margin: 30px;\">\n",
    "\n",
    "با چرخش در خطوط فایل، می توانید کل فایل را خط به خط بخوانید:\n",
    "\n",
    "</section>"
   ]
  },
  {
   "cell_type": "code",
   "execution_count": 12,
   "metadata": {},
   "outputs": [
    {
     "name": "stdout",
     "output_type": "stream",
     "text": [
      "Hello! Welcome to demofile.txt\n",
      "\n",
      "This file is for testing purposes.\n",
      "\n",
      "Good Luck!\n"
     ]
    }
   ],
   "source": [
    "f = open(\"demofile.txt\")\n",
    "for x in f:\n",
    "    print(x)"
   ]
  },
  {
   "cell_type": "markdown",
   "metadata": {},
   "source": [
    "<section style=\"direction: rtl; text-align: justify; margin: 30px;\">\n",
    "\n",
    "این یک تمرین خوب است که همیشه پس از اتمام کار فایل را ببندید.\n",
    "\n",
    "</section>"
   ]
  },
  {
   "cell_type": "code",
   "execution_count": 13,
   "metadata": {},
   "outputs": [
    {
     "name": "stdout",
     "output_type": "stream",
     "text": [
      "Hello! Welcome to demofile.txt\n",
      "\n"
     ]
    }
   ],
   "source": [
    "f = open(\"demofile.txt\")\n",
    "print(f.readline())\n",
    "f.close()"
   ]
  },
  {
   "cell_type": "markdown",
   "metadata": {},
   "source": [
    "<section style=\"direction: rtl; text-align: justify; margin: 30px;\">\n",
    "\n",
    "توجه: همیشه باید فایل های خود را ببندید، در برخی موارد به دلیل بافر شدن، تغییرات ایجاد شده در یک فایل ممکن است تا زمانی که فایل را نبندید نشان داده نشوند.\n",
    "\n",
    "</section>"
   ]
  },
  {
   "cell_type": "markdown",
   "metadata": {},
   "source": [
    "___\n",
    "\n",
    "Python File Write\n",
    "\n",
    "<section style=\"direction: rtl; text-align: justify; margin: 30px;\">\n",
    "\n",
    "## **نوشتن/ایجاد کردن فایل در پایتون**\n",
    "\n",
    "برای نوشتن روی یک فایل موجود، باید یک پارامتر به تابع open() اضافه کنید:\n",
    "\n",
    "- \"a\" - اضافه کردن - به انتهای فایل اضافه می شود\n",
    "\n",
    "- \"w\" - نوشتن - هر محتوای موجود را بازنویسی می کند\n",
    "\n",
    "</section>"
   ]
  },
  {
   "cell_type": "code",
   "execution_count": 2,
   "metadata": {},
   "outputs": [
    {
     "name": "stdout",
     "output_type": "stream",
     "text": [
      "Hello! Welcome to demofile.txt\n",
      "This file is for testing purposes.\n",
      "Good Luck!I'm 35 years old\n"
     ]
    }
   ],
   "source": [
    "f = open(\"demofile2.txt\", \"a\")\n",
    "f.write(\"I'm 35 years old\")\n",
    "f.close()\n",
    "\n",
    "f = open(\"demofile.txt\", \"r\")\n",
    "print(f.read())"
   ]
  },
  {
   "cell_type": "code",
   "execution_count": 3,
   "metadata": {},
   "outputs": [
    {
     "name": "stdout",
     "output_type": "stream",
     "text": [
      "Woops! I have deleted the content!\n"
     ]
    }
   ],
   "source": [
    "f = open(\"demofile3.txt\", \"w\")\n",
    "f.write(\"Woops! I have deleted the content!\")\n",
    "f.close()\n",
    "\n",
    "f = open(\"demofile3.txt\", \"r\")\n",
    "print(f.read())"
   ]
  },
  {
   "cell_type": "markdown",
   "metadata": {},
   "source": [
    "<section style=\"direction: rtl; text-align: justify; margin: 30px;\">\n",
    "\n",
    "توجه: روش \"w\" کل فایل را بازنویسی می کند.\n",
    "\n",
    "برای ایجاد یک فایل جدید در پایتون، از متد open() با یکی از پارامترهای زیر استفاده کنید:\n",
    "\n",
    "- \"x\" - ساختن - یک فایل ایجاد می کند، در صورت وجود فایل، خطا را برمی گرداند\n",
    "\n",
    "- \"a\" - اضافه کردن - اگر فایل مشخص شده وجود نداشته باشد، یک فایل ایجاد می کند\n",
    "\n",
    "- \"w\" - نوشتن - اگر فایل مشخص شده وجود نداشته باشد، یک فایل ایجاد می کند\n",
    "\n",
    "</section>"
   ]
  },
  {
   "cell_type": "code",
   "execution_count": 4,
   "metadata": {},
   "outputs": [],
   "source": [
    "f = open(\"myfile.txt\", \"x\")"
   ]
  },
  {
   "cell_type": "markdown",
   "metadata": {},
   "source": [
    "<section style=\"direction: rtl; text-align: justify; margin: 30px;\">\n",
    "\n",
    "نتیجه: یک فایل خالی جدید ایجاد شد!\n",
    "\n",
    "</section>"
   ]
  },
  {
   "cell_type": "code",
   "execution_count": 5,
   "metadata": {},
   "outputs": [],
   "source": [
    "f = open(\"myfile.txt\", \"w\")"
   ]
  },
  {
   "cell_type": "markdown",
   "metadata": {},
   "source": [
    "___\n",
    "\n",
    "Python Delete File\n",
    "\n",
    "<section style=\"direction: rtl; text-align: justify; margin: 30px;\">\n",
    "\n",
    "## **حذف فایل در پایتون**\n",
    "\n",
    "برای حذف یک فایل، باید ماژول سیستم عامل را وارد کنید و تابع os.remove() آن را اجرا کنید:\n",
    "\n",
    "</section>"
   ]
  },
  {
   "cell_type": "code",
   "execution_count": 3,
   "metadata": {},
   "outputs": [],
   "source": [
    "import os\n",
    "\n",
    "os.remove(\"demofile.txt\")"
   ]
  },
  {
   "cell_type": "markdown",
   "metadata": {},
   "source": [
    "<section style=\"direction: rtl; text-align: justify; margin: 30px;\">\n",
    "\n",
    "برای جلوگیری از دریافت خطا، ممکن است بخواهید قبل از حذف فایل بررسی کنید که آیا فایل وجود دارد یا خیر:\n",
    "\n",
    "</section>"
   ]
  },
  {
   "cell_type": "code",
   "execution_count": 6,
   "metadata": {},
   "outputs": [],
   "source": [
    "import os\n",
    "if os.path.exists(\"demofile.txt\"):\n",
    "    os.remove(\"demofile.txt\")\n",
    "else:\n",
    "    print(\"The file does not exist!\")"
   ]
  },
  {
   "cell_type": "markdown",
   "metadata": {},
   "source": [
    "<section style=\"direction: rtl; text-align: justify; margin: 30px;\">\n",
    "\n",
    "برای حذف کل یک پوشه، از متد os.rmdir() استفاده کنید:\n",
    "\n",
    "</section>"
   ]
  },
  {
   "cell_type": "code",
   "execution_count": 7,
   "metadata": {},
   "outputs": [],
   "source": [
    "import os\n",
    "\n",
    "# Make a folder in the same direction\n",
    "os.mkdir(\"myfolder\")"
   ]
  },
  {
   "cell_type": "markdown",
   "metadata": {},
   "source": [
    "<section style=\"direction: rtl; text-align: justify; margin: 30px;\">\n",
    "\n",
    "توجه: فقط می توانید پوشه های خالی را حذف کنید.\n",
    "\n",
    "</section>"
   ]
  },
  {
   "cell_type": "markdown",
   "metadata": {},
   "source": [
    "___\n",
    "\n",
    "<section style=\"direction: rtl; text-align: justify; margin: 30px;\">\n",
    "\n",
    "## **مثال**\n",
    "\n",
    "</section>"
   ]
  },
  {
   "cell_type": "code",
   "execution_count": 7,
   "metadata": {},
   "outputs": [
    {
     "name": "stdout",
     "output_type": "stream",
     "text": [
      "The sample_file.txt is updated!\n",
      "Nothing went wrong\n"
     ]
    }
   ],
   "source": [
    "import os\n",
    "\n",
    "sample_file = \"sample_file.txt\"\n",
    "file_path = os.path.abspath(sample_file)\n",
    "\n",
    "# with try-except, we control the errors\n",
    "try:\n",
    "    with open(sample_file, \"w\") as file:\n",
    "        new_content = \"Hello! I'm Saleh Abedinezhad from iran :)\"\n",
    "\n",
    "        file.write(new_content)\n",
    "\n",
    "    print(f\"The {sample_file} is updated!\")\n",
    "except:\n",
    "    print(\"Something went wrong\")\n",
    "else:\n",
    "    print(\"Nothing went wrong\")"
   ]
  },
  {
   "cell_type": "code",
   "execution_count": 8,
   "metadata": {},
   "outputs": [
    {
     "name": "stdout",
     "output_type": "stream",
     "text": [
      "Hello! I'm Saleh Abedinezhad from iran :)\n",
      "\n",
      "The file was saved to: c:\\Users\\Saleh\\OneDrive\\My Projects\\PythonFundamentals-Farsi\\w3schools\n"
     ]
    }
   ],
   "source": [
    "txt = open(\"write_file.txt\", \"r\")\n",
    "current_directory = os.getcwd()\n",
    "print(txt.read())\n",
    "print(\"\\nThe file was saved to:\", current_directory)"
   ]
  }
 ],
 "metadata": {
  "kernelspec": {
   "display_name": "My Environment",
   "language": "python",
   "name": "myenv"
  },
  "language_info": {
   "codemirror_mode": {
    "name": "ipython",
    "version": 3
   },
   "file_extension": ".py",
   "mimetype": "text/x-python",
   "name": "python",
   "nbconvert_exporter": "python",
   "pygments_lexer": "ipython3",
   "version": "3.11.4"
  },
  "orig_nbformat": 4
 },
 "nbformat": 4,
 "nbformat_minor": 2
}
