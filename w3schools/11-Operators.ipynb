{
 "cells": [
  {
   "cell_type": "markdown",
   "metadata": {},
   "source": [
    "Python Operators\n",
    "\n",
    "<section style=\"direction: rtl; text-align: justify; margin: 30px;\">\n",
    "\n",
    "## **عملگرها**\n",
    "\n",
    "عملگرها برای انجام عملیات روی متغیرها و مقادیر استفاده می شوند.\n",
    "\n",
    "در مثال زیر از عملگر + برای جمع کردن دو مقدار استفاده می کنیم:\n",
    "\n",
    "</section>"
   ]
  },
  {
   "cell_type": "code",
   "execution_count": 1,
   "metadata": {},
   "outputs": [
    {
     "name": "stdout",
     "output_type": "stream",
     "text": [
      "15\n"
     ]
    }
   ],
   "source": [
    "print(10 + 5)"
   ]
  },
  {
   "cell_type": "markdown",
   "metadata": {},
   "source": [
    "<section style=\"direction: rtl; text-align: justify; margin: 30px;\">\n",
    "\n",
    "### **پایتون عملگرها را به گروه های زیر تقسیم می کند:**\n",
    "\n",
    "- عملگرهای حسابی\n",
    "- عملگرهای واگذاری\n",
    "- عملگرهای مقایسه\n",
    "- عملگرهای منطقی\n",
    "- عملگرهای هویت\n",
    "- عملگرهای عضویت\n",
    "- عملگرهای بیتی\n",
    "\n",
    "### عملگرهای حسابی پایتون\n",
    "\n",
    "عملگرهای حسابی با مقادیر عددی برای انجام عملیات ریاضی رایج استفاده می شوند:\n",
    "\n",
    "</section>"
   ]
  },
  {
   "cell_type": "code",
   "execution_count": 3,
   "metadata": {},
   "outputs": [
    {
     "name": "stdout",
     "output_type": "stream",
     "text": [
      "25\n",
      "5\n",
      "150\n",
      "1.5\n",
      "5\n",
      "576650390625\n",
      "1\n"
     ]
    }
   ],
   "source": [
    "print(15 + 10)  # Addition\n",
    "print(15 - 10)  # Subtraction\n",
    "print(15 * 10)  # Multiplication\n",
    "print(15 / 10)  # Division\n",
    "print(15 % 10)  # Modulus\n",
    "print(15 ** 10)  # Exponentiation\n",
    "print(15 // 10)  # Floor division"
   ]
  },
  {
   "cell_type": "markdown",
   "metadata": {},
   "source": [
    "<section style=\"direction: rtl; text-align: justify; margin: 30px;\">\n",
    "\n",
    "### عملگرهای تخصیص پایتون\n",
    "\n",
    "عملگرهای انتساب برای تخصیص مقادیر به متغیرها استفاده می شوند:\n",
    "\n",
    "</section>"
   ]
  },
  {
   "cell_type": "code",
   "execution_count": null,
   "metadata": {},
   "outputs": [],
   "source": [
    "number = 5\n",
    "number += 3\n",
    "number -= 3\n",
    "number *= 3\n",
    "number /= 3\n",
    "number %= 3\n",
    "number //= 3\n",
    "number **= 3\n",
    "number &= 3\n",
    "number |= 3\n",
    "number ^= 3\n",
    "number >>= 3\n",
    "number >>= 3"
   ]
  },
  {
   "cell_type": "markdown",
   "metadata": {},
   "source": [
    "<section style=\"direction: rtl; text-align: justify; margin: 30px;\">\n",
    "\n",
    "### عملگرهای مقایسه پایتون\n",
    "\n",
    "عملگرهای مقایسه برای مقایسه دو مقدار استفاده می شوند:\n",
    "\n",
    "</section>"
   ]
  },
  {
   "cell_type": "code",
   "execution_count": 11,
   "metadata": {},
   "outputs": [
    {
     "name": "stdout",
     "output_type": "stream",
     "text": [
      "False\n",
      "True\n",
      "True\n",
      "False\n",
      "True\n",
      "False\n"
     ]
    }
   ],
   "source": [
    "print(15 == 14)\n",
    "print(15 != 14)\n",
    "print(15 > 14)\n",
    "print(15 < 14)\n",
    "print(15 >= 14)\n",
    "print(15 <= 14)"
   ]
  },
  {
   "cell_type": "markdown",
   "metadata": {},
   "source": [
    "<section style=\"direction: rtl; text-align: justify; margin: 30px;\">\n",
    "\n",
    "### عملگرهای منطقی پایتون\n",
    "\n",
    "عملگرهای منطقی برای ترکیب عبارات شرطی استفاده می شوند:\n",
    "\n",
    "</section>"
   ]
  },
  {
   "cell_type": "code",
   "execution_count": 16,
   "metadata": {},
   "outputs": [
    {
     "name": "stdout",
     "output_type": "stream",
     "text": [
      "False\n",
      "True\n",
      "True\n"
     ]
    }
   ],
   "source": [
    "print(10 < 5 and 10 > 7)  # Returns True if both statements are true\n",
    "print(10 > 5 or 10 > 7)  # Returns True if one of the statements is true\n",
    "print(not (10 < 5))  # Reverse the result, returns False if the result is true"
   ]
  },
  {
   "cell_type": "markdown",
   "metadata": {},
   "source": [
    "<section style=\"direction: rtl; text-align: justify; margin: 30px;\">\n",
    "\n",
    "### عملگرهای هویت پایتون\n",
    "\n",
    "عملگرهای هویت برای مقایسه اشیاء استفاده می‌شوند، نه اگر برابر باشند، بلکه اگر در واقع یک شی با مکان حافظه یکسان باشند:\n",
    "\n",
    "</section>"
   ]
  },
  {
   "cell_type": "code",
   "execution_count": 28,
   "metadata": {},
   "outputs": [
    {
     "name": "stdout",
     "output_type": "stream",
     "text": [
      "False\n",
      "True\n",
      "False\n",
      "True\n"
     ]
    }
   ],
   "source": [
    "x = [\"apple\", \"banana\"]\n",
    "y = [\"apple\", \"banana\"]\n",
    "z = x\n",
    "\n",
    "print(x is not z)\n",
    "print(x is not y)\n",
    "print(x != y)"
   ]
  }
 ],
 "metadata": {
  "kernelspec": {
   "display_name": "Python 3",
   "language": "python",
   "name": "python3"
  },
  "language_info": {
   "codemirror_mode": {
    "name": "ipython",
    "version": 3
   },
   "file_extension": ".py",
   "mimetype": "text/x-python",
   "name": "python",
   "nbconvert_exporter": "python",
   "pygments_lexer": "ipython3",
   "version": "3.11.4"
  }
 },
 "nbformat": 4,
 "nbformat_minor": 2
}
