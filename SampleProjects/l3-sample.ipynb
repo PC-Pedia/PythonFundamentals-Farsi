{
 "cells": [
  {
   "cell_type": "markdown",
   "metadata": {},
   "source": [
    "<section style=\"direction: rtl; text-align: justify; margin: 30px;\">\n",
    "\n",
    "### **مثال‌های سطح ۱**\n",
    "\n",
    "در این فایل به یادگیری مثال‌های ابتدایی کار با زبان پایتون می‌پردازیم.\n",
    "\n",
    "</section>"
   ]
  },
  {
   "cell_type": "markdown",
   "metadata": {},
   "source": [
    "***\n",
    "\n",
    "<section style=\"direction: rtl; text-align: justify; margin: 30px;\">\n",
    "\n",
    "#### پیدا کردن فرد با بیشترین و کمترین سن\n",
    "\n",
    "</section>"
   ]
  },
  {
   "cell_type": "code",
   "execution_count": null,
   "metadata": {},
   "outputs": [],
   "source": [
    "data = {\n",
    "    \"Saleh\": 37,\n",
    "    \"Elham\": 35,\n",
    "    \"Ghazal\": 3\n",
    "}\n",
    "\n",
    "max_age = max(data, key=data.get)\n",
    "min_age = min(data, key=data.get)\n",
    "\n",
    "print(f\"The oldest person is '{max_age}' with {data[max_age]} years old\")\n",
    "print(f\"The youngest person is '{min_age}' with {data[min_age]} years old\")"
   ]
  }
 ],
 "metadata": {
  "kernelspec": {
   "display_name": "My Environment",
   "language": "python",
   "name": "myenv"
  },
  "language_info": {
   "codemirror_mode": {
    "name": "ipython",
    "version": 3
   },
   "file_extension": ".py",
   "mimetype": "text/x-python",
   "name": "python",
   "nbconvert_exporter": "python",
   "pygments_lexer": "ipython3",
   "version": "3.11.4"
  },
  "orig_nbformat": 4
 },
 "nbformat": 4,
 "nbformat_minor": 2
}
